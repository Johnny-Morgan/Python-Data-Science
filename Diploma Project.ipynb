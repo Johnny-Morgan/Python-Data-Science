{
 "cells": [
  {
   "cell_type": "code",
   "execution_count": 2,
   "metadata": {},
   "outputs": [],
   "source": [
    "import requests\n",
    "from bs4 import BeautifulSoup"
   ]
  },
  {
   "cell_type": "code",
   "execution_count": null,
   "metadata": {},
   "outputs": [],
   "source": [
    "r = requests.get(\"https://www.taoiseach.gov.ie/eng/News/Taoiseach's_Speeches/New%20Year's%20Day%20Statement%20by%20An%20Taoiseach.html\")\n",
    "c = r.content\n",
    "c"
   ]
  },
  {
   "cell_type": "code",
   "execution_count": null,
   "metadata": {},
   "outputs": [],
   "source": [
    "soup = BeautifulSoup(c, \"html.parser\")\n",
    "\n",
    "print(soup.prettify())"
   ]
  },
  {
   "cell_type": "code",
   "execution_count": 62,
   "metadata": {},
   "outputs": [
    {
     "data": {
      "text/plain": [
       "\"New Year's Day Statement by An Taoiseach \\xa0  Today, New Years Day 2019, marks several important milestones in our mission to bring social progress, economic prosperity and equality of opportunity to everyone in all parts of Ireland. The minimum wage rises to €9.80 an hour, it's highest ever level, up from €7.65 in 2011, an increase of nearly 30% and well ahead of inflation. The latest figures from the CSO show that poverty in Ireland has fallen for four years in a row and the number of our citizens who experience deprivation has almost halved since 2012. While we have much more yet to do, there can be no doubt that the massive increase in employment and fall in unemployment has been the main driver behind this. Of course, there are other factors too including rising pay and more full time work. This minimum wage increase will ensure that people on the lowest incomes will have more take home pay this week and every week and helps us implement our policy of making work pay and increasing living standards for everyone.We also mark the establishment of Technological University Dublin (TU Dublin) bringing together Dublin Institute of Technology and the Institutes of Technology Blanchardstown and Tallaght. It is a major advance in higher education in Ireland and I hope will soon be followed by the establishment of a TU in the south-east and in Munster. I am particularly keen to see the Technological University for the south-east established as the region has no university at present. I am convinced it will enable more students to stay in the region, come to the region and attract and spin off new industries and jobs.\\xa0As of today, abortion services in Ireland are legal. Approximately, 15 women decide to end their pregnancies every day. This week, they have over 150 doctors working in the community available and contracted to help them. Hospital based services for more complex cases will be phased in over the coming weeks. A HSE helpline is now up and running for anyone who needs advice. I believe this is one of the biggest social changes in our history. Women no longer have to leave the country to get the help they feel they need.\\xa0Also, in health, Children's Hospital Ireland comes into being. It brings together Children's University Hospital, Temple Street, Our Lady's Children's Hospital Crumlin and National Children's Hospital Tallaght under a single statutory board, management and governance structure. The hospitals are being integrated off-site before they move on site. That move won't be complete until 2022 but it will start in summer 2019 with the opening of satellite Centre in Blanchardstown providing urgent care, specialist out-patient clinics and dental surgery to children of North Dublin, North Kildare and Meath in state-of-the-art facilities. Work will begin on the Tallaght satellite centre in the next few months and it will open in 2020. This exciting project, our new National Children's Hospital, is finally becoming a reality.I believe these four important milestones represent some of the social and economic progress we are making as a country. I look forward to building on that with my Government and Oireachtas colleagues in 2019.\\xa0Ends\\r\\n      var mapOverlayUrl = '';\\r\\n      \""
      ]
     },
     "execution_count": 62,
     "metadata": {},
     "output_type": "execute_result"
    }
   ],
   "source": [
    "all = soup.find(\"div\", {\"class\":\"contentSub\"}).text\n",
    "all"
   ]
  },
  {
   "cell_type": "code",
   "execution_count": 66,
   "metadata": {},
   "outputs": [
    {
     "data": {
      "text/plain": [
       "\"New Year's Day Statement by An Taoiseach   Today, New Years Day 2019, marks several important milestones in our mission to bring social progress, economic prosperity and equality of opportunity to everyone in all parts of Ireland. The minimum wage rises to €9.80 an hour, it's highest ever level, up from €7.65 in 2011, an increase of nearly 30% and well ahead of inflation. The latest figures from the CSO show that poverty in Ireland has fallen for four years in a row and the number of our citizens who experience deprivation has almost halved since 2012. While we have much more yet to do, there can be no doubt that the massive increase in employment and fall in unemployment has been the main driver behind this. Of course, there are other factors too including rising pay and more full time work. This minimum wage increase will ensure that people on the lowest incomes will have more take home pay this week and every week and helps us implement our policy of making work pay and increasing living standards for everyone.We also mark the establishment of Technological University Dublin (TU Dublin) bringing together Dublin Institute of Technology and the Institutes of Technology Blanchardstown and Tallaght. It is a major advance in higher education in Ireland and I hope will soon be followed by the establishment of a TU in the south-east and in Munster. I am particularly keen to see the Technological University for the south-east established as the region has no university at present. I am convinced it will enable more students to stay in the region, come to the region and attract and spin off new industries and jobs.As of today, abortion services in Ireland are legal. Approximately, 15 women decide to end their pregnancies every day. This week, they have over 150 doctors working in the community available and contracted to help them. Hospital based services for more complex cases will be phased in over the coming weeks. A HSE helpline is now up and running for anyone who needs advice. I believe this is one of the biggest social changes in our history. Women no longer have to leave the country to get the help they feel they need.Also, in health, Children's Hospital Ireland comes into being. It brings together Children's University Hospital, Temple Street, Our Lady's Children's Hospital Crumlin and National Children's Hospital Tallaght under a single statutory board, management and governance structure. The hospitals are being integrated off-site before they move on site. That move won't be complete until 2022 but it will start in summer 2019 with the opening of satellite Centre in Blanchardstown providing urgent care, specialist out-patient clinics and dental surgery to children of North Dublin, North Kildare and Meath in state-of-the-art facilities. Work will begin on the Tallaght satellite centre in the next few months and it will open in 2020. This exciting project, our new National Children's Hospital, is finally becoming a reality.I believe these four important milestones represent some of the social and economic progress we are making as a country. I look forward to building on that with my Government and Oireachtas colleagues in 2019.Ends      ;      \""
      ]
     },
     "execution_count": 66,
     "metadata": {},
     "output_type": "execute_result"
    }
   ],
   "source": [
    "all = all.replace(\"\\xa0\",\"\")\n",
    "all = all.replace(\"\\r\\n\",\"\")\n",
    "all = all.replace(\"var mapOverlayUrl = ''\",\"\")\n",
    "all"
   ]
  },
  {
   "cell_type": "code",
   "execution_count": 40,
   "metadata": {},
   "outputs": [
    {
     "data": {
      "text/plain": [
       "\"Today, New Years Day 2019, marks several important milestones in our mission to bring social progress, economic prosperity and equality of opportunity to everyone in all parts of Ireland. The minimum wage rises to €9.80 an hour, it's highest ever level, up from €7.65 in 2011, an increase of nearly 30% and well ahead of inflation. The latest figures from the CSO show that poverty in Ireland has fallen for four years in a row and the number of our citizens who experience deprivation has almost halved since 2012. While we have much more yet to do, there can be no doubt that the massive increase in employment and fall in unemployment has been the main driver behind this. Of course, there are other factors too including rising pay and more full time work. This minimum wage increase will ensure that people on the lowest incomes will have more take home pay this week and every week and helps us implement our policy of making work pay and increasing living standards for everyone.We also mark the establishment of Technological University Dublin (TU Dublin) bringing together Dublin Institute of Technology and the Institutes of Technology Blanchardstown and Tallaght. It is a major advance in higher education in Ireland and I hope will soon be followed by the establishment of a TU in the south-east and in Munster. I am particularly keen to see the Technological University for the south-east established as the region has no university at present. I am convinced it will enable more students to stay in the region, come to the region and attract and spin off new industries and jobs.\\xa0As of today, abortion services in Ireland are legal. Approximately, 15 women decide to end their pregnancies every day. This week, they have over 150 doctors working in the community available and contracted to help them. Hospital based services for more complex cases will be phased in over the coming weeks. A HSE helpline is now up and running for anyone who needs advice. I believe this is one of the biggest social changes in our history. Women no longer have to leave the country to get the help they feel they need.\\xa0Also, in health, Children's Hospital Ireland comes into being. It brings together Children's University Hospital, Temple Street, Our Lady's Children's Hospital Crumlin and National Children's Hospital Tallaght under a single statutory board, management and governance structure. The hospitals are being integrated off-site before they move on site. That move won't be complete until 2022 but it will start in summer 2019 with the opening of satellite Centre in Blanchardstown providing urgent care, specialist out-patient clinics and dental surgery to children of North Dublin, North Kildare and Meath in state-of-the-art facilities. Work will begin on the Tallaght satellite centre in the next few months and it will open in 2020. This exciting project, our new National Children's Hospital, is finally becoming a reality.I believe these four important milestones represent some of the social and economic progress we are making as a country. I look forward to building on that with my Government and Oireachtas colleagues in 2019.\\xa0\""
      ]
     },
     "execution_count": 40,
     "metadata": {},
     "output_type": "execute_result"
    }
   ],
   "source": [
    "text = all.find_all(\"div\", {\"dir\":\"ltr\"})[0].text\n",
    "text"
   ]
  },
  {
   "cell_type": "code",
   "execution_count": 33,
   "metadata": {},
   "outputs": [],
   "source": [
    "with open(\"C:/Users/Johnny/Desktop/Data Science/Project/speech1.txt\", \"w\") as out_file:\n",
    "    out_file.write(text)"
   ]
  },
  {
   "cell_type": "markdown",
   "metadata": {},
   "source": [
    "# Scrape links to speeches\n"
   ]
  },
  {
   "cell_type": "code",
   "execution_count": null,
   "metadata": {},
   "outputs": [],
   "source": [
    "r1 = requests.get(\"https://www.taoiseach.gov.ie/eng/News/Taoiseach's_Speeches/\")\n",
    "c1 = r1.content\n",
    "c1"
   ]
  },
  {
   "cell_type": "code",
   "execution_count": null,
   "metadata": {},
   "outputs": [],
   "source": [
    "soup = BeautifulSoup(c1, \"html.parser\")\n",
    "\n",
    "print(soup.prettify())"
   ]
  },
  {
   "cell_type": "code",
   "execution_count": 150,
   "metadata": {},
   "outputs": [
    {
     "name": "stdout",
     "output_type": "stream",
     "text": [
      "/eng/News/Taoiseach's_Speeches/New Year's Day Statement by An Taoiseach.html\n",
      "/eng/News/Taoiseach's_Speeches/Speech_by_An_Taoiseach_Official_opening_of_new_Barclays_Offices.html\n",
      "/eng/News/Taoiseach's_Speeches/Speech_of_An_Taoiseach_Disruptive_Technologies_Innovation_Fund_Monday_10_December_2018.html\n",
      "/eng/News/Taoiseach's_Speeches/Speech_of_An_Taoiseach_Leo_Varadkar_T_D_TEG_%E2%80%93_Jobs_Announcement_Mullingar_7_December_2018.html\n",
      "/eng/News/Taoiseach's_Speeches/Speech_by_An_Taoiseach_Launch_of_The_Sunday_Papers_Irish_Times_Building_Tara_Street_Tuesday_4_December_2018.html\n",
      "/eng/News/Taoiseach's_Speeches/Speech_of_An_Taoiseach_Votail_100_Reception_St_Patrick_s_Hall_Dublin_Castle.html\n",
      "/eng/News/Taoiseach's_Speeches/Speech_by_An_Taoiseach_at_the_Garda_Passing_out_Parade_Garda_College_Templemore_.html\n",
      "/eng/News/Taoiseach's_Speeches/Speech_by_An_Taoiseach_Announcement_of_First_Round_of_Funding_for_the_Climate_Action_Fund.html\n",
      "/eng/News/Taoiseach's_Speeches/Announcement_of_First_Round_of_Funding_for_the_Urban_Regeneration_and_Development_Fund.html\n",
      "/eng/News/Taoiseach's_Speeches/Speech_by_An_Taoiseach_Leo_Varadkar_T_D_Announcement_of_First_Round_of_Funding_for_the_Rural_Regeneration_and_Development_Fund_Friday_23_November_2018.html\n"
     ]
    }
   ],
   "source": [
    "all = soup.find_all(\"span\",{\"class\":\"ItemName\"})\n",
    "for a in all:\n",
    "    print(a.find(\"a\")[\"href\"])"
   ]
  },
  {
   "cell_type": "code",
   "execution_count": 166,
   "metadata": {},
   "outputs": [],
   "source": [
    "base_url = \"https://www.taoiseach.gov.ie/eng/News/Taoiseach's_Speeches/?pageNumber=\"\n",
    "count = 1\n",
    "for page in range(1,38):\n",
    "    r = requests.get(base_url + str(page))\n",
    "    c = r.content\n",
    "    soup = BeautifulSoup(c, \"html.parser\")\n",
    "    all = soup.find_all(\"span\",{\"class\":\"ItemName\"})\n",
    "    for a in all:\n",
    "        r = requests.get(\"https://www.taoiseach.gov.ie\" + a.find(\"a\")[\"href\"])\n",
    "        c = r.content\n",
    "        #print(\"https://www.taoiseach.gov.ie\" + a.find(\"a\")[\"href\"])\n",
    "        soup = BeautifulSoup(c, \"html.parser\")\n",
    "        all = soup.find(\"div\", {\"class\":\"contentSub\"}).text\n",
    "        \n",
    "        with open(\"C:/Users/Johnny/Desktop/Data Science/Project/speeches/speech\" + str(count) + \".txt\", \"w\", encoding=\"utf-8\") as out_file:\n",
    "            out_file.write(all)\n",
    "        count = count + 1\n"
   ]
  },
  {
   "cell_type": "code",
   "execution_count": null,
   "metadata": {},
   "outputs": [],
   "source": []
  }
 ],
 "metadata": {
  "kernelspec": {
   "display_name": "Python 3",
   "language": "python",
   "name": "python3"
  },
  "language_info": {
   "codemirror_mode": {
    "name": "ipython",
    "version": 3
   },
   "file_extension": ".py",
   "mimetype": "text/x-python",
   "name": "python",
   "nbconvert_exporter": "python",
   "pygments_lexer": "ipython3",
   "version": "3.7.0"
  }
 },
 "nbformat": 4,
 "nbformat_minor": 2
}
