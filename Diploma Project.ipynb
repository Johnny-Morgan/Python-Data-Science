{
 "cells": [
  {
   "cell_type": "code",
   "execution_count": 234,
   "metadata": {},
   "outputs": [],
   "source": [
    "import requests, re\n",
    "from bs4 import BeautifulSoup\n"
   ]
  },
  {
   "cell_type": "code",
   "execution_count": null,
   "metadata": {},
   "outputs": [],
   "source": [
    "r = requests.get(\"https://www.taoiseach.gov.ie/eng/News/Taoiseach's_Speeches/New%20Year's%20Day%20Statement%20by%20An%20Taoiseach.html\")\n",
    "c = r.content"
   ]
  },
  {
   "cell_type": "code",
   "execution_count": null,
   "metadata": {},
   "outputs": [],
   "source": [
    "soup = BeautifulSoup(c, \"html.parser\")\n",
    "\n",
    "print(soup.prettify())"
   ]
  },
  {
   "cell_type": "code",
   "execution_count": null,
   "metadata": {},
   "outputs": [],
   "source": [
    "all = soup.find(\"div\", {\"class\":\"contentSub\"}).text\n",
    "all"
   ]
  },
  {
   "cell_type": "code",
   "execution_count": null,
   "metadata": {},
   "outputs": [],
   "source": [
    "all = all.replace(\"\\xa0\",\"\")\n",
    "all = all.replace(\"\\r\\n\",\"\")\n",
    "all = all.replace(\"var mapOverlayUrl = ''\",\"\")\n",
    "all"
   ]
  },
  {
   "cell_type": "code",
   "execution_count": null,
   "metadata": {},
   "outputs": [],
   "source": [
    "text = all.find_all(\"div\", {\"dir\":\"ltr\"})[0].text\n",
    "text"
   ]
  },
  {
   "cell_type": "code",
   "execution_count": 33,
   "metadata": {},
   "outputs": [],
   "source": [
    "with open(\"C:/Users/Johnny/Desktop/Data Science/Project/speech1.txt\", \"w\") as out_file:\n",
    "    out_file.write(text)"
   ]
  },
  {
   "cell_type": "markdown",
   "metadata": {},
   "source": [
    "# Scrape links to speeches\n"
   ]
  },
  {
   "cell_type": "code",
   "execution_count": null,
   "metadata": {},
   "outputs": [],
   "source": [
    "r1 = requests.get(\"https://www.taoiseach.gov.ie/eng/News/Taoiseach's_Speeches/\")\n",
    "c1 = r1.content\n",
    "c1"
   ]
  },
  {
   "cell_type": "code",
   "execution_count": null,
   "metadata": {},
   "outputs": [],
   "source": [
    "soup = BeautifulSoup(c1, \"html.parser\")\n",
    "\n",
    "print(soup.prettify())"
   ]
  },
  {
   "cell_type": "code",
   "execution_count": null,
   "metadata": {},
   "outputs": [],
   "source": [
    "all = soup.find_all(\"span\",{\"class\":\"ItemName\"})\n",
    "for a in all:\n",
    "    print(a.find(\"a\")[\"href\"])"
   ]
  },
  {
   "cell_type": "markdown",
   "metadata": {},
   "source": [
    "# 2013 - 2019 Speeches"
   ]
  },
  {
   "cell_type": "code",
   "execution_count": 266,
   "metadata": {},
   "outputs": [],
   "source": [
    "base_url = \"https://www.taoiseach.gov.ie/eng/News/Taoiseach's_Speeches/?pageNumber=\"\n",
    "count = 1\n",
    "for page in range(1,38):\n",
    "    r = requests.get(base_url + str(page))\n",
    "    c = r.content\n",
    "    soup = BeautifulSoup(c, \"html.parser\")\n",
    "    all = soup.find_all(\"span\",{\"class\":\"ItemName\"})\n",
    "    for a in all:\n",
    "        r = requests.get(\"https://www.taoiseach.gov.ie\" + a.find(\"a\")[\"href\"])\n",
    "        c = r.content\n",
    "        #print(\"https://www.taoiseach.gov.ie\" + a.find(\"a\")[\"href\"])\n",
    "        soup = BeautifulSoup(c, \"html.parser\")\n",
    "        all = soup.find(\"div\", {\"class\":\"contentSub\"}).text\n",
    "        all = all.replace(\"var mapOverlayUrl = '';\",\"\")\n",
    "        \n",
    "        with open(\"C:/Users/Johnny/Desktop/Data Science/Project/speeches/2013-2019/2013-2019_speech_\" + str(count) + \".txt\", \"w\", encoding=\"utf-8\") as out_file:\n",
    "            out_file.write(all)\n",
    "        count = count + 1\n"
   ]
  },
  {
   "cell_type": "markdown",
   "metadata": {},
   "source": [
    "# 2012 Speeches"
   ]
  },
  {
   "cell_type": "code",
   "execution_count": 264,
   "metadata": {},
   "outputs": [],
   "source": [
    "base_url = \"https://www.taoiseach.gov.ie/eng/News/Archives/2012/Taoiseach's_Speeches_2012?pageNumber=\"\n",
    "\n",
    "count = 1\n",
    "for page in range(1,6):\n",
    "    r = requests.get(base_url + str(page))\n",
    "    c = r.content\n",
    "    soup = BeautifulSoup(c, \"html.parser\")\n",
    "    all = soup.find_all(\"span\",{\"class\":\"ItemName\"})\n",
    "    for a in all:\n",
    "        r = requests.get(\"https://www.taoiseach.gov.ie\" + a.find(\"a\")[\"href\"])\n",
    "        c = r.content\n",
    "        \n",
    "        soup = BeautifulSoup(c, \"html.parser\")\n",
    "        all = soup.find(\"div\", {\"class\":\"contentSub\"}).text\n",
    "        all = all.replace(\"var mapOverlayUrl = '';\",\"\")\n",
    "        \n",
    "        with open(\"C:/Users/Johnny/Desktop/Data Science/Project/speeches/2012/2012_speech_\" + str(count) + \".txt\", \"w\", encoding=\"utf-8\") as out_file:\n",
    "            out_file.write(all)\n",
    "        count = count + 1"
   ]
  },
  {
   "cell_type": "markdown",
   "metadata": {},
   "source": [
    "# 2011 Speeches\n"
   ]
  },
  {
   "cell_type": "code",
   "execution_count": 263,
   "metadata": {},
   "outputs": [],
   "source": [
    "base_url = \"https://www.taoiseach.gov.ie/eng/News/Archives/2011/Taoiseach's_Speeches_2011?pageNumber=\"\n",
    "\n",
    "count = 1\n",
    "for page in range(1,5):\n",
    "    r = requests.get(base_url + str(page))\n",
    "    c = r.content\n",
    "    soup = BeautifulSoup(c, \"html.parser\")\n",
    "    all = soup.find_all(\"span\",{\"class\":\"ItemName\"})\n",
    "    for a in all:\n",
    "        r = requests.get(\"https://www.taoiseach.gov.ie\" + a.find(\"a\")[\"href\"])\n",
    "        c = r.content\n",
    "        \n",
    "        soup = BeautifulSoup(c, \"html.parser\")\n",
    "        all = soup.find(\"div\", {\"class\":\"contentSub\"}).text\n",
    "        all = all.replace(\"var mapOverlayUrl = '';\",\"\")\n",
    "        \n",
    "        with open(\"C:/Users/Johnny/Desktop/Data Science/Project/speeches/2011/2011_speech_\" + str(count) + \".txt\", \"w\", encoding=\"utf-8\") as out_file:\n",
    "            out_file.write(all)\n",
    "        count = count + 1"
   ]
  },
  {
   "cell_type": "markdown",
   "metadata": {},
   "source": [
    "# 2010 Speeches"
   ]
  },
  {
   "cell_type": "code",
   "execution_count": 262,
   "metadata": {},
   "outputs": [],
   "source": [
    "base_url = \"https://www.taoiseach.gov.ie/eng/News/Archives/2010/Taoiseach's_Speeches_2010?pageNumber=\"\n",
    "\n",
    "count = 1\n",
    "for page in range(1,6):\n",
    "    r = requests.get(base_url + str(page))\n",
    "    c = r.content\n",
    "    soup = BeautifulSoup(c, \"html.parser\")\n",
    "    all = soup.find_all(\"span\",{\"class\":\"ItemName\"})\n",
    "    for a in all:\n",
    "        r = requests.get(\"https://www.taoiseach.gov.ie\" + a.find(\"a\")[\"href\"])\n",
    "        c = r.content\n",
    "        \n",
    "        soup = BeautifulSoup(c, \"html.parser\")\n",
    "        all = soup.find(\"div\", {\"class\":\"contentSub\"}).text\n",
    "        all = all.replace(\"var mapOverlayUrl = '';\",\"\")\n",
    "        \n",
    "        with open(\"C:/Users/Johnny/Desktop/Data Science/Project/speeches/2010/2010_speech_\" + str(count) + \".txt\", \"w\", encoding=\"utf-8\") as out_file:\n",
    "            out_file.write(all)\n",
    "        count = count + 1"
   ]
  },
  {
   "cell_type": "markdown",
   "metadata": {},
   "source": [
    "# 2009 Speeches"
   ]
  },
  {
   "cell_type": "code",
   "execution_count": 261,
   "metadata": {},
   "outputs": [],
   "source": [
    "base_url = \"https://www.taoiseach.gov.ie/eng/News/Archives/2009/Taoiseach's_Speeches_2009?pageNumber=\"\n",
    "\n",
    "count = 1\n",
    "for page in range(1,6):\n",
    "    r = requests.get(base_url + str(page))\n",
    "    c = r.content\n",
    "    soup = BeautifulSoup(c, \"html.parser\")\n",
    "    all = soup.find_all(\"span\",{\"class\":\"ItemName\"})\n",
    "    for a in all:\n",
    "        r = requests.get(\"https://www.taoiseach.gov.ie\" + a.find(\"a\")[\"href\"])\n",
    "        c = r.content\n",
    "        \n",
    "        soup = BeautifulSoup(c, \"html.parser\")\n",
    "        all = soup.find(\"div\", {\"class\":\"contentSub\"}).text\n",
    "        all = all.replace(\"var mapOverlayUrl = '';\",\"\")\n",
    "        \n",
    "        with open(\"C:/Users/Johnny/Desktop/Data Science/Project/speeches/2009/2009_speech_\" + str(count) + \".txt\", \"w\", encoding=\"utf-8\") as out_file:\n",
    "            out_file.write(all)\n",
    "        count = count + 1"
   ]
  },
  {
   "cell_type": "markdown",
   "metadata": {},
   "source": [
    "# 2008 Speeches"
   ]
  },
  {
   "cell_type": "code",
   "execution_count": 260,
   "metadata": {},
   "outputs": [],
   "source": [
    "base_url = \"https://www.taoiseach.gov.ie/eng/News/Archives/2008/Taoiseach's_Speeches_2008?pageNumber=\"\n",
    "\n",
    "count = 1\n",
    "for page in range(1,6):\n",
    "    r = requests.get(base_url + str(page))\n",
    "    c = r.content\n",
    "    soup = BeautifulSoup(c, \"html.parser\")\n",
    "    all = soup.find_all(\"span\",{\"class\":\"ItemName\"})\n",
    "    for a in all:\n",
    "        r = requests.get(\"https://www.taoiseach.gov.ie\" + a.find(\"a\")[\"href\"])\n",
    "        c = r.content\n",
    "        \n",
    "        soup = BeautifulSoup(c, \"html.parser\")\n",
    "        all = soup.find(\"div\", {\"class\":\"contentSub\"}).text\n",
    "        all = all.replace(\"var mapOverlayUrl = '';\",\"\")\n",
    "        \n",
    "        with open(\"C:/Users/Johnny/Desktop/Data Science/Project/speeches/2008/2008_speech_\" + str(count) + \".txt\", \"w\", encoding=\"utf-8\") as out_file:\n",
    "            out_file.write(all)\n",
    "        count = count + 1"
   ]
  },
  {
   "cell_type": "markdown",
   "metadata": {},
   "source": [
    "# 2007 & 2006 unavailable"
   ]
  },
  {
   "cell_type": "markdown",
   "metadata": {},
   "source": [
    "# 2005 Speeches"
   ]
  },
  {
   "cell_type": "code",
   "execution_count": 259,
   "metadata": {},
   "outputs": [],
   "source": [
    "base_url = \"https://www.taoiseach.gov.ie/eng/News/Archives/2005/Taoiseach's_Speeches_Archive_2005/?pageNumber=\"\n",
    "\n",
    "count = 1\n",
    "for page in range(1,17):\n",
    "    r = requests.get(base_url + str(page))\n",
    "    c = r.content\n",
    "    soup = BeautifulSoup(c, \"html.parser\")\n",
    "    all = soup.find_all(\"span\",{\"class\":\"ItemName\"})\n",
    "    for a in all:\n",
    "        r = requests.get(\"https://www.taoiseach.gov.ie\" + a.find(\"a\")[\"href\"])\n",
    "        c = r.content\n",
    "        \n",
    "        soup = BeautifulSoup(c, \"html.parser\")\n",
    "        all = soup.find(\"div\", {\"class\":\"contentSub\"}).text\n",
    "        all = all.replace(\"var mapOverlayUrl = '';\",\"\")\n",
    "        \n",
    "        with open(\"C:/Users/Johnny/Desktop/Data Science/Project/speeches/2005/2005_speech_\" + str(count) + \".txt\", \"w\", encoding=\"utf-8\") as out_file:\n",
    "            out_file.write(all)\n",
    "        count = count + 1"
   ]
  },
  {
   "cell_type": "markdown",
   "metadata": {},
   "source": [
    "# 2004 Speeches"
   ]
  },
  {
   "cell_type": "code",
   "execution_count": 257,
   "metadata": {},
   "outputs": [],
   "source": [
    "base_url = \"https://www.taoiseach.gov.ie/eng/News/Archives/2004/Taoiseach's_Speeches_Archive_2004/?pageNumber=\"\n",
    "\n",
    "count = 1\n",
    "for page in range(1,4):\n",
    "    r = requests.get(base_url + str(page))\n",
    "    c = r.content\n",
    "    soup = BeautifulSoup(c, \"html.parser\")\n",
    "    all = soup.find_all(\"span\",{\"class\":\"ItemName\"})\n",
    "    for a in all:\n",
    "        r = requests.get(\"https://www.taoiseach.gov.ie\" + a.find(\"a\")[\"href\"])\n",
    "        c = r.content\n",
    "        \n",
    "        soup = BeautifulSoup(c, \"html.parser\")\n",
    "        all = soup.find(\"div\", {\"class\":\"contentSub\"}).text\n",
    "        all = all.replace(\"var mapOverlayUrl = '';\",\"\")\n",
    "        \n",
    "        with open(\"C:/Users/Johnny/Desktop/Data Science/Project/speeches/2004/2004_speech_\" + str(count) + \".txt\", \"w\", encoding=\"utf-8\") as out_file:\n",
    "            out_file.write(all)\n",
    "        count = count + 1"
   ]
  },
  {
   "cell_type": "markdown",
   "metadata": {},
   "source": [
    "# 2003 Speeches"
   ]
  },
  {
   "cell_type": "code",
   "execution_count": 256,
   "metadata": {},
   "outputs": [],
   "source": [
    "base_url = \"https://www.taoiseach.gov.ie/eng/News/Archives/2003/Taoiseach's_Speeches_Archive_2003/?pageNumber=\"\n",
    "\n",
    "count = 1\n",
    "for page in range(1,5):\n",
    "    r = requests.get(base_url + str(page))\n",
    "    c = r.content\n",
    "    soup = BeautifulSoup(c, \"html.parser\")\n",
    "    all = soup.find_all(\"span\",{\"class\":\"ItemName\"})\n",
    "    for a in all:\n",
    "        try:\n",
    "            r = requests.get(\"https://www.taoiseach.gov.ie\" + a.find(\"a\")[\"href\"])\n",
    "            c = r.content\n",
    "\n",
    "            soup = BeautifulSoup(c, \"html.parser\")\n",
    "            all = soup.find(\"div\", {\"class\":\"contentSub\"}).text\n",
    "            all = all.replace(\"var mapOverlayUrl = '';\",\"\")\n",
    "\n",
    "            with open(\"C:/Users/Johnny/Desktop/Data Science/Project/speeches/2003/2003_speech_\" + str(count) + \".txt\", \"w\", encoding=\"utf-8\") as out_file:\n",
    "                out_file.write(all)\n",
    "            count = count + 1\n",
    "        except:\n",
    "            pass"
   ]
  },
  {
   "cell_type": "markdown",
   "metadata": {},
   "source": [
    "# 2002 Speeches"
   ]
  },
  {
   "cell_type": "code",
   "execution_count": 255,
   "metadata": {},
   "outputs": [],
   "source": [
    "base_url = \"https://www.taoiseach.gov.ie/eng/News/Archives/2002/Taoiseach's_Speeches_Archive_2002/?pageNumber=\"\n",
    "\n",
    "count = 1\n",
    "for page in range(1,9):\n",
    "    r = requests.get(base_url + str(page))\n",
    "    c = r.content\n",
    "    soup = BeautifulSoup(c, \"html.parser\")\n",
    "    all = soup.find_all(\"span\",{\"class\":\"ItemName\"})\n",
    "    for a in all:\n",
    "        try:\n",
    "            r = requests.get(\"https://www.taoiseach.gov.ie\" + a.find(\"a\")[\"href\"])\n",
    "            c = r.content\n",
    "\n",
    "            soup = BeautifulSoup(c, \"html.parser\")\n",
    "            all = soup.find(\"div\", {\"class\":\"contentSub\"}).text\n",
    "            all = all.replace(\"var mapOverlayUrl = '';\",\"\")\n",
    "\n",
    "            with open(\"C:/Users/Johnny/Desktop/Data Science/Project/speeches/2002/2002_speech_\" + str(count) + \".txt\", \"w\", encoding=\"utf-8\") as out_file:\n",
    "                out_file.write(all)\n",
    "            count = count + 1\n",
    "        except:\n",
    "            pass"
   ]
  },
  {
   "cell_type": "markdown",
   "metadata": {},
   "source": [
    "# 2001 Speeches"
   ]
  },
  {
   "cell_type": "code",
   "execution_count": 254,
   "metadata": {},
   "outputs": [],
   "source": [
    "base_url = \"https://www.taoiseach.gov.ie/eng/News/Archives/2001/Taoiseach's_Speeches_Archive_2001/?pageNumber=\"\n",
    "\n",
    "count = 1\n",
    "for page in range(1,8):\n",
    "    r = requests.get(base_url + str(page))\n",
    "    c = r.content\n",
    "    soup = BeautifulSoup(c, \"html.parser\")\n",
    "    all = soup.find_all(\"span\",{\"class\":\"ItemName\"})\n",
    "    for a in all:\n",
    "        try:\n",
    "            r = requests.get(\"https://www.taoiseach.gov.ie\" + a.find(\"a\")[\"href\"])\n",
    "            c = r.content\n",
    "\n",
    "            soup = BeautifulSoup(c, \"html.parser\")\n",
    "            all = soup.find(\"div\", {\"class\":\"contentSub\"}).text\n",
    "            all = all.replace(\"var mapOverlayUrl = '';\",\"\")\n",
    "\n",
    "            with open(\"C:/Users/Johnny/Desktop/Data Science/Project/speeches/2001/2001_speech_\" + str(count) + \".txt\", \"w\", encoding=\"utf-8\") as out_file:\n",
    "                out_file.write(all)\n",
    "            count = count + 1\n",
    "        except:\n",
    "            pass"
   ]
  },
  {
   "cell_type": "markdown",
   "metadata": {},
   "source": [
    "# 2000 Speeches"
   ]
  },
  {
   "cell_type": "code",
   "execution_count": 253,
   "metadata": {},
   "outputs": [],
   "source": [
    "base_url = \"https://www.taoiseach.gov.ie/eng/News/Archives/2000/Taoiseach's_Speeches_Archive_2000/?pageNumber=\"\n",
    "\n",
    "count = 1\n",
    "for page in range(1,9):\n",
    "    r = requests.get(base_url + str(page))\n",
    "    c = r.content\n",
    "    soup = BeautifulSoup(c, \"html.parser\")\n",
    "    all = soup.find_all(\"span\",{\"class\":\"ItemName\"})\n",
    "    for a in all:\n",
    "        try:\n",
    "            r = requests.get(\"https://www.taoiseach.gov.ie\" + a.find(\"a\")[\"href\"])\n",
    "            c = r.content\n",
    "\n",
    "            soup = BeautifulSoup(c, \"html.parser\")\n",
    "            all = soup.find(\"div\", {\"class\":\"contentSub\"}).text\n",
    "            all = all.replace(\"var mapOverlayUrl = '';\",\"\")\n",
    "\n",
    "            with open(\"C:/Users/Johnny/Desktop/Data Science/Project/speeches/2000/2000_speech_\" + str(count) + \".txt\", \"w\", encoding=\"utf-8\") as out_file:\n",
    "                out_file.write(all)\n",
    "            count = count + 1\n",
    "        except:\n",
    "            pass"
   ]
  },
  {
   "cell_type": "markdown",
   "metadata": {},
   "source": [
    "# 1999 Speeches"
   ]
  },
  {
   "cell_type": "code",
   "execution_count": 252,
   "metadata": {},
   "outputs": [],
   "source": [
    "base_url = \"https://www.taoiseach.gov.ie/eng/News/Archives/1999/Taoiseach's_Speeches_Archive_1999/?pageNumber=\"\n",
    "\n",
    "count = 1\n",
    "for page in range(1,9):\n",
    "    r = requests.get(base_url + str(page))\n",
    "    c = r.content\n",
    "    soup = BeautifulSoup(c, \"html.parser\")\n",
    "    all = soup.find_all(\"span\",{\"class\":\"ItemName\"})\n",
    "    for a in all:\n",
    "        try:\n",
    "            r = requests.get(\"https://www.taoiseach.gov.ie\" + a.find(\"a\")[\"href\"])\n",
    "            c = r.content\n",
    "\n",
    "            soup = BeautifulSoup(c, \"html.parser\")\n",
    "            all = soup.find(\"div\", {\"class\":\"contentSub\"}).text\n",
    "            all = all.replace(\"var mapOverlayUrl = '';\",\"\")\n",
    "\n",
    "            with open(\"C:/Users/Johnny/Desktop/Data Science/Project/speeches/1999/1999_speech_\" + str(count) + \".txt\", \"w\", encoding=\"utf-8\") as out_file:\n",
    "                out_file.write(all)\n",
    "            count = count + 1\n",
    "        except:\n",
    "            pass"
   ]
  },
  {
   "cell_type": "markdown",
   "metadata": {},
   "source": [
    "# 1998 Speeches"
   ]
  },
  {
   "cell_type": "code",
   "execution_count": null,
   "metadata": {},
   "outputs": [],
   "source": [
    "base_url = \"https://www.taoiseach.gov.ie/eng/News/Archives/1998/Taoiseach's_Speeches_Archive_1998/?pageNumber=\"\n",
    "\n",
    "count = 1\n",
    "for page in range(1,9):\n",
    "    r = requests.get(base_url + str(page))\n",
    "    c = r.content\n",
    "    soup = BeautifulSoup(c, \"html.parser\")\n",
    "    all = soup.find_all(\"span\",{\"class\":\"ItemName\"})\n",
    "    for a in all:\n",
    "        try:\n",
    "            r = requests.get(\"https://www.taoiseach.gov.ie\" + a.find(\"a\")[\"href\"])\n",
    "            c = r.content\n",
    "\n",
    "            soup = BeautifulSoup(c, \"html.parser\")\n",
    "            all = soup.find(\"div\", {\"class\":\"contentSub\"}).text\n",
    "            all = all.replace(\"var mapOverlayUrl = '';\",\"\")\n",
    "\n",
    "            with open(\"C:/Users/Johnny/Desktop/Data Science/Project/speeches/1998/1998_speech_\" + str(count) + \".txt\", \"w\", encoding=\"utf-8\") as out_file:\n",
    "                out_file.write(all)\n",
    "            count = count + 1\n",
    "        except:\n",
    "            pass"
   ]
  },
  {
   "cell_type": "markdown",
   "metadata": {},
   "source": [
    "# 1997 Speeches"
   ]
  },
  {
   "cell_type": "code",
   "execution_count": null,
   "metadata": {},
   "outputs": [],
   "source": [
    "base_url = \"https://www.taoiseach.gov.ie/eng/News/Archives/1997/Taoiseach's_Speeches_Archive_1997/?pageNumber=\"\n",
    "speech_string_1997 = \"\"\n",
    "count = 1\n",
    "for page in range(1,3):\n",
    "    r = requests.get(base_url + str(page))\n",
    "    c = r.content\n",
    "    soup = BeautifulSoup(c, \"html.parser\")\n",
    "    all = soup.find_all(\"span\",{\"class\":\"ItemName\"})\n",
    "    \n",
    "    for a in all:\n",
    "        try:\n",
    "            r = requests.get(\"https://www.taoiseach.gov.ie\" + a.find(\"a\")[\"href\"])\n",
    "            c = r.content\n",
    "\n",
    "            soup = BeautifulSoup(c, \"html.parser\")\n",
    "            all = soup.find(\"div\", {\"class\":\"contentSub\"}).text\n",
    "            \n",
    "            all = all.replace(\"var mapOverlayUrl = '';\",\"\")\n",
    "            \n",
    "            with open(\"C:/Users/Johnny/Desktop/Data Science/Project/speeches/1997/1997_speech_\" + str(count) + \".txt\", \"w\", encoding=\"utf-8\") as out_file:\n",
    "                out_file.write(all)\n",
    "            count = count + 1\n",
    "        except:\n",
    "            pass"
   ]
  },
  {
   "cell_type": "markdown",
   "metadata": {},
   "source": [
    "# Scrape and convert all 1997 speeches to a single string\n"
   ]
  },
  {
   "cell_type": "code",
   "execution_count": null,
   "metadata": {},
   "outputs": [],
   "source": [
    "base_url = \"https://www.taoiseach.gov.ie/eng/News/Archives/1997/Taoiseach's_Speeches_Archive_1997/?pageNumber=\"\n",
    "speech_string_1997 = \"\"\n",
    "count = 1\n",
    "for page in range(1,3):\n",
    "    r = requests.get(base_url + str(page))\n",
    "    c = r.content\n",
    "    soup = BeautifulSoup(c, \"html.parser\")\n",
    "    all = soup.find_all(\"span\",{\"class\":\"ItemName\"})\n",
    "    \n",
    "    for a in all:\n",
    "        \n",
    "        r = requests.get(\"https://www.taoiseach.gov.ie\" + a.find(\"a\")[\"href\"])\n",
    "        c = r.content\n",
    "\n",
    "        soup = BeautifulSoup(c, \"html.parser\")\n",
    "        all = soup.find(\"div\", {\"class\":\"contentSub\"}).text\n",
    "            \n",
    "        all = all.replace(\"var mapOverlayUrl = '';\",\"\")\n",
    "        speech_string_1997 += all \n",
    "      \n",
    "print(speech_string_1997)\n"
   ]
  },
  {
   "cell_type": "code",
   "execution_count": 425,
   "metadata": {},
   "outputs": [
    {
     "name": "stdout",
     "output_type": "stream",
     "text": [
      "5387\n",
      "2754\n",
      "[('I', 35), ('Government', 32), ('The', 27), ('Ireland', 25), ('business', 24), ('people', 20), ('Tribunal', 17), ('1997', 16), ('Irish', 16), ('years', 16)]\n"
     ]
    },
    {
     "data": {
      "text/plain": [
       "3"
      ]
     },
     "execution_count": 425,
     "metadata": {},
     "output_type": "execute_result"
    }
   ],
   "source": [
    "words_1997 = word_tokenize(speech_string_1997)\n",
    "print(len(words_1997))\n",
    "\n",
    "words_1997 = [w for w in words_1997 if not w in stop_words]\n",
    "all_words_1997 = nltk.FreqDist(words_1997)\n",
    "print(len(words_1997))\n",
    "\n",
    "print(all_words_1997.most_common(10))\n",
    "all_words_1997[\"ceasefire\"]"
   ]
  },
  {
   "cell_type": "markdown",
   "metadata": {},
   "source": [
    "# Scrape and convert all 1998 speeches to a single string\n"
   ]
  },
  {
   "cell_type": "code",
   "execution_count": null,
   "metadata": {},
   "outputs": [],
   "source": [
    "base_url = \"https://www.taoiseach.gov.ie/eng/News/Archives/1998/Taoiseach's_Speeches_Archive_1998/?pageNumber=\"\n",
    "speech_string_1998 = \"\"\n",
    "count = 1\n",
    "for page in range(1,9):\n",
    "    r = requests.get(base_url + str(page))\n",
    "    c = r.content\n",
    "    soup = BeautifulSoup(c, \"html.parser\")\n",
    "    all = soup.find_all(\"span\",{\"class\":\"ItemName\"})\n",
    "    \n",
    "    for a in all:\n",
    "        \n",
    "        r = requests.get(\"https://www.taoiseach.gov.ie\" + a.find(\"a\")[\"href\"])\n",
    "        c = r.content\n",
    "\n",
    "        soup = BeautifulSoup(c, \"html.parser\")\n",
    "        all = soup.find(\"div\", {\"class\":\"contentSub\"}).text\n",
    "            \n",
    "        all = all.replace(\"var mapOverlayUrl = '';\",\"\")\n",
    "        speech_string_1998 += all \n",
    "      \n",
    "print(speech_string_1998)\n"
   ]
  },
  {
   "cell_type": "code",
   "execution_count": null,
   "metadata": {},
   "outputs": [],
   "source": [
    "#1998\n",
    "\n",
    "speech_string_1998 = speech_string_1998.lower()\n",
    "words_1998 = word_tokenize(speech_string_1998)\n",
    "print(len(words_1998))\n",
    "\n",
    "words_1998 = [w for w in words_1998 if not w in stop_words]\n",
    "print(len(words_1998))\n",
    "all_words_1998 = nltk.FreqDist(words_1998)\n",
    "\n",
    "print(all_words_1998.most_common(50))\n",
    "all_words_1998[\"ceasefire\"]"
   ]
  },
  {
   "cell_type": "markdown",
   "metadata": {},
   "source": [
    "# 1999"
   ]
  },
  {
   "cell_type": "code",
   "execution_count": null,
   "metadata": {},
   "outputs": [],
   "source": [
    "# 1999\n",
    "\n",
    "base_url = \"https://www.taoiseach.gov.ie/eng/News/Archives/1999/Taoiseach's_Speeches_Archive_1999/?pageNumber=\"\n",
    "speech_string_1999 = \"\"\n",
    "count = 1\n",
    "for page in range(1,9):\n",
    "    r = requests.get(base_url + str(page))\n",
    "    c = r.content\n",
    "    soup = BeautifulSoup(c, \"html.parser\")\n",
    "    all = soup.find_all(\"span\",{\"class\":\"ItemName\"})\n",
    "    \n",
    "    for a in all:\n",
    "        \n",
    "        r = requests.get(\"https://www.taoiseach.gov.ie\" + a.find(\"a\")[\"href\"])\n",
    "        c = r.content\n",
    "\n",
    "        soup = BeautifulSoup(c, \"html.parser\")\n",
    "        all = soup.find(\"div\", {\"class\":\"contentSub\"}).text\n",
    "            \n",
    "        all = all.replace(\"var mapOverlayUrl = '';\",\"\")\n",
    "        speech_string_1999 += all \n",
    "      \n",
    "print(speech_string_1999)"
   ]
  },
  {
   "cell_type": "code",
   "execution_count": null,
   "metadata": {},
   "outputs": [],
   "source": [
    "#1999\n",
    "\n",
    "speech_string_1999 = speech_string_1999.lower()\n",
    "words_1999 = word_tokenize(speech_string_1999)\n",
    "print(len(words_1999))\n",
    "\n",
    "words_1999 = [w for w in words_1999 if not w in stop_words]\n",
    "print(str(len(words_1999)) + \" words after removing stopwords\")\n",
    "all_words_1999 = nltk.FreqDist(words_1999)\n",
    "\n",
    "print(all_words_1999.most_common(50))\n",
    "all_words_1999[\"tiger\"]"
   ]
  },
  {
   "cell_type": "markdown",
   "metadata": {},
   "source": [
    "# Scrape dates"
   ]
  },
  {
   "cell_type": "code",
   "execution_count": null,
   "metadata": {},
   "outputs": [],
   "source": [
    "base_url = \"https://www.taoiseach.gov.ie/eng/News/Taoiseach's_Speeches/?pageNumber=\"\n",
    "count = 1\n",
    "for page in range(1,38):\n",
    "    r = requests.get(base_url + str(page))\n",
    "    c = r.content\n",
    "    soup = BeautifulSoup(c, \"html.parser\")\n",
    "    dates = soup.find_all(\"span\",{\"class\":\"newsDate\"})\n",
    "    years = soup.find_all(\"span\",{\"class\":\"newsYear\"})\n",
    "    for date, year in zip(dates, years):\n",
    "        date = re.split('(\\d+)', date.text)\n",
    "        date = date[1] + \" \" + date[2] + \" \" + year.text\n",
    "        print(date)"
   ]
  },
  {
   "cell_type": "code",
   "execution_count": null,
   "metadata": {},
   "outputs": [],
   "source": [
    "import nltk\n",
    "from nltk.tokenize import word_tokenize, sent_tokenize\n",
    "from nltk.corpus import movie_reviews, stopwords\n",
    "stop_words = stopwords.words('english')\n",
    "stop_words.append(\".\")\n",
    "stop_words.append(\",\")\n",
    "stop_words.append(\"-\")\n",
    "stop_words.append(\";\")\n",
    "stop_words.append(\"us\")\n",
    "stop_words.append(\"'s\")\n",
    "stop_words.append(\"also\")\n",
    "stop_words.append(\"would\")\n",
    "stop_words.append(\"1997\")\n",
    "stop_words.append(\"1998\")"
   ]
  },
  {
   "cell_type": "code",
   "execution_count": null,
   "metadata": {},
   "outputs": [],
   "source": []
  },
  {
   "cell_type": "code",
   "execution_count": null,
   "metadata": {},
   "outputs": [],
   "source": []
  },
  {
   "cell_type": "code",
   "execution_count": null,
   "metadata": {},
   "outputs": [],
   "source": []
  }
 ],
 "metadata": {
  "kernelspec": {
   "display_name": "Python 3",
   "language": "python",
   "name": "python3"
  },
  "language_info": {
   "codemirror_mode": {
    "name": "ipython",
    "version": 3
   },
   "file_extension": ".py",
   "mimetype": "text/x-python",
   "name": "python",
   "nbconvert_exporter": "python",
   "pygments_lexer": "ipython3",
   "version": "3.7.0"
  }
 },
 "nbformat": 4,
 "nbformat_minor": 2
}
