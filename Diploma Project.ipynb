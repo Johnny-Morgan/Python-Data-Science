{
 "cells": [
  {
   "cell_type": "code",
   "execution_count": 3,
   "metadata": {},
   "outputs": [],
   "source": [
    "import requests, re\n",
    "from bs4 import BeautifulSoup\n",
    "import nltk\n",
    "import random\n",
    "import matplotlib.pyplot as plt \n",
    "import numpy as np\n",
    "from nltk.tokenize import word_tokenize, sent_tokenize\n",
    "from nltk.corpus import movie_reviews, stopwords\n",
    "stop_words = stopwords.words('english')\n",
    "stop_words.append(\".\")\n",
    "stop_words.append(\",\")\n",
    "stop_words.append(\"-\")\n",
    "stop_words.append(\";\")\n",
    "stop_words.append(\"’\")\n",
    "stop_words.append(\"'s\")\n",
    "stop_words.append(\"%\")\n",
    "stop_words.append(\"n't\")\n",
    "stop_words.append(\"%\")"
   ]
  },
  {
   "cell_type": "code",
   "execution_count": 4,
   "metadata": {},
   "outputs": [],
   "source": [
    "r = requests.get(\"https://www.taoiseach.gov.ie/eng/News/Taoiseach's_Speeches/New%20Year's%20Day%20Statement%20by%20An%20Taoiseach.html\")\n",
    "c = r.content"
   ]
  },
  {
   "cell_type": "code",
   "execution_count": 5,
   "metadata": {},
   "outputs": [],
   "source": [
    "soup = BeautifulSoup(c, \"html.parser\")\n",
    "\n",
    "#print(soup.prettify())"
   ]
  },
  {
   "cell_type": "code",
   "execution_count": 6,
   "metadata": {},
   "outputs": [],
   "source": [
    "all = soup.find(\"div\", {\"class\":\"contentSub\"}).text\n"
   ]
  },
  {
   "cell_type": "code",
   "execution_count": 7,
   "metadata": {},
   "outputs": [],
   "source": [
    "all = all.replace(\"\\xa0\",\"\")\n",
    "all = all.replace(\"\\r\\n\",\"\")\n",
    "all = all.replace(\"var mapOverlayUrl = ''\",\"\")\n"
   ]
  },
  {
   "cell_type": "code",
   "execution_count": 8,
   "metadata": {},
   "outputs": [],
   "source": [
    "# text = all.find_all(\"div\", {\"dir\":\"ltr\"})[0].text\n",
    "# text"
   ]
  },
  {
   "cell_type": "code",
   "execution_count": 9,
   "metadata": {},
   "outputs": [],
   "source": [
    "# with open(\"C:/Users/Johnny/Desktop/Data Science/Project/speech1.txt\", \"w\") as out_file:\n",
    "#     out_file.write(text)"
   ]
  },
  {
   "cell_type": "markdown",
   "metadata": {},
   "source": [
    "# Scrape links to speeches\n"
   ]
  },
  {
   "cell_type": "code",
   "execution_count": 10,
   "metadata": {},
   "outputs": [],
   "source": [
    "r1 = requests.get(\"https://www.taoiseach.gov.ie/eng/News/Taoiseach's_Speeches/\")\n",
    "c1 = r1.content"
   ]
  },
  {
   "cell_type": "code",
   "execution_count": 11,
   "metadata": {},
   "outputs": [],
   "source": [
    "soup = BeautifulSoup(c1, \"html.parser\")\n",
    "#print(soup.prettify())"
   ]
  },
  {
   "cell_type": "code",
   "execution_count": 12,
   "metadata": {},
   "outputs": [
    {
     "name": "stdout",
     "output_type": "stream",
     "text": [
      "/eng/News/Taoiseach's_Speeches/New Year's Day Statement by An Taoiseach.html\n",
      "/eng/News/Taoiseach's_Speeches/Speech_by_An_Taoiseach_Official_opening_of_new_Barclays_Offices.html\n",
      "/eng/News/Taoiseach's_Speeches/Speech_of_An_Taoiseach_Disruptive_Technologies_Innovation_Fund_Monday_10_December_2018.html\n",
      "/eng/News/Taoiseach's_Speeches/Speech_of_An_Taoiseach_Leo_Varadkar_T_D_TEG_%E2%80%93_Jobs_Announcement_Mullingar_7_December_2018.html\n",
      "/eng/News/Taoiseach's_Speeches/Speech_by_An_Taoiseach_Launch_of_The_Sunday_Papers_Irish_Times_Building_Tara_Street_Tuesday_4_December_2018.html\n",
      "/eng/News/Taoiseach's_Speeches/Speech_of_An_Taoiseach_Votail_100_Reception_St_Patrick_s_Hall_Dublin_Castle.html\n",
      "/eng/News/Taoiseach's_Speeches/Speech_by_An_Taoiseach_at_the_Garda_Passing_out_Parade_Garda_College_Templemore_.html\n",
      "/eng/News/Taoiseach's_Speeches/Speech_by_An_Taoiseach_Announcement_of_First_Round_of_Funding_for_the_Climate_Action_Fund.html\n",
      "/eng/News/Taoiseach's_Speeches/Announcement_of_First_Round_of_Funding_for_the_Urban_Regeneration_and_Development_Fund.html\n",
      "/eng/News/Taoiseach's_Speeches/Speech_by_An_Taoiseach_Leo_Varadkar_T_D_Announcement_of_First_Round_of_Funding_for_the_Rural_Regeneration_and_Development_Fund_Friday_23_November_2018.html\n"
     ]
    }
   ],
   "source": [
    "all = soup.find_all(\"span\",{\"class\":\"ItemName\"})\n",
    "for a in all:\n",
    "    print(a.find(\"a\")[\"href\"])"
   ]
  },
  {
   "cell_type": "markdown",
   "metadata": {},
   "source": [
    "# 2013 - 2019 Speeches"
   ]
  },
  {
   "cell_type": "code",
   "execution_count": 13,
   "metadata": {},
   "outputs": [],
   "source": [
    "base_url = \"https://www.taoiseach.gov.ie/eng/News/Taoiseach's_Speeches/?pageNumber=\"\n",
    "speech_string_2018 = \"\"\n",
    "speech_string_2017 = \"\"\n",
    "speech_string_2016 = \"\"\n",
    "speech_string_2015 = \"\"\n",
    "speech_string_2014 = \"\"\n",
    "speech_string_2013 = \"\"\n",
    "\n",
    "leo_string = \"\"\n",
    "enda_string = \"\"\n",
    "brian_string = \"\"\n",
    "bertie_string = \"\"\n",
    "\n",
    "count = 1\n",
    "\n",
    "for page in range(1,38):\n",
    "    r = requests.get(base_url + str(page))\n",
    "    c = r.content\n",
    "    soup = BeautifulSoup(c, \"html.parser\")\n",
    "    all = soup.find_all(\"span\",{\"class\":\"ItemName\"})\n",
    "    for a in all:\n",
    "        r = requests.get(\"https://www.taoiseach.gov.ie\" + a.find(\"a\")[\"href\"])\n",
    "        c = r.content\n",
    "        \n",
    "        soup = BeautifulSoup(c, \"html.parser\")\n",
    "        all = soup.find(\"div\", {\"class\":\"contentSub\"}).text\n",
    "        all = all.replace(\"var mapOverlayUrl = '';\",\"\")\n",
    "        \n",
    "        if count < 54:\n",
    "            #with open(\"C:/Users/Johnny/Desktop/Data Science/Project/speeches/2018/2018_speech_\" + str(54 - count) + \".txt\", \"w\", encoding=\"utf-8\") as out_file:\n",
    "                #out_file.write(all)\n",
    "            speech_string_2018 += all\n",
    "        elif count < 127:\n",
    "            #with open(\"C:/Users/Johnny/Desktop/Data Science/Project/speeches/2017/2017_speech_\" + str(127 - count) + \".txt\", \"w\", encoding=\"utf-8\") as out_file:\n",
    "                #out_file.write(all)\n",
    "            speech_string_2017 += all\n",
    "        elif count < 204:\n",
    "            #with open(\"C:/Users/Johnny/Desktop/Data Science/Project/speeches/2016/2016_speech_\" + str(204 - count) + \".txt\", \"w\", encoding=\"utf-8\") as out_file:\n",
    "                #out_file.write(all)\n",
    "            speech_string_2016 += all\n",
    "        elif count < 304:\n",
    "            #with open(\"C:/Users/Johnny/Desktop/Data Science/Project/speeches/2015/2015_speech_\" + str(304 - count) + \".txt\", \"w\", encoding=\"utf-8\") as out_file:\n",
    "                #out_file.write(all)\n",
    "            speech_string_2015 += all\n",
    "        elif count < 366:\n",
    "            #with open(\"C:/Users/Johnny/Desktop/Data Science/Project/speeches/2014/2014_speech_\" + str(366 - count) + \".txt\", \"w\", encoding=\"utf-8\") as out_file:\n",
    "                #out_file.write(all)\n",
    "            speech_string_2014 += all\n",
    "        elif count < 370:\n",
    "            #with open(\"C:/Users/Johnny/Desktop/Data Science/Project/speeches/2013/2013_speech_\" + str(370 - count) + \".txt\", \"w\", encoding=\"utf-8\") as out_file:\n",
    "                #out_file.write(all)\n",
    "            speech_string_2013 += all\n",
    "        count = count + 1\n"
   ]
  },
  {
   "cell_type": "code",
   "execution_count": 248,
   "metadata": {},
   "outputs": [],
   "source": [
    "tracker= []"
   ]
  },
  {
   "cell_type": "code",
   "execution_count": 249,
   "metadata": {},
   "outputs": [
    {
     "name": "stdout",
     "output_type": "stream",
     "text": [
      "There were 53 speeches in 2018 with 78472 words with an average of 1480 per speech\n",
      "\n",
      "There were 53 speeches in 2018 with 38110 words with an average of 719 per speech\n",
      "\n",
      "[('ireland', 534), ('people', 282), ('new', 233), ('also', 226), ('irish', 211), ('world', 176), ('government', 172), ('future', 167), ('today', 162), ('country', 159), ('year', 158), ('years', 153), ('one', 153), ('–', 152), ('‘', 141), ('like', 131), ('want', 130), ('public', 127), ('work', 126), ('time', 121), ('first', 118), ('good', 118), ('many', 114), ('women', 113), ('would', 108), ('next', 105), ('investment', 104), ('need', 101), ('way', 97), ('know', 97), ('development', 93), ('european', 92), ('eu', 91), ('make', 89), ('taoiseach', 88), ('economic', 88), ('believe', 86), ('services', 84), ('million', 84), ('jobs', 83), ('ensure', 82), ('dublin', 81), ('history', 81), ('economy', 81), ('change', 80), ('plan', 79), ('rural', 79), ('europe', 79), ('well', 78), ('better', 78), ('see', 76), ('2040', 75), ('project', 74), ('last', 73), (':', 72), ('billion', 72), ('island', 71), ('national', 70), ('agreement', 69), ('state', 68), ('climate', 68), ('place', 67), ('tax', 67), ('important', 65), ('fund', 65), ('communities', 65), ('thank', 64), ('brexit', 63), ('across', 63), ('much', 62), ('education', 62), ('challenges', 62), ('around', 61), ('help', 60), ('international', 60), ('citizens', 59), ('continue', 59), ('made', 59), ('day', 58), ('global', 58), ('infrastructure', 58), ('opportunity', 56), ('take', 56), ('growth', 56), ('trade', 56), ('peace', 56), ('together', 55), ('speech', 55), ('budget', 55), ('united', 55), ('home', 54), ('past', 54), ('uk', 53), ('working', 52), ('two', 52), ('sustainable', 52), ('political', 52), ('minister', 52), ('part', 52), ('ambitious', 51)]\n",
      "[[53, 38110, 719.0566037735849]]\n"
     ]
    }
   ],
   "source": [
    "#2018\n",
    "count = 53\n",
    "speech_string_2018 = speech_string_2018.lower()\n",
    "words_2018 = word_tokenize(speech_string_2018)\n",
    "\n",
    "print(\"There were %d speeches in 2018 with %d words with an average of %d per speech\" % (count, len(words_2018), len(words_2018)/(count)))\n",
    "print()\n",
    "\n",
    "words_2018 = [w for w in words_2018 if not w in stop_words]\n",
    "all_words_2018 = nltk.FreqDist(words_2018)\n",
    "\n",
    "print(\"There were %d speeches in 2018 with %d words with an average of %d per speech\" % (count, len(words_2018), len(words_2018)/(count)))\n",
    "print()\n",
    "\n",
    "print(all_words_2018.most_common(100))\n",
    "tracker_2018 = [count, len(words_2018), len(words_2018)/(count)]\n",
    "tracker.append(tracker_2018)\n"
   ]
  },
  {
   "cell_type": "code",
   "execution_count": 250,
   "metadata": {},
   "outputs": [
    {
     "name": "stdout",
     "output_type": "stream",
     "text": [
      "There were 73 speeches in 2017 with 116572 words with an average of 1596 per speech\n",
      "\n",
      "There were 73 speeches in 2017 with 57070 words with an average of 781 per speech\n",
      "\n",
      "[('ireland', 897), ('people', 379), ('irish', 344), ('also', 326), ('government', 322), ('eu', 322), ('new', 319), ('work', 280), ('european', 274), ('brexit', 225), ('–', 217), ('future', 204), ('years', 197), ('one', 196), ('country', 190), ('economic', 189), ('want', 185), ('world', 181), ('minister', 179), ('many', 178), ('year', 165), ('time', 156), ('trade', 154), ('‘', 145), ('need', 145), ('would', 145), ('good', 144), ('investment', 142), ('continue', 139), ('uk', 136), ('today', 134), ('national', 133), ('great', 130), ('challenges', 130), ('europe', 129), ('plan', 129), ('taoiseach', 128), ('first', 128), ('peace', 127), ('believe', 125), ('last', 124), ('economy', 124), ('important', 120), ('states', 116), ('like', 116), ('northern', 114), ('support', 114), ('including', 114), ('island', 113), ('across', 112), ('international', 112), ('strong', 112), ('union', 111), ('public', 111), ('opportunity', 108), ('process', 107), ('part', 105), ('know', 105), ('negotiations', 104), ('make', 104), ('best', 102), ('council', 101), ('president', 100), ('state', 100), ('united', 99), ('made', 96), ('two', 96), ('relationship', 92), ('issues', 92), ('see', 92), ('political', 91), ('policy', 91), (':', 91), ('countries', 90), ('member', 90), ('well', 90), ('place', 89), ('development', 89), ('together', 86), ('ensure', 86), ('much', 85), ('agreement', 84), ('open', 84), ('way', 83), ('key', 83), ('thank', 82), ('common', 82), ('budget', 82), ('must', 80), ('course', 80), ('working', 78), ('global', 78), ('companies', 78), ('education', 78), ('million', 78), ('city', 77), ('market', 77), ('day', 77), ('strategy', 77), ('services', 75)]\n",
      "[[53, 38110, 719.0566037735849], [73, 57070, 781.7808219178082]]\n"
     ]
    }
   ],
   "source": [
    "#2017\n",
    "count = 73\n",
    "speech_string_2017 = speech_string_2017.lower()\n",
    "words_2017 = word_tokenize(speech_string_2017)\n",
    "\n",
    "print(\"There were %d speeches in 2017 with %d words with an average of %d per speech\" % (count, len(words_2017), len(words_2017)/(count)))\n",
    "print()\n",
    "\n",
    "words_2017 = [w for w in words_2017 if not w in stop_words]\n",
    "all_words_2017 = nltk.FreqDist(words_2017)\n",
    "\n",
    "print(\"There were %d speeches in 2017 with %d words with an average of %d per speech\" % (count, len(words_2017), len(words_2017)/(count)))\n",
    "print()\n",
    "\n",
    "print(all_words_2017.most_common(100))\n",
    "\n",
    "tracker_2017 = [count, len(words_2017), len(words_2017)/(count)]\n",
    "tracker.append(tracker_2017)\n"
   ]
  },
  {
   "cell_type": "code",
   "execution_count": 251,
   "metadata": {},
   "outputs": [
    {
     "name": "stdout",
     "output_type": "stream",
     "text": [
      "There were 77 speeches in 2016 with 119688 words with an average of 1554 per speech\n",
      "\n",
      "There were 77 speeches in 2016 with 59506 words with an average of 772 per speech\n",
      "\n",
      "[('ireland', 843), ('government', 515), ('eu', 433), ('people', 398), ('new', 396), ('irish', 369), ('also', 349), ('uk', 349), ('european', 323), ('work', 295), ('economic', 292), ('–', 258), ('many', 219), ('economy', 199), ('minister', 193), ('would', 189), ('jobs', 184), ('plan', 183), ('year', 176), ('support', 169), ('one', 163), ('continue', 162), ('time', 162), ('future', 158), ('country', 158), ('trade', 157), ('years', 152), ('important', 151), ('want', 150), ('today', 149), ('council', 147), ('first', 141), ('need', 140), ('northern', 139), ('make', 139), ('ensure', 136), ('international', 135), ('across', 134), ('last', 133), ('issues', 131), ('union', 131), ('investment', 130), ('part', 130), ('public', 130), ('strong', 125), ('services', 122), ('process', 121), ('development', 118), ('state', 117), ('business', 117), ('peace', 116), ('national', 115), ('brexit', 114), ('working', 112), ('every', 112), ('like', 111), ('negotiations', 110), ('progress', 110), ('‘', 110), ('including', 107), ('key', 107), ('taoiseach', 105), ('challenges', 105), ('recovery', 105), ('market', 104), ('see', 103), ('must', 103), ('made', 102), ('housing', 102), ('well', 101), ('action', 101), ('companies', 100), ('agreement', 99), ('relationship', 99), ('course', 98), ('europe', 98), ('world', 98), ('opportunity', 95), ('take', 95), ('social', 92), ('member', 91), ('next', 91), ('better', 91), ('tax', 91), ('political', 90), (':', 90), ('children', 90), ('programme', 90), ('president', 89), ('much', 89), ('help', 88), ('meeting', 87), ('know', 87), ('set', 87), ('together', 87), ('enterprise', 86), ('prime', 84), ('since', 83), ('place', 83), ('best', 83)]\n"
     ]
    }
   ],
   "source": [
    "#2016\n",
    "count = 77\n",
    "speech_string_2016 = speech_string_2016.lower()\n",
    "words_2016 = word_tokenize(speech_string_2016)\n",
    "\n",
    "print(\"There were %d speeches in 2016 with %d words with an average of %d per speech\" % (count, len(words_2016), len(words_2016)/(count)))\n",
    "print()\n",
    "\n",
    "words_2016 = [w for w in words_2016 if not w in stop_words]\n",
    "all_words_2016 = nltk.FreqDist(words_2016)\n",
    "\n",
    "print(\"There were %d speeches in 2016 with %d words with an average of %d per speech\" % (count, len(words_2016), len(words_2016)/(count)))\n",
    "print()\n",
    "\n",
    "print(all_words_2016.most_common(100))\n",
    "\n",
    "tracker_2016 = [count, len(words_2016), len(words_2016)/(count)]\n",
    "tracker.append(tracker_2016)"
   ]
  },
  {
   "cell_type": "code",
   "execution_count": 252,
   "metadata": {},
   "outputs": [
    {
     "name": "stdout",
     "output_type": "stream",
     "text": [
      "There were 100 speeches in 2015 with 126372 words with an average of 1263 per speech\n",
      "\n",
      "There were 100 speeches in 2015 with 63064 words with an average of 630 per speech\n",
      "\n",
      "[('ireland', 902), ('government', 485), ('new', 482), ('jobs', 480), ('people', 465), ('irish', 405), ('work', 360), ('also', 316), ('plan', 289), ('recovery', 280), ('year', 279), ('economic', 249), ('european', 227), ('–', 224), ('economy', 204), ('support', 198), ('eu', 190), ('investment', 181), ('years', 179), ('first', 178), ('many', 175), ('country', 174), ('today', 162), ('public', 160), ('growth', 157), ('tax', 157), ('last', 155), ('agreement', 155), ('would', 150), ('northern', 148), ('continue', 147), ('one', 146), ('‘', 146), ('time', 145), ('minister', 142), ('make', 141), ('across', 140), ('job', 138), ('sector', 138), ('world', 136), ('like', 136), ('business', 134), ('action', 130), ('taoiseach', 128), ('must', 128), ('families', 128), ('know', 127), ('need', 125), ('part', 125), ('future', 123), ('national', 121), ('strategy', 120), ('enterprise', 120), ('council', 119), ('want', 119), ('working', 117), ('important', 116), ('international', 114), ('good', 113), ('development', 112), ('next', 111), ('best', 108), ('including', 106), ('help', 104), ('companies', 102), ('since', 100), ('well', 99), ('made', 99), ('services', 99), ('rate', 98), ('house', 97), ('see', 97), ('full', 97), ('sustainable', 96), ('ensure', 94), ('every', 94), ('take', 93), ('great', 93), ('local', 93), ('dublin', 92), ('number', 91), ('way', 91), ('place', 90), ('significant', 89), ('political', 89), ('back', 88), ('create', 88), ('union', 87), ('still', 87), ('strong', 87), ('progress', 86), ('commission', 86), ('kenny', 86), ('pay', 85), ('programme', 85), ('get', 85), ('global', 85), ('home', 85), ('process', 84), ('enda', 84)]\n"
     ]
    }
   ],
   "source": [
    "#2015\n",
    "count = 100\n",
    "speech_string_2015 = speech_string_2015.lower()\n",
    "words_2015 = word_tokenize(speech_string_2015)\n",
    "\n",
    "print(\"There were %d speeches in 2015 with %d words with an average of %d per speech\" % (count, len(words_2015), len(words_2015)/(count)))\n",
    "print()\n",
    "\n",
    "words_2015 = [w for w in words_2015 if not w in stop_words]\n",
    "all_words_2015 = nltk.FreqDist(words_2015)\n",
    "\n",
    "print(\"There were %d speeches in 2015 with %d words with an average of %d per speech\" % (count, len(words_2015), len(words_2015)/(count)))\n",
    "print()\n",
    "\n",
    "print(all_words_2015.most_common(100))\n",
    "\n",
    "tracker_2015 = [count, len(words_2015), len(words_2015)/(count)]\n",
    "tracker.append(tracker_2015)"
   ]
  },
  {
   "cell_type": "code",
   "execution_count": 253,
   "metadata": {},
   "outputs": [
    {
     "name": "stdout",
     "output_type": "stream",
     "text": [
      "There were 62 speeches in 2014 with 81514 words with an average of 1314 per speech\n",
      "\n",
      "There were 62 speeches in 2014 with 40806 words with an average of 658 per speech\n",
      "\n",
      "[('ireland', 515), ('government', 318), ('new', 307), ('people', 255), ('jobs', 239), ('also', 195), ('irish', 182), ('work', 181), ('plan', 178), ('economic', 156), ('year', 153), ('public', 153), ('recovery', 140), ('country', 137), ('economy', 136), ('investment', 132), ('european', 124), ('today', 122), ('years', 117), ('last', 117), ('sector', 117), ('one', 116), ('would', 108), ('first', 107), ('make', 104), ('time', 103), ('support', 97), ('international', 96), ('need', 93), ('business', 93), ('many', 92), ('know', 92), ('(', 91), (')', 91), ('world', 90), ('eu', 89), ('national', 89), ('state', 86), ('taoiseach', 85), ('services', 84), ('next', 83), ('tax', 82), ('growth', 81), ('part', 81), ('important', 80), ('‘', 80), ('minister', 80), ('council', 78), ('across', 78), ('companies', 78), ('see', 76), ('europe', 74), ('back', 73), ('good', 72), ('must', 71), ('reform', 71), ('week', 70), ('–', 70), ('better', 70), ('action', 69), ('get', 69), ('financial', 69), ('commission', 68), ('system', 68), ('working', 67), ('made', 67), ('help', 67), ('construction', 67), ('service', 66), ('local', 66), ('best', 65), ('rate', 64), ('like', 63), ('say', 63), ('every', 62), ('health', 62), ('job', 61), ('water', 61), (':', 60), ('number', 60), ('strategy', 60), ('well', 60), ('children', 59), ('global', 57), ('development', 57), ('right', 57), ('past', 56), ('small', 56), ('major', 56), ('want', 56), ('progress', 55), ('way', 55), ('course', 54), ('already', 54), ('much', 54), ('continue', 54), ('future', 53), ('programme', 53), ('ensure', 53), ('believe', 53)]\n"
     ]
    }
   ],
   "source": [
    "#2014\n",
    "count = 62\n",
    "speech_string_2014 = speech_string_2014.lower()\n",
    "words_2014 = word_tokenize(speech_string_2014)\n",
    "\n",
    "print(\"There were %d speeches in 2014 with %d words with an average of %d per speech\" % (count, len(words_2014), len(words_2014)/(count)))\n",
    "print()\n",
    "\n",
    "words_2014 = [w for w in words_2014 if not w in stop_words]\n",
    "all_words_2014 = nltk.FreqDist(words_2014)\n",
    "\n",
    "print(\"There were %d speeches in 2014 with %d words with an average of %d per speech\" % (count, len(words_2014), len(words_2014)/(count)))\n",
    "print()\n",
    "\n",
    "print(all_words_2014.most_common(100))\n",
    "\n",
    "tracker_2014 = [count, len(words_2014), len(words_2014)/(count)]\n",
    "tracker.append(tracker_2014)"
   ]
  },
  {
   "cell_type": "code",
   "execution_count": 19,
   "metadata": {},
   "outputs": [],
   "source": [
    "#2013\n",
    "# count = 3\n",
    "# speech_string_2013 = speech_string_2013.lower()\n",
    "# words_2013 = word_tokenize(speech_string_2013)\n",
    "\n",
    "# print(\"There were %d speeches in 2013 with %d words with an average of %d per speech\" % (count, len(words_2013), len(words_2013)/(count)))\n",
    "# print()\n",
    "\n",
    "# words_2013 = [w for w in words_2013 if not w in stop_words]\n",
    "# all_words_2013 = nltk.FreqDist(words_2013)\n",
    "\n",
    "# print(\"There were %d speeches in 2013 with %d words with an average of %d per speech\" % (count, len(words_2013), len(words_2013)/(count)))\n",
    "# print()\n",
    "\n",
    "# print(all_words_2013.most_common(100))\n",
    "# print()\n",
    "# print(all_words_2013[\"abortion\"])\n",
    "# print(all_words_2013[\"recession\"])\n",
    "# recession_2013 = all_words_2013[\"recession\"]/len(words_2013)*100\n",
    "# print(recession_2013)\n",
    "# print(all_words_2013[\"bailout\"])\n",
    "# print()\n",
    "# print(all_words_2013[\"brexit\"])"
   ]
  },
  {
   "cell_type": "code",
   "execution_count": 20,
   "metadata": {},
   "outputs": [],
   "source": [
    "#2013-19 combined\n",
    "# count = 368\n",
    "# speech_string_2013_19 = speech_string_2013_19.lower()\n",
    "# words_2013_19 = word_tokenize(speech_string_2013_19)\n",
    "\n",
    "# print(\"There were %d speeches in 2013-19 with %d words with an average of %d per speech\" % (count, len(words_2013_19), len(words_2013_19)/(count)))\n",
    "# print()\n",
    "\n",
    "# words_2013_19 = [w for w in words_2013_19 if not w in stop_words]\n",
    "# all_words_2013_19 = nltk.FreqDist(words_2013_19)\n",
    "\n",
    "# print(\"There were %d speeches in 2013-19 with %d words with an average of %d per speech\" % (count, len(words_2013_19), len(words_2013_19)/(count)))\n",
    "# print()\n",
    "\n",
    "# print(all_words_2013_19.most_common(100))\n",
    "# print(all_words_2013_19[\"tiger\"])\n",
    "# print(all_words_2013_19[\"brexit\"])"
   ]
  },
  {
   "cell_type": "code",
   "execution_count": 21,
   "metadata": {},
   "outputs": [],
   "source": [
    "speech_list = []"
   ]
  },
  {
   "cell_type": "markdown",
   "metadata": {},
   "source": [
    "# 2012 Speeches"
   ]
  },
  {
   "cell_type": "code",
   "execution_count": 22,
   "metadata": {},
   "outputs": [
    {
     "name": "stdout",
     "output_type": "stream",
     "text": [
      "44 speeches in 2012\n"
     ]
    }
   ],
   "source": [
    "base_url = \"https://www.taoiseach.gov.ie/eng/News/Archives/2012/Taoiseach's_Speeches_2012?pageNumber=\"\n",
    "speech_string_2012 = \"\"\n",
    "\n",
    "count = 1\n",
    "for page in range(1,6):\n",
    "    r = requests.get(base_url + str(page))\n",
    "    c = r.content\n",
    "    soup = BeautifulSoup(c, \"html.parser\")\n",
    "    all = soup.find_all(\"span\",{\"class\":\"ItemName\"})\n",
    "    for a in all:\n",
    "        r = requests.get(\"https://www.taoiseach.gov.ie\" + a.find(\"a\")[\"href\"])\n",
    "        c = r.content\n",
    "        \n",
    "        soup = BeautifulSoup(c, \"html.parser\")\n",
    "        all = soup.find(\"div\", {\"class\":\"contentSub\"}).text\n",
    "        all = all.replace(\"var mapOverlayUrl = '';\",\"\")\n",
    "        \n",
    "#         with open(\"C:/Users/Johnny/Desktop/Data Science/Project/speeches/2012/2012_speech_\" + str(count) + \".txt\", \"w\", encoding=\"utf-8\") as out_file:\n",
    "#             out_file.write(all)\n",
    "        count = count + 1\n",
    "        speech_string_2012 += all\n",
    "        item = (word_tokenize(all), \"fg\")\n",
    "        speech_list.append(item)\n",
    "        \n",
    "#print(speech_string_2012)\n",
    "print(str(count - 1) + \" speeches in 2012\")"
   ]
  },
  {
   "cell_type": "code",
   "execution_count": 254,
   "metadata": {},
   "outputs": [
    {
     "name": "stdout",
     "output_type": "stream",
     "text": [
      "There were 44 speeches in 2012 with 69677 words with an average of 1583 per speech\n",
      "\n",
      "There were 44 speeches in 2012 with 34954 words with an average of 794 per speech\n",
      "\n",
      "[('ireland', 582), ('government', 276), ('irish', 268), ('european', 241), ('people', 233), ('new', 208), ('economic', 204), ('also', 185), ('growth', 177), ('work', 165), ('jobs', 161), ('year', 150), ('council', 138), ('country', 118), ('important', 115), ('last', 115), ('investment', 109), ('international', 107), ('europe', 104), ('many', 104), ('public', 103), ('support', 101), ('would', 100), ('economy', 99), ('today', 98), ('world', 98), ('business', 97), ('one', 96), ('programme', 91), ('need', 90), ('eu', 88), ('meeting', 86), ('first', 86), ('time', 84), ('services', 84), ('financial', 83), ('president', 82), ('recovery', 79), ('plan', 77), ('continue', 77), ('years', 75), ('future', 72), (':', 71), ('made', 71), ('market', 71), ('make', 70), ('member', 69), ('national', 69), ('union', 68), ('including', 67), ('well', 67), ('sector', 67), ('companies', 67), ('strong', 65), ('ensure', 65), ('development', 65), ('progress', 65), ('working', 65), ('crisis', 64), ('key', 64), ('job', 64), ('energy', 64), ('best', 63), ('treaty', 63), ('across', 63), ('creation', 61), ('part', 60), ('reform', 60), ('like', 59), ('china', 59), ('action', 58), ('want', 58), ('issues', 56), ('social', 56), ('minister', 56), ('taoiseach', 55), ('employment', 55), ('week', 54), ('states', 54), ('great', 54), ('know', 54), ('level', 54), ('industry', 54), ('way', 54), ('opportunity', 53), ('welcome', 52), ('take', 51), ('forward', 51), ('process', 51), ('together', 51), ('change', 51), ('potential', 51), ('place', 50), ('policy', 50), ('recent', 50), ('role', 50), ('back', 50), ('global', 50), ('budget', 49), ('stability', 49)]\n"
     ]
    }
   ],
   "source": [
    "count = 44\n",
    "speech_string_2012 = speech_string_2012.lower()\n",
    "words_2012 = word_tokenize(speech_string_2012)\n",
    "\n",
    "print(\"There were %d speeches in 2012 with %d words with an average of %d per speech\" % (count, len(words_2012), len(words_2012)/(count)))\n",
    "print()\n",
    "\n",
    "words_2012 = [w for w in words_2012 if not w in stop_words]\n",
    "all_words_2012 = nltk.FreqDist(words_2012)\n",
    "\n",
    "print(\"There were %d speeches in 2012 with %d words with an average of %d per speech\" % (count, len(words_2012), len(words_2012)/(count)))\n",
    "print()\n",
    "\n",
    "print(all_words_2012.most_common(100))\n",
    "\n",
    "tracker_2012 = [count, len(words_2012), len(words_2012)/(count)]\n",
    "tracker.append(tracker_2012)"
   ]
  },
  {
   "cell_type": "markdown",
   "metadata": {},
   "source": [
    "# 2011 Speeches\n"
   ]
  },
  {
   "cell_type": "code",
   "execution_count": 24,
   "metadata": {},
   "outputs": [
    {
     "name": "stdout",
     "output_type": "stream",
     "text": [
      "38 speeches in 2011\n"
     ]
    }
   ],
   "source": [
    "base_url = \"https://www.taoiseach.gov.ie/eng/News/Archives/2011/Taoiseach's_Speeches_2011?pageNumber=\"\n",
    "speech_string_2011 = \"\"\n",
    "\n",
    "count = 1\n",
    "for page in range(1,5):\n",
    "    r = requests.get(base_url + str(page))\n",
    "    c = r.content\n",
    "    soup = BeautifulSoup(c, \"html.parser\")\n",
    "    all = soup.find_all(\"span\",{\"class\":\"ItemName\"})\n",
    "    for a in all:\n",
    "        r = requests.get(\"https://www.taoiseach.gov.ie\" + a.find(\"a\")[\"href\"])\n",
    "        c = r.content\n",
    "        \n",
    "        soup = BeautifulSoup(c, \"html.parser\")\n",
    "        all = soup.find(\"div\", {\"class\":\"contentSub\"}).text\n",
    "        all = all.replace(\"var mapOverlayUrl = '';\",\"\")\n",
    "        \n",
    "#         with open(\"C:/Users/Johnny/Desktop/Data Science/Project/speeches/2011/2011_speech_\" + str(count) + \".txt\", \"w\", encoding=\"utf-8\") as out_file:\n",
    "#             out_file.write(all)\n",
    "        count = count + 1\n",
    "        speech_string_2011 += all\n",
    "        item = (word_tokenize(all), \"fg\")\n",
    "        speech_list.append(item)\n",
    "        \n",
    "#print(speech_string_2011)\n",
    "print(str(count - 1) + \" speeches in 2011\")"
   ]
  },
  {
   "cell_type": "code",
   "execution_count": 255,
   "metadata": {},
   "outputs": [
    {
     "name": "stdout",
     "output_type": "stream",
     "text": [
      "There were 38 speeches in 2011 with 63747 words with an average of 1677 per speech\n",
      "\n",
      "There were 38 speeches in 2011 with 31126 words with an average of 819 per speech\n",
      "\n",
      "[('ireland', 339), ('...', 277), ('government', 241), ('people', 187), ('european', 185), ('also', 180), ('new', 180), ('economic', 150), ('irish', 141), ('council', 133), ('work', 132), ('public', 111), ('country', 111), ('would', 104), ('programme', 99), ('business', 99), ('meeting', 95), ('national', 95), ('need', 92), ('first', 86), ('economy', 82), ('many', 80), ('growth', 77), ('must', 76), ('jobs', 76), ('member', 74), ('state', 74), ('states', 73), ('support', 73), ('energy', 72), ('make', 72), ('area', 71), ('time', 71), ('house', 69), ('euro', 68), ('one', 68), ('services', 67), (\"'\", 67), ('made', 65), ('today', 65), ('measures', 64), ('president', 64), ('including', 63), ('international', 63), ('important', 63), ('part', 63), (':', 63), ('system', 63), ('take', 62), ('future', 62), ('ensure', 62), ('world', 62), ('last', 62), ('union', 61), ('years', 61), ('like', 58), ('financial', 56), ('working', 55), ('sector', 55), ('good', 54), ('taoiseach', 53), ('year', 53), ('know', 53), ('agreed', 53), ('..', 53), ('much', 52), ('week', 52), ('continue', 52), ('change', 52), ('within', 51), ('report', 51), ('policy', 50), ('great', 50), ('place', 50), ('forward', 49), ('banking', 49), ('way', 49), ('crisis', 47), ('across', 47), ('recent', 46), ('next', 45), ('best', 45), ('situation', 44), ('progress', 44), ('committed', 44), ('want', 44), ('day', 44), ('service', 44), ('political', 44), ('agreement', 43), ('welcome', 43), ('possible', 43), ('already', 42), ('two', 42), ('commission', 42), ('minister', 42), ('life', 42), ('set', 41), ('confidence', 41), ('process', 41)]\n"
     ]
    }
   ],
   "source": [
    "count = 38\n",
    "speech_string_2011 = speech_string_2011.lower()\n",
    "words_2011 = word_tokenize(speech_string_2011)\n",
    "\n",
    "print(\"There were %d speeches in 2011 with %d words with an average of %d per speech\" % (count, len(words_2011), len(words_2011)/(count)))\n",
    "print()\n",
    "\n",
    "words_2011 = [w for w in words_2011 if not w in stop_words]\n",
    "all_words_2011 = nltk.FreqDist(words_2011)\n",
    "\n",
    "print(\"There were %d speeches in 2011 with %d words with an average of %d per speech\" % (count, len(words_2011), len(words_2011)/(count)))\n",
    "print()\n",
    "\n",
    "print(all_words_2011.most_common(100))\n",
    "\n",
    "tracker_2011 = [count, len(words_2011), len(words_2011)/(count)]\n",
    "tracker.append(tracker_2011)"
   ]
  },
  {
   "cell_type": "markdown",
   "metadata": {},
   "source": [
    "# 2010 Speeches"
   ]
  },
  {
   "cell_type": "code",
   "execution_count": 26,
   "metadata": {},
   "outputs": [
    {
     "name": "stdout",
     "output_type": "stream",
     "text": [
      "45 speeches in 2010\n"
     ]
    }
   ],
   "source": [
    "base_url = \"https://www.taoiseach.gov.ie/eng/News/Archives/2010/Taoiseach's_Speeches_2010?pageNumber=\"\n",
    "speech_string_2010 = \"\"\n",
    "\n",
    "count = 1\n",
    "for page in range(1,6):\n",
    "    r = requests.get(base_url + str(page))\n",
    "    c = r.content\n",
    "    soup = BeautifulSoup(c, \"html.parser\")\n",
    "    all = soup.find_all(\"span\",{\"class\":\"ItemName\"})\n",
    "    for a in all:\n",
    "        r = requests.get(\"https://www.taoiseach.gov.ie\" + a.find(\"a\")[\"href\"])\n",
    "        c = r.content\n",
    "        \n",
    "        soup = BeautifulSoup(c, \"html.parser\")\n",
    "        all = soup.find(\"div\", {\"class\":\"contentSub\"}).text\n",
    "        all = all.replace(\"var mapOverlayUrl = '';\",\"\")\n",
    "        \n",
    "#         with open(\"C:/Users/Johnny/Desktop/Data Science/Project/speeches/2010/2010_speech_\" + str(count) + \".txt\", \"w\", encoding=\"utf-8\") as out_file:\n",
    "#             out_file.write(all)\n",
    "        count = count + 1\n",
    "        speech_string_2010 += all\n",
    "        item = (word_tokenize(all), \"ff\")\n",
    "        speech_list.append(item)\n",
    "        \n",
    "#print(speech_string_2010)\n",
    "print(str(count - 1) + \" speeches in 2010\")"
   ]
  },
  {
   "cell_type": "code",
   "execution_count": 256,
   "metadata": {},
   "outputs": [
    {
     "name": "stdout",
     "output_type": "stream",
     "text": [
      "There were 46 speeches in 2010 with 64089 words with an average of 1393 per speech\n",
      "\n",
      "There were 46 speeches in 2010 with 32328 words with an average of 702 per speech\n",
      "\n",
      "[('ireland', 352), ('new', 233), ('government', 194), ('people', 165), ('irish', 163), ('also', 161), ('economic', 150), ('economy', 145), ('public', 116), ('would', 115), ('innovation', 113), ('companies', 110), ('today', 109), ('investment', 107), ('important', 105), ('like', 97), ('many', 97), ('business', 97), ('future', 97), ('services', 93), ('growth', 91), ('jobs', 90), ('year', 90), ('work', 88), ('years', 84), ('development', 82), ('sector', 82), ('research', 81), ('need', 80), ('international', 74), ('well', 74), ('europe', 73), ('country', 73), ('european', 72), ('support', 72), ('great', 71), ('national', 69), ('time', 69), ('part', 68), ('education', 67), ('world', 66), ('enterprise', 65), ('one', 65), ('programme', 65), ('made', 64), ('best', 64), ('place', 63), ('service', 61), ('global', 60), ('last', 60), ('significant', 60), ('strategy', 59), ('key', 59), ('go', 58), ('taoiseach', 57), ('agus', 57), (':', 56), ('level', 56), ('confidence', 55), ('system', 55), ('ensure', 54), ('recovery', 54), ('centre', 54), ('capital', 53), ('banking', 53), ('–', 53), ('know', 52), ('must', 52), ('na', 51), ('including', 50), ('make', 49), ('report', 49), ('course', 49), ('two', 48), ('local', 48), ('across', 48), ('opportunity', 48), ('believe', 48), ('help', 48), ('see', 48), ('good', 47), ('industry', 47), ('energy', 47), ('way', 46), ('tourism', 46), ('brian', 45), ('take', 45), ('success', 45), ('challenges', 45), ('potential', 44), ('major', 44), ('community', 44), ('cowen', 43), ('first', 43), ('strong', 43), ('area', 43), ('working', 43), ('continue', 43), ('ar', 43), ('set', 42)]\n"
     ]
    }
   ],
   "source": [
    "count = 46\n",
    "speech_string_2010 = speech_string_2010.lower()\n",
    "words_2010 = word_tokenize(speech_string_2010)\n",
    "\n",
    "print(\"There were %d speeches in 2010 with %d words with an average of %d per speech\" % (count, len(words_2010), len(words_2010)/(count)))\n",
    "print()\n",
    "\n",
    "words_2010 = [w for w in words_2010 if not w in stop_words]\n",
    "all_words_2010 = nltk.FreqDist(words_2010)\n",
    "\n",
    "print(\"There were %d speeches in 2010 with %d words with an average of %d per speech\" % (count, len(words_2010), len(words_2010)/(count)))\n",
    "print()\n",
    "\n",
    "print(all_words_2010.most_common(100))\n",
    "\n",
    "tracker_2010 = [count, len(words_2010), len(words_2010)/(count)]\n",
    "tracker.append(tracker_2010)"
   ]
  },
  {
   "cell_type": "markdown",
   "metadata": {},
   "source": [
    "# 2009 Speeches"
   ]
  },
  {
   "cell_type": "code",
   "execution_count": 28,
   "metadata": {},
   "outputs": [
    {
     "name": "stdout",
     "output_type": "stream",
     "text": [
      "41 speeches in 2009\n"
     ]
    }
   ],
   "source": [
    "base_url = \"https://www.taoiseach.gov.ie/eng/News/Archives/2009/Taoiseach's_Speeches_2009?pageNumber=\"\n",
    "speech_string_2009 = \"\"\n",
    "\n",
    "count = 1\n",
    "for page in range(1,6):\n",
    "    r = requests.get(base_url + str(page))\n",
    "    c = r.content\n",
    "    soup = BeautifulSoup(c, \"html.parser\")\n",
    "    all = soup.find_all(\"span\",{\"class\":\"ItemName\"})\n",
    "    for a in all:\n",
    "        r = requests.get(\"https://www.taoiseach.gov.ie\" + a.find(\"a\")[\"href\"])\n",
    "        c = r.content\n",
    "        \n",
    "        soup = BeautifulSoup(c, \"html.parser\")\n",
    "        all = soup.find(\"div\", {\"class\":\"contentSub\"}).text\n",
    "        all = all.replace(\"var mapOverlayUrl = '';\",\"\")\n",
    "        \n",
    "#         with open(\"C:/Users/Johnny/Desktop/Data Science/Project/speeches/2009/2009_speech_\" + str(count) + \".txt\", \"w\", encoding=\"utf-8\") as out_file:\n",
    "#             out_file.write(all)\n",
    "        count = count + 1\n",
    "        speech_string_2009 += all\n",
    "        item = (word_tokenize(all), \"ff\")\n",
    "        speech_list.append(item)\n",
    "        \n",
    "        \n",
    "#print(speech_string_2009)\n",
    "print(str(count - 1) + \" speeches in 2009\")"
   ]
  },
  {
   "cell_type": "code",
   "execution_count": 257,
   "metadata": {},
   "outputs": [
    {
     "name": "stdout",
     "output_type": "stream",
     "text": [
      "There were 41 speeches in 2009 with 64672 words with an average of 1577 per speech\n",
      "\n",
      "There were 41 speeches in 2009 with 32483 words with an average of 792 per speech\n",
      "\n",
      "[('ireland', 326), ('new', 235), ('economic', 181), ('government', 178), ('also', 177), ('economy', 169), ('irish', 168), ('people', 141), ('public', 134), ('business', 112), ('work', 111), ('many', 109), ('support', 103), ('years', 101), ('agus', 101), ('jobs', 99), ('would', 96), ('future', 93), ('companies', 93), ('international', 88), ('services', 88), ('development', 87), ('investment', 86), ('must', 85), ('today', 83), ('european', 80), ('global', 79), ('national', 77), ('one', 77), ('service', 75), ('innovation', 75), ('council', 75), ('na', 74), ('need', 73), ('year', 72), ('social', 71), ('great', 71), ('union', 71), ('world', 70), ('first', 68), ('time', 67), ('well', 66), ('report', 66), ('country', 65), ('enterprise', 65), ('make', 65), ('go', 65), ('smart', 64), ('want', 64), ('research', 60), ('way', 59), ('state', 58), ('difficult', 57), ('provide', 57), ('tax', 57), ('help', 57), (':', 57), ('part', 57), ('growth', 57), ('sector', 57), ('know', 57), ('like', 56), ('children', 56), ('clear', 55), ('budget', 54), ('made', 54), ('crisis', 54), ('ar', 54), ('confidence', 52), ('continue', 52), ('ensure', 52), ('education', 52), ('last', 51), ('important', 51), ('key', 50), ('across', 50), ('including', 48), ('significant', 48), ('much', 48), ('seo', 48), ('take', 47), ('taoiseach', 46), ('recovery', 46), ('current', 46), ('level', 45), ('energy', 45), ('institutions', 45), ('financial', 44), ('forward', 44), ('employment', 44), ('next', 44), ('minister', 44), ('best', 44), ('challenges', 44), ('europe', 43), ('together', 43), ('recent', 42), ('high', 42), ('partnership', 42), ('strategy', 41)]\n"
     ]
    }
   ],
   "source": [
    "count = 41\n",
    "speech_string_2009 = speech_string_2009.lower()\n",
    "words_2009 = word_tokenize(speech_string_2009)\n",
    "\n",
    "print(\"There were %d speeches in 2009 with %d words with an average of %d per speech\" % (count, len(words_2009), len(words_2009)/(count)))\n",
    "print()\n",
    "\n",
    "words_2009 = [w for w in words_2009 if not w in stop_words]\n",
    "all_words_2009 = nltk.FreqDist(words_2009)\n",
    "\n",
    "print(\"There were %d speeches in 2009 with %d words with an average of %d per speech\" % (count, len(words_2009), len(words_2009)/(count)))\n",
    "print()\n",
    "\n",
    "print(all_words_2009.most_common(100))\n",
    "\n",
    "tracker_2009 = [count, len(words_2009), len(words_2009)/(count)]\n",
    "tracker.append(tracker_2009)\n"
   ]
  },
  {
   "cell_type": "markdown",
   "metadata": {},
   "source": [
    "# 2008 Speeches"
   ]
  },
  {
   "cell_type": "code",
   "execution_count": 30,
   "metadata": {},
   "outputs": [],
   "source": [
    "# base_url = \"https://www.taoiseach.gov.ie/eng/News/Archives/2008/Taoiseach's_Speeches_2008?pageNumber=\"\n",
    "# speech_string_2008 = \"\"\n",
    "\n",
    "# count = 1\n",
    "# for page in range(1,6):\n",
    "#     r = requests.get(base_url + str(page))\n",
    "#     c = r.content\n",
    "#     soup = BeautifulSoup(c, \"html.parser\")\n",
    "#     all = soup.find_all(\"span\",{\"class\":\"ItemName\"})\n",
    "#     for a in all:\n",
    "#         r = requests.get(\"https://www.taoiseach.gov.ie\" + a.find(\"a\")[\"href\"])\n",
    "#         c = r.content\n",
    "        \n",
    "#         soup = BeautifulSoup(c, \"html.parser\")\n",
    "#         all = soup.find(\"div\", {\"class\":\"contentSub\"}).text\n",
    "#         all = all.replace(\"var mapOverlayUrl = '';\",\"\")\n",
    "        \n",
    "# #         with open(\"C:/Users/Johnny/Desktop/Data Science/Project/speeches/2008/2008_speech_\" + str(count) + \".txt\", \"w\", encoding=\"utf-8\") as out_file:\n",
    "# #             out_file.write(all)\n",
    "#         count = count + 1\n",
    "        \n",
    "#         speech_string_2008 += all\n",
    "        \n",
    "# #print(speech_string_2008)\n",
    "# print(str(count - 1) + \" speeches in 2008\")"
   ]
  },
  {
   "cell_type": "code",
   "execution_count": 31,
   "metadata": {},
   "outputs": [],
   "source": [
    "# count = 2\n",
    "# speech_string_2008 = speech_string_2008.lower()\n",
    "# words_2008 = word_tokenize(speech_string_2008)\n",
    "\n",
    "# print(\"There were %d speeches in 2008 with %d words with an average of %d per speech\" % (count, len(words_2008), len(words_2008)/(count)))\n",
    "# print()\n",
    "\n",
    "# words_2008 = [w for w in words_2008 if not w in stop_words]\n",
    "# all_words_2008 = nltk.FreqDist(words_2008)\n",
    "\n",
    "# print(\"There were %d speeches in 2008 with %d words with an average of %d per speech\" % (count, len(words_2008), len(words_2008)/(count)))\n",
    "# print()\n",
    "\n",
    "# print(all_words_2008.most_common(100))\n",
    "# print(all_words_2008[\"tiger\"])\n",
    "# print(all_words_2008[\"celtic\"])\n",
    "# print()\n",
    "# print(all_words_2008[\"abortion\"])\n",
    "# print(all_words_2008[\"recession\"])\n",
    "# print(all_words_2008[\"bailout\"])\n",
    "# print()"
   ]
  },
  {
   "cell_type": "markdown",
   "metadata": {},
   "source": [
    "# 2007 & 2006 unavailable"
   ]
  },
  {
   "cell_type": "markdown",
   "metadata": {},
   "source": [
    "# 2005 Speeches"
   ]
  },
  {
   "cell_type": "code",
   "execution_count": 32,
   "metadata": {},
   "outputs": [
    {
     "name": "stdout",
     "output_type": "stream",
     "text": [
      "152 speeches in 2005\n"
     ]
    }
   ],
   "source": [
    "base_url = \"https://www.taoiseach.gov.ie/eng/News/Archives/2005/Taoiseach's_Speeches_Archive_2005/?pageNumber=\"\n",
    "speech_string_2005 = \"\"\n",
    "\n",
    "count = 1\n",
    "for page in range(1,17):\n",
    "    r = requests.get(base_url + str(page))\n",
    "    c = r.content\n",
    "    soup = BeautifulSoup(c, \"html.parser\")\n",
    "    all = soup.find_all(\"span\",{\"class\":\"ItemName\"})\n",
    "    for a in all:\n",
    "        r = requests.get(\"https://www.taoiseach.gov.ie\" + a.find(\"a\")[\"href\"])\n",
    "        c = r.content\n",
    "        \n",
    "        soup = BeautifulSoup(c, \"html.parser\")\n",
    "        all = soup.find(\"div\", {\"class\":\"contentSub\"}).text\n",
    "        all = all.replace(\"var mapOverlayUrl = '';\",\"\")\n",
    "        \n",
    "#         with open(\"C:/Users/Johnny/Desktop/Data Science/Project/speeches/2005/2005_speech_\" + str(count) + \".txt\", \"w\", encoding=\"utf-8\") as out_file:\n",
    "#             out_file.write(all)\n",
    "        count = count + 1\n",
    "        speech_string_2005 += all\n",
    "        item = (word_tokenize(all), \"ff\")\n",
    "        speech_list.append(item)\n",
    "        \n",
    "        \n",
    "#print(speech_string_2005)\n",
    "print(str(count - 1) + \" speeches in 2005\")"
   ]
  },
  {
   "cell_type": "code",
   "execution_count": 258,
   "metadata": {},
   "outputs": [
    {
     "name": "stdout",
     "output_type": "stream",
     "text": [
      "There were 152 speeches in 2005 with 193603 words with an average of 1273 per speech\n",
      "\n",
      "There were 152 speeches in 2005 with 93519 words with an average of 615 per speech\n",
      "\n",
      "[('ireland', 734), ('people', 591), ('also', 549), ('new', 542), ('–', 441), ('european', 439), ('government', 437), ('years', 432), ('development', 429), ('today', 429), ('many', 393), ('irish', 365), ('would', 357), ('work', 356), ('eu', 323), ('important', 316), ('one', 307), ('social', 307), ('year', 304), ('national', 290), ('union', 285), ('europe', 276), ('know', 263), ('like', 257), ('time', 257), ('future', 254), ('dublin', 251), ('must', 249), ('support', 240), ('economic', 231), ('need', 228), ('success', 226), ('public', 210), ('great', 209), ('services', 201), ('recent', 200), ('community', 194), ('well', 194), ('world', 193), ('business', 191), ('council', 186), ('level', 185), ('delighted', 184), ('economy', 183), ('commitment', 177), ('society', 175), ('growth', 175), ('country', 173), ('see', 173), ('made', 172), ('good', 171), ('ensure', 171), ('last', 170), ('place', 170), ('states', 168), ('centre', 165), ('life', 163), ('particular', 161), ('partnership', 161), ('research', 158), ('continue', 157), ('much', 155), ('role', 155), ('programme', 154), ('service', 154), ('needs', 154), ('local', 154), ('million', 151), ('working', 150), ('constitution', 150), ('part', 148), ('agreement', 148), ('city', 147), ('education', 147), ('international', 147), ('“', 144), ('however', 143), ('state', 143), ('member', 143), ('investment', 143), ('quality', 142), ('key', 142), ('best', 141), ('”', 140), ('area', 140), ('opportunity', 139), ('together', 139), ('first', 138), ('way', 138), ('particularly', 135), ('process', 134), ('sector', 134), ('forward', 133), ('health', 132), ('take', 130), ('past', 128), ('challenges', 128), ('progress', 128), ('clear', 128), ('children', 128)]\n"
     ]
    }
   ],
   "source": [
    "count = 152\n",
    "speech_string_2005 = speech_string_2005.lower()\n",
    "words_2005 = word_tokenize(speech_string_2005)\n",
    "\n",
    "print(\"There were %d speeches in 2005 with %d words with an average of %d per speech\" % (count, len(words_2005), len(words_2005)/(count)))\n",
    "print()\n",
    "\n",
    "words_2005 = [w for w in words_2005 if not w in stop_words]\n",
    "all_words_2005 = nltk.FreqDist(words_2005)\n",
    "print(\"There were %d speeches in 2005 with %d words with an average of %d per speech\" % (count, len(words_2005), len(words_2005)/(count)))\n",
    "print()\n",
    "\n",
    "print(all_words_2005.most_common(100))\n",
    "\n",
    "tracker_2005 = [count, len(words_2005), len(words_2005)/(count)]\n",
    "tracker.append(tracker_2005)"
   ]
  },
  {
   "cell_type": "markdown",
   "metadata": {},
   "source": [
    "# 2004 Speeches"
   ]
  },
  {
   "cell_type": "code",
   "execution_count": 34,
   "metadata": {},
   "outputs": [
    {
     "name": "stdout",
     "output_type": "stream",
     "text": [
      "30 speeches in 2004\n"
     ]
    }
   ],
   "source": [
    "base_url = \"https://www.taoiseach.gov.ie/eng/News/Archives/2004/Taoiseach's_Speeches_Archive_2004/?pageNumber=\"\n",
    "speech_string_2004 = \"\"\n",
    "\n",
    "count = 1\n",
    "for page in range(1,4):\n",
    "    r = requests.get(base_url + str(page))\n",
    "    c = r.content\n",
    "    soup = BeautifulSoup(c, \"html.parser\")\n",
    "    all = soup.find_all(\"span\",{\"class\":\"ItemName\"})\n",
    "    for a in all:\n",
    "        r = requests.get(\"https://www.taoiseach.gov.ie\" + a.find(\"a\")[\"href\"])\n",
    "        c = r.content\n",
    "        \n",
    "        soup = BeautifulSoup(c, \"html.parser\")\n",
    "        all = soup.find(\"div\", {\"class\":\"contentSub\"}).text\n",
    "        all = all.replace(\"var mapOverlayUrl = '';\",\"\")\n",
    "        \n",
    "#         with open(\"C:/Users/Johnny/Desktop/Data Science/Project/speeches/2004/2004_speech_\" + str(count) + \".txt\", \"w\", encoding=\"utf-8\") as out_file:\n",
    "#             out_file.write(all)\n",
    "        count = count + 1\n",
    "        \n",
    "        speech_string_2004 += all\n",
    "        item = (word_tokenize(all), \"ff\")\n",
    "        speech_list.append(item)\n",
    "        \n",
    "        \n",
    "#print(speech_string_2004)\n",
    "print(str(count - 1) + \" speeches in 2004\")"
   ]
  },
  {
   "cell_type": "code",
   "execution_count": 259,
   "metadata": {},
   "outputs": [
    {
     "name": "stdout",
     "output_type": "stream",
     "text": [
      "There were 30 speeches in 2004 with 63541 words with an average of 2118 per speech\n",
      "\n",
      "There were 30 speeches in 2004 with 30626 words with an average of 1020 per speech\n",
      "\n",
      "[('european', 350), ('union', 236), ('ireland', 217), ('new', 177), ('also', 172), ('work', 163), ('presidency', 159), ('people', 150), ('social', 147), ('government', 146), ('irish', 146), ('agreement', 133), ('economic', 125), ('council', 125), ('eu', 104), ('would', 102), ('europe', 102), ('years', 100), ('progress', 97), ('must', 97), ('time', 95), ('process', 88), ('last', 86), ('one', 85), ('year', 84), ('states', 84), ('growth', 80), ('services', 80), ('economy', 79), ('many', 79), ('forward', 79), ('member', 79), ('investment', 78), ('development', 78), ('today', 76), ('programme', 75), ('public', 75), ('good', 74), ('continue', 74), ('issues', 74), ('partnership', 73), ('support', 73), ('want', 73), ('employment', 72), ('future', 72), ('policy', 71), ('need', 70), ('agenda', 70), ('constitution', 69), ('important', 67), ('together', 67), ('peace', 66), ('key', 66), ('national', 64), ('ensure', 64), ('make', 64), ('world', 64), ('role', 61), ('commitment', 61), ('working', 61), ('believe', 59), ('security', 58), ('better', 57), ('partners', 56), ('focus', 56), ('first', 56), ('well', 54), ('way', 54), ('political', 54), ('international', 53), ('northern', 53), ('strategy', 52), ('set', 52), ('president', 52), ('minister', 51), ('real', 51), ('made', 51), ('community', 51), ('report', 51), ('challenges', 51), ('level', 50), ('effective', 50), ('society', 50), ('success', 49), ('may', 49), ('unions', 49), ('opportunity', 49), ('recent', 48), ('however', 48), ('citizens', 48), ('take', 48), ('place', 47), ('know', 47), ('state', 46), ('parliament', 46), ('full', 45), ('clear', 45), ('possible', 44), ('period', 43), ('particular', 43)]\n"
     ]
    }
   ],
   "source": [
    "count = 30\n",
    "speech_string_2004 = speech_string_2004.lower()\n",
    "words_2004 = word_tokenize(speech_string_2004)\n",
    "\n",
    "print(\"There were %d speeches in 2004 with %d words with an average of %d per speech\" % (count, len(words_2004), len(words_2004)/(count)))\n",
    "print()\n",
    "\n",
    "words_2004 = [w for w in words_2004 if not w in stop_words]\n",
    "all_words_2004 = nltk.FreqDist(words_2004)\n",
    "\n",
    "print(\"There were %d speeches in 2004 with %d words with an average of %d per speech\" % (count, len(words_2004), len(words_2004)/(count)))\n",
    "print()\n",
    "\n",
    "print(all_words_2004.most_common(100))\n",
    "\n",
    "tracker_2004 = [count, len(words_2004), len(words_2004)/(count)]\n",
    "tracker.append(tracker_2004)\n"
   ]
  },
  {
   "cell_type": "markdown",
   "metadata": {},
   "source": [
    "# 2003 Speeches"
   ]
  },
  {
   "cell_type": "code",
   "execution_count": 36,
   "metadata": {},
   "outputs": [
    {
     "name": "stdout",
     "output_type": "stream",
     "text": [
      "34 speeches in 2003\n"
     ]
    }
   ],
   "source": [
    "base_url = \"https://www.taoiseach.gov.ie/eng/News/Archives/2003/Taoiseach's_Speeches_Archive_2003/?pageNumber=\"\n",
    "speech_string_2003 = \"\"\n",
    "\n",
    "count = 1\n",
    "for page in range(1,5):\n",
    "    r = requests.get(base_url + str(page))\n",
    "    c = r.content\n",
    "    soup = BeautifulSoup(c, \"html.parser\")\n",
    "    all = soup.find_all(\"span\",{\"class\":\"ItemName\"})\n",
    "    for a in all:\n",
    "        try:\n",
    "            r = requests.get(\"https://www.taoiseach.gov.ie\" + a.find(\"a\")[\"href\"])\n",
    "            c = r.content\n",
    "\n",
    "            soup = BeautifulSoup(c, \"html.parser\")\n",
    "            all = soup.find(\"div\", {\"class\":\"contentSub\"}).text\n",
    "            all = all.replace(\"var mapOverlayUrl = '';\",\"\")\n",
    "\n",
    "#             with open(\"C:/Users/Johnny/Desktop/Data Science/Project/speeches/2003/2003_speech_\" + str(count) + \".txt\", \"w\", encoding=\"utf-8\") as out_file:\n",
    "#                 out_file.write(all)\n",
    "            count = count + 1\n",
    "            speech_string_2003 += all\n",
    "            item = (word_tokenize(all), \"ff\")\n",
    "            speech_list.append(item)\n",
    "            \n",
    "        except:\n",
    "            pass\n",
    "#print(speech_string_2003)\n",
    "print(str(count - 1) + \" speeches in 2003\")"
   ]
  },
  {
   "cell_type": "code",
   "execution_count": 260,
   "metadata": {},
   "outputs": [
    {
     "name": "stdout",
     "output_type": "stream",
     "text": [
      "There were 34 speeches in 2003 with 77505 words with an average of 2279 per speech\n",
      "\n",
      "There were 34 speeches in 2003 with 37587 words with an average of 1105 per speech\n",
      "\n",
      "[('ireland', 342), ('european', 306), ('also', 216), ('union', 211), ('government', 204), ('work', 186), ('people', 180), ('social', 179), ('economic', 171), ('council', 168), ('agreement', 154), ('development', 153), ('would', 152), ('irish', 151), ('new', 146), ('years', 128), ('must', 119), ('progress', 118), ('many', 116), ('national', 116), ('world', 110), ('international', 109), ('eu', 106), ('public', 105), ('united', 103), ('europe', 103), ('last', 101), ('states', 100), ('countries', 100), ('time', 99), ('issues', 97), ('need', 96), ('security', 95), ('partnership', 94), ('process', 92), ('clear', 91), ('policy', 89), ('good', 88), ('important', 87), ('support', 85), ('year', 83), ('made', 81), ('one', 81), ('together', 79), ('northern', 79), ('minister', 78), ('political', 78), ('part', 78), ('peace', 78), ('believe', 77), ('economy', 75), ('member', 74), ('governments', 74), ('full', 70), ('way', 70), ('trade', 69), ('particular', 68), ('want', 68), ('make', 68), ('well', 68), ('key', 67), ('investment', 66), ('ensure', 66), ('continue', 65), ('much', 64), ('two', 64), ('role', 63), ('recent', 63), ('change', 63), ('partners', 62), ('strong', 62), ('first', 62), ('report', 61), ('president', 60), ('country', 59), ('see', 58), ('presidency', 57), ('forward', 57), ('opportunity', 57), ('take', 57), ('nations', 57), ('real', 56), ('community', 56), ('number', 55), ('parties', 55), ('increase', 55), ('including', 54), ('treaty', 54), ('future', 54), ('great', 54), ('growth', 54), ('commitment', 54), ('society', 54), ('convention', 53), ('place', 53), ('increased', 53), ('issue', 52), ('agreed', 52), ('un', 52), ('committed', 52)]\n"
     ]
    }
   ],
   "source": [
    "count =34\n",
    "speech_string_2003 = speech_string_2003.lower()\n",
    "words_2003 = word_tokenize(speech_string_2003)\n",
    "\n",
    "print(\"There were %d speeches in 2003 with %d words with an average of %d per speech\" % (count, len(words_2003), len(words_2003)/(count)))\n",
    "print()\n",
    "\n",
    "words_2003 = [w for w in words_2003 if not w in stop_words]\n",
    "all_words_2003 = nltk.FreqDist(words_2003)\n",
    "\n",
    "print(\"There were %d speeches in 2003 with %d words with an average of %d per speech\" % (count, len(words_2003), len(words_2003)/(count)))\n",
    "print()\n",
    "\n",
    "print(all_words_2003.most_common(100))\n",
    "\n",
    "tracker_2003 = [count, len(words_2003), len(words_2003)/(count)]\n",
    "tracker.append(tracker_2003)"
   ]
  },
  {
   "cell_type": "markdown",
   "metadata": {},
   "source": [
    "# 2002 Speeches"
   ]
  },
  {
   "cell_type": "code",
   "execution_count": 38,
   "metadata": {},
   "outputs": [
    {
     "name": "stdout",
     "output_type": "stream",
     "text": [
      "73 speeches in 2002\n"
     ]
    }
   ],
   "source": [
    "base_url = \"https://www.taoiseach.gov.ie/eng/News/Archives/2002/Taoiseach's_Speeches_Archive_2002/?pageNumber=\"\n",
    "speech_string_2002 = \"\"\n",
    "\n",
    "count = 1\n",
    "for page in range(1,9):\n",
    "    r = requests.get(base_url + str(page))\n",
    "    c = r.content\n",
    "    soup = BeautifulSoup(c, \"html.parser\")\n",
    "    all = soup.find_all(\"span\",{\"class\":\"ItemName\"})\n",
    "    for a in all:\n",
    "        try:\n",
    "            r = requests.get(\"https://www.taoiseach.gov.ie\" + a.find(\"a\")[\"href\"])\n",
    "            c = r.content\n",
    "\n",
    "            soup = BeautifulSoup(c, \"html.parser\")\n",
    "            all = soup.find(\"div\", {\"class\":\"contentSub\"}).text\n",
    "            all = all.replace(\"var mapOverlayUrl = '';\",\"\")\n",
    "\n",
    "#             with open(\"C:/Users/Johnny/Desktop/Data Science/Project/speeches/2002/2002_speech_\" + str(count) + \".txt\", \"w\", encoding=\"utf-8\") as out_file:\n",
    "#                 out_file.write(all)\n",
    "            count = count + 1\n",
    "            speech_string_2002 += all\n",
    "            item = (word_tokenize(all), \"ff\")\n",
    "            speech_list.append(item)\n",
    "            \n",
    "        except:\n",
    "            pass\n",
    "#print(speech_string_2002)\n",
    "print(str(count - 1) + \" speeches in 2002\")"
   ]
  },
  {
   "cell_type": "code",
   "execution_count": 261,
   "metadata": {},
   "outputs": [
    {
     "name": "stdout",
     "output_type": "stream",
     "text": [
      "There were 73 speeches in 2002 with 93878 words with an average of 1286 per speech\n",
      "\n",
      "There were 73 speeches in 2002 with 45109 words with an average of 617 per speech\n",
      "\n",
      "[('ireland', 444), ('new', 364), ('people', 347), ('european', 338), ('social', 254), ('also', 254), ('work', 253), ('government', 252), ('europe', 228), ('development', 220), ('irish', 211), ('national', 204), ('union', 203), ('would', 200), ('years', 187), ('economic', 174), ('future', 165), ('many', 158), ('great', 155), ('today', 142), ('important', 139), ('public', 133), ('one', 124), ('eu', 124), ('progress', 121), ('know', 120), ('well', 119), ('country', 118), ('believe', 117), ('support', 117), ('services', 116), ('time', 116), ('year', 116), ('commitment', 115), ('like', 113), ('success', 109), ('world', 108), ('council', 107), ('society', 106), ('made', 105), ('way', 102), ('economy', 100), ('last', 100), ('investment', 100), ('treaty', 100), ('opportunity', 99), ('must', 98), ('dublin', 97), ('policy', 97), ('make', 97), ('issues', 95), ('better', 93), ('nice', 93), ('community', 93), ('process', 92), ('strategy', 91), ('partnership', 91), ('good', 91), ('key', 91), ('see', 90), ('business', 88), ('need', 87), ('programme', 87), ('forward', 85), ('area', 85), ('ensure', 85), ('first', 85), ('education', 84), ('states', 82), ('take', 81), ('level', 81), ('member', 81), ('housing', 80), ('life', 78), ('vital', 77), ('want', 76), ('peace', 75), ('project', 75), ('thank', 74), ('centre', 74), ('research', 73), ('working', 73), ('prosperity', 73), ('together', 72), ('building', 72), ('role', 72), ('much', 72), ('!', 72), ('plan', 71), ('poverty', 71), ('agreement', 70), ('information', 70), ('jobs', 69), ('wish', 69), ('service', 68), ('strong', 67), (':', 67), ('areas', 67), ('recent', 65), ('place', 65)]\n"
     ]
    }
   ],
   "source": [
    "count = 73\n",
    "speech_string_2002 = speech_string_2002.lower()\n",
    "words_2002 = word_tokenize(speech_string_2002)\n",
    "\n",
    "print(\"There were %d speeches in 2002 with %d words with an average of %d per speech\" % (count, len(words_2002), len(words_2002)/(count)))\n",
    "print()\n",
    "\n",
    "words_2002 = [w for w in words_2002 if not w in stop_words]\n",
    "all_words_2002 = nltk.FreqDist(words_2002)\n",
    "\n",
    "print(\"There were %d speeches in 2002 with %d words with an average of %d per speech\" % (count, len(words_2002), len(words_2002)/(count)))\n",
    "print()\n",
    "\n",
    "print(all_words_2002.most_common(100))\n",
    "\n",
    "tracker_2002 = [count, len(words_2002), len(words_2002)/(count)]\n",
    "tracker.append(tracker_2002)"
   ]
  },
  {
   "cell_type": "markdown",
   "metadata": {},
   "source": [
    "# 2001 Speeches"
   ]
  },
  {
   "cell_type": "code",
   "execution_count": 40,
   "metadata": {},
   "outputs": [
    {
     "name": "stdout",
     "output_type": "stream",
     "text": [
      "65 speeches in 2001\n"
     ]
    }
   ],
   "source": [
    "base_url = \"https://www.taoiseach.gov.ie/eng/News/Archives/2001/Taoiseach's_Speeches_Archive_2001/?pageNumber=\"\n",
    "speech_string_2001 = \"\"\n",
    "\n",
    "count = 1\n",
    "for page in range(1,8):\n",
    "    r = requests.get(base_url + str(page))\n",
    "    c = r.content\n",
    "    soup = BeautifulSoup(c, \"html.parser\")\n",
    "    all = soup.find_all(\"span\",{\"class\":\"ItemName\"})\n",
    "    for a in all:\n",
    "        try:\n",
    "            r = requests.get(\"https://www.taoiseach.gov.ie\" + a.find(\"a\")[\"href\"])\n",
    "            c = r.content\n",
    "\n",
    "            soup = BeautifulSoup(c, \"html.parser\")\n",
    "            all = soup.find(\"div\", {\"class\":\"contentSub\"}).text\n",
    "            all = all.replace(\"var mapOverlayUrl = '';\",\"\")\n",
    "\n",
    "#             with open(\"C:/Users/Johnny/Desktop/Data Science/Project/speeches/2001/2001_speech_\" + str(count) + \".txt\", \"w\", encoding=\"utf-8\") as out_file:\n",
    "#                 out_file.write(all)\n",
    "            count = count + 1\n",
    "            \n",
    "            speech_string_2001 += all\n",
    "            item = (word_tokenize(all), \"ff\")\n",
    "            speech_list.append(item)\n",
    "            \n",
    "        except:\n",
    "            pass\n",
    "#print(speech_string_2001)\n",
    "print(str(count - 1) + \" speeches in 2001\")"
   ]
  },
  {
   "cell_type": "code",
   "execution_count": 263,
   "metadata": {},
   "outputs": [
    {
     "name": "stdout",
     "output_type": "stream",
     "text": [
      "There were 65 speeches in 2001 with 96699 words with an average of 1487 per speech\n",
      "\n",
      "There were 65 speeches in 2001 with 46419 words with an average of 714 per speech\n",
      "\n",
      "[('ireland', 402), ('people', 371), ('new', 265), ('government', 244), ('irish', 235), ('also', 217), ('would', 199), ('work', 192), ('years', 183), ('development', 170), ('many', 169), ('national', 168), ('european', 166), ('year', 152), ('economic', 144), ('great', 144), ('eu', 137), ('believe', 134), ('last', 132), ('country', 131), ('time', 125), ('important', 124), ('made', 123), ('today', 122), ('world', 120), ('future', 119), ('one', 119), ('public', 118), ('support', 117), ('good', 115), ('know', 115), ('union', 113), ('social', 112), ('like', 111), ('economy', 106), ('partnership', 106), ('peace', 105), ('community', 101), ('must', 99), ('well', 98), ('international', 97), ('part', 96), ('process', 96), ('way', 95), (\"''\", 91), ('make', 91), ('success', 91), ('europe', 90), ('``', 89), ('every', 88), ('see', 87), ('service', 87), ('first', 86), ('continue', 83), ('agreement', 81), ('policy', 81), ('much', 80), ('forward', 80), ('need', 79), ('key', 78), ('progress', 78), ('take', 77), ('issues', 77), ('life', 76), ('programme', 75), ('countries', 75), ('place', 75), ('services', 74), ('dublin', 72), ('approach', 72), ('full', 71), ('strategy', 71), ('council', 70), ('investment', 70), ('strong', 69), ('local', 69), ('two', 69), ('membership', 69), ('level', 68), ('course', 68), (':', 67), ('say', 67), ('health', 67), ('working', 65), ('states', 64), ('role', 64), ('centre', 64), ('commitment', 63), ('million', 63), ('recent', 63), ('state', 63), ('plan', 62), ('hospital', 62), ('opportunity', 61), ('together', 61), ('want', 61), ('northern', 61), ('united', 60), ('issue', 60), ('political', 59)]\n"
     ]
    }
   ],
   "source": [
    "count = 65\n",
    "speech_string_2001 = speech_string_2001.lower()\n",
    "words_2001 = word_tokenize(speech_string_2001)\n",
    "\n",
    "print(\"There were %d speeches in 2001 with %d words with an average of %d per speech\" % (count, len(words_2001), len(words_2001)/(count)))\n",
    "print()\n",
    "\n",
    "words_2001 = [w for w in words_2001 if not w in stop_words]\n",
    "all_words_2001 = nltk.FreqDist(words_2001)\n",
    "\n",
    "print(\"There were %d speeches in 2001 with %d words with an average of %d per speech\" % (count, len(words_2001), len(words_2001)/(count)))\n",
    "print()\n",
    "\n",
    "print(all_words_2001.most_common(100))\n",
    "\n",
    "tracker_2001 = [count, len(words_2001), len(words_2001)/(count)]\n",
    "tracker.append(tracker_2001)"
   ]
  },
  {
   "cell_type": "markdown",
   "metadata": {},
   "source": [
    "# 2000 Speeches"
   ]
  },
  {
   "cell_type": "code",
   "execution_count": 42,
   "metadata": {},
   "outputs": [
    {
     "name": "stdout",
     "output_type": "stream",
     "text": [
      "73 speeches in 2000\n"
     ]
    }
   ],
   "source": [
    "base_url = \"https://www.taoiseach.gov.ie/eng/News/Archives/2000/Taoiseach's_Speeches_Archive_2000/?pageNumber=\"\n",
    "speech_string_2000 = \"\"\n",
    "\n",
    "count = 1\n",
    "for page in range(1,9):\n",
    "    r = requests.get(base_url + str(page))\n",
    "    c = r.content\n",
    "    soup = BeautifulSoup(c, \"html.parser\")\n",
    "    all = soup.find_all(\"span\",{\"class\":\"ItemName\"})\n",
    "    for a in all:\n",
    "        try:\n",
    "            r = requests.get(\"https://www.taoiseach.gov.ie\" + a.find(\"a\")[\"href\"])\n",
    "            c = r.content\n",
    "\n",
    "            soup = BeautifulSoup(c, \"html.parser\")\n",
    "            all = soup.find(\"div\", {\"class\":\"contentSub\"}).text\n",
    "            all = all.replace(\"var mapOverlayUrl = '';\",\"\")\n",
    "\n",
    "#             with open(\"C:/Users/Johnny/Desktop/Data Science/Project/speeches/2000/2000_speech_\" + str(count) + \".txt\", \"w\", encoding=\"utf-8\") as out_file:\n",
    "#                 out_file.write(all)\n",
    "            count = count + 1\n",
    "            \n",
    "            speech_string_2000 += all\n",
    "            item = (word_tokenize(all), \"ff\")\n",
    "            speech_list.append(item)\n",
    "            \n",
    "        except:\n",
    "            pass\n",
    "#print(speech_string_2000)\n",
    "print(str(count - 1) + \" speeches in 2000\")"
   ]
  },
  {
   "cell_type": "code",
   "execution_count": 264,
   "metadata": {},
   "outputs": [
    {
     "name": "stdout",
     "output_type": "stream",
     "text": [
      "There were 73 speeches in 2000 with 107631 words with an average of 1474 per speech\n",
      "\n",
      "There were 73 speeches in 2000 with 52546 words with an average of 719 per speech\n",
      "\n",
      "[('ireland', 508), ('new', 417), ('people', 367), ('development', 357), ('government', 308), ('social', 295), ('irish', 262), ('also', 235), ('economic', 224), ('work', 222), ('would', 210), ('national', 210), ('years', 203), ('public', 176), ('programme', 173), ('partnership', 170), ('many', 159), ('today', 153), ('one', 149), ('time', 143), ('economy', 142), ('world', 141), ('service', 140), ('investment', 139), ('well', 139), ('great', 136), ('important', 136), ('business', 134), ('union', 134), ('process', 132), ('country', 124), ('like', 124), ('year', 123), ('believe', 122), ('made', 121), ('way', 121), ('agreement', 115), ('community', 115), ('services', 115), ('support', 112), ('first', 111), ('key', 110), ('forward', 109), ('make', 109), ('european', 106), ('``', 105), ('last', 105), ('part', 102), ('future', 100), ('plan', 100)]\n"
     ]
    }
   ],
   "source": [
    "count = 73\n",
    "speech_string_2000 = speech_string_2000.lower()\n",
    "words_2000 = word_tokenize(speech_string_2000)\n",
    "\n",
    "print(\"There were %d speeches in 2000 with %d words with an average of %d per speech\" % (count, len(words_2000), len(words_2000)/(count)))\n",
    "print()\n",
    "\n",
    "words_2000 = [w for w in words_2000 if not w in stop_words]\n",
    "all_words_2000 = nltk.FreqDist(words_2000)\n",
    "\n",
    "print(\"There were %d speeches in 2000 with %d words with an average of %d per speech\" % (count, len(words_2000), len(words_2000)/(count)))\n",
    "print()\n",
    "\n",
    "print(all_words_2000.most_common(50))\n",
    "\n",
    "tracker_2000 = [count, len(words_2000), len(words_2000)/(count)]\n",
    "tracker.append(tracker_2000)"
   ]
  },
  {
   "cell_type": "markdown",
   "metadata": {},
   "source": [
    "# 1999 Speeches"
   ]
  },
  {
   "cell_type": "code",
   "execution_count": 44,
   "metadata": {},
   "outputs": [
    {
     "name": "stdout",
     "output_type": "stream",
     "text": [
      "77 speeches in 1999\n"
     ]
    }
   ],
   "source": [
    "base_url = \"https://www.taoiseach.gov.ie/eng/News/Archives/1999/Taoiseach's_Speeches_Archive_1999/?pageNumber=\"\n",
    "speech_string_1999 = \"\"\n",
    "\n",
    "count = 1\n",
    "for page in range(1,9):\n",
    "    r = requests.get(base_url + str(page))\n",
    "    c = r.content\n",
    "    soup = BeautifulSoup(c, \"html.parser\")\n",
    "    all = soup.find_all(\"span\",{\"class\":\"ItemName\"})\n",
    "    for a in all:\n",
    "        try:\n",
    "            r = requests.get(\"https://www.taoiseach.gov.ie\" + a.find(\"a\")[\"href\"])\n",
    "            c = r.content\n",
    "\n",
    "            soup = BeautifulSoup(c, \"html.parser\")\n",
    "            all = soup.find(\"div\", {\"class\":\"contentSub\"}).text\n",
    "            all = all.replace(\"var mapOverlayUrl = '';\",\"\")\n",
    "\n",
    "            # Write each speech to a file\n",
    "#             with open(\"C:/Users/Johnny/Desktop/Data Science/Project/speeches/1999/1999_speech_\" + str(count) + \".txt\", \"w\", encoding=\"utf-8\") as out_file:\n",
    "#                 out_file.write(all)\n",
    "            count = count + 1\n",
    "            \n",
    "            # create one sinlge string contain all speeches\n",
    "            speech_string_1999 += all\n",
    "            item = (word_tokenize(all), \"ff\")\n",
    "            speech_list.append(item)\n",
    "            \n",
    "        except:\n",
    "            pass\n",
    "#print(speech_string_1999)\n",
    "print(str(count - 1) + \" speeches in 1999\")"
   ]
  },
  {
   "cell_type": "code",
   "execution_count": 265,
   "metadata": {},
   "outputs": [
    {
     "name": "stdout",
     "output_type": "stream",
     "text": [
      "There were 77 speeches in 1999 with 124026 words with an average of 1610 per speech\n",
      "\n",
      "There were 77 speeches in 1999 with 60365 words with an average of 783 per speech\n",
      "\n",
      "[('ireland', 507), ('government', 456), ('irish', 397), ('new', 393), ('people', 390), ('also', 314), ('social', 295), ('development', 287), ('agreement', 243), ('national', 241), ('would', 228), ('partnership', 227), ('work', 226), ('public', 220), ('economic', 219), ('year', 183), ('years', 183), ('society', 179), ('many', 164), ('plan', 162), ('one', 159), ('way', 159), ('today', 157), ('important', 153), ('must', 153), ('community', 140), ('time', 139), ('support', 139), ('good', 139), ('information', 136), ('``', 136), ('european', 136), ('taoiseach', 135), ('business', 134), ('service', 130), ('level', 127), ('minister', 127), ('last', 123), ('services', 122), ('made', 120), ('success', 119), (\"''\", 119), ('well', 117), ('first', 117), ('country', 116), ('process', 115), ('local', 112), ('need', 111), ('make', 111), ('tax', 110)]\n"
     ]
    }
   ],
   "source": [
    "count = 77\n",
    "speech_string_1999 = speech_string_1999.lower()\n",
    "words_1999 = word_tokenize(speech_string_1999)\n",
    "\n",
    "print(\"There were %d speeches in 1999 with %d words with an average of %d per speech\" % (count, len(words_1999), len(words_1999)/(count)))\n",
    "print()\n",
    "\n",
    "words_1999 = [w for w in words_1999 if not w in stop_words]\n",
    "all_words_1999 = nltk.FreqDist(words_1999)\n",
    "\n",
    "print(\"There were %d speeches in 1999 with %d words with an average of %d per speech\" % (count, len(words_1999), len(words_1999)/(count)))\n",
    "print()\n",
    "\n",
    "print(all_words_1999.most_common(50))\n",
    "\n",
    "tracker_1999 = [count, len(words_1999), len(words_1999)/(count)]\n",
    "tracker.append(tracker_1999)"
   ]
  },
  {
   "cell_type": "markdown",
   "metadata": {},
   "source": [
    "# 1998 Speeches"
   ]
  },
  {
   "cell_type": "code",
   "execution_count": 46,
   "metadata": {},
   "outputs": [
    {
     "name": "stdout",
     "output_type": "stream",
     "text": [
      "74 speeches in 1998\n"
     ]
    }
   ],
   "source": [
    "base_url = \"https://www.taoiseach.gov.ie/eng/News/Archives/1998/Taoiseach's_Speeches_Archive_1998/?pageNumber=\"\n",
    "speech_string_1998 = \"\"\n",
    "\n",
    "count = 1\n",
    "for page in range(1,9):\n",
    "    r = requests.get(base_url + str(page))\n",
    "    c = r.content\n",
    "    soup = BeautifulSoup(c, \"html.parser\")\n",
    "    all = soup.find_all(\"span\",{\"class\":\"ItemName\"})\n",
    "    for a in all:\n",
    "        try:\n",
    "            r = requests.get(\"https://www.taoiseach.gov.ie\" + a.find(\"a\")[\"href\"])\n",
    "            c = r.content\n",
    "\n",
    "            soup = BeautifulSoup(c, \"html.parser\")\n",
    "            all = soup.find(\"div\", {\"class\":\"contentSub\"}).text\n",
    "            all = all.replace(\"var mapOverlayUrl = '';\",\"\")\n",
    "\n",
    "            # Write each speech to a file\n",
    "#             with open(\"C:/Users/Johnny/Desktop/Data Science/Project/speeches/1998/1998_speech_\" + str(count) + \".txt\", \"w\", encoding=\"utf-8\") as out_file:\n",
    "#                 out_file.write(all)\n",
    "            count = count + 1\n",
    "            \n",
    "            # create one sinlge string contain all speeches\n",
    "            speech_string_1998 += all\n",
    "            item = (word_tokenize(all), \"ff\")\n",
    "            speech_list.append(item)\n",
    "            \n",
    "        except:\n",
    "            pass\n",
    "        \n",
    "#print(speech_string_1998) \n",
    "print(str(count - 1) + \" speeches in 1998\")\n"
   ]
  },
  {
   "cell_type": "code",
   "execution_count": null,
   "metadata": {},
   "outputs": [],
   "source": []
  },
  {
   "cell_type": "code",
   "execution_count": 266,
   "metadata": {},
   "outputs": [
    {
     "name": "stdout",
     "output_type": "stream",
     "text": [
      "There were 74 speeches in 1999 with 60365 words with an average of 815 per speech\n",
      "\n",
      "There were 74 speeches in 1998 with 57176 words with an average of 772 per speech\n",
      "\n",
      "[('ireland', 651), ('irish', 360), ('people', 355), ('government', 329), ('would', 280), ('new', 270), ('also', 261), ('economic', 254), ('agreement', 246), ('years', 203), ('many', 194), ('social', 192), ('public', 189), ('year', 187), ('development', 178), ('partnership', 174), ('european', 173), ('peace', 171), ('work', 166), ('good', 159), ('process', 159), ('support', 156), ('northern', 153), ('future', 153), ('one', 152), ('political', 151), ('time', 144), ('believe', 143), ('council', 142), ('made', 131), ('must', 131), ('important', 128), ('human', 124), ('last', 123), ('first', 121), ('two', 121), ('rights', 121), ('union', 119), ('today', 119), ('business', 119), ('world', 119), ('like', 118), (':', 117), ('well', 117), ('national', 116), ('community', 116), ('need', 115), ('service', 113), ('issues', 107), ('level', 106)]\n"
     ]
    }
   ],
   "source": [
    "count = 74\n",
    "speech_string_1998 = speech_string_1998.lower()\n",
    "words_1998 = word_tokenize(speech_string_1998)\n",
    "\n",
    "print(\"There were %d speeches in 1999 with %d words with an average of %d per speech\" % (count, len(words_1999), len(words_1999)/(count)))\n",
    "print()\n",
    "\n",
    "words_1998 = [w for w in words_1998 if not w in stop_words]\n",
    "all_words_1998 = nltk.FreqDist(words_1998)\n",
    "\n",
    "print(\"There were %d speeches in 1998 with %d words with an average of %d per speech\" % (count, len(words_1998), len(words_1998)/(count)))\n",
    "print()\n",
    "\n",
    "print(all_words_1998.most_common(50))\n",
    "\n",
    "tracker_1998 = [count, len(words_1998), len(words_1998)/(count)]\n",
    "tracker.append(tracker_1998)"
   ]
  },
  {
   "cell_type": "markdown",
   "metadata": {},
   "source": [
    "# 1997 Speeches"
   ]
  },
  {
   "cell_type": "code",
   "execution_count": 274,
   "metadata": {},
   "outputs": [
    {
     "name": "stdout",
     "output_type": "stream",
     "text": [
      "11 speeches in 1997\n"
     ]
    }
   ],
   "source": [
    "base_url = \"https://www.taoiseach.gov.ie/eng/News/Archives/1997/Taoiseach's_Speeches_Archive_1997/?pageNumber=\"\n",
    "speech_string_1997 = \"\"\n",
    "count = 1\n",
    "\n",
    "\n",
    "for page in range(1,3):\n",
    "    r = requests.get(base_url + str(page))\n",
    "    c = r.content\n",
    "    soup = BeautifulSoup(c, \"html.parser\")\n",
    "    all = soup.find_all(\"span\",{\"class\":\"ItemName\"})\n",
    "    \n",
    "    for a in all:\n",
    "        try:\n",
    "            r = requests.get(\"https://www.taoiseach.gov.ie\" + a.find(\"a\")[\"href\"])\n",
    "            c = r.content\n",
    "\n",
    "            soup = BeautifulSoup(c, \"html.parser\")\n",
    "            all = soup.find(\"div\", {\"class\":\"contentSub\"}).text\n",
    "            all = all.replace(\"var mapOverlayUrl = '';\",\"\")\n",
    "            \n",
    "            # Write each speech to a file\n",
    "#             with open(\"C:/Users/Johnny/Desktop/Data Science/Project/speeches/1997/1997_speech_\" + str(count) + \".txt\", \"w\", encoding=\"utf-8\") as out_file:\n",
    "#                 out_file.write(all)\n",
    "            count = count + 1\n",
    "            \n",
    "            # create one sinlge string contain all speeches\n",
    "            speech_string_1997 += all\n",
    "            item = (word_tokenize(all), \"ff\")\n",
    "            speech_list.append(item)\n",
    "        \n",
    "        except:\n",
    "            pass\n",
    "        \n",
    "#print(speech_string_1997)  \n",
    "print(str(count - 1) + \" speeches in 1997\")\n"
   ]
  },
  {
   "cell_type": "code",
   "execution_count": 49,
   "metadata": {},
   "outputs": [
    {
     "name": "stdout",
     "output_type": "stream",
     "text": [
      "757\n"
     ]
    }
   ],
   "source": [
    "print(len(speech_list))"
   ]
  },
  {
   "cell_type": "code",
   "execution_count": 269,
   "metadata": {},
   "outputs": [
    {
     "name": "stdout",
     "output_type": "stream",
     "text": [
      "There were 11 speeches in 1997 with 5385 words with an average of 489 per speech\n",
      "\n",
      "There were 11 speeches in 1997 with 2613 words with an average of 237 per speech\n",
      "\n",
      "[('government', 32), ('business', 26), ('ireland', 25), ('people', 20), ('public', 19), ('tribunal', 17), ('small', 17), ('irish', 16), ('years', 16), ('work', 14)]\n"
     ]
    }
   ],
   "source": [
    "count = 11\n",
    "speech_string_1997 = speech_string_1997.lower()\n",
    "words_1997 = word_tokenize(speech_string_1997)\n",
    "\n",
    "print(\"There were %d speeches in 1997 with %d words with an average of %d per speech\" % (count, len(words_1997), len(words_1997)/(count)))\n",
    "print()\n",
    "\n",
    "words_1997 = [w for w in words_1997 if not w in stop_words]\n",
    "all_words_1997 = nltk.FreqDist(words_1997)\n",
    "\n",
    "print(\"There were %d speeches in 1997 with %d words with an average of %d per speech\" % (count, len(words_1997), len(words_1997)/(count)))\n",
    "print()\n",
    "print(all_words_1997.most_common(10))\n",
    "\n",
    "tracker_1997 = [count, len(words_1997), len(words_1997)/(count)]\n",
    "tracker.append(tracker_1997)"
   ]
  },
  {
   "cell_type": "code",
   "execution_count": 301,
   "metadata": {},
   "outputs": [
    {
     "name": "stdout",
     "output_type": "stream",
     "text": [
      "1123 speeches\n",
      "815407 words\n",
      "726 average words/speech\n"
     ]
    },
    {
     "data": {
      "text/plain": [
       "[[53, 38110, 719.0566037735849],\n",
       " [73, 57070, 781.7808219178082],\n",
       " [77, 59506, 772.8051948051948],\n",
       " [100, 63064, 630.64],\n",
       " [62, 40806, 658.1612903225806],\n",
       " [44, 34954, 794.4090909090909],\n",
       " [38, 31126, 819.1052631578947],\n",
       " [46, 32328, 702.7826086956521],\n",
       " [41, 32483, 792.2682926829268],\n",
       " [152, 93519, 615.2565789473684],\n",
       " [30, 30626, 1020.8666666666667],\n",
       " [34, 37587, 1105.5],\n",
       " [73, 45109, 617.931506849315],\n",
       " [65, 46419, 714.1384615384616],\n",
       " [73, 52546, 719.8082191780821],\n",
       " [77, 60365, 783.961038961039],\n",
       " [74, 57176, 772.6486486486486],\n",
       " [11, 2613, 237.54545454545453]]"
      ]
     },
     "execution_count": 301,
     "metadata": {},
     "output_type": "execute_result"
    }
   ],
   "source": [
    "# count no of speeches, words, averages\n",
    "\n",
    "speech_count = 0\n",
    "word_count = 0\n",
    "average = 0\n",
    "for (a,b,c) in tracker:\n",
    "    speech_count += a\n",
    "    word_count += b\n",
    "    average += ctry\n",
    "\n",
    "print(speech_count, \"speeches\")\n",
    "print(word_count, \"words\")\n",
    "print(\"%.2d average words/speech\" % int(word_count/speech_count))\n"
   ]
  },
  {
   "cell_type": "code",
   "execution_count": 402,
   "metadata": {},
   "outputs": [
    {
     "name": "stdout",
     "output_type": "stream",
     "text": [
      "9391950\n",
      "815533\n",
      "[('ireland', 9095), ('people', 5276), ('new', 5180), ('government', 5077), ('irish', 4378), ('also', 4339), ('european', 3632), ('work', 3516), ('economic', 3205), ('would', 2852), ('years', 2754), ('development', 2614), ('many', 2605), ('year', 2531), ('public', 2385), ('today', 2336), ('eu', 2335), ('one', 2260), ('national', 2250), ('social', 2226), ('economy', 2139), ('time', 2107), ('future', 2056), ('country', 2027), ('important', 2023), ('union', 2010), ('support', 2005), ('world', 1919), ('investment', 1832), ('last', 1831), ('council', 1820), ('need', 1819), ('jobs', 1763), ('agreement', 1750), ('must', 1746), ('first', 1739), ('europe', 1719), ('like', 1717), ('business', 1672), ('good', 1635), ('services', 1629), ('international', 1607), ('made', 1588), ('make', 1583), ('well', 1578), ('know', 1570), ('great', 1566), ('plan', 1517), ('growth', 1504), ('want', 1499)]\n"
     ]
    }
   ],
   "source": [
    "all_speeches_string = speech_string_1997 + speech_string_1998 + speech_string_1999 + speech_string_2000 \\\n",
    "+ speech_string_2001 + speech_string_2002 + speech_string_2003 + speech_string_2004 + speech_string_2005 \\\n",
    "+ speech_string_2009 + speech_string_2010 + speech_string_2011 + speech_string_2012 + speech_string_2014 \\\n",
    "+ speech_string_2015 + speech_string_2016 + speech_string_2017 + speech_string_2018\n",
    "\n",
    "stop_words.append(\"1997\")\n",
    "stop_words.append(\"1998\")\n",
    "stop_words.append(\"1999\")\n",
    "stop_words.append(\"2000\")\n",
    "stop_words.append(\"2001\")\n",
    "stop_words.append(\"2002\")\n",
    "stop_words.append(\"2003\")\n",
    "stop_words.append(\"2004\")\n",
    "stop_words.append(\"2005\")\n",
    "stop_words.append(\"2006\")\n",
    "stop_words.append(\"2007\")\n",
    "stop_words.append(\"2008\")\n",
    "stop_words.append(\"2009\")\n",
    "stop_words.append(\"2010\")\n",
    "stop_words.append(\"2011\")\n",
    "stop_words.append(\"2012\")\n",
    "stop_words.append(\"2013\")\n",
    "stop_words.append(\"2014\")\n",
    "stop_words.append(\"2015\")\n",
    "stop_words.append(\"2016\")\n",
    "stop_words.append(\"2017\")\n",
    "stop_words.append(\"2018\")\n",
    "all_words = word_tokenize(all_speeches_string)\n",
    "print(len(all_speeches_string))\n",
    "all_words = [w for w in all_words if not w in stop_words]\n",
    "print(len(all_words))\n",
    "all_words = nltk.FreqDist(all_words)\n",
    "print(all_words.most_common(50))\n",
    "\n"
   ]
  },
  {
   "cell_type": "code",
   "execution_count": 52,
   "metadata": {},
   "outputs": [],
   "source": [
    "bertie_string = speech_string_1997 + speech_string_1998 + speech_string_1999 + speech_string_2000 \\\n",
    "+ speech_string_2001 + speech_string_2002 + speech_string_2003 + speech_string_2004 + speech_string_2005\n",
    "\n",
    "brian_string = speech_string_2009 + speech_string_2010"
   ]
  },
  {
   "cell_type": "code",
   "execution_count": 53,
   "metadata": {},
   "outputs": [
    {
     "name": "stdout",
     "output_type": "stream",
     "text": [
      "0\n",
      "0\n",
      "731374\n",
      "4989243\n",
      "\n"
     ]
    }
   ],
   "source": [
    "print(len(leo_string))#802742\n",
    "print(len(enda_string)) #2899919\n",
    "print(len(brian_string)) #731374\n",
    "print(len(bertie_string)) #4989243\n",
    "print((leo_string[:100]))"
   ]
  },
  {
   "cell_type": "code",
   "execution_count": 381,
   "metadata": {},
   "outputs": [
    {
     "ename": "AttributeError",
     "evalue": "'list' object has no attribute 'most_common'",
     "output_type": "error",
     "traceback": [
      "\u001b[1;31m---------------------------------------------------------------------------\u001b[0m",
      "\u001b[1;31mAttributeError\u001b[0m                            Traceback (most recent call last)",
      "\u001b[1;32m<ipython-input-381-4143f114db11>\u001b[0m in \u001b[0;36m<module>\u001b[1;34m()\u001b[0m\n\u001b[0;32m      2\u001b[0m \u001b[1;32mfrom\u001b[0m \u001b[0mwordcloud\u001b[0m \u001b[1;32mimport\u001b[0m \u001b[0mWordCloud\u001b[0m\u001b[1;33m\u001b[0m\u001b[0m\n\u001b[0;32m      3\u001b[0m \u001b[1;33m\u001b[0m\u001b[0m\n\u001b[1;32m----> 4\u001b[1;33m \u001b[0mtop_50_words\u001b[0m \u001b[1;33m=\u001b[0m \u001b[1;33m[\u001b[0m\u001b[0mword\u001b[0m\u001b[1;33m[\u001b[0m\u001b[1;36m0\u001b[0m\u001b[1;33m]\u001b[0m \u001b[1;32mfor\u001b[0m \u001b[0mword\u001b[0m \u001b[1;32min\u001b[0m \u001b[0mall_words\u001b[0m\u001b[1;33m.\u001b[0m\u001b[0mmost_common\u001b[0m\u001b[1;33m(\u001b[0m\u001b[1;36m50\u001b[0m\u001b[1;33m)\u001b[0m\u001b[1;33m]\u001b[0m\u001b[1;33m\u001b[0m\u001b[0m\n\u001b[0m\u001b[0;32m      5\u001b[0m \u001b[1;33m\u001b[0m\u001b[0m\n\u001b[0;32m      6\u001b[0m \u001b[0mtop_50_words_string\u001b[0m \u001b[1;33m=\u001b[0m \u001b[1;34m\"\"\u001b[0m\u001b[1;33m\u001b[0m\u001b[0m\n",
      "\u001b[1;31mAttributeError\u001b[0m: 'list' object has no attribute 'most_common'"
     ]
    }
   ],
   "source": [
    "# wordcloud of top 50 words across all speeches\n",
    "from wordcloud import WordCloud\n",
    "\n",
    "top_50_words = [word[0] for word in all_words.most_common(50)]\n",
    "\n",
    "top_50_words_string = \"\"\n",
    "\n",
    "for word in top_50_words:\n",
    "    top_50_words_string += (word + \" \")\n",
    "    \n",
    "print(top_50_words_string)\n",
    "\n",
    "# Create the wordcloud object\n",
    "wordcloud = WordCloud(width=960, height=960, margin=0).generate(top_50_words_string)\n",
    " \n",
    "# Display the generated image:\n",
    "plt.imshow(wordcloud, interpolation='bilinear')\n",
    "plt.axis(\"off\")\n",
    "plt.margins(x=0, y=0)\n",
    "plt.show()"
   ]
  },
  {
   "cell_type": "code",
   "execution_count": 232,
   "metadata": {},
   "outputs": [
    {
     "name": "stdout",
     "output_type": "stream",
     "text": [
      "1997 luas appears 0 times. 0.000\n",
      "1998 luas appears 0 times. 0.000\n",
      "1999 luas appears 0 times. 0.000\n",
      "2000 luas appears 2 times. 2.316\n",
      "2001 luas appears 0 times. 0.000\n",
      "2002 luas appears 2 times. 2.769\n",
      "2003 luas appears 0 times. 0.000\n",
      "2004 luas appears 4 times. 6.549\n",
      "2005 luas appears 10 times. 8.241\n",
      "2009 luas appears 2 times. 2.723\n",
      "2010 luas appears 1 times. 1.383\n",
      "2011 luas appears 0 times. 0.000\n",
      "2012 luas appears 0 times. 0.000\n",
      "2014 luas appears 0 times. 0.000\n",
      "2015 luas appears 2 times. 1.876\n",
      "2016 luas appears 2 times. 2.058\n",
      "2017 luas appears 17 times. 16.478\n",
      "2018 luas appears 1 times. 1.266\n",
      "[0, 0, 0, 2, 0, 2, 0, 4, 10, 2, 1, 0, 0, 0, 2, 2, 17, 1]\n",
      "[0.0, 0.0, 0.0, 0.02315618849137432, 0.0, 0.027689325764917627, 0.0, 0.06548788474132286, 0.08240626287597858, 0.027233115468409588, 0.013829345871940258, 0.0, 0.0, 0.0, 0.020582484305855717, 0.01938548027527382, 0.21529888551165147]\n",
      "1997 broadband appears 0 times. 0.000\n",
      "1998 broadband appears 1 times. 1.075\n",
      "1999 broadband appears 8 times. 8.395\n",
      "2000 broadband appears 5 times. 5.789\n",
      "2001 broadband appears 1 times. 1.142\n",
      "2002 broadband appears 1 times. 1.384\n",
      "2003 broadband appears 3 times. 4.218\n",
      "2004 broadband appears 3 times. 4.912\n",
      "2005 broadband appears 19 times. 15.657\n",
      "2009 broadband appears 7 times. 9.532\n",
      "2010 broadband appears 6 times. 8.298\n",
      "2011 broadband appears 1 times. 1.495\n",
      "2012 broadband appears 4 times. 6.026\n",
      "2014 broadband appears 4 times. 4.640\n",
      "2015 broadband appears 26 times. 24.390\n",
      "2016 broadband appears 5 times. 5.146\n",
      "2017 broadband appears 6 times. 5.816\n",
      "2018 broadband appears 16 times. 20.263\n",
      "[0, 1, 8, 5, 1, 1, 3, 3, 19, 7, 6, 1, 4, 4, 26, 5, 6, 16]\n",
      "[0.0, 0.010748065348237317, 0.08598452278589853, 0.0578904712284358, 0.011418131993605847, 0.013844662882458813, 0.0421822272215973, 0.04911591355599214, 0.1565718994643593, 0.09531590413943355, 0.08297607523164155, 0.014949917775452235, 0.06025911419102139, 0.0375234521575985, 0.2675722959761243, 0.04846370068818455, 0.07598784194528875]\n",
      "1997 m50 appears 0 times. 0.000\n",
      "1998 m50 appears 0 times. 0.000\n",
      "1999 m50 appears 0 times. 0.000\n",
      "2000 m50 appears 1 times. 1.158\n",
      "2001 m50 appears 0 times. 0.000\n",
      "2002 m50 appears 1 times. 1.384\n",
      "2003 m50 appears 0 times. 0.000\n",
      "2004 m50 appears 0 times. 0.000\n",
      "2005 m50 appears 3 times. 2.472\n",
      "2009 m50 appears 0 times. 0.000\n",
      "2010 m50 appears 0 times. 0.000\n",
      "2011 m50 appears 0 times. 0.000\n",
      "2012 m50 appears 0 times. 0.000\n",
      "2014 m50 appears 0 times. 0.000\n",
      "2015 m50 appears 0 times. 0.000\n",
      "2016 m50 appears 0 times. 0.000\n",
      "2017 m50 appears 0 times. 0.000\n",
      "2018 m50 appears 0 times. 0.000\n",
      "[0, 0, 0, 1, 0, 1, 0, 0, 3, 0, 0, 0, 0, 0, 0, 0, 0, 0]\n",
      "[0.0, 0.0, 0.0, 0.01157809424568716, 0.0, 0.013844662882458813, 0.0, 0.0, 0.024721878862793575, 0.0, 0.0, 0.0, 0.0, 0.0, 0.0, 0.0, 0.0]\n"
     ]
    }
   ],
   "source": [
    "def find_word(word):\n",
    "    word_count = []\n",
    "    word_count2 = []\n",
    "    print(\"1997 %s appears %d times. %.3f\" % (word, all_words_1997[word], (all_words_1997[word]/len(all_words_1997)*10000)))\n",
    "    print(\"1998 %s appears %d times. %.3f\" % (word, all_words_1998[word], (all_words_1998[word]/len(all_words_1998)*10000)))\n",
    "    print(\"1999 %s appears %d times. %.3f\" % (word, all_words_1999[word], (all_words_1999[word]/len(all_words_1999)*10000)))\n",
    "    print(\"2000 %s appears %d times. %.3f\" % (word, all_words_2000[word], (all_words_2000[word]/len(all_words_2000)*10000)))\n",
    "    print(\"2001 %s appears %d times. %.3f\" % (word, all_words_2001[word], (all_words_2001[word]/len(all_words_2001)*10000)))\n",
    "    print(\"2002 %s appears %d times. %.3f\" % (word, all_words_2002[word], (all_words_2002[word]/len(all_words_2002)*10000)))\n",
    "    print(\"2003 %s appears %d times. %.3f\" % (word, all_words_2003[word], (all_words_2003[word]/len(all_words_2003)*10000)))\n",
    "    print(\"2004 %s appears %d times. %.3f\" % (word, all_words_2004[word], (all_words_2004[word]/len(all_words_2004)*10000)))\n",
    "    print(\"2005 %s appears %d times. %.3f\" % (word, all_words_2005[word], (all_words_2005[word]/len(all_words_2005)*10000)))\n",
    "    print(\"2009 %s appears %d times. %.3f\" % (word, all_words_2009[word], (all_words_2009[word]/len(all_words_2009)*10000)))\n",
    "    print(\"2010 %s appears %d times. %.3f\" % (word, all_words_2010[word], (all_words_2010[word]/len(all_words_2010)*10000)))\n",
    "    print(\"2011 %s appears %d times. %.3f\" % (word, all_words_2011[word], (all_words_2011[word]/len(all_words_2011)*10000)))\n",
    "    print(\"2012 %s appears %d times. %.3f\" % (word, all_words_2012[word], (all_words_2012[word]/len(all_words_2012)*10000)))\n",
    "    print(\"2014 %s appears %d times. %.3f\" % (word, all_words_2014[word], (all_words_2014[word]/len(all_words_2014)*10000)))\n",
    "    print(\"2015 %s appears %d times. %.3f\" % (word, all_words_2015[word], (all_words_2015[word]/len(all_words_2015)*10000)))\n",
    "    print(\"2016 %s appears %d times. %.3f\" % (word, all_words_2016[word], (all_words_2016[word]/len(all_words_2016)*10000)))\n",
    "    print(\"2017 %s appears %d times. %.3f\" % (word, all_words_2017[word], (all_words_2017[word]/len(all_words_2017)*10000)))\n",
    "    print(\"2018 %s appears %d times. %.3f\" % (word, all_words_2018[word], (all_words_2018[word]/len(all_words_2018)*10000)))\n",
    "    word_count.append(all_words_1997[word])\n",
    "    word_count.append(all_words_1998[word])\n",
    "    word_count.append(all_words_1999[word])\n",
    "    word_count.append(all_words_2000[word])\n",
    "    word_count.append(all_words_2001[word])\n",
    "    word_count.append(all_words_2002[word])\n",
    "    word_count.append(all_words_2003[word])\n",
    "    word_count.append(all_words_2004[word])\n",
    "    word_count.append(all_words_2005[word])\n",
    "    word_count.append(all_words_2009[word])\n",
    "    word_count.append(all_words_2010[word])\n",
    "    word_count.append(all_words_2011[word])\n",
    "    word_count.append(all_words_2012[word])\n",
    "    word_count.append(all_words_2014[word])\n",
    "    word_count.append(all_words_2015[word])\n",
    "    word_count.append(all_words_2016[word])\n",
    "    word_count.append(all_words_2017[word])\n",
    "    word_count.append(all_words_2018[word])\n",
    "    word_count2.append((all_words_1997[word]/len(all_words_1997)*100))\n",
    "    word_count2.append((all_words_1998[word]/len(all_words_1998)*100))\n",
    "    word_count2.append((all_words_1999[word]/len(all_words_1998)*100))\n",
    "    word_count2.append((all_words_2000[word]/len(all_words_2000)*100))\n",
    "    word_count2.append((all_words_2001[word]/len(all_words_2001)*100))\n",
    "    word_count2.append((all_words_2002[word]/len(all_words_2002)*100))\n",
    "    word_count2.append((all_words_2003[word]/len(all_words_2003)*100))\n",
    "    word_count2.append((all_words_2004[word]/len(all_words_2004)*100))\n",
    "    word_count2.append((all_words_2005[word]/len(all_words_2005)*100))\n",
    "    word_count2.append((all_words_2009[word]/len(all_words_2009)*100))\n",
    "    word_count2.append((all_words_2010[word]/len(all_words_2010)*100))\n",
    "    word_count2.append((all_words_2011[word]/len(all_words_2011)*100))\n",
    "    word_count2.append((all_words_2012[word]/len(all_words_2012)*100))\n",
    "    word_count2.append((all_words_2014[word]/len(all_words_2015)*100))\n",
    "    word_count2.append((all_words_2015[word]/len(all_words_2016)*100))\n",
    "    word_count2.append((all_words_2016[word]/len(all_words_2017)*100))\n",
    "    word_count2.append((all_words_2017[word]/len(all_words_2018)*100))\n",
    "    print(word_count)\n",
    "    print(word_count2)\n",
    "#find_word(\"bailout\")\n",
    "#find_word(\"anglo\")\n",
    "#find_word(\"recapitalisation\")\n",
    "# find_word(\"luas\")\n",
    "# find_word(\"tunnel\")\n",
    "# find_word(\"broadband\")\n",
    "# find_word(\"ceasefire\")\n",
    "#\n",
    "#find_word(\"terrorist\")\n",
    "#find_word(\"housing\")\n",
    "#find_word(\"marriage\")\n",
    "#find_word(\"boom\")\n",
    "#find_word(\"abuse\")\n",
    "#find_word(\"election\")\n",
    "#find_word(\"banks\")\n",
    "#find_word(\"backstop\")\n",
    "\n",
    "#find_word(\"withdrawal\")\n",
    "find_word(\"luas\")\n",
    "find_word(\"broadband\")\n",
    "find_word(\"m50\")\n",
    "#find_word(\"easter\")\n",
    "#find_word(\"rising\")\n",
    "#find_word(\"1916\")\n",
    "#find_word(\"omagh\")\n",
    "# find_word(\"lgbt\")\n",
    "# find_word(\"gay\")\n",
    "# find_word(\"marriage\")"
   ]
  },
  {
   "cell_type": "code",
   "execution_count": 241,
   "metadata": {},
   "outputs": [
    {
     "data": {
      "text/html": [
       "\n",
       "\n",
       "\n",
       "\n",
       "\n",
       "\n",
       "  <div class=\"bk-root\" id=\"530b9202-1b50-4d14-9b19-d7225e85974c\"></div>\n"
      ]
     },
     "metadata": {},
     "output_type": "display_data"
    },
    {
     "data": {
      "application/javascript": [
       "(function(root) {\n",
       "  function embed_document(root) {\n",
       "    \n",
       "  var docs_json = {\"60aa1a8c-058e-446b-a946-c886a3b712e7\":{\"roots\":{\"references\":[{\"attributes\":{},\"id\":\"fa75cc87-2788-406f-8075-f56b3fdcb4e3\",\"type\":\"BasicTickFormatter\"},{\"attributes\":{\"formatter\":{\"id\":\"e42e3ef9-549e-4f00-9f3b-6394f105ed23\",\"type\":\"BasicTickFormatter\"},\"plot\":{\"id\":\"523950b2-a6df-40b2-8ecb-aa34865e48ba\",\"subtype\":\"Figure\",\"type\":\"Plot\"},\"ticker\":{\"id\":\"6ddfe78c-9c5b-49b8-b3fb-9f9db91cea2b\",\"type\":\"BasicTicker\"}},\"id\":\"1fefb523-875c-47da-8dd8-119eaaedf494\",\"type\":\"LinearAxis\"},{\"attributes\":{},\"id\":\"6ddfe78c-9c5b-49b8-b3fb-9f9db91cea2b\",\"type\":\"BasicTicker\"},{\"attributes\":{\"formatter\":{\"id\":\"fa75cc87-2788-406f-8075-f56b3fdcb4e3\",\"type\":\"BasicTickFormatter\"},\"plot\":{\"id\":\"523950b2-a6df-40b2-8ecb-aa34865e48ba\",\"subtype\":\"Figure\",\"type\":\"Plot\"},\"ticker\":{\"id\":\"b0879ee5-c6fb-4ec3-98b1-a7350208f8d1\",\"type\":\"BasicTicker\"}},\"id\":\"7c7bd450-30e7-43b1-a600-aa43851f50f4\",\"type\":\"LinearAxis\"},{\"attributes\":{},\"id\":\"486da4bd-450e-4644-848e-9175d881f5c8\",\"type\":\"LinearScale\"},{\"attributes\":{},\"id\":\"b0879ee5-c6fb-4ec3-98b1-a7350208f8d1\",\"type\":\"BasicTicker\"},{\"attributes\":{\"dimension\":1,\"plot\":{\"id\":\"523950b2-a6df-40b2-8ecb-aa34865e48ba\",\"subtype\":\"Figure\",\"type\":\"Plot\"},\"ticker\":{\"id\":\"b0879ee5-c6fb-4ec3-98b1-a7350208f8d1\",\"type\":\"BasicTicker\"}},\"id\":\"de688789-87d9-413e-bdbf-da567d97781a\",\"type\":\"Grid\"},{\"attributes\":{\"below\":[{\"id\":\"1fefb523-875c-47da-8dd8-119eaaedf494\",\"type\":\"LinearAxis\"}],\"left\":[{\"id\":\"7c7bd450-30e7-43b1-a600-aa43851f50f4\",\"type\":\"LinearAxis\"}],\"renderers\":[{\"id\":\"1fefb523-875c-47da-8dd8-119eaaedf494\",\"type\":\"LinearAxis\"},{\"id\":\"79637428-fcfb-41f5-aaeb-39fb2d514ccc\",\"type\":\"Grid\"},{\"id\":\"7c7bd450-30e7-43b1-a600-aa43851f50f4\",\"type\":\"LinearAxis\"},{\"id\":\"de688789-87d9-413e-bdbf-da567d97781a\",\"type\":\"Grid\"},{\"id\":\"4fd9c829-8916-4186-a446-31f8d9ea4ae0\",\"type\":\"BoxAnnotation\"}],\"title\":{\"id\":\"731008dc-4e99-4187-9075-f9969e693cbc\",\"type\":\"Title\"},\"toolbar\":{\"id\":\"618700ac-4c35-48db-b9bb-09c911a389dd\",\"type\":\"Toolbar\"},\"toolbar_location\":null,\"x_range\":{\"id\":\"588fd25d-076c-4fb7-a69f-a540b8691c03\",\"type\":\"DataRange1d\"},\"x_scale\":{\"id\":\"8621ecb2-2d31-414a-b79e-73394b1915fd\",\"type\":\"LinearScale\"},\"y_range\":{\"id\":\"4d34edf8-fe8d-45bb-a14b-5ef2df510539\",\"type\":\"DataRange1d\"},\"y_scale\":{\"id\":\"486da4bd-450e-4644-848e-9175d881f5c8\",\"type\":\"LinearScale\"}},\"id\":\"523950b2-a6df-40b2-8ecb-aa34865e48ba\",\"subtype\":\"Figure\",\"type\":\"Plot\"},{\"attributes\":{},\"id\":\"7fbdd608-8d01-4943-bae1-0c73c894cb41\",\"type\":\"PanTool\"},{\"attributes\":{\"active_drag\":\"auto\",\"active_inspect\":\"auto\",\"active_multi\":null,\"active_scroll\":\"auto\",\"active_tap\":\"auto\",\"tools\":[{\"id\":\"7fbdd608-8d01-4943-bae1-0c73c894cb41\",\"type\":\"PanTool\"},{\"id\":\"a24c979f-ed5e-4e34-bb23-e468fcf74de6\",\"type\":\"WheelZoomTool\"},{\"id\":\"b835f41a-ed41-4f00-96ab-388322bfcbb8\",\"type\":\"BoxZoomTool\"},{\"id\":\"b18c2e98-19ec-4eb0-9e44-ca924f2c8ce0\",\"type\":\"SaveTool\"},{\"id\":\"83d99112-e404-4679-bd44-c7b1eb389a84\",\"type\":\"ResetTool\"},{\"id\":\"30641cc3-87d7-4ef4-98c2-25fcf42d621c\",\"type\":\"HelpTool\"}]},\"id\":\"618700ac-4c35-48db-b9bb-09c911a389dd\",\"type\":\"Toolbar\"},{\"attributes\":{},\"id\":\"a24c979f-ed5e-4e34-bb23-e468fcf74de6\",\"type\":\"WheelZoomTool\"},{\"attributes\":{\"overlay\":{\"id\":\"4fd9c829-8916-4186-a446-31f8d9ea4ae0\",\"type\":\"BoxAnnotation\"}},\"id\":\"b835f41a-ed41-4f00-96ab-388322bfcbb8\",\"type\":\"BoxZoomTool\"},{\"attributes\":{},\"id\":\"b18c2e98-19ec-4eb0-9e44-ca924f2c8ce0\",\"type\":\"SaveTool\"},{\"attributes\":{\"callback\":null},\"id\":\"4d34edf8-fe8d-45bb-a14b-5ef2df510539\",\"type\":\"DataRange1d\"},{\"attributes\":{},\"id\":\"83d99112-e404-4679-bd44-c7b1eb389a84\",\"type\":\"ResetTool\"},{\"attributes\":{},\"id\":\"30641cc3-87d7-4ef4-98c2-25fcf42d621c\",\"type\":\"HelpTool\"},{\"attributes\":{},\"id\":\"8621ecb2-2d31-414a-b79e-73394b1915fd\",\"type\":\"LinearScale\"},{\"attributes\":{\"plot\":null,\"text\":\"\"},\"id\":\"731008dc-4e99-4187-9075-f9969e693cbc\",\"type\":\"Title\"},{\"attributes\":{\"bottom_units\":\"screen\",\"fill_alpha\":{\"value\":0.5},\"fill_color\":{\"value\":\"lightgrey\"},\"left_units\":\"screen\",\"level\":\"overlay\",\"line_alpha\":{\"value\":1.0},\"line_color\":{\"value\":\"black\"},\"line_dash\":[4,4],\"line_width\":{\"value\":2},\"plot\":null,\"render_mode\":\"css\",\"right_units\":\"screen\",\"top_units\":\"screen\"},\"id\":\"4fd9c829-8916-4186-a446-31f8d9ea4ae0\",\"type\":\"BoxAnnotation\"},{\"attributes\":{\"callback\":null},\"id\":\"588fd25d-076c-4fb7-a69f-a540b8691c03\",\"type\":\"DataRange1d\"},{\"attributes\":{},\"id\":\"e42e3ef9-549e-4f00-9f3b-6394f105ed23\",\"type\":\"BasicTickFormatter\"},{\"attributes\":{\"plot\":{\"id\":\"523950b2-a6df-40b2-8ecb-aa34865e48ba\",\"subtype\":\"Figure\",\"type\":\"Plot\"},\"ticker\":{\"id\":\"6ddfe78c-9c5b-49b8-b3fb-9f9db91cea2b\",\"type\":\"BasicTicker\"}},\"id\":\"79637428-fcfb-41f5-aaeb-39fb2d514ccc\",\"type\":\"Grid\"}],\"root_ids\":[\"523950b2-a6df-40b2-8ecb-aa34865e48ba\"]},\"title\":\"Bokeh Application\",\"version\":\"0.13.0\"}};\n",
       "  var render_items = [{\"docid\":\"60aa1a8c-058e-446b-a946-c886a3b712e7\",\"roots\":{\"523950b2-a6df-40b2-8ecb-aa34865e48ba\":\"530b9202-1b50-4d14-9b19-d7225e85974c\"}}];\n",
       "  root.Bokeh.embed.embed_items_notebook(docs_json, render_items);\n",
       "\n",
       "  }\n",
       "  if (root.Bokeh !== undefined) {\n",
       "    embed_document(root);\n",
       "  } else {\n",
       "    var attempts = 0;\n",
       "    var timer = setInterval(function(root) {\n",
       "      if (root.Bokeh !== undefined) {\n",
       "        embed_document(root);\n",
       "        clearInterval(timer);\n",
       "      }\n",
       "      attempts++;\n",
       "      if (attempts > 100) {\n",
       "        console.log(\"Bokeh: ERROR: Unable to run BokehJS code because BokehJS library is missing\")\n",
       "        clearInterval(timer);\n",
       "      }\n",
       "    }, 10, root)\n",
       "  }\n",
       "})(window);"
      ],
      "application/vnd.bokehjs_exec.v0+json": ""
     },
     "metadata": {
      "application/vnd.bokehjs_exec.v0+json": {
       "id": "523950b2-a6df-40b2-8ecb-aa34865e48ba"
      }
     },
     "output_type": "display_data"
    },
    {
     "data": {
      "image/png": "[encoded data removed]",
      "text/plain": [
       "<Figure size 432x288 with 1 Axes>"
      ]
     },
     "metadata": {
      "needs_background": "light"
     },
     "output_type": "display_data"
    }
   ],
   "source": [
    "\n",
    "\n",
    "year = [\"97\", \"98\", \"99\", \"00\", \"01\", \"02\", \"03\", \"04\", \"05\", \"09\", \"10\", \"11\", \"12\",  \"14\", \"15\", \"16\", \"17\", \"18\"]\n",
    "luas = [0, 0, 0, 2, 0, 2, 0, 4, 10, 2, 1, 0, 0, 0, 2, 2, 17, 1]\n",
    "m50 = [0, 0, 0, 1, 0, 1, 0, 0, 3, 0, 0, 0, 0, 0, 0, 0, 0, 0]\n",
    "broadband = [0, 1, 8, 5, 1, 1, 3, 3, 19, 7, 6, 1, 4, 4, 26, 5, 6, 16]\n",
    "\n",
    "ypos = np.arange(len(m50))\n",
    "\n",
    "plt.xticks(ypos, year)\n",
    "plt.ylabel(\"No. of occurences\")\n",
    "plt.xlabel(\"Year\")\n",
    "plt.bar(ypos+.1, luas, label = \"luas\" ,alpha = .9)\n",
    "plt.bar(ypos+.3, m50,  label = \"m50\", alpha = 1, color=\"red\")\n",
    "plt.bar(ypos+.2, broadband,  label = \"broadband\", alpha = .5)\n",
    "\n",
    "plt.legend()\n",
    "show(q)"
   ]
  },
  {
   "cell_type": "code",
   "execution_count": 242,
   "metadata": {},
   "outputs": [
    {
     "data": {
      "text/html": [
       "\n",
       "    <div class=\"bk-root\">\n",
       "        <a href=\"https://bokeh.pydata.org\" target=\"_blank\" class=\"bk-logo bk-logo-small bk-logo-notebook\"></a>\n",
       "        <span id=\"a186e1a3-f23e-40bf-8f82-a113dfc15d20\">Loading BokehJS ...</span>\n",
       "    </div>"
      ]
     },
     "metadata": {},
     "output_type": "display_data"
    },
    {
     "data": {
      "application/javascript": [
       "\n",
       "(function(root) {\n",
       "  function now() {\n",
       "    return new Date();\n",
       "  }\n",
       "\n",
       "  var force = true;\n",
       "\n",
       "  if (typeof (root._bokeh_onload_callbacks) === \"undefined\" || force === true) {\n",
       "    root._bokeh_onload_callbacks = [];\n",
       "    root._bokeh_is_loading = undefined;\n",
       "  }\n",
       "\n",
       "  var JS_MIME_TYPE = 'application/javascript';\n",
       "  var HTML_MIME_TYPE = 'text/html';\n",
       "  var EXEC_MIME_TYPE = 'application/vnd.bokehjs_exec.v0+json';\n",
       "  var CLASS_NAME = 'output_bokeh rendered_html';\n",
       "\n",
       "  /**\n",
       "   * Render data to the DOM node\n",
       "   */\n",
       "  function render(props, node) {\n",
       "    var script = document.createElement(\"script\");\n",
       "    node.appendChild(script);\n",
       "  }\n",
       "\n",
       "  /**\n",
       "   * Handle when an output is cleared or removed\n",
       "   */\n",
       "  function handleClearOutput(event, handle) {\n",
       "    var cell = handle.cell;\n",
       "\n",
       "    var id = cell.output_area._bokeh_element_id;\n",
       "    var server_id = cell.output_area._bokeh_server_id;\n",
       "    // Clean up Bokeh references\n",
       "    if (id != null && id in Bokeh.index) {\n",
       "      Bokeh.index[id].model.document.clear();\n",
       "      delete Bokeh.index[id];\n",
       "    }\n",
       "\n",
       "    if (server_id !== undefined) {\n",
       "      // Clean up Bokeh references\n",
       "      var cmd = \"from bokeh.io.state import curstate; print(curstate().uuid_to_server['\" + server_id + \"'].get_sessions()[0].document.roots[0]._id)\";\n",
       "      cell.notebook.kernel.execute(cmd, {\n",
       "        iopub: {\n",
       "          output: function(msg) {\n",
       "            var id = msg.content.text.trim();\n",
       "            if (id in Bokeh.index) {\n",
       "              Bokeh.index[id].model.document.clear();\n",
       "              delete Bokeh.index[id];\n",
       "            }\n",
       "          }\n",
       "        }\n",
       "      });\n",
       "      // Destroy server and session\n",
       "      var cmd = \"import bokeh.io.notebook as ion; ion.destroy_server('\" + server_id + \"')\";\n",
       "      cell.notebook.kernel.execute(cmd);\n",
       "    }\n",
       "  }\n",
       "\n",
       "  /**\n",
       "   * Handle when a new output is added\n",
       "   */\n",
       "  function handleAddOutput(event, handle) {\n",
       "    var output_area = handle.output_area;\n",
       "    var output = handle.output;\n",
       "\n",
       "    // limit handleAddOutput to display_data with EXEC_MIME_TYPE content only\n",
       "    if ((output.output_type != \"display_data\") || (!output.data.hasOwnProperty(EXEC_MIME_TYPE))) {\n",
       "      return\n",
       "    }\n",
       "\n",
       "    var toinsert = output_area.element.find(\".\" + CLASS_NAME.split(' ')[0]);\n",
       "\n",
       "    if (output.metadata[EXEC_MIME_TYPE][\"id\"] !== undefined) {\n",
       "      toinsert[toinsert.length - 1].firstChild.textContent = output.data[JS_MIME_TYPE];\n",
       "      // store reference to embed id on output_area\n",
       "      output_area._bokeh_element_id = output.metadata[EXEC_MIME_TYPE][\"id\"];\n",
       "    }\n",
       "    if (output.metadata[EXEC_MIME_TYPE][\"server_id\"] !== undefined) {\n",
       "      var bk_div = document.createElement(\"div\");\n",
       "      bk_div.innerHTML = output.data[HTML_MIME_TYPE];\n",
       "      var script_attrs = bk_div.children[0].attributes;\n",
       "      for (var i = 0; i < script_attrs.length; i++) {\n",
       "        toinsert[toinsert.length - 1].firstChild.setAttribute(script_attrs[i].name, script_attrs[i].value);\n",
       "      }\n",
       "      // store reference to server id on output_area\n",
       "      output_area._bokeh_server_id = output.metadata[EXEC_MIME_TYPE][\"server_id\"];\n",
       "    }\n",
       "  }\n",
       "\n",
       "  function register_renderer(events, OutputArea) {\n",
       "\n",
       "    function append_mime(data, metadata, element) {\n",
       "      // create a DOM node to render to\n",
       "      var toinsert = this.create_output_subarea(\n",
       "        metadata,\n",
       "        CLASS_NAME,\n",
       "        EXEC_MIME_TYPE\n",
       "      );\n",
       "      this.keyboard_manager.register_events(toinsert);\n",
       "      // Render to node\n",
       "      var props = {data: data, metadata: metadata[EXEC_MIME_TYPE]};\n",
       "      render(props, toinsert[toinsert.length - 1]);\n",
       "      element.append(toinsert);\n",
       "      return toinsert\n",
       "    }\n",
       "\n",
       "    /* Handle when an output is cleared or removed */\n",
       "    events.on('clear_output.CodeCell', handleClearOutput);\n",
       "    events.on('delete.Cell', handleClearOutput);\n",
       "\n",
       "    /* Handle when a new output is added */\n",
       "    events.on('output_added.OutputArea', handleAddOutput);\n",
       "\n",
       "    /**\n",
       "     * Register the mime type and append_mime function with output_area\n",
       "     */\n",
       "    OutputArea.prototype.register_mime_type(EXEC_MIME_TYPE, append_mime, {\n",
       "      /* Is output safe? */\n",
       "      safe: true,\n",
       "      /* Index of renderer in `output_area.display_order` */\n",
       "      index: 0\n",
       "    });\n",
       "  }\n",
       "\n",
       "  // register the mime type if in Jupyter Notebook environment and previously unregistered\n",
       "  if (root.Jupyter !== undefined) {\n",
       "    var events = require('base/js/events');\n",
       "    var OutputArea = require('notebook/js/outputarea').OutputArea;\n",
       "\n",
       "    if (OutputArea.prototype.mime_types().indexOf(EXEC_MIME_TYPE) == -1) {\n",
       "      register_renderer(events, OutputArea);\n",
       "    }\n",
       "  }\n",
       "\n",
       "  \n",
       "  if (typeof (root._bokeh_timeout) === \"undefined\" || force === true) {\n",
       "    root._bokeh_timeout = Date.now() + 5000;\n",
       "    root._bokeh_failed_load = false;\n",
       "  }\n",
       "\n",
       "  var NB_LOAD_WARNING = {'data': {'text/html':\n",
       "     \"<div style='background-color: #fdd'>\\n\"+\n",
       "     \"<p>\\n\"+\n",
       "     \"BokehJS does not appear to have successfully loaded. If loading BokehJS from CDN, this \\n\"+\n",
       "     \"may be due to a slow or bad network connection. Possible fixes:\\n\"+\n",
       "     \"</p>\\n\"+\n",
       "     \"<ul>\\n\"+\n",
       "     \"<li>re-rerun `output_notebook()` to attempt to load from CDN again, or</li>\\n\"+\n",
       "     \"<li>use INLINE resources instead, as so:</li>\\n\"+\n",
       "     \"</ul>\\n\"+\n",
       "     \"<code>\\n\"+\n",
       "     \"from bokeh.resources import INLINE\\n\"+\n",
       "     \"output_notebook(resources=INLINE)\\n\"+\n",
       "     \"</code>\\n\"+\n",
       "     \"</div>\"}};\n",
       "\n",
       "  function display_loaded() {\n",
       "    var el = document.getElementById(\"a186e1a3-f23e-40bf-8f82-a113dfc15d20\");\n",
       "    if (el != null) {\n",
       "      el.textContent = \"BokehJS is loading...\";\n",
       "    }\n",
       "    if (root.Bokeh !== undefined) {\n",
       "      if (el != null) {\n",
       "        el.textContent = \"BokehJS \" + root.Bokeh.version + \" successfully loaded.\";\n",
       "      }\n",
       "    } else if (Date.now() < root._bokeh_timeout) {\n",
       "      setTimeout(display_loaded, 100)\n",
       "    }\n",
       "  }\n",
       "\n",
       "\n",
       "  function run_callbacks() {\n",
       "    try {\n",
       "      root._bokeh_onload_callbacks.forEach(function(callback) { callback() });\n",
       "    }\n",
       "    finally {\n",
       "      delete root._bokeh_onload_callbacks\n",
       "    }\n",
       "    console.info(\"Bokeh: all callbacks have finished\");\n",
       "  }\n",
       "\n",
       "  function load_libs(js_urls, callback) {\n",
       "    root._bokeh_onload_callbacks.push(callback);\n",
       "    if (root._bokeh_is_loading > 0) {\n",
       "      console.log(\"Bokeh: BokehJS is being loaded, scheduling callback at\", now());\n",
       "      return null;\n",
       "    }\n",
       "    if (js_urls == null || js_urls.length === 0) {\n",
       "      run_callbacks();\n",
       "      return null;\n",
       "    }\n",
       "    console.log(\"Bokeh: BokehJS not loaded, scheduling load and callback at\", now());\n",
       "    root._bokeh_is_loading = js_urls.length;\n",
       "    for (var i = 0; i < js_urls.length; i++) {\n",
       "      var url = js_urls[i];\n",
       "      var s = document.createElement('script');\n",
       "      s.src = url;\n",
       "      s.async = false;\n",
       "      s.onreadystatechange = s.onload = function() {\n",
       "        root._bokeh_is_loading--;\n",
       "        if (root._bokeh_is_loading === 0) {\n",
       "          console.log(\"Bokeh: all BokehJS libraries loaded\");\n",
       "          run_callbacks()\n",
       "        }\n",
       "      };\n",
       "      s.onerror = function() {\n",
       "        console.warn(\"failed to load library \" + url);\n",
       "      };\n",
       "      console.log(\"Bokeh: injecting script tag for BokehJS library: \", url);\n",
       "      document.getElementsByTagName(\"head\")[0].appendChild(s);\n",
       "    }\n",
       "  };var element = document.getElementById(\"a186e1a3-f23e-40bf-8f82-a113dfc15d20\");\n",
       "  if (element == null) {\n",
       "    console.log(\"Bokeh: ERROR: autoload.js configured with elementid 'a186e1a3-f23e-40bf-8f82-a113dfc15d20' but no matching script tag was found. \")\n",
       "    return false;\n",
       "  }\n",
       "\n",
       "  var js_urls = [\"https://cdn.pydata.org/bokeh/release/bokeh-0.13.0.min.js\", \"https://cdn.pydata.org/bokeh/release/bokeh-widgets-0.13.0.min.js\", \"https://cdn.pydata.org/bokeh/release/bokeh-tables-0.13.0.min.js\", \"https://cdn.pydata.org/bokeh/release/bokeh-gl-0.13.0.min.js\"];\n",
       "\n",
       "  var inline_js = [\n",
       "    function(Bokeh) {\n",
       "      Bokeh.set_log_level(\"info\");\n",
       "    },\n",
       "    \n",
       "    function(Bokeh) {\n",
       "      \n",
       "    },\n",
       "    function(Bokeh) {\n",
       "      console.log(\"Bokeh: injecting CSS: https://cdn.pydata.org/bokeh/release/bokeh-0.13.0.min.css\");\n",
       "      Bokeh.embed.inject_css(\"https://cdn.pydata.org/bokeh/release/bokeh-0.13.0.min.css\");\n",
       "      console.log(\"Bokeh: injecting CSS: https://cdn.pydata.org/bokeh/release/bokeh-widgets-0.13.0.min.css\");\n",
       "      Bokeh.embed.inject_css(\"https://cdn.pydata.org/bokeh/release/bokeh-widgets-0.13.0.min.css\");\n",
       "      console.log(\"Bokeh: injecting CSS: https://cdn.pydata.org/bokeh/release/bokeh-tables-0.13.0.min.css\");\n",
       "      Bokeh.embed.inject_css(\"https://cdn.pydata.org/bokeh/release/bokeh-tables-0.13.0.min.css\");\n",
       "    }\n",
       "  ];\n",
       "\n",
       "  function run_inline_js() {\n",
       "    \n",
       "    if ((root.Bokeh !== undefined) || (force === true)) {\n",
       "      for (var i = 0; i < inline_js.length; i++) {\n",
       "        inline_js[i].call(root, root.Bokeh);\n",
       "      }if (force === true) {\n",
       "        display_loaded();\n",
       "      }} else if (Date.now() < root._bokeh_timeout) {\n",
       "      setTimeout(run_inline_js, 100);\n",
       "    } else if (!root._bokeh_failed_load) {\n",
       "      console.log(\"Bokeh: BokehJS failed to load within specified timeout.\");\n",
       "      root._bokeh_failed_load = true;\n",
       "    } else if (force !== true) {\n",
       "      var cell = $(document.getElementById(\"a186e1a3-f23e-40bf-8f82-a113dfc15d20\")).parents('.cell').data().cell;\n",
       "      cell.output_area.append_execute_result(NB_LOAD_WARNING)\n",
       "    }\n",
       "\n",
       "  }\n",
       "\n",
       "  if (root._bokeh_is_loading === 0) {\n",
       "    console.log(\"Bokeh: BokehJS loaded, going straight to plotting\");\n",
       "    run_inline_js();\n",
       "  } else {\n",
       "    load_libs(js_urls, function() {\n",
       "      console.log(\"Bokeh: BokehJS plotting callback run at\", now());\n",
       "      run_inline_js();\n",
       "    });\n",
       "  }\n",
       "}(window));"
      ],
      "application/vnd.bokehjs_load.v0+json": "\n(function(root) {\n  function now() {\n    return new Date();\n  }\n\n  var force = true;\n\n  if (typeof (root._bokeh_onload_callbacks) === \"undefined\" || force === true) {\n    root._bokeh_onload_callbacks = [];\n    root._bokeh_is_loading = undefined;\n  }\n\n  \n\n  \n  if (typeof (root._bokeh_timeout) === \"undefined\" || force === true) {\n    root._bokeh_timeout = Date.now() + 5000;\n    root._bokeh_failed_load = false;\n  }\n\n  var NB_LOAD_WARNING = {'data': {'text/html':\n     \"<div style='background-color: #fdd'>\\n\"+\n     \"<p>\\n\"+\n     \"BokehJS does not appear to have successfully loaded. If loading BokehJS from CDN, this \\n\"+\n     \"may be due to a slow or bad network connection. Possible fixes:\\n\"+\n     \"</p>\\n\"+\n     \"<ul>\\n\"+\n     \"<li>re-rerun `output_notebook()` to attempt to load from CDN again, or</li>\\n\"+\n     \"<li>use INLINE resources instead, as so:</li>\\n\"+\n     \"</ul>\\n\"+\n     \"<code>\\n\"+\n     \"from bokeh.resources import INLINE\\n\"+\n     \"output_notebook(resources=INLINE)\\n\"+\n     \"</code>\\n\"+\n     \"</div>\"}};\n\n  function display_loaded() {\n    var el = document.getElementById(\"a186e1a3-f23e-40bf-8f82-a113dfc15d20\");\n    if (el != null) {\n      el.textContent = \"BokehJS is loading...\";\n    }\n    if (root.Bokeh !== undefined) {\n      if (el != null) {\n        el.textContent = \"BokehJS \" + root.Bokeh.version + \" successfully loaded.\";\n      }\n    } else if (Date.now() < root._bokeh_timeout) {\n      setTimeout(display_loaded, 100)\n    }\n  }\n\n\n  function run_callbacks() {\n    try {\n      root._bokeh_onload_callbacks.forEach(function(callback) { callback() });\n    }\n    finally {\n      delete root._bokeh_onload_callbacks\n    }\n    console.info(\"Bokeh: all callbacks have finished\");\n  }\n\n  function load_libs(js_urls, callback) {\n    root._bokeh_onload_callbacks.push(callback);\n    if (root._bokeh_is_loading > 0) {\n      console.log(\"Bokeh: BokehJS is being loaded, scheduling callback at\", now());\n      return null;\n    }\n    if (js_urls == null || js_urls.length === 0) {\n      run_callbacks();\n      return null;\n    }\n    console.log(\"Bokeh: BokehJS not loaded, scheduling load and callback at\", now());\n    root._bokeh_is_loading = js_urls.length;\n    for (var i = 0; i < js_urls.length; i++) {\n      var url = js_urls[i];\n      var s = document.createElement('script');\n      s.src = url;\n      s.async = false;\n      s.onreadystatechange = s.onload = function() {\n        root._bokeh_is_loading--;\n        if (root._bokeh_is_loading === 0) {\n          console.log(\"Bokeh: all BokehJS libraries loaded\");\n          run_callbacks()\n        }\n      };\n      s.onerror = function() {\n        console.warn(\"failed to load library \" + url);\n      };\n      console.log(\"Bokeh: injecting script tag for BokehJS library: \", url);\n      document.getElementsByTagName(\"head\")[0].appendChild(s);\n    }\n  };var element = document.getElementById(\"a186e1a3-f23e-40bf-8f82-a113dfc15d20\");\n  if (element == null) {\n    console.log(\"Bokeh: ERROR: autoload.js configured with elementid 'a186e1a3-f23e-40bf-8f82-a113dfc15d20' but no matching script tag was found. \")\n    return false;\n  }\n\n  var js_urls = [\"https://cdn.pydata.org/bokeh/release/bokeh-0.13.0.min.js\", \"https://cdn.pydata.org/bokeh/release/bokeh-widgets-0.13.0.min.js\", \"https://cdn.pydata.org/bokeh/release/bokeh-tables-0.13.0.min.js\", \"https://cdn.pydata.org/bokeh/release/bokeh-gl-0.13.0.min.js\"];\n\n  var inline_js = [\n    function(Bokeh) {\n      Bokeh.set_log_level(\"info\");\n    },\n    \n    function(Bokeh) {\n      \n    },\n    function(Bokeh) {\n      console.log(\"Bokeh: injecting CSS: https://cdn.pydata.org/bokeh/release/bokeh-0.13.0.min.css\");\n      Bokeh.embed.inject_css(\"https://cdn.pydata.org/bokeh/release/bokeh-0.13.0.min.css\");\n      console.log(\"Bokeh: injecting CSS: https://cdn.pydata.org/bokeh/release/bokeh-widgets-0.13.0.min.css\");\n      Bokeh.embed.inject_css(\"https://cdn.pydata.org/bokeh/release/bokeh-widgets-0.13.0.min.css\");\n      console.log(\"Bokeh: injecting CSS: https://cdn.pydata.org/bokeh/release/bokeh-tables-0.13.0.min.css\");\n      Bokeh.embed.inject_css(\"https://cdn.pydata.org/bokeh/release/bokeh-tables-0.13.0.min.css\");\n    }\n  ];\n\n  function run_inline_js() {\n    \n    if ((root.Bokeh !== undefined) || (force === true)) {\n      for (var i = 0; i < inline_js.length; i++) {\n        inline_js[i].call(root, root.Bokeh);\n      }if (force === true) {\n        display_loaded();\n      }} else if (Date.now() < root._bokeh_timeout) {\n      setTimeout(run_inline_js, 100);\n    } else if (!root._bokeh_failed_load) {\n      console.log(\"Bokeh: BokehJS failed to load within specified timeout.\");\n      root._bokeh_failed_load = true;\n    } else if (force !== true) {\n      var cell = $(document.getElementById(\"a186e1a3-f23e-40bf-8f82-a113dfc15d20\")).parents('.cell').data().cell;\n      cell.output_area.append_execute_result(NB_LOAD_WARNING)\n    }\n\n  }\n\n  if (root._bokeh_is_loading === 0) {\n    console.log(\"Bokeh: BokehJS loaded, going straight to plotting\");\n    run_inline_js();\n  } else {\n    load_libs(js_urls, function() {\n      console.log(\"Bokeh: BokehJS plotting callback run at\", now());\n      run_inline_js();\n    });\n  }\n}(window));"
     },
     "metadata": {},
     "output_type": "display_data"
    },
    {
     "data": {
      "text/html": [
       "\n",
       "\n",
       "\n",
       "\n",
       "\n",
       "\n",
       "  <div class=\"bk-root\" id=\"1fd9e163-6087-4eeb-ab1d-4bb353aad74d\"></div>\n"
      ]
     },
     "metadata": {},
     "output_type": "display_data"
    },
    {
     "data": {
      "application/javascript": [
       "(function(root) {\n",
       "  function embed_document(root) {\n",
       "    \n",
       "  var docs_json = {\"da6ff252-f26c-4d31-997c-f793e200c140\":{\"roots\":{\"references\":[{\"attributes\":{},\"id\":\"c7b33333-3fa4-4669-9484-fd998c8362f6\",\"type\":\"PanTool\"},{\"attributes\":{},\"id\":\"dc0e7ed6-4e10-4f90-ae30-d12ef7a67053\",\"type\":\"UnionRenderers\"},{\"attributes\":{\"callback\":null,\"data\":{\"x\":[1997,1998,1999,2000,2001,2002,2003,2004,2005,2009,2010,2011,2012,2014,2015,2016,2017,2018],\"y\":[0,4,5,10,5,5,3,3,25,2,6,2,6,9,30,30,11,10]},\"selected\":{\"id\":\"400a075e-bb55-4e8e-bb46-a3ae150fa844\",\"type\":\"Selection\"},\"selection_policy\":{\"id\":\"dc0e7ed6-4e10-4f90-ae30-d12ef7a67053\",\"type\":\"UnionRenderers\"}},\"id\":\"14d2ab40-5597-4895-a71f-dc4703c3909c\",\"type\":\"ColumnDataSource\"},{\"attributes\":{},\"id\":\"41038735-2dab-4548-a26d-426cd6d73e02\",\"type\":\"BasicTickFormatter\"},{\"attributes\":{\"line_alpha\":0.1,\"line_color\":\"#1f77b4\",\"x\":{\"field\":\"x\"},\"y\":{\"field\":\"y\"}},\"id\":\"e3d7d77c-bbc3-4a70-88d4-fcfd23baee51\",\"type\":\"Line\"},{\"attributes\":{},\"id\":\"4009270c-14c0-49c9-8f20-bca3e38299e3\",\"type\":\"Selection\"},{\"attributes\":{},\"id\":\"9486a2f5-85e1-4071-948d-7d9005dc9736\",\"type\":\"UnionRenderers\"},{\"attributes\":{\"line_color\":\"red\",\"x\":{\"field\":\"x\"},\"y\":{\"field\":\"y\"}},\"id\":\"f93dbc39-be93-4190-9151-fcb0f4d8354d\",\"type\":\"Line\"},{\"attributes\":{\"line_alpha\":0.1,\"line_color\":\"#1f77b4\",\"x\":{\"field\":\"x\"},\"y\":{\"field\":\"y\"}},\"id\":\"a1d128da-dbd3-4fa8-b1c4-9d9697f30c64\",\"type\":\"Line\"},{\"attributes\":{},\"id\":\"dc787801-0c40-40c6-9e31-3cc3e0ffb96d\",\"type\":\"BasicTicker\"},{\"attributes\":{\"label\":{\"value\":\"1916\"},\"renderers\":[{\"id\":\"343403cf-319f-4bfa-aee9-b4d8dd0a2b33\",\"type\":\"GlyphRenderer\"}]},\"id\":\"c571d243-3ccb-4ea5-b1e0-f285518b3d24\",\"type\":\"LegendItem\"},{\"attributes\":{\"items\":[{\"id\":\"c571d243-3ccb-4ea5-b1e0-f285518b3d24\",\"type\":\"LegendItem\"},{\"id\":\"9afe6ec6-2ae0-4b7e-9afe-3b7b9914b0b6\",\"type\":\"LegendItem\"},{\"id\":\"de8cb8c2-f58b-4a2b-bfcd-81f70f1ce156\",\"type\":\"LegendItem\"}],\"location\":[10,-30],\"plot\":{\"id\":\"5a07d2ba-4a88-4df4-8230-79a502b95381\",\"subtype\":\"Figure\",\"type\":\"Plot\"}},\"id\":\"93a69516-fe81-457d-951e-f47619bafb3c\",\"type\":\"Legend\"},{\"attributes\":{},\"id\":\"6b2aea87-4abc-41ea-a7f4-d996fa5eebed\",\"type\":\"LinearScale\"},{\"attributes\":{\"source\":{\"id\":\"7f7cc730-1487-4a4c-bb3f-40cf8f6cceee\",\"type\":\"ColumnDataSource\"}},\"id\":\"1c8b4729-05f6-4929-b3fa-4bd6859216e2\",\"type\":\"CDSView\"},{\"attributes\":{\"callback\":null},\"id\":\"21fbaef8-1220-470a-8393-56b7d96e1838\",\"type\":\"DataRange1d\"},{\"attributes\":{},\"id\":\"3f8025d8-dc34-4952-9afc-86a18fb7e04b\",\"type\":\"Selection\"},{\"attributes\":{},\"id\":\"7d091925-d57e-4dcc-8480-f8e0f0d00db7\",\"type\":\"SaveTool\"},{\"attributes\":{\"callback\":null,\"data\":{\"x\":[1997,1998,1999,2000,2001,2002,2003,2004,2005,2009,2010,2011,2012,2014,2015,2016,2017,2018],\"y\":[0,0,0,1,8,1,1,0,5,0,5,3,0,11,36,24,8,5]},\"selected\":{\"id\":\"4009270c-14c0-49c9-8f20-bca3e38299e3\",\"type\":\"Selection\"},\"selection_policy\":{\"id\":\"49998d04-91d8-4c1a-b12a-785ad0e92b45\",\"type\":\"UnionRenderers\"}},\"id\":\"e9f40f4b-5ae6-472a-8162-392a80fc867d\",\"type\":\"ColumnDataSource\"},{\"attributes\":{},\"id\":\"400a075e-bb55-4e8e-bb46-a3ae150fa844\",\"type\":\"Selection\"},{\"attributes\":{\"overlay\":{\"id\":\"9c4ed1d9-56d6-4d9c-a807-89db6d191572\",\"type\":\"BoxAnnotation\"}},\"id\":\"6619b89d-2762-460c-9aa8-206b6df8071c\",\"type\":\"BoxZoomTool\"},{\"attributes\":{\"callback\":null,\"data\":{\"x\":[1997,1998,1999,2000,2001,2002,2003,2004,2005,2009,2010,2011,2012,2014,2015,2016,2017,2018],\"y\":[0,3,3,2,0,0,1,0,4,0,3,0,1,5,17,10,4,1]},\"selected\":{\"id\":\"3f8025d8-dc34-4952-9afc-86a18fb7e04b\",\"type\":\"Selection\"},\"selection_policy\":{\"id\":\"9486a2f5-85e1-4071-948d-7d9005dc9736\",\"type\":\"UnionRenderers\"}},\"id\":\"7f7cc730-1487-4a4c-bb3f-40cf8f6cceee\",\"type\":\"ColumnDataSource\"},{\"attributes\":{\"active_drag\":\"auto\",\"active_inspect\":\"auto\",\"active_multi\":null,\"active_scroll\":\"auto\",\"active_tap\":\"auto\",\"tools\":[{\"id\":\"c7b33333-3fa4-4669-9484-fd998c8362f6\",\"type\":\"PanTool\"},{\"id\":\"f58fbb7a-7de8-4588-8cdf-cb57d9de8159\",\"type\":\"WheelZoomTool\"},{\"id\":\"6619b89d-2762-460c-9aa8-206b6df8071c\",\"type\":\"BoxZoomTool\"},{\"id\":\"7d091925-d57e-4dcc-8480-f8e0f0d00db7\",\"type\":\"SaveTool\"},{\"id\":\"9cf8f429-218d-4315-934a-d3090f4c7822\",\"type\":\"ResetTool\"},{\"id\":\"72243d3d-c157-402e-a1a1-cbac8e7115d8\",\"type\":\"HelpTool\"}]},\"id\":\"22e4e972-73de-4a54-8338-decab123e370\",\"type\":\"Toolbar\"},{\"attributes\":{},\"id\":\"72243d3d-c157-402e-a1a1-cbac8e7115d8\",\"type\":\"HelpTool\"},{\"attributes\":{\"axis_label\":\"No. of occurences\",\"formatter\":{\"id\":\"41038735-2dab-4548-a26d-426cd6d73e02\",\"type\":\"BasicTickFormatter\"},\"plot\":{\"id\":\"5a07d2ba-4a88-4df4-8230-79a502b95381\",\"subtype\":\"Figure\",\"type\":\"Plot\"},\"ticker\":{\"id\":\"93c6b8a2-99ec-4372-b33e-ff32f8f0a4e3\",\"type\":\"BasicTicker\"}},\"id\":\"1d02c43a-1bd8-4638-a271-4c18b3b97057\",\"type\":\"LinearAxis\"},{\"attributes\":{},\"id\":\"49998d04-91d8-4c1a-b12a-785ad0e92b45\",\"type\":\"UnionRenderers\"},{\"attributes\":{},\"id\":\"f58fbb7a-7de8-4588-8cdf-cb57d9de8159\",\"type\":\"WheelZoomTool\"},{\"attributes\":{\"callback\":null},\"id\":\"32ec1b7e-1ecb-4398-807a-8a2833fceccc\",\"type\":\"DataRange1d\"},{\"attributes\":{\"plot\":null,\"text\":\"\"},\"id\":\"1c16ff5a-f715-4b53-8b3e-42d4df926d86\",\"type\":\"Title\"},{\"attributes\":{},\"id\":\"6f029013-4331-4bf9-bcba-774f3cb982ba\",\"type\":\"LinearScale\"},{\"attributes\":{\"line_alpha\":0.1,\"line_color\":\"#1f77b4\",\"x\":{\"field\":\"x\"},\"y\":{\"field\":\"y\"}},\"id\":\"141f4a63-aede-4602-ab81-37b158eb373e\",\"type\":\"Line\"},{\"attributes\":{\"dimension\":1,\"plot\":{\"id\":\"5a07d2ba-4a88-4df4-8230-79a502b95381\",\"subtype\":\"Figure\",\"type\":\"Plot\"},\"ticker\":{\"id\":\"93c6b8a2-99ec-4372-b33e-ff32f8f0a4e3\",\"type\":\"BasicTicker\"}},\"id\":\"4a8e2e1e-2079-42fc-88cc-1b43685b6c05\",\"type\":\"Grid\"},{\"attributes\":{\"label\":{\"value\":\"rising\"},\"renderers\":[{\"id\":\"df74fda8-1030-490e-92df-891054c9fe63\",\"type\":\"GlyphRenderer\"}]},\"id\":\"de8cb8c2-f58b-4a2b-bfcd-81f70f1ce156\",\"type\":\"LegendItem\"},{\"attributes\":{\"line_color\":\"blue\",\"x\":{\"field\":\"x\"},\"y\":{\"field\":\"y\"}},\"id\":\"5ad6db0a-a865-4c25-8540-2410127c1fc7\",\"type\":\"Line\"},{\"attributes\":{\"label\":{\"value\":\"easter\"},\"renderers\":[{\"id\":\"57c1713e-0762-493f-b3f3-ee189dd16625\",\"type\":\"GlyphRenderer\"}]},\"id\":\"9afe6ec6-2ae0-4b7e-9afe-3b7b9914b0b6\",\"type\":\"LegendItem\"},{\"attributes\":{\"data_source\":{\"id\":\"e9f40f4b-5ae6-472a-8162-392a80fc867d\",\"type\":\"ColumnDataSource\"},\"glyph\":{\"id\":\"f93dbc39-be93-4190-9151-fcb0f4d8354d\",\"type\":\"Line\"},\"hover_glyph\":null,\"muted_glyph\":null,\"nonselection_glyph\":{\"id\":\"a1d128da-dbd3-4fa8-b1c4-9d9697f30c64\",\"type\":\"Line\"},\"selection_glyph\":null,\"view\":{\"id\":\"1ac9fd35-ee90-4f54-af5b-208943f37710\",\"type\":\"CDSView\"}},\"id\":\"343403cf-319f-4bfa-aee9-b4d8dd0a2b33\",\"type\":\"GlyphRenderer\"},{\"attributes\":{\"below\":[{\"id\":\"591fa8dc-e2c0-44b7-b4b6-edef15f9fd05\",\"type\":\"LinearAxis\"}],\"left\":[{\"id\":\"1d02c43a-1bd8-4638-a271-4c18b3b97057\",\"type\":\"LinearAxis\"}],\"plot_height\":400,\"plot_width\":400,\"renderers\":[{\"id\":\"591fa8dc-e2c0-44b7-b4b6-edef15f9fd05\",\"type\":\"LinearAxis\"},{\"id\":\"3a984c12-599d-46be-b65e-826f780e5c54\",\"type\":\"Grid\"},{\"id\":\"1d02c43a-1bd8-4638-a271-4c18b3b97057\",\"type\":\"LinearAxis\"},{\"id\":\"4a8e2e1e-2079-42fc-88cc-1b43685b6c05\",\"type\":\"Grid\"},{\"id\":\"9c4ed1d9-56d6-4d9c-a807-89db6d191572\",\"type\":\"BoxAnnotation\"},{\"id\":\"343403cf-319f-4bfa-aee9-b4d8dd0a2b33\",\"type\":\"GlyphRenderer\"},{\"id\":\"57c1713e-0762-493f-b3f3-ee189dd16625\",\"type\":\"GlyphRenderer\"},{\"id\":\"df74fda8-1030-490e-92df-891054c9fe63\",\"type\":\"GlyphRenderer\"},{\"id\":\"93a69516-fe81-457d-951e-f47619bafb3c\",\"type\":\"Legend\"}],\"right\":[{\"id\":\"93a69516-fe81-457d-951e-f47619bafb3c\",\"type\":\"Legend\"}],\"title\":{\"id\":\"1c16ff5a-f715-4b53-8b3e-42d4df926d86\",\"type\":\"Title\"},\"toolbar\":{\"id\":\"22e4e972-73de-4a54-8338-decab123e370\",\"type\":\"Toolbar\"},\"toolbar_location\":null,\"x_range\":{\"id\":\"21fbaef8-1220-470a-8393-56b7d96e1838\",\"type\":\"DataRange1d\"},\"x_scale\":{\"id\":\"6f029013-4331-4bf9-bcba-774f3cb982ba\",\"type\":\"LinearScale\"},\"y_range\":{\"id\":\"32ec1b7e-1ecb-4398-807a-8a2833fceccc\",\"type\":\"DataRange1d\"},\"y_scale\":{\"id\":\"6b2aea87-4abc-41ea-a7f4-d996fa5eebed\",\"type\":\"LinearScale\"}},\"id\":\"5a07d2ba-4a88-4df4-8230-79a502b95381\",\"subtype\":\"Figure\",\"type\":\"Plot\"},{\"attributes\":{\"data_source\":{\"id\":\"14d2ab40-5597-4895-a71f-dc4703c3909c\",\"type\":\"ColumnDataSource\"},\"glyph\":{\"id\":\"07def59f-4053-425c-a962-450f0e97b8fb\",\"type\":\"Line\"},\"hover_glyph\":null,\"muted_glyph\":null,\"nonselection_glyph\":{\"id\":\"e3d7d77c-bbc3-4a70-88d4-fcfd23baee51\",\"type\":\"Line\"},\"selection_glyph\":null,\"view\":{\"id\":\"93132282-e738-47c6-bc87-142313ddbc6f\",\"type\":\"CDSView\"}},\"id\":\"df74fda8-1030-490e-92df-891054c9fe63\",\"type\":\"GlyphRenderer\"},{\"attributes\":{\"source\":{\"id\":\"e9f40f4b-5ae6-472a-8162-392a80fc867d\",\"type\":\"ColumnDataSource\"}},\"id\":\"1ac9fd35-ee90-4f54-af5b-208943f37710\",\"type\":\"CDSView\"},{\"attributes\":{\"axis_label\":\"year\",\"formatter\":{\"id\":\"e96fe81a-c029-446a-9590-e8cfdd345f4e\",\"type\":\"BasicTickFormatter\"},\"plot\":{\"id\":\"5a07d2ba-4a88-4df4-8230-79a502b95381\",\"subtype\":\"Figure\",\"type\":\"Plot\"},\"ticker\":{\"id\":\"dc787801-0c40-40c6-9e31-3cc3e0ffb96d\",\"type\":\"BasicTicker\"}},\"id\":\"591fa8dc-e2c0-44b7-b4b6-edef15f9fd05\",\"type\":\"LinearAxis\"},{\"attributes\":{\"data_source\":{\"id\":\"7f7cc730-1487-4a4c-bb3f-40cf8f6cceee\",\"type\":\"ColumnDataSource\"},\"glyph\":{\"id\":\"5ad6db0a-a865-4c25-8540-2410127c1fc7\",\"type\":\"Line\"},\"hover_glyph\":null,\"muted_glyph\":null,\"nonselection_glyph\":{\"id\":\"141f4a63-aede-4602-ab81-37b158eb373e\",\"type\":\"Line\"},\"selection_glyph\":null,\"view\":{\"id\":\"1c8b4729-05f6-4929-b3fa-4bd6859216e2\",\"type\":\"CDSView\"}},\"id\":\"57c1713e-0762-493f-b3f3-ee189dd16625\",\"type\":\"GlyphRenderer\"},{\"attributes\":{\"line_color\":\"green\",\"x\":{\"field\":\"x\"},\"y\":{\"field\":\"y\"}},\"id\":\"07def59f-4053-425c-a962-450f0e97b8fb\",\"type\":\"Line\"},{\"attributes\":{\"bottom_units\":\"screen\",\"fill_alpha\":{\"value\":0.5},\"fill_color\":{\"value\":\"lightgrey\"},\"left_units\":\"screen\",\"level\":\"overlay\",\"line_alpha\":{\"value\":1.0},\"line_color\":{\"value\":\"black\"},\"line_dash\":[4,4],\"line_width\":{\"value\":2},\"plot\":null,\"render_mode\":\"css\",\"right_units\":\"screen\",\"top_units\":\"screen\"},\"id\":\"9c4ed1d9-56d6-4d9c-a807-89db6d191572\",\"type\":\"BoxAnnotation\"},{\"attributes\":{},\"id\":\"93c6b8a2-99ec-4372-b33e-ff32f8f0a4e3\",\"type\":\"BasicTicker\"},{\"attributes\":{},\"id\":\"e96fe81a-c029-446a-9590-e8cfdd345f4e\",\"type\":\"BasicTickFormatter\"},{\"attributes\":{\"source\":{\"id\":\"14d2ab40-5597-4895-a71f-dc4703c3909c\",\"type\":\"ColumnDataSource\"}},\"id\":\"93132282-e738-47c6-bc87-142313ddbc6f\",\"type\":\"CDSView\"},{\"attributes\":{\"plot\":{\"id\":\"5a07d2ba-4a88-4df4-8230-79a502b95381\",\"subtype\":\"Figure\",\"type\":\"Plot\"},\"ticker\":{\"id\":\"dc787801-0c40-40c6-9e31-3cc3e0ffb96d\",\"type\":\"BasicTicker\"}},\"id\":\"3a984c12-599d-46be-b65e-826f780e5c54\",\"type\":\"Grid\"},{\"attributes\":{},\"id\":\"9cf8f429-218d-4315-934a-d3090f4c7822\",\"type\":\"ResetTool\"}],\"root_ids\":[\"5a07d2ba-4a88-4df4-8230-79a502b95381\"]},\"title\":\"Bokeh Application\",\"version\":\"0.13.0\"}};\n",
       "  var render_items = [{\"docid\":\"da6ff252-f26c-4d31-997c-f793e200c140\",\"roots\":{\"5a07d2ba-4a88-4df4-8230-79a502b95381\":\"1fd9e163-6087-4eeb-ab1d-4bb353aad74d\"}}];\n",
       "  root.Bokeh.embed.embed_items_notebook(docs_json, render_items);\n",
       "\n",
       "  }\n",
       "  if (root.Bokeh !== undefined) {\n",
       "    embed_document(root);\n",
       "  } else {\n",
       "    var attempts = 0;\n",
       "    var timer = setInterval(function(root) {\n",
       "      if (root.Bokeh !== undefined) {\n",
       "        embed_document(root);\n",
       "        clearInterval(timer);\n",
       "      }\n",
       "      attempts++;\n",
       "      if (attempts > 100) {\n",
       "        console.log(\"Bokeh: ERROR: Unable to run BokehJS code because BokehJS library is missing\")\n",
       "        clearInterval(timer);\n",
       "      }\n",
       "    }, 10, root)\n",
       "  }\n",
       "})(window);"
      ],
      "application/vnd.bokehjs_exec.v0+json": ""
     },
     "metadata": {
      "application/vnd.bokehjs_exec.v0+json": {
       "id": "5a07d2ba-4a88-4df4-8230-79a502b95381"
      }
     },
     "output_type": "display_data"
    }
   ],
   "source": [
    "from bokeh.plotting import figure, output_notebook, show\n",
    "from bokeh.models import Legend\n",
    "output_notebook()\n",
    "\n",
    "year = [1997, 1998, 1999, 2000, 2001, 2002, 2003, 2004, 2005, 2009, 2010, 2011, 2012, 2014, 2015, 2016, 2017, 2018]\n",
    "_1916 = [0, 0, 0, 1, 8, 1, 1, 0, 5, 0, 5, 3, 0, 11, 36, 24, 8, 5]\n",
    "rising = [0, 4, 5, 10, 5, 5, 3, 3, 25, 2, 6, 2, 6, 9, 30, 30, 11, 10]\n",
    "easter = [0, 3, 3, 2, 0, 0, 1, 0, 4, 0, 3, 0, 1, 5, 17, 10, 4, 1]\n",
    "\n",
    "\n",
    "p = figure(plot_width = 400, plot_height = 400, x_axis_label=\"year\", y_axis_label=\"No. of occurences\", toolbar_location=None)\n",
    "\n",
    "l1 = p.line(year, _1916,  color = \"red\")\n",
    "l2 = p.line(year, easter,  color = \"blue\")\n",
    "l3 = p.line(year, rising,  color = \"green\")\n",
    "# p.line(year, _1916,  color = \"red\", legend = \"1916\")\n",
    "# p.line(year, rising,  color = \"green\", legend = \"rising\")\n",
    "# p.line(year, easter,  color = \"blue\", legend = \"easter\")\n",
    "# p.add_layout(legend, 'right')\n",
    "# show(p)\n",
    "\n",
    "legend = Legend(items=[\n",
    "    (\"1916\",   [l1]),\n",
    "    (\"easter\", [l2]),\n",
    "    (\"rising\", [l3])\n",
    "], location=(10, -30))\n",
    "\n",
    "p.add_layout(legend, 'right')\n",
    "show(p)"
   ]
  },
  {
   "cell_type": "code",
   "execution_count": 243,
   "metadata": {},
   "outputs": [
    {
     "data": {
      "text/html": [
       "\n",
       "\n",
       "\n",
       "\n",
       "\n",
       "\n",
       "  <div class=\"bk-root\" id=\"5d8bba8f-05f1-4d03-a337-0fdaf10256cf\"></div>\n"
      ]
     },
     "metadata": {},
     "output_type": "display_data"
    },
    {
     "data": {
      "application/javascript": [
       "(function(root) {\n",
       "  function embed_document(root) {\n",
       "    \n",
       "  var docs_json = {\"3cea2652-8eb4-49f2-9835-0bf992e77641\":{\"roots\":{\"references\":[{\"attributes\":{},\"id\":\"cfad18fe-853d-41e7-969a-bdbda4dee472\",\"type\":\"BasicTickFormatter\"},{\"attributes\":{},\"id\":\"b22ed4f3-05c8-4fd0-8907-75f5e2139e7e\",\"type\":\"UnionRenderers\"},{\"attributes\":{},\"id\":\"966b3ecc-427e-4537-9ea6-09683832acd8\",\"type\":\"SaveTool\"},{\"attributes\":{\"overlay\":{\"id\":\"5f26b313-4355-4a00-bda0-714f87095c81\",\"type\":\"BoxAnnotation\"}},\"id\":\"d59f3b0d-18c2-4b93-aebe-cfc11c17da03\",\"type\":\"BoxZoomTool\"},{\"attributes\":{},\"id\":\"c2baaa8a-89fe-4d81-8777-b8eee037fd3a\",\"type\":\"WheelZoomTool\"},{\"attributes\":{\"items\":[{\"id\":\"ce203fb1-9cdb-4ad0-962b-d3fad2840945\",\"type\":\"LegendItem\"},{\"id\":\"c9fab9aa-b5e1-4e61-ba27-b55dba6eb8de\",\"type\":\"LegendItem\"},{\"id\":\"4accb88d-be3b-471b-9d61-dc1fa649d70a\",\"type\":\"LegendItem\"}],\"location\":[10,-30],\"plot\":{\"id\":\"d6424802-823b-4ae8-ba40-37e663f8f55c\",\"subtype\":\"Figure\",\"type\":\"Plot\"}},\"id\":\"3cadfd69-a16f-420c-b7cd-881a26ff8790\",\"type\":\"Legend\"},{\"attributes\":{\"active_drag\":\"auto\",\"active_inspect\":\"auto\",\"active_multi\":null,\"active_scroll\":\"auto\",\"active_tap\":\"auto\",\"tools\":[{\"id\":\"e35e6376-f350-4885-b391-52c7fb4faf2d\",\"type\":\"PanTool\"},{\"id\":\"c2baaa8a-89fe-4d81-8777-b8eee037fd3a\",\"type\":\"WheelZoomTool\"},{\"id\":\"d59f3b0d-18c2-4b93-aebe-cfc11c17da03\",\"type\":\"BoxZoomTool\"},{\"id\":\"966b3ecc-427e-4537-9ea6-09683832acd8\",\"type\":\"SaveTool\"},{\"id\":\"f66dc6a0-418a-4b97-b438-e39c344dd40e\",\"type\":\"ResetTool\"},{\"id\":\"b900ec9c-d67d-4708-923c-a70e20bc3308\",\"type\":\"HelpTool\"}]},\"id\":\"1993e11d-9966-4e59-a508-43292b33bb32\",\"type\":\"Toolbar\"},{\"attributes\":{\"below\":[{\"id\":\"64caed2d-75d8-4fde-b849-e7b2723a88ab\",\"type\":\"LinearAxis\"}],\"left\":[{\"id\":\"9b284114-1ea3-4b75-9446-805af246fd9e\",\"type\":\"LinearAxis\"}],\"plot_height\":400,\"plot_width\":400,\"renderers\":[{\"id\":\"64caed2d-75d8-4fde-b849-e7b2723a88ab\",\"type\":\"LinearAxis\"},{\"id\":\"881c52e6-d187-4f86-a934-555e5040a0bc\",\"type\":\"Grid\"},{\"id\":\"9b284114-1ea3-4b75-9446-805af246fd9e\",\"type\":\"LinearAxis\"},{\"id\":\"9cc14d3c-6635-4280-9475-e2aacdc89395\",\"type\":\"Grid\"},{\"id\":\"5f26b313-4355-4a00-bda0-714f87095c81\",\"type\":\"BoxAnnotation\"},{\"id\":\"96175a5b-9197-4245-8f24-b5ca039ecbe6\",\"type\":\"GlyphRenderer\"},{\"id\":\"5a51113b-3f08-4700-9ae3-cfe6ef7a8755\",\"type\":\"GlyphRenderer\"},{\"id\":\"0c085795-a4bc-4c85-86ba-525c00719e06\",\"type\":\"GlyphRenderer\"},{\"id\":\"3cadfd69-a16f-420c-b7cd-881a26ff8790\",\"type\":\"Legend\"}],\"right\":[{\"id\":\"3cadfd69-a16f-420c-b7cd-881a26ff8790\",\"type\":\"Legend\"}],\"title\":{\"id\":\"bacf4a5e-0f90-4241-81c4-c721a8fd9972\",\"type\":\"Title\"},\"toolbar\":{\"id\":\"1993e11d-9966-4e59-a508-43292b33bb32\",\"type\":\"Toolbar\"},\"toolbar_location\":null,\"x_range\":{\"id\":\"55c7813d-0ca5-4f9d-a749-5224975b887d\",\"type\":\"DataRange1d\"},\"x_scale\":{\"id\":\"32d1975b-3882-44cc-9dfd-07b5629e3046\",\"type\":\"LinearScale\"},\"y_range\":{\"id\":\"814e86ee-98cb-463c-8320-848c2443e41e\",\"type\":\"DataRange1d\"},\"y_scale\":{\"id\":\"8779306e-7022-4107-8b49-60b24480886b\",\"type\":\"LinearScale\"}},\"id\":\"d6424802-823b-4ae8-ba40-37e663f8f55c\",\"subtype\":\"Figure\",\"type\":\"Plot\"},{\"attributes\":{\"label\":{\"value\":\"lgbt\"},\"renderers\":[{\"id\":\"96175a5b-9197-4245-8f24-b5ca039ecbe6\",\"type\":\"GlyphRenderer\"}]},\"id\":\"ce203fb1-9cdb-4ad0-962b-d3fad2840945\",\"type\":\"LegendItem\"},{\"attributes\":{\"plot\":{\"id\":\"d6424802-823b-4ae8-ba40-37e663f8f55c\",\"subtype\":\"Figure\",\"type\":\"Plot\"},\"ticker\":{\"id\":\"31ee6e45-14c9-47f0-9214-035f2cceec0b\",\"type\":\"BasicTicker\"}},\"id\":\"881c52e6-d187-4f86-a934-555e5040a0bc\",\"type\":\"Grid\"},{\"attributes\":{\"label\":{\"value\":\"marriage\"},\"renderers\":[{\"id\":\"0c085795-a4bc-4c85-86ba-525c00719e06\",\"type\":\"GlyphRenderer\"}]},\"id\":\"4accb88d-be3b-471b-9d61-dc1fa649d70a\",\"type\":\"LegendItem\"},{\"attributes\":{\"label\":{\"value\":\"gay\"},\"renderers\":[{\"id\":\"5a51113b-3f08-4700-9ae3-cfe6ef7a8755\",\"type\":\"GlyphRenderer\"}]},\"id\":\"c9fab9aa-b5e1-4e61-ba27-b55dba6eb8de\",\"type\":\"LegendItem\"},{\"attributes\":{\"line_color\":\"red\",\"x\":{\"field\":\"x\"},\"y\":{\"field\":\"y\"}},\"id\":\"b5bd86b9-b4e3-4a3c-b677-308a02889e89\",\"type\":\"Line\"},{\"attributes\":{\"line_alpha\":0.1,\"line_color\":\"#1f77b4\",\"x\":{\"field\":\"x\"},\"y\":{\"field\":\"y\"}},\"id\":\"ab331490-69dd-4600-81ae-6901ba9a1abe\",\"type\":\"Line\"},{\"attributes\":{},\"id\":\"101bc229-add9-4973-8775-971f9dfbe622\",\"type\":\"UnionRenderers\"},{\"attributes\":{},\"id\":\"e35e6376-f350-4885-b391-52c7fb4faf2d\",\"type\":\"PanTool\"},{\"attributes\":{\"data_source\":{\"id\":\"e40e25d0-8779-4367-99a7-0a81e786c7b6\",\"type\":\"ColumnDataSource\"},\"glyph\":{\"id\":\"b5bd86b9-b4e3-4a3c-b677-308a02889e89\",\"type\":\"Line\"},\"hover_glyph\":null,\"muted_glyph\":null,\"nonselection_glyph\":{\"id\":\"ab331490-69dd-4600-81ae-6901ba9a1abe\",\"type\":\"Line\"},\"selection_glyph\":null,\"view\":{\"id\":\"b307b514-c1d0-4e08-b03e-a1d3870ca17e\",\"type\":\"CDSView\"}},\"id\":\"96175a5b-9197-4245-8f24-b5ca039ecbe6\",\"type\":\"GlyphRenderer\"},{\"attributes\":{\"source\":{\"id\":\"df0babca-d4d6-43d7-9b47-a095de29d20b\",\"type\":\"ColumnDataSource\"}},\"id\":\"b4de8ed2-f497-4947-a647-7b853f0243b2\",\"type\":\"CDSView\"},{\"attributes\":{},\"id\":\"4a68dab5-58dd-44d3-b765-9720e6c34fcf\",\"type\":\"Selection\"},{\"attributes\":{\"callback\":null,\"data\":{\"x\":[1997,1998,1999,2000,2001,2002,2003,2004,2005,2009,2010,2011,2012,2014,2015,2016,2017,2018],\"y\":[0,0,0,0,0,0,0,0,2,0,0,0,0,0,1,1,4,5]},\"selected\":{\"id\":\"ff08c12c-f8be-4809-bb99-ee37de3b3ddf\",\"type\":\"Selection\"},\"selection_policy\":{\"id\":\"101bc229-add9-4973-8775-971f9dfbe622\",\"type\":\"UnionRenderers\"}},\"id\":\"df0babca-d4d6-43d7-9b47-a095de29d20b\",\"type\":\"ColumnDataSource\"},{\"attributes\":{\"callback\":null,\"data\":{\"x\":[1997,1998,1999,2000,2001,2002,2003,2004,2005,2009,2010,2011,2012,2014,2015,2016,2017,2018],\"y\":[0,0,0,0,0,0,0,0,0,0,0,0,0,0,0,0,4,1]},\"selected\":{\"id\":\"77578604-6b52-4ef8-a74f-cc38e5a9bfba\",\"type\":\"Selection\"},\"selection_policy\":{\"id\":\"b22ed4f3-05c8-4fd0-8907-75f5e2139e7e\",\"type\":\"UnionRenderers\"}},\"id\":\"e40e25d0-8779-4367-99a7-0a81e786c7b6\",\"type\":\"ColumnDataSource\"},{\"attributes\":{\"line_color\":\"blue\",\"x\":{\"field\":\"x\"},\"y\":{\"field\":\"y\"}},\"id\":\"41ab0a13-c93e-4ef4-8003-013df428f5b4\",\"type\":\"Line\"},{\"attributes\":{},\"id\":\"b900ec9c-d67d-4708-923c-a70e20bc3308\",\"type\":\"HelpTool\"},{\"attributes\":{},\"id\":\"26d8e92a-6046-4e41-ba26-58eec66ebf53\",\"type\":\"BasicTickFormatter\"},{\"attributes\":{\"axis_label\":\"No. of occurences\",\"formatter\":{\"id\":\"26d8e92a-6046-4e41-ba26-58eec66ebf53\",\"type\":\"BasicTickFormatter\"},\"plot\":{\"id\":\"d6424802-823b-4ae8-ba40-37e663f8f55c\",\"subtype\":\"Figure\",\"type\":\"Plot\"},\"ticker\":{\"id\":\"d30fdf45-5b2d-4276-ad5b-8cd7b8a0958d\",\"type\":\"BasicTicker\"}},\"id\":\"9b284114-1ea3-4b75-9446-805af246fd9e\",\"type\":\"LinearAxis\"},{\"attributes\":{},\"id\":\"f66dc6a0-418a-4b97-b438-e39c344dd40e\",\"type\":\"ResetTool\"},{\"attributes\":{\"plot\":null,\"text\":\"\"},\"id\":\"bacf4a5e-0f90-4241-81c4-c721a8fd9972\",\"type\":\"Title\"},{\"attributes\":{},\"id\":\"8779306e-7022-4107-8b49-60b24480886b\",\"type\":\"LinearScale\"},{\"attributes\":{\"bottom_units\":\"screen\",\"fill_alpha\":{\"value\":0.5},\"fill_color\":{\"value\":\"lightgrey\"},\"left_units\":\"screen\",\"level\":\"overlay\",\"line_alpha\":{\"value\":1.0},\"line_color\":{\"value\":\"black\"},\"line_dash\":[4,4],\"line_width\":{\"value\":2},\"plot\":null,\"render_mode\":\"css\",\"right_units\":\"screen\",\"top_units\":\"screen\"},\"id\":\"5f26b313-4355-4a00-bda0-714f87095c81\",\"type\":\"BoxAnnotation\"},{\"attributes\":{\"callback\":null},\"id\":\"55c7813d-0ca5-4f9d-a749-5224975b887d\",\"type\":\"DataRange1d\"},{\"attributes\":{\"callback\":null,\"data\":{\"x\":[1997,1998,1999,2000,2001,2002,2003,2004,2005,2009,2010,2011,2012,2014,2015,2016,2017,2018],\"y\":[0,0,0,0,0,0,0,0,1,0,0,2,0,2,4,5,7,9]},\"selected\":{\"id\":\"4a68dab5-58dd-44d3-b765-9720e6c34fcf\",\"type\":\"Selection\"},\"selection_policy\":{\"id\":\"3e13b50d-72af-4d2f-b36a-e1204c545986\",\"type\":\"UnionRenderers\"}},\"id\":\"1bf3897c-a797-4fec-8a2f-6d5a2d47a0ae\",\"type\":\"ColumnDataSource\"},{\"attributes\":{},\"id\":\"ff08c12c-f8be-4809-bb99-ee37de3b3ddf\",\"type\":\"Selection\"},{\"attributes\":{\"source\":{\"id\":\"1bf3897c-a797-4fec-8a2f-6d5a2d47a0ae\",\"type\":\"ColumnDataSource\"}},\"id\":\"1afbe914-7a01-459d-9684-88354ca35b14\",\"type\":\"CDSView\"},{\"attributes\":{},\"id\":\"d30fdf45-5b2d-4276-ad5b-8cd7b8a0958d\",\"type\":\"BasicTicker\"},{\"attributes\":{\"line_alpha\":0.1,\"line_color\":\"#1f77b4\",\"x\":{\"field\":\"x\"},\"y\":{\"field\":\"y\"}},\"id\":\"74bfaef6-484f-4b68-ab44-86a923f3221d\",\"type\":\"Line\"},{\"attributes\":{\"source\":{\"id\":\"e40e25d0-8779-4367-99a7-0a81e786c7b6\",\"type\":\"ColumnDataSource\"}},\"id\":\"b307b514-c1d0-4e08-b03e-a1d3870ca17e\",\"type\":\"CDSView\"},{\"attributes\":{},\"id\":\"32d1975b-3882-44cc-9dfd-07b5629e3046\",\"type\":\"LinearScale\"},{\"attributes\":{\"data_source\":{\"id\":\"1bf3897c-a797-4fec-8a2f-6d5a2d47a0ae\",\"type\":\"ColumnDataSource\"},\"glyph\":{\"id\":\"466b423e-b3ea-4342-ac43-a8c8775e8166\",\"type\":\"Line\"},\"hover_glyph\":null,\"muted_glyph\":null,\"nonselection_glyph\":{\"id\":\"74bfaef6-484f-4b68-ab44-86a923f3221d\",\"type\":\"Line\"},\"selection_glyph\":null,\"view\":{\"id\":\"1afbe914-7a01-459d-9684-88354ca35b14\",\"type\":\"CDSView\"}},\"id\":\"0c085795-a4bc-4c85-86ba-525c00719e06\",\"type\":\"GlyphRenderer\"},{\"attributes\":{\"data_source\":{\"id\":\"df0babca-d4d6-43d7-9b47-a095de29d20b\",\"type\":\"ColumnDataSource\"},\"glyph\":{\"id\":\"41ab0a13-c93e-4ef4-8003-013df428f5b4\",\"type\":\"Line\"},\"hover_glyph\":null,\"muted_glyph\":null,\"nonselection_glyph\":{\"id\":\"67a65248-eeb8-4b3f-ab39-b5610a7b43c4\",\"type\":\"Line\"},\"selection_glyph\":null,\"view\":{\"id\":\"b4de8ed2-f497-4947-a647-7b853f0243b2\",\"type\":\"CDSView\"}},\"id\":\"5a51113b-3f08-4700-9ae3-cfe6ef7a8755\",\"type\":\"GlyphRenderer\"},{\"attributes\":{\"callback\":null},\"id\":\"814e86ee-98cb-463c-8320-848c2443e41e\",\"type\":\"DataRange1d\"},{\"attributes\":{\"line_color\":\"green\",\"x\":{\"field\":\"x\"},\"y\":{\"field\":\"y\"}},\"id\":\"466b423e-b3ea-4342-ac43-a8c8775e8166\",\"type\":\"Line\"},{\"attributes\":{\"line_alpha\":0.1,\"line_color\":\"#1f77b4\",\"x\":{\"field\":\"x\"},\"y\":{\"field\":\"y\"}},\"id\":\"67a65248-eeb8-4b3f-ab39-b5610a7b43c4\",\"type\":\"Line\"},{\"attributes\":{},\"id\":\"31ee6e45-14c9-47f0-9214-035f2cceec0b\",\"type\":\"BasicTicker\"},{\"attributes\":{\"axis_label\":\"year\",\"formatter\":{\"id\":\"cfad18fe-853d-41e7-969a-bdbda4dee472\",\"type\":\"BasicTickFormatter\"},\"plot\":{\"id\":\"d6424802-823b-4ae8-ba40-37e663f8f55c\",\"subtype\":\"Figure\",\"type\":\"Plot\"},\"ticker\":{\"id\":\"31ee6e45-14c9-47f0-9214-035f2cceec0b\",\"type\":\"BasicTicker\"}},\"id\":\"64caed2d-75d8-4fde-b849-e7b2723a88ab\",\"type\":\"LinearAxis\"},{\"attributes\":{},\"id\":\"3e13b50d-72af-4d2f-b36a-e1204c545986\",\"type\":\"UnionRenderers\"},{\"attributes\":{},\"id\":\"77578604-6b52-4ef8-a74f-cc38e5a9bfba\",\"type\":\"Selection\"},{\"attributes\":{\"dimension\":1,\"plot\":{\"id\":\"d6424802-823b-4ae8-ba40-37e663f8f55c\",\"subtype\":\"Figure\",\"type\":\"Plot\"},\"ticker\":{\"id\":\"d30fdf45-5b2d-4276-ad5b-8cd7b8a0958d\",\"type\":\"BasicTicker\"}},\"id\":\"9cc14d3c-6635-4280-9475-e2aacdc89395\",\"type\":\"Grid\"}],\"root_ids\":[\"d6424802-823b-4ae8-ba40-37e663f8f55c\"]},\"title\":\"Bokeh Application\",\"version\":\"0.13.0\"}};\n",
       "  var render_items = [{\"docid\":\"3cea2652-8eb4-49f2-9835-0bf992e77641\",\"roots\":{\"d6424802-823b-4ae8-ba40-37e663f8f55c\":\"5d8bba8f-05f1-4d03-a337-0fdaf10256cf\"}}];\n",
       "  root.Bokeh.embed.embed_items_notebook(docs_json, render_items);\n",
       "\n",
       "  }\n",
       "  if (root.Bokeh !== undefined) {\n",
       "    embed_document(root);\n",
       "  } else {\n",
       "    var attempts = 0;\n",
       "    var timer = setInterval(function(root) {\n",
       "      if (root.Bokeh !== undefined) {\n",
       "        embed_document(root);\n",
       "        clearInterval(timer);\n",
       "      }\n",
       "      attempts++;\n",
       "      if (attempts > 100) {\n",
       "        console.log(\"Bokeh: ERROR: Unable to run BokehJS code because BokehJS library is missing\")\n",
       "        clearInterval(timer);\n",
       "      }\n",
       "    }, 10, root)\n",
       "  }\n",
       "})(window);"
      ],
      "application/vnd.bokehjs_exec.v0+json": ""
     },
     "metadata": {
      "application/vnd.bokehjs_exec.v0+json": {
       "id": "d6424802-823b-4ae8-ba40-37e663f8f55c"
      }
     },
     "output_type": "display_data"
    }
   ],
   "source": [
    "year = [1997, 1998, 1999, 2000, 2001, 2002, 2003, 2004, 2005, 2009, 2010, 2011, 2012, 2014, 2015, 2016, 2017, 2018]\n",
    "lgbt = [0, 0, 0, 0, 0, 0, 0, 0, 0, 0, 0, 0, 0, 0, 0, 0, 4, 1]\n",
    "gay = [0, 0, 0, 0, 0, 0, 0, 0, 2, 0, 0, 0, 0, 0, 1, 1, 4, 5]\n",
    "marriage = [0, 0, 0, 0, 0, 0, 0, 0, 1, 0, 0, 2, 0, 2, 4, 5, 7, 9]\n",
    "\n",
    "p = figure(plot_width = 400, plot_height = 400, x_axis_label=\"year\", y_axis_label=\"No. of occurences\", toolbar_location=None)\n",
    "\n",
    "l1 = p.line(year, lgbt,  color = \"red\")\n",
    "l2 = p.line(year, gay,  color = \"blue\")\n",
    "l3 = p.line(year, marriage,  color = \"green\")\n",
    "# p.line(year, _1916,  color = \"red\", legend = \"1916\")\n",
    "# p.line(year, rising,  color = \"green\", legend = \"rising\")\n",
    "# p.line(year, easter,  color = \"blue\", legend = \"easter\")\n",
    "# p.add_layout(legend, 'right')\n",
    "# show(p)\n",
    "\n",
    "legend = Legend(items=[\n",
    "    (\"lgbt\",   [l1]),\n",
    "    (\"gay\", [l2]),\n",
    "    (\"marriage\", [l3])\n",
    "], location=(10, -30))\n",
    "\n",
    "p.add_layout(legend, 'right')\n",
    "show(p)"
   ]
  },
  {
   "cell_type": "code",
   "execution_count": 244,
   "metadata": {},
   "outputs": [
    {
     "data": {
      "text/html": [
       "\n",
       "\n",
       "\n",
       "\n",
       "\n",
       "\n",
       "  <div class=\"bk-root\" id=\"4b4a3bca-7421-4a88-ac86-14eab2b55c5c\"></div>\n"
      ]
     },
     "metadata": {},
     "output_type": "display_data"
    },
    {
     "data": {
      "application/javascript": [
       "(function(root) {\n",
       "  function embed_document(root) {\n",
       "    \n",
       "  var docs_json = {\"21802625-8293-4e22-bd25-b6e6c551dcd3\":{\"roots\":{\"references\":[{\"attributes\":{},\"id\":\"fa75cc87-2788-406f-8075-f56b3fdcb4e3\",\"type\":\"BasicTickFormatter\"},{\"attributes\":{\"formatter\":{\"id\":\"e42e3ef9-549e-4f00-9f3b-6394f105ed23\",\"type\":\"BasicTickFormatter\"},\"plot\":{\"id\":\"523950b2-a6df-40b2-8ecb-aa34865e48ba\",\"subtype\":\"Figure\",\"type\":\"Plot\"},\"ticker\":{\"id\":\"6ddfe78c-9c5b-49b8-b3fb-9f9db91cea2b\",\"type\":\"BasicTicker\"}},\"id\":\"1fefb523-875c-47da-8dd8-119eaaedf494\",\"type\":\"LinearAxis\"},{\"attributes\":{},\"id\":\"6ddfe78c-9c5b-49b8-b3fb-9f9db91cea2b\",\"type\":\"BasicTicker\"},{\"attributes\":{\"formatter\":{\"id\":\"fa75cc87-2788-406f-8075-f56b3fdcb4e3\",\"type\":\"BasicTickFormatter\"},\"plot\":{\"id\":\"523950b2-a6df-40b2-8ecb-aa34865e48ba\",\"subtype\":\"Figure\",\"type\":\"Plot\"},\"ticker\":{\"id\":\"b0879ee5-c6fb-4ec3-98b1-a7350208f8d1\",\"type\":\"BasicTicker\"}},\"id\":\"7c7bd450-30e7-43b1-a600-aa43851f50f4\",\"type\":\"LinearAxis\"},{\"attributes\":{},\"id\":\"486da4bd-450e-4644-848e-9175d881f5c8\",\"type\":\"LinearScale\"},{\"attributes\":{},\"id\":\"b0879ee5-c6fb-4ec3-98b1-a7350208f8d1\",\"type\":\"BasicTicker\"},{\"attributes\":{\"dimension\":1,\"plot\":{\"id\":\"523950b2-a6df-40b2-8ecb-aa34865e48ba\",\"subtype\":\"Figure\",\"type\":\"Plot\"},\"ticker\":{\"id\":\"b0879ee5-c6fb-4ec3-98b1-a7350208f8d1\",\"type\":\"BasicTicker\"}},\"id\":\"de688789-87d9-413e-bdbf-da567d97781a\",\"type\":\"Grid\"},{\"attributes\":{\"below\":[{\"id\":\"1fefb523-875c-47da-8dd8-119eaaedf494\",\"type\":\"LinearAxis\"}],\"left\":[{\"id\":\"7c7bd450-30e7-43b1-a600-aa43851f50f4\",\"type\":\"LinearAxis\"}],\"renderers\":[{\"id\":\"1fefb523-875c-47da-8dd8-119eaaedf494\",\"type\":\"LinearAxis\"},{\"id\":\"79637428-fcfb-41f5-aaeb-39fb2d514ccc\",\"type\":\"Grid\"},{\"id\":\"7c7bd450-30e7-43b1-a600-aa43851f50f4\",\"type\":\"LinearAxis\"},{\"id\":\"de688789-87d9-413e-bdbf-da567d97781a\",\"type\":\"Grid\"},{\"id\":\"4fd9c829-8916-4186-a446-31f8d9ea4ae0\",\"type\":\"BoxAnnotation\"}],\"title\":{\"id\":\"731008dc-4e99-4187-9075-f9969e693cbc\",\"type\":\"Title\"},\"toolbar\":{\"id\":\"618700ac-4c35-48db-b9bb-09c911a389dd\",\"type\":\"Toolbar\"},\"toolbar_location\":null,\"x_range\":{\"id\":\"588fd25d-076c-4fb7-a69f-a540b8691c03\",\"type\":\"DataRange1d\"},\"x_scale\":{\"id\":\"8621ecb2-2d31-414a-b79e-73394b1915fd\",\"type\":\"LinearScale\"},\"y_range\":{\"id\":\"4d34edf8-fe8d-45bb-a14b-5ef2df510539\",\"type\":\"DataRange1d\"},\"y_scale\":{\"id\":\"486da4bd-450e-4644-848e-9175d881f5c8\",\"type\":\"LinearScale\"}},\"id\":\"523950b2-a6df-40b2-8ecb-aa34865e48ba\",\"subtype\":\"Figure\",\"type\":\"Plot\"},{\"attributes\":{},\"id\":\"7fbdd608-8d01-4943-bae1-0c73c894cb41\",\"type\":\"PanTool\"},{\"attributes\":{\"active_drag\":\"auto\",\"active_inspect\":\"auto\",\"active_multi\":null,\"active_scroll\":\"auto\",\"active_tap\":\"auto\",\"tools\":[{\"id\":\"7fbdd608-8d01-4943-bae1-0c73c894cb41\",\"type\":\"PanTool\"},{\"id\":\"a24c979f-ed5e-4e34-bb23-e468fcf74de6\",\"type\":\"WheelZoomTool\"},{\"id\":\"b835f41a-ed41-4f00-96ab-388322bfcbb8\",\"type\":\"BoxZoomTool\"},{\"id\":\"b18c2e98-19ec-4eb0-9e44-ca924f2c8ce0\",\"type\":\"SaveTool\"},{\"id\":\"83d99112-e404-4679-bd44-c7b1eb389a84\",\"type\":\"ResetTool\"},{\"id\":\"30641cc3-87d7-4ef4-98c2-25fcf42d621c\",\"type\":\"HelpTool\"}]},\"id\":\"618700ac-4c35-48db-b9bb-09c911a389dd\",\"type\":\"Toolbar\"},{\"attributes\":{},\"id\":\"a24c979f-ed5e-4e34-bb23-e468fcf74de6\",\"type\":\"WheelZoomTool\"},{\"attributes\":{\"overlay\":{\"id\":\"4fd9c829-8916-4186-a446-31f8d9ea4ae0\",\"type\":\"BoxAnnotation\"}},\"id\":\"b835f41a-ed41-4f00-96ab-388322bfcbb8\",\"type\":\"BoxZoomTool\"},{\"attributes\":{},\"id\":\"b18c2e98-19ec-4eb0-9e44-ca924f2c8ce0\",\"type\":\"SaveTool\"},{\"attributes\":{\"callback\":null},\"id\":\"4d34edf8-fe8d-45bb-a14b-5ef2df510539\",\"type\":\"DataRange1d\"},{\"attributes\":{},\"id\":\"83d99112-e404-4679-bd44-c7b1eb389a84\",\"type\":\"ResetTool\"},{\"attributes\":{},\"id\":\"30641cc3-87d7-4ef4-98c2-25fcf42d621c\",\"type\":\"HelpTool\"},{\"attributes\":{},\"id\":\"8621ecb2-2d31-414a-b79e-73394b1915fd\",\"type\":\"LinearScale\"},{\"attributes\":{\"plot\":null,\"text\":\"\"},\"id\":\"731008dc-4e99-4187-9075-f9969e693cbc\",\"type\":\"Title\"},{\"attributes\":{\"bottom_units\":\"screen\",\"fill_alpha\":{\"value\":0.5},\"fill_color\":{\"value\":\"lightgrey\"},\"left_units\":\"screen\",\"level\":\"overlay\",\"line_alpha\":{\"value\":1.0},\"line_color\":{\"value\":\"black\"},\"line_dash\":[4,4],\"line_width\":{\"value\":2},\"plot\":null,\"render_mode\":\"css\",\"right_units\":\"screen\",\"top_units\":\"screen\"},\"id\":\"4fd9c829-8916-4186-a446-31f8d9ea4ae0\",\"type\":\"BoxAnnotation\"},{\"attributes\":{\"callback\":null},\"id\":\"588fd25d-076c-4fb7-a69f-a540b8691c03\",\"type\":\"DataRange1d\"},{\"attributes\":{},\"id\":\"e42e3ef9-549e-4f00-9f3b-6394f105ed23\",\"type\":\"BasicTickFormatter\"},{\"attributes\":{\"plot\":{\"id\":\"523950b2-a6df-40b2-8ecb-aa34865e48ba\",\"subtype\":\"Figure\",\"type\":\"Plot\"},\"ticker\":{\"id\":\"6ddfe78c-9c5b-49b8-b3fb-9f9db91cea2b\",\"type\":\"BasicTicker\"}},\"id\":\"79637428-fcfb-41f5-aaeb-39fb2d514ccc\",\"type\":\"Grid\"}],\"root_ids\":[\"523950b2-a6df-40b2-8ecb-aa34865e48ba\"]},\"title\":\"Bokeh Application\",\"version\":\"0.13.0\"}};\n",
       "  var render_items = [{\"docid\":\"21802625-8293-4e22-bd25-b6e6c551dcd3\",\"roots\":{\"523950b2-a6df-40b2-8ecb-aa34865e48ba\":\"4b4a3bca-7421-4a88-ac86-14eab2b55c5c\"}}];\n",
       "  root.Bokeh.embed.embed_items_notebook(docs_json, render_items);\n",
       "\n",
       "  }\n",
       "  if (root.Bokeh !== undefined) {\n",
       "    embed_document(root);\n",
       "  } else {\n",
       "    var attempts = 0;\n",
       "    var timer = setInterval(function(root) {\n",
       "      if (root.Bokeh !== undefined) {\n",
       "        embed_document(root);\n",
       "        clearInterval(timer);\n",
       "      }\n",
       "      attempts++;\n",
       "      if (attempts > 100) {\n",
       "        console.log(\"Bokeh: ERROR: Unable to run BokehJS code because BokehJS library is missing\")\n",
       "        clearInterval(timer);\n",
       "      }\n",
       "    }, 10, root)\n",
       "  }\n",
       "})(window);"
      ],
      "application/vnd.bokehjs_exec.v0+json": ""
     },
     "metadata": {
      "application/vnd.bokehjs_exec.v0+json": {
       "id": "523950b2-a6df-40b2-8ecb-aa34865e48ba"
      }
     },
     "output_type": "display_data"
    },
    {
     "data": {
      "image/png": "[encoded data removed]",
      "text/plain": [
       "<Figure size 432x288 with 1 Axes>"
      ]
     },
     "metadata": {
      "needs_background": "light"
     },
     "output_type": "display_data"
    }
   ],
   "source": [
    "year = [\"97\", \"98\", \"99\", \"00\", \"01\", \"02\", \"03\", \"04\", \"05\", \"09\", \"10\", \"11\", \"12\",  \"14\", \"15\", \"16\", \"17\", \"18\"]\n",
    "brexit = [0, 0, 0, 0, 0, 0, 0, 0, 0, 0, 0, 0, 0, 0, 4, 114, 225, 63]\n",
    "backstop = [0, 0, 0, 0, 0, 0, 0, 0, 0, 0, 0, 0, 1, 1, 0, 0, 0, 9]\n",
    "withdrawal = [0, 0, 2, 0, 2, 0, 2, 2, 0, 0, 0, 0, 0, 1, 3, 19, 12, 23]\n",
    "banks = [1, 1, 11, 0, 0, 1, 6, 0, 6, 21, 32, 37, 38, 22, 13, 9, 3, 4]\n",
    "ypos = np.arange(len(brexit))\n",
    "\n",
    "plt.xticks(ypos, year)\n",
    "plt.ylabel(\"No. of occurences\")\n",
    "plt.xlabel(\"Year\")\n",
    "plt.bar(ypos+.1, brexit, label = \"brexit\" ,alpha = 1)\n",
    "plt.bar(ypos+.3, withdrawal,  label = \"withdrawal\", alpha = 0.8)\n",
    "plt.bar(ypos+.2, backstop,  label = \"backstop\", alpha = 1)\n",
    "\n",
    "plt.legend()\n",
    "show(q)"
   ]
  },
  {
   "cell_type": "markdown",
   "metadata": {},
   "source": [
    "# historical events\n",
    "## luas opening\n",
    "## ceasefire late nineties 2002 threathened\n",
    "## brexit\n",
    "## abortion\n",
    "## terrorist\n",
    "## tribunals\n",
    "## housing\n",
    "## unemployemt\n",
    "## marriage\n",
    "\n"
   ]
  },
  {
   "cell_type": "code",
   "execution_count": 395,
   "metadata": {
    "scrolled": false
   },
   "outputs": [
    {
     "data": {
      "text/html": [
       "\n",
       "    <div class=\"bk-root\">\n",
       "        <a href=\"https://bokeh.pydata.org\" target=\"_blank\" class=\"bk-logo bk-logo-small bk-logo-notebook\"></a>\n",
       "        <span id=\"5daa681c-b23c-4d88-a33d-10e542983e8c\">Loading BokehJS ...</span>\n",
       "    </div>"
      ]
     },
     "metadata": {},
     "output_type": "display_data"
    },
    {
     "data": {
      "application/javascript": [
       "\n",
       "(function(root) {\n",
       "  function now() {\n",
       "    return new Date();\n",
       "  }\n",
       "\n",
       "  var force = true;\n",
       "\n",
       "  if (typeof (root._bokeh_onload_callbacks) === \"undefined\" || force === true) {\n",
       "    root._bokeh_onload_callbacks = [];\n",
       "    root._bokeh_is_loading = undefined;\n",
       "  }\n",
       "\n",
       "  var JS_MIME_TYPE = 'application/javascript';\n",
       "  var HTML_MIME_TYPE = 'text/html';\n",
       "  var EXEC_MIME_TYPE = 'application/vnd.bokehjs_exec.v0+json';\n",
       "  var CLASS_NAME = 'output_bokeh rendered_html';\n",
       "\n",
       "  /**\n",
       "   * Render data to the DOM node\n",
       "   */\n",
       "  function render(props, node) {\n",
       "    var script = document.createElement(\"script\");\n",
       "    node.appendChild(script);\n",
       "  }\n",
       "\n",
       "  /**\n",
       "   * Handle when an output is cleared or removed\n",
       "   */\n",
       "  function handleClearOutput(event, handle) {\n",
       "    var cell = handle.cell;\n",
       "\n",
       "    var id = cell.output_area._bokeh_element_id;\n",
       "    var server_id = cell.output_area._bokeh_server_id;\n",
       "    // Clean up Bokeh references\n",
       "    if (id != null && id in Bokeh.index) {\n",
       "      Bokeh.index[id].model.document.clear();\n",
       "      delete Bokeh.index[id];\n",
       "    }\n",
       "\n",
       "    if (server_id !== undefined) {\n",
       "      // Clean up Bokeh references\n",
       "      var cmd = \"from bokeh.io.state import curstate; print(curstate().uuid_to_server['\" + server_id + \"'].get_sessions()[0].document.roots[0]._id)\";\n",
       "      cell.notebook.kernel.execute(cmd, {\n",
       "        iopub: {\n",
       "          output: function(msg) {\n",
       "            var id = msg.content.text.trim();\n",
       "            if (id in Bokeh.index) {\n",
       "              Bokeh.index[id].model.document.clear();\n",
       "              delete Bokeh.index[id];\n",
       "            }\n",
       "          }\n",
       "        }\n",
       "      });\n",
       "      // Destroy server and session\n",
       "      var cmd = \"import bokeh.io.notebook as ion; ion.destroy_server('\" + server_id + \"')\";\n",
       "      cell.notebook.kernel.execute(cmd);\n",
       "    }\n",
       "  }\n",
       "\n",
       "  /**\n",
       "   * Handle when a new output is added\n",
       "   */\n",
       "  function handleAddOutput(event, handle) {\n",
       "    var output_area = handle.output_area;\n",
       "    var output = handle.output;\n",
       "\n",
       "    // limit handleAddOutput to display_data with EXEC_MIME_TYPE content only\n",
       "    if ((output.output_type != \"display_data\") || (!output.data.hasOwnProperty(EXEC_MIME_TYPE))) {\n",
       "      return\n",
       "    }\n",
       "\n",
       "    var toinsert = output_area.element.find(\".\" + CLASS_NAME.split(' ')[0]);\n",
       "\n",
       "    if (output.metadata[EXEC_MIME_TYPE][\"id\"] !== undefined) {\n",
       "      toinsert[toinsert.length - 1].firstChild.textContent = output.data[JS_MIME_TYPE];\n",
       "      // store reference to embed id on output_area\n",
       "      output_area._bokeh_element_id = output.metadata[EXEC_MIME_TYPE][\"id\"];\n",
       "    }\n",
       "    if (output.metadata[EXEC_MIME_TYPE][\"server_id\"] !== undefined) {\n",
       "      var bk_div = document.createElement(\"div\");\n",
       "      bk_div.innerHTML = output.data[HTML_MIME_TYPE];\n",
       "      var script_attrs = bk_div.children[0].attributes;\n",
       "      for (var i = 0; i < script_attrs.length; i++) {\n",
       "        toinsert[toinsert.length - 1].firstChild.setAttribute(script_attrs[i].name, script_attrs[i].value);\n",
       "      }\n",
       "      // store reference to server id on output_area\n",
       "      output_area._bokeh_server_id = output.metadata[EXEC_MIME_TYPE][\"server_id\"];\n",
       "    }\n",
       "  }\n",
       "\n",
       "  function register_renderer(events, OutputArea) {\n",
       "\n",
       "    function append_mime(data, metadata, element) {\n",
       "      // create a DOM node to render to\n",
       "      var toinsert = this.create_output_subarea(\n",
       "        metadata,\n",
       "        CLASS_NAME,\n",
       "        EXEC_MIME_TYPE\n",
       "      );\n",
       "      this.keyboard_manager.register_events(toinsert);\n",
       "      // Render to node\n",
       "      var props = {data: data, metadata: metadata[EXEC_MIME_TYPE]};\n",
       "      render(props, toinsert[toinsert.length - 1]);\n",
       "      element.append(toinsert);\n",
       "      return toinsert\n",
       "    }\n",
       "\n",
       "    /* Handle when an output is cleared or removed */\n",
       "    events.on('clear_output.CodeCell', handleClearOutput);\n",
       "    events.on('delete.Cell', handleClearOutput);\n",
       "\n",
       "    /* Handle when a new output is added */\n",
       "    events.on('output_added.OutputArea', handleAddOutput);\n",
       "\n",
       "    /**\n",
       "     * Register the mime type and append_mime function with output_area\n",
       "     */\n",
       "    OutputArea.prototype.register_mime_type(EXEC_MIME_TYPE, append_mime, {\n",
       "      /* Is output safe? */\n",
       "      safe: true,\n",
       "      /* Index of renderer in `output_area.display_order` */\n",
       "      index: 0\n",
       "    });\n",
       "  }\n",
       "\n",
       "  // register the mime type if in Jupyter Notebook environment and previously unregistered\n",
       "  if (root.Jupyter !== undefined) {\n",
       "    var events = require('base/js/events');\n",
       "    var OutputArea = require('notebook/js/outputarea').OutputArea;\n",
       "\n",
       "    if (OutputArea.prototype.mime_types().indexOf(EXEC_MIME_TYPE) == -1) {\n",
       "      register_renderer(events, OutputArea);\n",
       "    }\n",
       "  }\n",
       "\n",
       "  \n",
       "  if (typeof (root._bokeh_timeout) === \"undefined\" || force === true) {\n",
       "    root._bokeh_timeout = Date.now() + 5000;\n",
       "    root._bokeh_failed_load = false;\n",
       "  }\n",
       "\n",
       "  var NB_LOAD_WARNING = {'data': {'text/html':\n",
       "     \"<div style='background-color: #fdd'>\\n\"+\n",
       "     \"<p>\\n\"+\n",
       "     \"BokehJS does not appear to have successfully loaded. If loading BokehJS from CDN, this \\n\"+\n",
       "     \"may be due to a slow or bad network connection. Possible fixes:\\n\"+\n",
       "     \"</p>\\n\"+\n",
       "     \"<ul>\\n\"+\n",
       "     \"<li>re-rerun `output_notebook()` to attempt to load from CDN again, or</li>\\n\"+\n",
       "     \"<li>use INLINE resources instead, as so:</li>\\n\"+\n",
       "     \"</ul>\\n\"+\n",
       "     \"<code>\\n\"+\n",
       "     \"from bokeh.resources import INLINE\\n\"+\n",
       "     \"output_notebook(resources=INLINE)\\n\"+\n",
       "     \"</code>\\n\"+\n",
       "     \"</div>\"}};\n",
       "\n",
       "  function display_loaded() {\n",
       "    var el = document.getElementById(\"5daa681c-b23c-4d88-a33d-10e542983e8c\");\n",
       "    if (el != null) {\n",
       "      el.textContent = \"BokehJS is loading...\";\n",
       "    }\n",
       "    if (root.Bokeh !== undefined) {\n",
       "      if (el != null) {\n",
       "        el.textContent = \"BokehJS \" + root.Bokeh.version + \" successfully loaded.\";\n",
       "      }\n",
       "    } else if (Date.now() < root._bokeh_timeout) {\n",
       "      setTimeout(display_loaded, 100)\n",
       "    }\n",
       "  }\n",
       "\n",
       "\n",
       "  function run_callbacks() {\n",
       "    try {\n",
       "      root._bokeh_onload_callbacks.forEach(function(callback) { callback() });\n",
       "    }\n",
       "    finally {\n",
       "      delete root._bokeh_onload_callbacks\n",
       "    }\n",
       "    console.info(\"Bokeh: all callbacks have finished\");\n",
       "  }\n",
       "\n",
       "  function load_libs(js_urls, callback) {\n",
       "    root._bokeh_onload_callbacks.push(callback);\n",
       "    if (root._bokeh_is_loading > 0) {\n",
       "      console.log(\"Bokeh: BokehJS is being loaded, scheduling callback at\", now());\n",
       "      return null;\n",
       "    }\n",
       "    if (js_urls == null || js_urls.length === 0) {\n",
       "      run_callbacks();\n",
       "      return null;\n",
       "    }\n",
       "    console.log(\"Bokeh: BokehJS not loaded, scheduling load and callback at\", now());\n",
       "    root._bokeh_is_loading = js_urls.length;\n",
       "    for (var i = 0; i < js_urls.length; i++) {\n",
       "      var url = js_urls[i];\n",
       "      var s = document.createElement('script');\n",
       "      s.src = url;\n",
       "      s.async = false;\n",
       "      s.onreadystatechange = s.onload = function() {\n",
       "        root._bokeh_is_loading--;\n",
       "        if (root._bokeh_is_loading === 0) {\n",
       "          console.log(\"Bokeh: all BokehJS libraries loaded\");\n",
       "          run_callbacks()\n",
       "        }\n",
       "      };\n",
       "      s.onerror = function() {\n",
       "        console.warn(\"failed to load library \" + url);\n",
       "      };\n",
       "      console.log(\"Bokeh: injecting script tag for BokehJS library: \", url);\n",
       "      document.getElementsByTagName(\"head\")[0].appendChild(s);\n",
       "    }\n",
       "  };var element = document.getElementById(\"5daa681c-b23c-4d88-a33d-10e542983e8c\");\n",
       "  if (element == null) {\n",
       "    console.log(\"Bokeh: ERROR: autoload.js configured with elementid '5daa681c-b23c-4d88-a33d-10e542983e8c' but no matching script tag was found. \")\n",
       "    return false;\n",
       "  }\n",
       "\n",
       "  var js_urls = [\"https://cdn.pydata.org/bokeh/release/bokeh-0.13.0.min.js\", \"https://cdn.pydata.org/bokeh/release/bokeh-widgets-0.13.0.min.js\", \"https://cdn.pydata.org/bokeh/release/bokeh-tables-0.13.0.min.js\", \"https://cdn.pydata.org/bokeh/release/bokeh-gl-0.13.0.min.js\"];\n",
       "\n",
       "  var inline_js = [\n",
       "    function(Bokeh) {\n",
       "      Bokeh.set_log_level(\"info\");\n",
       "    },\n",
       "    \n",
       "    function(Bokeh) {\n",
       "      \n",
       "    },\n",
       "    function(Bokeh) {\n",
       "      console.log(\"Bokeh: injecting CSS: https://cdn.pydata.org/bokeh/release/bokeh-0.13.0.min.css\");\n",
       "      Bokeh.embed.inject_css(\"https://cdn.pydata.org/bokeh/release/bokeh-0.13.0.min.css\");\n",
       "      console.log(\"Bokeh: injecting CSS: https://cdn.pydata.org/bokeh/release/bokeh-widgets-0.13.0.min.css\");\n",
       "      Bokeh.embed.inject_css(\"https://cdn.pydata.org/bokeh/release/bokeh-widgets-0.13.0.min.css\");\n",
       "      console.log(\"Bokeh: injecting CSS: https://cdn.pydata.org/bokeh/release/bokeh-tables-0.13.0.min.css\");\n",
       "      Bokeh.embed.inject_css(\"https://cdn.pydata.org/bokeh/release/bokeh-tables-0.13.0.min.css\");\n",
       "    }\n",
       "  ];\n",
       "\n",
       "  function run_inline_js() {\n",
       "    \n",
       "    if ((root.Bokeh !== undefined) || (force === true)) {\n",
       "      for (var i = 0; i < inline_js.length; i++) {\n",
       "        inline_js[i].call(root, root.Bokeh);\n",
       "      }if (force === true) {\n",
       "        display_loaded();\n",
       "      }} else if (Date.now() < root._bokeh_timeout) {\n",
       "      setTimeout(run_inline_js, 100);\n",
       "    } else if (!root._bokeh_failed_load) {\n",
       "      console.log(\"Bokeh: BokehJS failed to load within specified timeout.\");\n",
       "      root._bokeh_failed_load = true;\n",
       "    } else if (force !== true) {\n",
       "      var cell = $(document.getElementById(\"5daa681c-b23c-4d88-a33d-10e542983e8c\")).parents('.cell').data().cell;\n",
       "      cell.output_area.append_execute_result(NB_LOAD_WARNING)\n",
       "    }\n",
       "\n",
       "  }\n",
       "\n",
       "  if (root._bokeh_is_loading === 0) {\n",
       "    console.log(\"Bokeh: BokehJS loaded, going straight to plotting\");\n",
       "    run_inline_js();\n",
       "  } else {\n",
       "    load_libs(js_urls, function() {\n",
       "      console.log(\"Bokeh: BokehJS plotting callback run at\", now());\n",
       "      run_inline_js();\n",
       "    });\n",
       "  }\n",
       "}(window));"
      ],
      "application/vnd.bokehjs_load.v0+json": "\n(function(root) {\n  function now() {\n    return new Date();\n  }\n\n  var force = true;\n\n  if (typeof (root._bokeh_onload_callbacks) === \"undefined\" || force === true) {\n    root._bokeh_onload_callbacks = [];\n    root._bokeh_is_loading = undefined;\n  }\n\n  \n\n  \n  if (typeof (root._bokeh_timeout) === \"undefined\" || force === true) {\n    root._bokeh_timeout = Date.now() + 5000;\n    root._bokeh_failed_load = false;\n  }\n\n  var NB_LOAD_WARNING = {'data': {'text/html':\n     \"<div style='background-color: #fdd'>\\n\"+\n     \"<p>\\n\"+\n     \"BokehJS does not appear to have successfully loaded. If loading BokehJS from CDN, this \\n\"+\n     \"may be due to a slow or bad network connection. Possible fixes:\\n\"+\n     \"</p>\\n\"+\n     \"<ul>\\n\"+\n     \"<li>re-rerun `output_notebook()` to attempt to load from CDN again, or</li>\\n\"+\n     \"<li>use INLINE resources instead, as so:</li>\\n\"+\n     \"</ul>\\n\"+\n     \"<code>\\n\"+\n     \"from bokeh.resources import INLINE\\n\"+\n     \"output_notebook(resources=INLINE)\\n\"+\n     \"</code>\\n\"+\n     \"</div>\"}};\n\n  function display_loaded() {\n    var el = document.getElementById(\"5daa681c-b23c-4d88-a33d-10e542983e8c\");\n    if (el != null) {\n      el.textContent = \"BokehJS is loading...\";\n    }\n    if (root.Bokeh !== undefined) {\n      if (el != null) {\n        el.textContent = \"BokehJS \" + root.Bokeh.version + \" successfully loaded.\";\n      }\n    } else if (Date.now() < root._bokeh_timeout) {\n      setTimeout(display_loaded, 100)\n    }\n  }\n\n\n  function run_callbacks() {\n    try {\n      root._bokeh_onload_callbacks.forEach(function(callback) { callback() });\n    }\n    finally {\n      delete root._bokeh_onload_callbacks\n    }\n    console.info(\"Bokeh: all callbacks have finished\");\n  }\n\n  function load_libs(js_urls, callback) {\n    root._bokeh_onload_callbacks.push(callback);\n    if (root._bokeh_is_loading > 0) {\n      console.log(\"Bokeh: BokehJS is being loaded, scheduling callback at\", now());\n      return null;\n    }\n    if (js_urls == null || js_urls.length === 0) {\n      run_callbacks();\n      return null;\n    }\n    console.log(\"Bokeh: BokehJS not loaded, scheduling load and callback at\", now());\n    root._bokeh_is_loading = js_urls.length;\n    for (var i = 0; i < js_urls.length; i++) {\n      var url = js_urls[i];\n      var s = document.createElement('script');\n      s.src = url;\n      s.async = false;\n      s.onreadystatechange = s.onload = function() {\n        root._bokeh_is_loading--;\n        if (root._bokeh_is_loading === 0) {\n          console.log(\"Bokeh: all BokehJS libraries loaded\");\n          run_callbacks()\n        }\n      };\n      s.onerror = function() {\n        console.warn(\"failed to load library \" + url);\n      };\n      console.log(\"Bokeh: injecting script tag for BokehJS library: \", url);\n      document.getElementsByTagName(\"head\")[0].appendChild(s);\n    }\n  };var element = document.getElementById(\"5daa681c-b23c-4d88-a33d-10e542983e8c\");\n  if (element == null) {\n    console.log(\"Bokeh: ERROR: autoload.js configured with elementid '5daa681c-b23c-4d88-a33d-10e542983e8c' but no matching script tag was found. \")\n    return false;\n  }\n\n  var js_urls = [\"https://cdn.pydata.org/bokeh/release/bokeh-0.13.0.min.js\", \"https://cdn.pydata.org/bokeh/release/bokeh-widgets-0.13.0.min.js\", \"https://cdn.pydata.org/bokeh/release/bokeh-tables-0.13.0.min.js\", \"https://cdn.pydata.org/bokeh/release/bokeh-gl-0.13.0.min.js\"];\n\n  var inline_js = [\n    function(Bokeh) {\n      Bokeh.set_log_level(\"info\");\n    },\n    \n    function(Bokeh) {\n      \n    },\n    function(Bokeh) {\n      console.log(\"Bokeh: injecting CSS: https://cdn.pydata.org/bokeh/release/bokeh-0.13.0.min.css\");\n      Bokeh.embed.inject_css(\"https://cdn.pydata.org/bokeh/release/bokeh-0.13.0.min.css\");\n      console.log(\"Bokeh: injecting CSS: https://cdn.pydata.org/bokeh/release/bokeh-widgets-0.13.0.min.css\");\n      Bokeh.embed.inject_css(\"https://cdn.pydata.org/bokeh/release/bokeh-widgets-0.13.0.min.css\");\n      console.log(\"Bokeh: injecting CSS: https://cdn.pydata.org/bokeh/release/bokeh-tables-0.13.0.min.css\");\n      Bokeh.embed.inject_css(\"https://cdn.pydata.org/bokeh/release/bokeh-tables-0.13.0.min.css\");\n    }\n  ];\n\n  function run_inline_js() {\n    \n    if ((root.Bokeh !== undefined) || (force === true)) {\n      for (var i = 0; i < inline_js.length; i++) {\n        inline_js[i].call(root, root.Bokeh);\n      }if (force === true) {\n        display_loaded();\n      }} else if (Date.now() < root._bokeh_timeout) {\n      setTimeout(run_inline_js, 100);\n    } else if (!root._bokeh_failed_load) {\n      console.log(\"Bokeh: BokehJS failed to load within specified timeout.\");\n      root._bokeh_failed_load = true;\n    } else if (force !== true) {\n      var cell = $(document.getElementById(\"5daa681c-b23c-4d88-a33d-10e542983e8c\")).parents('.cell').data().cell;\n      cell.output_area.append_execute_result(NB_LOAD_WARNING)\n    }\n\n  }\n\n  if (root._bokeh_is_loading === 0) {\n    console.log(\"Bokeh: BokehJS loaded, going straight to plotting\");\n    run_inline_js();\n  } else {\n    load_libs(js_urls, function() {\n      console.log(\"Bokeh: BokehJS plotting callback run at\", now());\n      run_inline_js();\n    });\n  }\n}(window));"
     },
     "metadata": {},
     "output_type": "display_data"
    },
    {
     "data": {
      "text/html": [
       "\n",
       "\n",
       "\n",
       "\n",
       "\n",
       "\n",
       "  <div class=\"bk-root\" id=\"69174549-e8ae-470a-8a4a-a717642988fa\"></div>\n"
      ]
     },
     "metadata": {},
     "output_type": "display_data"
    },
    {
     "data": {
      "application/javascript": [
       "(function(root) {\n",
       "  function embed_document(root) {\n",
       "    \n",
       "  var docs_json = {\"3b3b2958-2147-4ade-aaf5-1435df692ada\":{\"roots\":{\"references\":[{\"attributes\":{},\"id\":\"8dc02cd8-b350-443a-956c-ffc8a3c3e78c\",\"type\":\"PanTool\"},{\"attributes\":{\"line_color\":\"red\",\"x\":{\"field\":\"x\"},\"y\":{\"field\":\"y\"}},\"id\":\"a251d94a-cecc-429d-9661-383e59322382\",\"type\":\"Line\"},{\"attributes\":{},\"id\":\"229c0982-4079-4aaa-bac9-2b71d98be9af\",\"type\":\"UnionRenderers\"},{\"attributes\":{\"line_alpha\":0.1,\"line_color\":\"#1f77b4\",\"x\":{\"field\":\"x\"},\"y\":{\"field\":\"y\"}},\"id\":\"7d43da96-7949-4ca5-8054-377824bb15e9\",\"type\":\"Line\"},{\"attributes\":{},\"id\":\"2161aacc-4763-444b-bd7f-4c7508b85f9d\",\"type\":\"LinearScale\"},{\"attributes\":{},\"id\":\"7969e874-481c-4728-ac7d-d2770344fee1\",\"type\":\"LinearScale\"},{\"attributes\":{},\"id\":\"b72c8857-9aaf-466b-9f1a-a9d672a7ebfb\",\"type\":\"BasicTicker\"},{\"attributes\":{\"plot\":{\"id\":\"dead5a13-540d-4969-a7f9-afe98cdfb236\",\"subtype\":\"Figure\",\"type\":\"Plot\"},\"ticker\":{\"id\":\"39b7f8d3-a069-4492-9ef3-c49fa5a2a26b\",\"type\":\"BasicTicker\"}},\"id\":\"b2dfc1ba-65ef-43c5-85fb-9371228e34e3\",\"type\":\"Grid\"},{\"attributes\":{},\"id\":\"40ebfcf5-1514-4226-937f-1779261a0155\",\"type\":\"Selection\"},{\"attributes\":{\"below\":[{\"id\":\"5dcafdfc-a0fc-4854-aedc-523eb03f7133\",\"type\":\"LinearAxis\"}],\"left\":[{\"id\":\"db21fd18-b89f-4bed-b0b3-464a052f1cd4\",\"type\":\"LinearAxis\"}],\"plot_height\":500,\"plot_width\":500,\"renderers\":[{\"id\":\"5dcafdfc-a0fc-4854-aedc-523eb03f7133\",\"type\":\"LinearAxis\"},{\"id\":\"b2dfc1ba-65ef-43c5-85fb-9371228e34e3\",\"type\":\"Grid\"},{\"id\":\"db21fd18-b89f-4bed-b0b3-464a052f1cd4\",\"type\":\"LinearAxis\"},{\"id\":\"1ce5aa34-d56f-4e45-9179-8d0510995ade\",\"type\":\"Grid\"},{\"id\":\"52b8beda-72cb-464b-9e33-65fdb7f25a94\",\"type\":\"BoxAnnotation\"},{\"id\":\"4f259e46-ab42-4014-a784-2a97ffd0d29d\",\"type\":\"Legend\"},{\"id\":\"779e1ebe-204f-427b-87de-740d874da554\",\"type\":\"GlyphRenderer\"}],\"title\":{\"id\":\"77644c64-175c-4cbe-a43b-0b2d7894535b\",\"type\":\"Title\"},\"toolbar\":{\"id\":\"00b1e4e1-23c1-4f9f-aaa5-5400de073890\",\"type\":\"Toolbar\"},\"toolbar_location\":null,\"x_range\":{\"id\":\"df44aed6-be30-42ea-aae8-4c4236e84018\",\"type\":\"DataRange1d\"},\"x_scale\":{\"id\":\"2161aacc-4763-444b-bd7f-4c7508b85f9d\",\"type\":\"LinearScale\"},\"y_range\":{\"id\":\"5def3eb6-6c84-4b3d-a31d-3ea682acefde\",\"type\":\"DataRange1d\"},\"y_scale\":{\"id\":\"7969e874-481c-4728-ac7d-d2770344fee1\",\"type\":\"LinearScale\"}},\"id\":\"dead5a13-540d-4969-a7f9-afe98cdfb236\",\"subtype\":\"Figure\",\"type\":\"Plot\"},{\"attributes\":{},\"id\":\"a27459e9-081f-4789-a571-0b76451e9f26\",\"type\":\"ResetTool\"},{\"attributes\":{\"axis_label\":\"No. of occurences\",\"formatter\":{\"id\":\"37ebe28d-85f5-4189-8b97-57c9275164d8\",\"type\":\"BasicTickFormatter\"},\"plot\":{\"id\":\"dead5a13-540d-4969-a7f9-afe98cdfb236\",\"subtype\":\"Figure\",\"type\":\"Plot\"},\"ticker\":{\"id\":\"b72c8857-9aaf-466b-9f1a-a9d672a7ebfb\",\"type\":\"BasicTicker\"}},\"id\":\"db21fd18-b89f-4bed-b0b3-464a052f1cd4\",\"type\":\"LinearAxis\"},{\"attributes\":{\"callback\":null},\"id\":\"df44aed6-be30-42ea-aae8-4c4236e84018\",\"type\":\"DataRange1d\"},{\"attributes\":{\"data_source\":{\"id\":\"2f61e3da-c445-4915-9a4c-fb8377f9f9b1\",\"type\":\"ColumnDataSource\"},\"glyph\":{\"id\":\"a251d94a-cecc-429d-9661-383e59322382\",\"type\":\"Line\"},\"hover_glyph\":null,\"muted_glyph\":null,\"nonselection_glyph\":{\"id\":\"7d43da96-7949-4ca5-8054-377824bb15e9\",\"type\":\"Line\"},\"selection_glyph\":null,\"view\":{\"id\":\"f87d8110-7d98-4947-8d49-3fdebac1753b\",\"type\":\"CDSView\"}},\"id\":\"779e1ebe-204f-427b-87de-740d874da554\",\"type\":\"GlyphRenderer\"},{\"attributes\":{\"items\":[{\"id\":\"25afad8f-44da-425e-86df-154efd51f02d\",\"type\":\"LegendItem\"}],\"plot\":{\"id\":\"dead5a13-540d-4969-a7f9-afe98cdfb236\",\"subtype\":\"Figure\",\"type\":\"Plot\"}},\"id\":\"4f259e46-ab42-4014-a784-2a97ffd0d29d\",\"type\":\"Legend\"},{\"attributes\":{\"callback\":null,\"data\":{\"x\":[1997,1998,1999,2000,2001,2002,2003,2004,2005,2009,2010,2011,2012,2014,2015,2016,2017,2018],\"y\":[0,24,42,44,15,17,19,10,35,3,4,8,25,44,68,29,12,11]},\"selected\":{\"id\":\"40ebfcf5-1514-4226-937f-1779261a0155\",\"type\":\"Selection\"},\"selection_policy\":{\"id\":\"229c0982-4079-4aaa-bac9-2b71d98be9af\",\"type\":\"UnionRenderers\"}},\"id\":\"2f61e3da-c445-4915-9a4c-fb8377f9f9b1\",\"type\":\"ColumnDataSource\"},{\"attributes\":{\"plot\":null,\"text\":\"\"},\"id\":\"77644c64-175c-4cbe-a43b-0b2d7894535b\",\"type\":\"Title\"},{\"attributes\":{\"overlay\":{\"id\":\"52b8beda-72cb-464b-9e33-65fdb7f25a94\",\"type\":\"BoxAnnotation\"}},\"id\":\"f72839ce-eda8-4d00-9a37-c9a47afba51e\",\"type\":\"BoxZoomTool\"},{\"attributes\":{},\"id\":\"39b7f8d3-a069-4492-9ef3-c49fa5a2a26b\",\"type\":\"BasicTicker\"},{\"attributes\":{\"callback\":null},\"id\":\"5def3eb6-6c84-4b3d-a31d-3ea682acefde\",\"type\":\"DataRange1d\"},{\"attributes\":{},\"id\":\"3b099d24-4358-4857-a23d-01b0e54aeb19\",\"type\":\"BasicTickFormatter\"},{\"attributes\":{\"source\":{\"id\":\"2f61e3da-c445-4915-9a4c-fb8377f9f9b1\",\"type\":\"ColumnDataSource\"}},\"id\":\"f87d8110-7d98-4947-8d49-3fdebac1753b\",\"type\":\"CDSView\"},{\"attributes\":{},\"id\":\"37ebe28d-85f5-4189-8b97-57c9275164d8\",\"type\":\"BasicTickFormatter\"},{\"attributes\":{\"axis_label\":\"year\",\"formatter\":{\"id\":\"3b099d24-4358-4857-a23d-01b0e54aeb19\",\"type\":\"BasicTickFormatter\"},\"plot\":{\"id\":\"dead5a13-540d-4969-a7f9-afe98cdfb236\",\"subtype\":\"Figure\",\"type\":\"Plot\"},\"ticker\":{\"id\":\"39b7f8d3-a069-4492-9ef3-c49fa5a2a26b\",\"type\":\"BasicTicker\"}},\"id\":\"5dcafdfc-a0fc-4854-aedc-523eb03f7133\",\"type\":\"LinearAxis\"},{\"attributes\":{\"label\":{\"value\":\"unemployment\"},\"renderers\":[{\"id\":\"779e1ebe-204f-427b-87de-740d874da554\",\"type\":\"GlyphRenderer\"}]},\"id\":\"25afad8f-44da-425e-86df-154efd51f02d\",\"type\":\"LegendItem\"},{\"attributes\":{\"bottom_units\":\"screen\",\"fill_alpha\":{\"value\":0.5},\"fill_color\":{\"value\":\"lightgrey\"},\"left_units\":\"screen\",\"level\":\"overlay\",\"line_alpha\":{\"value\":1.0},\"line_color\":{\"value\":\"black\"},\"line_dash\":[4,4],\"line_width\":{\"value\":2},\"plot\":null,\"render_mode\":\"css\",\"right_units\":\"screen\",\"top_units\":\"screen\"},\"id\":\"52b8beda-72cb-464b-9e33-65fdb7f25a94\",\"type\":\"BoxAnnotation\"},{\"attributes\":{\"active_drag\":\"auto\",\"active_inspect\":\"auto\",\"active_multi\":null,\"active_scroll\":\"auto\",\"active_tap\":\"auto\",\"tools\":[{\"id\":\"8dc02cd8-b350-443a-956c-ffc8a3c3e78c\",\"type\":\"PanTool\"},{\"id\":\"6bebd03a-767f-4c3c-ad1c-6e6cc7332d6f\",\"type\":\"WheelZoomTool\"},{\"id\":\"f72839ce-eda8-4d00-9a37-c9a47afba51e\",\"type\":\"BoxZoomTool\"},{\"id\":\"d1a70cf8-4d2a-47be-b082-f747ae025164\",\"type\":\"SaveTool\"},{\"id\":\"a27459e9-081f-4789-a571-0b76451e9f26\",\"type\":\"ResetTool\"},{\"id\":\"190eb04e-200d-4b25-b3ba-dec4588cce68\",\"type\":\"HelpTool\"}]},\"id\":\"00b1e4e1-23c1-4f9f-aaa5-5400de073890\",\"type\":\"Toolbar\"},{\"attributes\":{},\"id\":\"6bebd03a-767f-4c3c-ad1c-6e6cc7332d6f\",\"type\":\"WheelZoomTool\"},{\"attributes\":{},\"id\":\"d1a70cf8-4d2a-47be-b082-f747ae025164\",\"type\":\"SaveTool\"},{\"attributes\":{},\"id\":\"190eb04e-200d-4b25-b3ba-dec4588cce68\",\"type\":\"HelpTool\"},{\"attributes\":{\"dimension\":1,\"plot\":{\"id\":\"dead5a13-540d-4969-a7f9-afe98cdfb236\",\"subtype\":\"Figure\",\"type\":\"Plot\"},\"ticker\":{\"id\":\"b72c8857-9aaf-466b-9f1a-a9d672a7ebfb\",\"type\":\"BasicTicker\"}},\"id\":\"1ce5aa34-d56f-4e45-9179-8d0510995ade\",\"type\":\"Grid\"}],\"root_ids\":[\"dead5a13-540d-4969-a7f9-afe98cdfb236\"]},\"title\":\"Bokeh Application\",\"version\":\"0.13.0\"}};\n",
       "  var render_items = [{\"docid\":\"3b3b2958-2147-4ade-aaf5-1435df692ada\",\"roots\":{\"dead5a13-540d-4969-a7f9-afe98cdfb236\":\"69174549-e8ae-470a-8a4a-a717642988fa\"}}];\n",
       "  root.Bokeh.embed.embed_items_notebook(docs_json, render_items);\n",
       "\n",
       "  }\n",
       "  if (root.Bokeh !== undefined) {\n",
       "    embed_document(root);\n",
       "  } else {\n",
       "    var attempts = 0;\n",
       "    var timer = setInterval(function(root) {\n",
       "      if (root.Bokeh !== undefined) {\n",
       "        embed_document(root);\n",
       "        clearInterval(timer);\n",
       "      }\n",
       "      attempts++;\n",
       "      if (attempts > 100) {\n",
       "        console.log(\"Bokeh: ERROR: Unable to run BokehJS code because BokehJS library is missing\")\n",
       "        clearInterval(timer);\n",
       "      }\n",
       "    }, 10, root)\n",
       "  }\n",
       "})(window);"
      ],
      "application/vnd.bokehjs_exec.v0+json": ""
     },
     "metadata": {
      "application/vnd.bokehjs_exec.v0+json": {
       "id": "dead5a13-540d-4969-a7f9-afe98cdfb236"
      }
     },
     "output_type": "display_data"
    }
   ],
   "source": [
    "\n",
    "output_notebook()\n",
    "year = [1997, 1998, 1999, 2000, 2001, 2002, 2003, 2004, 2005, 2009, 2010, 2011, 2012, 2014, 2015, 2016, 2017, 2018]\n",
    "unemployment = [0, 24, 42, 44, 15, 17, 19, 10, 35, 3, 4, 8, 25, 44, 68, 29, 12, 11]\n",
    "\n",
    "q = figure(plot_width = 500, plot_height = 500, toolbar_location=None, x_axis_label=\"year\", y_axis_label=\"No. of occurences\")\n",
    "q.line(year, unemployment,  legend=\"unemployment\", color=\"red\")\n",
    "\n",
    "show(q)"
   ]
  },
  {
   "cell_type": "markdown",
   "metadata": {},
   "source": [
    "# Gov doesnt like to talk about unemployment when it's high but talks a lot about it when it's low"
   ]
  },
  {
   "cell_type": "code",
   "execution_count": 383,
   "metadata": {},
   "outputs": [
    {
     "data": {
      "text/html": [
       "\n",
       "    <div class=\"bk-root\">\n",
       "        <a href=\"https://bokeh.pydata.org\" target=\"_blank\" class=\"bk-logo bk-logo-small bk-logo-notebook\"></a>\n",
       "        <span id=\"0602072e-6155-49bf-9fc3-a2bb1b2d96d9\">Loading BokehJS ...</span>\n",
       "    </div>"
      ]
     },
     "metadata": {},
     "output_type": "display_data"
    },
    {
     "data": {
      "application/javascript": [
       "\n",
       "(function(root) {\n",
       "  function now() {\n",
       "    return new Date();\n",
       "  }\n",
       "\n",
       "  var force = true;\n",
       "\n",
       "  if (typeof (root._bokeh_onload_callbacks) === \"undefined\" || force === true) {\n",
       "    root._bokeh_onload_callbacks = [];\n",
       "    root._bokeh_is_loading = undefined;\n",
       "  }\n",
       "\n",
       "  var JS_MIME_TYPE = 'application/javascript';\n",
       "  var HTML_MIME_TYPE = 'text/html';\n",
       "  var EXEC_MIME_TYPE = 'application/vnd.bokehjs_exec.v0+json';\n",
       "  var CLASS_NAME = 'output_bokeh rendered_html';\n",
       "\n",
       "  /**\n",
       "   * Render data to the DOM node\n",
       "   */\n",
       "  function render(props, node) {\n",
       "    var script = document.createElement(\"script\");\n",
       "    node.appendChild(script);\n",
       "  }\n",
       "\n",
       "  /**\n",
       "   * Handle when an output is cleared or removed\n",
       "   */\n",
       "  function handleClearOutput(event, handle) {\n",
       "    var cell = handle.cell;\n",
       "\n",
       "    var id = cell.output_area._bokeh_element_id;\n",
       "    var server_id = cell.output_area._bokeh_server_id;\n",
       "    // Clean up Bokeh references\n",
       "    if (id != null && id in Bokeh.index) {\n",
       "      Bokeh.index[id].model.document.clear();\n",
       "      delete Bokeh.index[id];\n",
       "    }\n",
       "\n",
       "    if (server_id !== undefined) {\n",
       "      // Clean up Bokeh references\n",
       "      var cmd = \"from bokeh.io.state import curstate; print(curstate().uuid_to_server['\" + server_id + \"'].get_sessions()[0].document.roots[0]._id)\";\n",
       "      cell.notebook.kernel.execute(cmd, {\n",
       "        iopub: {\n",
       "          output: function(msg) {\n",
       "            var id = msg.content.text.trim();\n",
       "            if (id in Bokeh.index) {\n",
       "              Bokeh.index[id].model.document.clear();\n",
       "              delete Bokeh.index[id];\n",
       "            }\n",
       "          }\n",
       "        }\n",
       "      });\n",
       "      // Destroy server and session\n",
       "      var cmd = \"import bokeh.io.notebook as ion; ion.destroy_server('\" + server_id + \"')\";\n",
       "      cell.notebook.kernel.execute(cmd);\n",
       "    }\n",
       "  }\n",
       "\n",
       "  /**\n",
       "   * Handle when a new output is added\n",
       "   */\n",
       "  function handleAddOutput(event, handle) {\n",
       "    var output_area = handle.output_area;\n",
       "    var output = handle.output;\n",
       "\n",
       "    // limit handleAddOutput to display_data with EXEC_MIME_TYPE content only\n",
       "    if ((output.output_type != \"display_data\") || (!output.data.hasOwnProperty(EXEC_MIME_TYPE))) {\n",
       "      return\n",
       "    }\n",
       "\n",
       "    var toinsert = output_area.element.find(\".\" + CLASS_NAME.split(' ')[0]);\n",
       "\n",
       "    if (output.metadata[EXEC_MIME_TYPE][\"id\"] !== undefined) {\n",
       "      toinsert[toinsert.length - 1].firstChild.textContent = output.data[JS_MIME_TYPE];\n",
       "      // store reference to embed id on output_area\n",
       "      output_area._bokeh_element_id = output.metadata[EXEC_MIME_TYPE][\"id\"];\n",
       "    }\n",
       "    if (output.metadata[EXEC_MIME_TYPE][\"server_id\"] !== undefined) {\n",
       "      var bk_div = document.createElement(\"div\");\n",
       "      bk_div.innerHTML = output.data[HTML_MIME_TYPE];\n",
       "      var script_attrs = bk_div.children[0].attributes;\n",
       "      for (var i = 0; i < script_attrs.length; i++) {\n",
       "        toinsert[toinsert.length - 1].firstChild.setAttribute(script_attrs[i].name, script_attrs[i].value);\n",
       "      }\n",
       "      // store reference to server id on output_area\n",
       "      output_area._bokeh_server_id = output.metadata[EXEC_MIME_TYPE][\"server_id\"];\n",
       "    }\n",
       "  }\n",
       "\n",
       "  function register_renderer(events, OutputArea) {\n",
       "\n",
       "    function append_mime(data, metadata, element) {\n",
       "      // create a DOM node to render to\n",
       "      var toinsert = this.create_output_subarea(\n",
       "        metadata,\n",
       "        CLASS_NAME,\n",
       "        EXEC_MIME_TYPE\n",
       "      );\n",
       "      this.keyboard_manager.register_events(toinsert);\n",
       "      // Render to node\n",
       "      var props = {data: data, metadata: metadata[EXEC_MIME_TYPE]};\n",
       "      render(props, toinsert[toinsert.length - 1]);\n",
       "      element.append(toinsert);\n",
       "      return toinsert\n",
       "    }\n",
       "\n",
       "    /* Handle when an output is cleared or removed */\n",
       "    events.on('clear_output.CodeCell', handleClearOutput);\n",
       "    events.on('delete.Cell', handleClearOutput);\n",
       "\n",
       "    /* Handle when a new output is added */\n",
       "    events.on('output_added.OutputArea', handleAddOutput);\n",
       "\n",
       "    /**\n",
       "     * Register the mime type and append_mime function with output_area\n",
       "     */\n",
       "    OutputArea.prototype.register_mime_type(EXEC_MIME_TYPE, append_mime, {\n",
       "      /* Is output safe? */\n",
       "      safe: true,\n",
       "      /* Index of renderer in `output_area.display_order` */\n",
       "      index: 0\n",
       "    });\n",
       "  }\n",
       "\n",
       "  // register the mime type if in Jupyter Notebook environment and previously unregistered\n",
       "  if (root.Jupyter !== undefined) {\n",
       "    var events = require('base/js/events');\n",
       "    var OutputArea = require('notebook/js/outputarea').OutputArea;\n",
       "\n",
       "    if (OutputArea.prototype.mime_types().indexOf(EXEC_MIME_TYPE) == -1) {\n",
       "      register_renderer(events, OutputArea);\n",
       "    }\n",
       "  }\n",
       "\n",
       "  \n",
       "  if (typeof (root._bokeh_timeout) === \"undefined\" || force === true) {\n",
       "    root._bokeh_timeout = Date.now() + 5000;\n",
       "    root._bokeh_failed_load = false;\n",
       "  }\n",
       "\n",
       "  var NB_LOAD_WARNING = {'data': {'text/html':\n",
       "     \"<div style='background-color: #fdd'>\\n\"+\n",
       "     \"<p>\\n\"+\n",
       "     \"BokehJS does not appear to have successfully loaded. If loading BokehJS from CDN, this \\n\"+\n",
       "     \"may be due to a slow or bad network connection. Possible fixes:\\n\"+\n",
       "     \"</p>\\n\"+\n",
       "     \"<ul>\\n\"+\n",
       "     \"<li>re-rerun `output_notebook()` to attempt to load from CDN again, or</li>\\n\"+\n",
       "     \"<li>use INLINE resources instead, as so:</li>\\n\"+\n",
       "     \"</ul>\\n\"+\n",
       "     \"<code>\\n\"+\n",
       "     \"from bokeh.resources import INLINE\\n\"+\n",
       "     \"output_notebook(resources=INLINE)\\n\"+\n",
       "     \"</code>\\n\"+\n",
       "     \"</div>\"}};\n",
       "\n",
       "  function display_loaded() {\n",
       "    var el = document.getElementById(\"0602072e-6155-49bf-9fc3-a2bb1b2d96d9\");\n",
       "    if (el != null) {\n",
       "      el.textContent = \"BokehJS is loading...\";\n",
       "    }\n",
       "    if (root.Bokeh !== undefined) {\n",
       "      if (el != null) {\n",
       "        el.textContent = \"BokehJS \" + root.Bokeh.version + \" successfully loaded.\";\n",
       "      }\n",
       "    } else if (Date.now() < root._bokeh_timeout) {\n",
       "      setTimeout(display_loaded, 100)\n",
       "    }\n",
       "  }\n",
       "\n",
       "\n",
       "  function run_callbacks() {\n",
       "    try {\n",
       "      root._bokeh_onload_callbacks.forEach(function(callback) { callback() });\n",
       "    }\n",
       "    finally {\n",
       "      delete root._bokeh_onload_callbacks\n",
       "    }\n",
       "    console.info(\"Bokeh: all callbacks have finished\");\n",
       "  }\n",
       "\n",
       "  function load_libs(js_urls, callback) {\n",
       "    root._bokeh_onload_callbacks.push(callback);\n",
       "    if (root._bokeh_is_loading > 0) {\n",
       "      console.log(\"Bokeh: BokehJS is being loaded, scheduling callback at\", now());\n",
       "      return null;\n",
       "    }\n",
       "    if (js_urls == null || js_urls.length === 0) {\n",
       "      run_callbacks();\n",
       "      return null;\n",
       "    }\n",
       "    console.log(\"Bokeh: BokehJS not loaded, scheduling load and callback at\", now());\n",
       "    root._bokeh_is_loading = js_urls.length;\n",
       "    for (var i = 0; i < js_urls.length; i++) {\n",
       "      var url = js_urls[i];\n",
       "      var s = document.createElement('script');\n",
       "      s.src = url;\n",
       "      s.async = false;\n",
       "      s.onreadystatechange = s.onload = function() {\n",
       "        root._bokeh_is_loading--;\n",
       "        if (root._bokeh_is_loading === 0) {\n",
       "          console.log(\"Bokeh: all BokehJS libraries loaded\");\n",
       "          run_callbacks()\n",
       "        }\n",
       "      };\n",
       "      s.onerror = function() {\n",
       "        console.warn(\"failed to load library \" + url);\n",
       "      };\n",
       "      console.log(\"Bokeh: injecting script tag for BokehJS library: \", url);\n",
       "      document.getElementsByTagName(\"head\")[0].appendChild(s);\n",
       "    }\n",
       "  };var element = document.getElementById(\"0602072e-6155-49bf-9fc3-a2bb1b2d96d9\");\n",
       "  if (element == null) {\n",
       "    console.log(\"Bokeh: ERROR: autoload.js configured with elementid '0602072e-6155-49bf-9fc3-a2bb1b2d96d9' but no matching script tag was found. \")\n",
       "    return false;\n",
       "  }\n",
       "\n",
       "  var js_urls = [\"https://cdn.pydata.org/bokeh/release/bokeh-0.13.0.min.js\", \"https://cdn.pydata.org/bokeh/release/bokeh-widgets-0.13.0.min.js\", \"https://cdn.pydata.org/bokeh/release/bokeh-tables-0.13.0.min.js\", \"https://cdn.pydata.org/bokeh/release/bokeh-gl-0.13.0.min.js\"];\n",
       "\n",
       "  var inline_js = [\n",
       "    function(Bokeh) {\n",
       "      Bokeh.set_log_level(\"info\");\n",
       "    },\n",
       "    \n",
       "    function(Bokeh) {\n",
       "      \n",
       "    },\n",
       "    function(Bokeh) {\n",
       "      console.log(\"Bokeh: injecting CSS: https://cdn.pydata.org/bokeh/release/bokeh-0.13.0.min.css\");\n",
       "      Bokeh.embed.inject_css(\"https://cdn.pydata.org/bokeh/release/bokeh-0.13.0.min.css\");\n",
       "      console.log(\"Bokeh: injecting CSS: https://cdn.pydata.org/bokeh/release/bokeh-widgets-0.13.0.min.css\");\n",
       "      Bokeh.embed.inject_css(\"https://cdn.pydata.org/bokeh/release/bokeh-widgets-0.13.0.min.css\");\n",
       "      console.log(\"Bokeh: injecting CSS: https://cdn.pydata.org/bokeh/release/bokeh-tables-0.13.0.min.css\");\n",
       "      Bokeh.embed.inject_css(\"https://cdn.pydata.org/bokeh/release/bokeh-tables-0.13.0.min.css\");\n",
       "    }\n",
       "  ];\n",
       "\n",
       "  function run_inline_js() {\n",
       "    \n",
       "    if ((root.Bokeh !== undefined) || (force === true)) {\n",
       "      for (var i = 0; i < inline_js.length; i++) {\n",
       "        inline_js[i].call(root, root.Bokeh);\n",
       "      }if (force === true) {\n",
       "        display_loaded();\n",
       "      }} else if (Date.now() < root._bokeh_timeout) {\n",
       "      setTimeout(run_inline_js, 100);\n",
       "    } else if (!root._bokeh_failed_load) {\n",
       "      console.log(\"Bokeh: BokehJS failed to load within specified timeout.\");\n",
       "      root._bokeh_failed_load = true;\n",
       "    } else if (force !== true) {\n",
       "      var cell = $(document.getElementById(\"0602072e-6155-49bf-9fc3-a2bb1b2d96d9\")).parents('.cell').data().cell;\n",
       "      cell.output_area.append_execute_result(NB_LOAD_WARNING)\n",
       "    }\n",
       "\n",
       "  }\n",
       "\n",
       "  if (root._bokeh_is_loading === 0) {\n",
       "    console.log(\"Bokeh: BokehJS loaded, going straight to plotting\");\n",
       "    run_inline_js();\n",
       "  } else {\n",
       "    load_libs(js_urls, function() {\n",
       "      console.log(\"Bokeh: BokehJS plotting callback run at\", now());\n",
       "      run_inline_js();\n",
       "    });\n",
       "  }\n",
       "}(window));"
      ],
      "application/vnd.bokehjs_load.v0+json": "\n(function(root) {\n  function now() {\n    return new Date();\n  }\n\n  var force = true;\n\n  if (typeof (root._bokeh_onload_callbacks) === \"undefined\" || force === true) {\n    root._bokeh_onload_callbacks = [];\n    root._bokeh_is_loading = undefined;\n  }\n\n  \n\n  \n  if (typeof (root._bokeh_timeout) === \"undefined\" || force === true) {\n    root._bokeh_timeout = Date.now() + 5000;\n    root._bokeh_failed_load = false;\n  }\n\n  var NB_LOAD_WARNING = {'data': {'text/html':\n     \"<div style='background-color: #fdd'>\\n\"+\n     \"<p>\\n\"+\n     \"BokehJS does not appear to have successfully loaded. If loading BokehJS from CDN, this \\n\"+\n     \"may be due to a slow or bad network connection. Possible fixes:\\n\"+\n     \"</p>\\n\"+\n     \"<ul>\\n\"+\n     \"<li>re-rerun `output_notebook()` to attempt to load from CDN again, or</li>\\n\"+\n     \"<li>use INLINE resources instead, as so:</li>\\n\"+\n     \"</ul>\\n\"+\n     \"<code>\\n\"+\n     \"from bokeh.resources import INLINE\\n\"+\n     \"output_notebook(resources=INLINE)\\n\"+\n     \"</code>\\n\"+\n     \"</div>\"}};\n\n  function display_loaded() {\n    var el = document.getElementById(\"0602072e-6155-49bf-9fc3-a2bb1b2d96d9\");\n    if (el != null) {\n      el.textContent = \"BokehJS is loading...\";\n    }\n    if (root.Bokeh !== undefined) {\n      if (el != null) {\n        el.textContent = \"BokehJS \" + root.Bokeh.version + \" successfully loaded.\";\n      }\n    } else if (Date.now() < root._bokeh_timeout) {\n      setTimeout(display_loaded, 100)\n    }\n  }\n\n\n  function run_callbacks() {\n    try {\n      root._bokeh_onload_callbacks.forEach(function(callback) { callback() });\n    }\n    finally {\n      delete root._bokeh_onload_callbacks\n    }\n    console.info(\"Bokeh: all callbacks have finished\");\n  }\n\n  function load_libs(js_urls, callback) {\n    root._bokeh_onload_callbacks.push(callback);\n    if (root._bokeh_is_loading > 0) {\n      console.log(\"Bokeh: BokehJS is being loaded, scheduling callback at\", now());\n      return null;\n    }\n    if (js_urls == null || js_urls.length === 0) {\n      run_callbacks();\n      return null;\n    }\n    console.log(\"Bokeh: BokehJS not loaded, scheduling load and callback at\", now());\n    root._bokeh_is_loading = js_urls.length;\n    for (var i = 0; i < js_urls.length; i++) {\n      var url = js_urls[i];\n      var s = document.createElement('script');\n      s.src = url;\n      s.async = false;\n      s.onreadystatechange = s.onload = function() {\n        root._bokeh_is_loading--;\n        if (root._bokeh_is_loading === 0) {\n          console.log(\"Bokeh: all BokehJS libraries loaded\");\n          run_callbacks()\n        }\n      };\n      s.onerror = function() {\n        console.warn(\"failed to load library \" + url);\n      };\n      console.log(\"Bokeh: injecting script tag for BokehJS library: \", url);\n      document.getElementsByTagName(\"head\")[0].appendChild(s);\n    }\n  };var element = document.getElementById(\"0602072e-6155-49bf-9fc3-a2bb1b2d96d9\");\n  if (element == null) {\n    console.log(\"Bokeh: ERROR: autoload.js configured with elementid '0602072e-6155-49bf-9fc3-a2bb1b2d96d9' but no matching script tag was found. \")\n    return false;\n  }\n\n  var js_urls = [\"https://cdn.pydata.org/bokeh/release/bokeh-0.13.0.min.js\", \"https://cdn.pydata.org/bokeh/release/bokeh-widgets-0.13.0.min.js\", \"https://cdn.pydata.org/bokeh/release/bokeh-tables-0.13.0.min.js\", \"https://cdn.pydata.org/bokeh/release/bokeh-gl-0.13.0.min.js\"];\n\n  var inline_js = [\n    function(Bokeh) {\n      Bokeh.set_log_level(\"info\");\n    },\n    \n    function(Bokeh) {\n      \n    },\n    function(Bokeh) {\n      console.log(\"Bokeh: injecting CSS: https://cdn.pydata.org/bokeh/release/bokeh-0.13.0.min.css\");\n      Bokeh.embed.inject_css(\"https://cdn.pydata.org/bokeh/release/bokeh-0.13.0.min.css\");\n      console.log(\"Bokeh: injecting CSS: https://cdn.pydata.org/bokeh/release/bokeh-widgets-0.13.0.min.css\");\n      Bokeh.embed.inject_css(\"https://cdn.pydata.org/bokeh/release/bokeh-widgets-0.13.0.min.css\");\n      console.log(\"Bokeh: injecting CSS: https://cdn.pydata.org/bokeh/release/bokeh-tables-0.13.0.min.css\");\n      Bokeh.embed.inject_css(\"https://cdn.pydata.org/bokeh/release/bokeh-tables-0.13.0.min.css\");\n    }\n  ];\n\n  function run_inline_js() {\n    \n    if ((root.Bokeh !== undefined) || (force === true)) {\n      for (var i = 0; i < inline_js.length; i++) {\n        inline_js[i].call(root, root.Bokeh);\n      }if (force === true) {\n        display_loaded();\n      }} else if (Date.now() < root._bokeh_timeout) {\n      setTimeout(run_inline_js, 100);\n    } else if (!root._bokeh_failed_load) {\n      console.log(\"Bokeh: BokehJS failed to load within specified timeout.\");\n      root._bokeh_failed_load = true;\n    } else if (force !== true) {\n      var cell = $(document.getElementById(\"0602072e-6155-49bf-9fc3-a2bb1b2d96d9\")).parents('.cell').data().cell;\n      cell.output_area.append_execute_result(NB_LOAD_WARNING)\n    }\n\n  }\n\n  if (root._bokeh_is_loading === 0) {\n    console.log(\"Bokeh: BokehJS loaded, going straight to plotting\");\n    run_inline_js();\n  } else {\n    load_libs(js_urls, function() {\n      console.log(\"Bokeh: BokehJS plotting callback run at\", now());\n      run_inline_js();\n    });\n  }\n}(window));"
     },
     "metadata": {},
     "output_type": "display_data"
    },
    {
     "data": {
      "text/html": [
       "\n",
       "\n",
       "\n",
       "\n",
       "\n",
       "\n",
       "  <div class=\"bk-root\" id=\"8e183a35-2e6f-4bbd-9bd1-f74f077f81c7\"></div>\n"
      ]
     },
     "metadata": {},
     "output_type": "display_data"
    },
    {
     "data": {
      "application/javascript": [
       "(function(root) {\n",
       "  function embed_document(root) {\n",
       "    \n",
       "  var docs_json = {\"bf9421b6-5782-4765-aee0-67364df89485\":{\"roots\":{\"references\":[{\"attributes\":{},\"id\":\"e8ec5d0e-81b1-48ce-ad2a-374602155fdc\",\"type\":\"BasicTicker\"},{\"attributes\":{\"dimension\":1,\"plot\":{\"id\":\"7454c62e-0f58-4694-bc4d-8718dbdb2dea\",\"subtype\":\"Figure\",\"type\":\"Plot\"},\"ticker\":{\"id\":\"e8ec5d0e-81b1-48ce-ad2a-374602155fdc\",\"type\":\"BasicTicker\"}},\"id\":\"62a5f9e5-7922-4386-bea8-a6962f4a55bd\",\"type\":\"Grid\"},{\"attributes\":{\"label\":{\"value\":\"emigration\"},\"renderers\":[{\"id\":\"a06a4cc7-5c01-4b98-88c8-17bda6be1a80\",\"type\":\"GlyphRenderer\"}]},\"id\":\"1410b4a4-c1e9-4247-893d-4ec5cc5cb1e8\",\"type\":\"LegendItem\"},{\"attributes\":{},\"id\":\"d7053f4f-3b1f-412a-a52b-8fa2bc0b6111\",\"type\":\"UnionRenderers\"},{\"attributes\":{\"data_source\":{\"id\":\"98ba6f9e-c6ba-4855-aad1-030b69d741ba\",\"type\":\"ColumnDataSource\"},\"glyph\":{\"id\":\"d4106529-8584-4192-aa0f-86472de06e93\",\"type\":\"Line\"},\"hover_glyph\":null,\"muted_glyph\":null,\"nonselection_glyph\":{\"id\":\"24d82ff6-c34e-4eba-854c-75f1c23226fb\",\"type\":\"Line\"},\"selection_glyph\":null,\"view\":{\"id\":\"248957a9-3058-4ebb-b597-4c2bae94e3eb\",\"type\":\"CDSView\"}},\"id\":\"a06a4cc7-5c01-4b98-88c8-17bda6be1a80\",\"type\":\"GlyphRenderer\"},{\"attributes\":{},\"id\":\"a09568a1-8644-4dc1-80ed-7061436bc615\",\"type\":\"LinearScale\"},{\"attributes\":{},\"id\":\"2bacad90-f73c-4f70-854e-895718994600\",\"type\":\"Selection\"},{\"attributes\":{},\"id\":\"35eb6491-bfcc-4cc4-b3ed-6ec5dc0e53d9\",\"type\":\"LinearScale\"},{\"attributes\":{},\"id\":\"018a3203-be96-41c2-9088-e28f54e09bba\",\"type\":\"BasicTicker\"},{\"attributes\":{\"overlay\":{\"id\":\"c9a13775-f64c-45e7-b6dc-f853e0da3841\",\"type\":\"BoxAnnotation\"}},\"id\":\"7cf2f0f7-fe97-4b54-bb46-9cc37a160468\",\"type\":\"BoxZoomTool\"},{\"attributes\":{\"formatter\":{\"id\":\"cd870f6c-922e-4738-b5ba-ea7699b5cc5f\",\"type\":\"BasicTickFormatter\"},\"plot\":{\"id\":\"7454c62e-0f58-4694-bc4d-8718dbdb2dea\",\"subtype\":\"Figure\",\"type\":\"Plot\"},\"ticker\":{\"id\":\"e8ec5d0e-81b1-48ce-ad2a-374602155fdc\",\"type\":\"BasicTicker\"}},\"id\":\"3f091565-4bbb-4e40-98da-0fa149989d27\",\"type\":\"LinearAxis\"},{\"attributes\":{\"line_color\":\"red\",\"x\":{\"field\":\"x\"},\"y\":{\"field\":\"y\"}},\"id\":\"d4106529-8584-4192-aa0f-86472de06e93\",\"type\":\"Line\"},{\"attributes\":{\"source\":{\"id\":\"054a0ff1-80ac-4e7d-ab46-9e1d05eb2b69\",\"type\":\"ColumnDataSource\"}},\"id\":\"5b4426c5-c0c7-4e63-a784-8c7727f34047\",\"type\":\"CDSView\"},{\"attributes\":{\"line_alpha\":0.1,\"line_color\":\"#1f77b4\",\"x\":{\"field\":\"x\"},\"y\":{\"field\":\"y\"}},\"id\":\"24d82ff6-c34e-4eba-854c-75f1c23226fb\",\"type\":\"Line\"},{\"attributes\":{\"callback\":null,\"data\":{\"x\":[1997,1998,1999,2000,2001,2002,2003,2004,2005,2009,2010,2011,2012,2014,2015,2016,2017,2018],\"y\":[0.0,0.02149151085321298,0.06447453255963895,0.06945248292626462,0.0684931506849315,0.06920415224913494,0.028113578858588697,0.08183306055646482,0.05767963085036256,0.04083855159270351,0.0,0.029890898221491553,0.030120481927710847,0.0,0.02813994934809117,0.08231299516411153,0.08721775365830023,0.07596859964547988]},\"selected\":{\"id\":\"2bacad90-f73c-4f70-854e-895718994600\",\"type\":\"Selection\"},\"selection_policy\":{\"id\":\"d7053f4f-3b1f-412a-a52b-8fa2bc0b6111\",\"type\":\"UnionRenderers\"}},\"id\":\"054a0ff1-80ac-4e7d-ab46-9e1d05eb2b69\",\"type\":\"ColumnDataSource\"},{\"attributes\":{\"plot\":null,\"text\":\"\"},\"id\":\"15f7dcdc-5f00-4111-a591-f4b745e1082c\",\"type\":\"Title\"},{\"attributes\":{},\"id\":\"b00fc08c-266a-4696-92c5-5f7c749bc3db\",\"type\":\"PanTool\"},{\"attributes\":{},\"id\":\"ef4444b6-ab81-4521-bd62-f3834387552f\",\"type\":\"HelpTool\"},{\"attributes\":{},\"id\":\"9435ab94-496a-475f-862d-8396e04e44ad\",\"type\":\"Selection\"},{\"attributes\":{\"label\":{\"value\":\"immigration\"},\"renderers\":[{\"id\":\"4e7bc217-13a5-41a2-a782-439f5574b3b8\",\"type\":\"GlyphRenderer\"}]},\"id\":\"95d0b882-5b05-40a0-965a-01b0b616ebba\",\"type\":\"LegendItem\"},{\"attributes\":{\"below\":[{\"id\":\"e6b8ea4a-0d03-4dc0-a985-689889977680\",\"type\":\"LinearAxis\"}],\"left\":[{\"id\":\"3f091565-4bbb-4e40-98da-0fa149989d27\",\"type\":\"LinearAxis\"}],\"renderers\":[{\"id\":\"e6b8ea4a-0d03-4dc0-a985-689889977680\",\"type\":\"LinearAxis\"},{\"id\":\"d9d2bd43-6a96-4b83-895a-484390d3393f\",\"type\":\"Grid\"},{\"id\":\"3f091565-4bbb-4e40-98da-0fa149989d27\",\"type\":\"LinearAxis\"},{\"id\":\"62a5f9e5-7922-4386-bea8-a6962f4a55bd\",\"type\":\"Grid\"},{\"id\":\"c9a13775-f64c-45e7-b6dc-f853e0da3841\",\"type\":\"BoxAnnotation\"},{\"id\":\"c63a073a-f7fb-4dd5-9eb9-0b935b0521d8\",\"type\":\"Legend\"},{\"id\":\"a06a4cc7-5c01-4b98-88c8-17bda6be1a80\",\"type\":\"GlyphRenderer\"},{\"id\":\"4e7bc217-13a5-41a2-a782-439f5574b3b8\",\"type\":\"GlyphRenderer\"}],\"title\":{\"id\":\"15f7dcdc-5f00-4111-a591-f4b745e1082c\",\"type\":\"Title\"},\"toolbar\":{\"id\":\"fbc227a2-63c4-43f8-8d57-c70cabf219e7\",\"type\":\"Toolbar\"},\"x_range\":{\"id\":\"2f4221e4-86bc-41fd-8b66-c5964f32b1f0\",\"type\":\"DataRange1d\"},\"x_scale\":{\"id\":\"35eb6491-bfcc-4cc4-b3ed-6ec5dc0e53d9\",\"type\":\"LinearScale\"},\"y_range\":{\"id\":\"12b92718-e466-4402-8e43-06dcada7bedd\",\"type\":\"DataRange1d\"},\"y_scale\":{\"id\":\"a09568a1-8644-4dc1-80ed-7061436bc615\",\"type\":\"LinearScale\"}},\"id\":\"7454c62e-0f58-4694-bc4d-8718dbdb2dea\",\"subtype\":\"Figure\",\"type\":\"Plot\"},{\"attributes\":{\"plot\":{\"id\":\"7454c62e-0f58-4694-bc4d-8718dbdb2dea\",\"subtype\":\"Figure\",\"type\":\"Plot\"},\"ticker\":{\"id\":\"018a3203-be96-41c2-9088-e28f54e09bba\",\"type\":\"BasicTicker\"}},\"id\":\"d9d2bd43-6a96-4b83-895a-484390d3393f\",\"type\":\"Grid\"},{\"attributes\":{\"callback\":null,\"data\":{\"x\":[1997,1998,1999,2000,2001,2002,2003,2004,2005,2009,2010,2011,2012,2014,2015,2016,2017,2018],\"y\":[0.0,0.08596604341285193,0.1182033096926714,0.09260331056835282,0.14840182648401826,0.1245674740484429,0.11245431543435479,0.03273322422258593,0.04943968358602505,0.027225701061802342,0.0,0.044836347332237333,0.06024096385542169,0.0,0.009379983116030392,0.06173474637308365,0.01938172303517783,0.05064573309698658]},\"selected\":{\"id\":\"9435ab94-496a-475f-862d-8396e04e44ad\",\"type\":\"Selection\"},\"selection_policy\":{\"id\":\"1ddb905b-a394-4ff8-8df2-78dfc4d3d0e6\",\"type\":\"UnionRenderers\"}},\"id\":\"98ba6f9e-c6ba-4855-aad1-030b69d741ba\",\"type\":\"ColumnDataSource\"},{\"attributes\":{\"line_color\":\"blue\",\"x\":{\"field\":\"x\"},\"y\":{\"field\":\"y\"}},\"id\":\"7c8c2f72-2821-4992-ba53-2f192ff63c0a\",\"type\":\"Line\"},{\"attributes\":{\"data_source\":{\"id\":\"054a0ff1-80ac-4e7d-ab46-9e1d05eb2b69\",\"type\":\"ColumnDataSource\"},\"glyph\":{\"id\":\"7c8c2f72-2821-4992-ba53-2f192ff63c0a\",\"type\":\"Line\"},\"hover_glyph\":null,\"muted_glyph\":null,\"nonselection_glyph\":{\"id\":\"d154784b-53b6-4709-ab57-e013b6734b92\",\"type\":\"Line\"},\"selection_glyph\":null,\"view\":{\"id\":\"5b4426c5-c0c7-4e63-a784-8c7727f34047\",\"type\":\"CDSView\"}},\"id\":\"4e7bc217-13a5-41a2-a782-439f5574b3b8\",\"type\":\"GlyphRenderer\"},{\"attributes\":{\"source\":{\"id\":\"98ba6f9e-c6ba-4855-aad1-030b69d741ba\",\"type\":\"ColumnDataSource\"}},\"id\":\"248957a9-3058-4ebb-b597-4c2bae94e3eb\",\"type\":\"CDSView\"},{\"attributes\":{},\"id\":\"1ddb905b-a394-4ff8-8df2-78dfc4d3d0e6\",\"type\":\"UnionRenderers\"},{\"attributes\":{},\"id\":\"5d9f5ae9-1fad-4e2b-8fa1-a7d7ae19f2f2\",\"type\":\"WheelZoomTool\"},{\"attributes\":{},\"id\":\"a3b19b81-78aa-4f3d-8fe7-6c3f4b50e6e5\",\"type\":\"SaveTool\"},{\"attributes\":{\"callback\":null},\"id\":\"2f4221e4-86bc-41fd-8b66-c5964f32b1f0\",\"type\":\"DataRange1d\"},{\"attributes\":{\"callback\":null},\"id\":\"12b92718-e466-4402-8e43-06dcada7bedd\",\"type\":\"DataRange1d\"},{\"attributes\":{\"bottom_units\":\"screen\",\"fill_alpha\":{\"value\":0.5},\"fill_color\":{\"value\":\"lightgrey\"},\"left_units\":\"screen\",\"level\":\"overlay\",\"line_alpha\":{\"value\":1.0},\"line_color\":{\"value\":\"black\"},\"line_dash\":[4,4],\"line_width\":{\"value\":2},\"plot\":null,\"render_mode\":\"css\",\"right_units\":\"screen\",\"top_units\":\"screen\"},\"id\":\"c9a13775-f64c-45e7-b6dc-f853e0da3841\",\"type\":\"BoxAnnotation\"},{\"attributes\":{\"active_drag\":\"auto\",\"active_inspect\":\"auto\",\"active_multi\":null,\"active_scroll\":\"auto\",\"active_tap\":\"auto\",\"tools\":[{\"id\":\"b00fc08c-266a-4696-92c5-5f7c749bc3db\",\"type\":\"PanTool\"},{\"id\":\"5d9f5ae9-1fad-4e2b-8fa1-a7d7ae19f2f2\",\"type\":\"WheelZoomTool\"},{\"id\":\"7cf2f0f7-fe97-4b54-bb46-9cc37a160468\",\"type\":\"BoxZoomTool\"},{\"id\":\"a3b19b81-78aa-4f3d-8fe7-6c3f4b50e6e5\",\"type\":\"SaveTool\"},{\"id\":\"fa58bd82-0386-4b6e-a98c-92ec5a55f921\",\"type\":\"ResetTool\"},{\"id\":\"ef4444b6-ab81-4521-bd62-f3834387552f\",\"type\":\"HelpTool\"}]},\"id\":\"fbc227a2-63c4-43f8-8d57-c70cabf219e7\",\"type\":\"Toolbar\"},{\"attributes\":{\"items\":[{\"id\":\"1410b4a4-c1e9-4247-893d-4ec5cc5cb1e8\",\"type\":\"LegendItem\"},{\"id\":\"95d0b882-5b05-40a0-965a-01b0b616ebba\",\"type\":\"LegendItem\"}],\"plot\":{\"id\":\"7454c62e-0f58-4694-bc4d-8718dbdb2dea\",\"subtype\":\"Figure\",\"type\":\"Plot\"}},\"id\":\"c63a073a-f7fb-4dd5-9eb9-0b935b0521d8\",\"type\":\"Legend\"},{\"attributes\":{},\"id\":\"cd870f6c-922e-4738-b5ba-ea7699b5cc5f\",\"type\":\"BasicTickFormatter\"},{\"attributes\":{\"line_alpha\":0.1,\"line_color\":\"#1f77b4\",\"x\":{\"field\":\"x\"},\"y\":{\"field\":\"y\"}},\"id\":\"d154784b-53b6-4709-ab57-e013b6734b92\",\"type\":\"Line\"},{\"attributes\":{},\"id\":\"fa58bd82-0386-4b6e-a98c-92ec5a55f921\",\"type\":\"ResetTool\"},{\"attributes\":{},\"id\":\"8578033d-4d1f-42a6-b9fc-cc07830e6c54\",\"type\":\"BasicTickFormatter\"},{\"attributes\":{\"formatter\":{\"id\":\"8578033d-4d1f-42a6-b9fc-cc07830e6c54\",\"type\":\"BasicTickFormatter\"},\"plot\":{\"id\":\"7454c62e-0f58-4694-bc4d-8718dbdb2dea\",\"subtype\":\"Figure\",\"type\":\"Plot\"},\"ticker\":{\"id\":\"018a3203-be96-41c2-9088-e28f54e09bba\",\"type\":\"BasicTicker\"}},\"id\":\"e6b8ea4a-0d03-4dc0-a985-689889977680\",\"type\":\"LinearAxis\"}],\"root_ids\":[\"7454c62e-0f58-4694-bc4d-8718dbdb2dea\"]},\"title\":\"Bokeh Application\",\"version\":\"0.13.0\"}};\n",
       "  var render_items = [{\"docid\":\"bf9421b6-5782-4765-aee0-67364df89485\",\"roots\":{\"7454c62e-0f58-4694-bc4d-8718dbdb2dea\":\"8e183a35-2e6f-4bbd-9bd1-f74f077f81c7\"}}];\n",
       "  root.Bokeh.embed.embed_items_notebook(docs_json, render_items);\n",
       "\n",
       "  }\n",
       "  if (root.Bokeh !== undefined) {\n",
       "    embed_document(root);\n",
       "  } else {\n",
       "    var attempts = 0;\n",
       "    var timer = setInterval(function(root) {\n",
       "      if (root.Bokeh !== undefined) {\n",
       "        embed_document(root);\n",
       "        clearInterval(timer);\n",
       "      }\n",
       "      attempts++;\n",
       "      if (attempts > 100) {\n",
       "        console.log(\"Bokeh: ERROR: Unable to run BokehJS code because BokehJS library is missing\")\n",
       "        clearInterval(timer);\n",
       "      }\n",
       "    }, 10, root)\n",
       "  }\n",
       "})(window);"
      ],
      "application/vnd.bokehjs_exec.v0+json": ""
     },
     "metadata": {
      "application/vnd.bokehjs_exec.v0+json": {
       "id": "7454c62e-0f58-4694-bc4d-8718dbdb2dea"
      }
     },
     "output_type": "display_data"
    }
   ],
   "source": [
    "\n",
    "output_notebook()\n",
    "year = [1997, 1998, 1999, 2000, 2001, 2002, 2003, 2004, 2005, 2009, 2010, 2011, 2012, 2014, 2015, 2016, 2017, 2018]\n",
    "emigration = [0.0, 0.08596604341285193, 0.1182033096926714, 0.09260331056835282, 0.14840182648401826, 0.1245674740484429, 0.11245431543435479, 0.03273322422258593, 0.04943968358602505, 0.027225701061802342, 0.0, 0.044836347332237333, 0.06024096385542169, 0.0, 0.009379983116030392, 0.06173474637308365, 0.01938172303517783, 0.05064573309698658]\n",
    "immigration = [0.0, 0.02149151085321298, 0.06447453255963895, 0.06945248292626462, 0.0684931506849315, 0.06920415224913494, 0.028113578858588697, 0.08183306055646482, 0.05767963085036256, 0.04083855159270351, 0.0, 0.029890898221491553, 0.030120481927710847, 0.0, 0.02813994934809117, 0.08231299516411153, 0.08721775365830023, 0.07596859964547988]\n",
    "growth = [0.6564551422319475, 0.9563722329679777, 0.8596604341285192, 1.0649380715360575, 0.6050228310502284, 0.5397923875432525, 0.7590666291818948, 1.309328968903437, 1.441990771259064, 0.7759324802613667, 1.2520638414969731, 1.150799581527425, 2.6656626506024095, 0.09278589654372535, 0.7597786323984617, 1.6153925300956888, 0.7655780598895242, 0.7470245631805521]\n",
    "q = figure()\n",
    "q.line(year, emigration,  legend=\"emigration\", color=\"red\")\n",
    "q.line(year, immigration,  legend=\"immigration\", color = \"blue\")\n",
    "#q.line(year, growth,  legend=\"growth\", color = \"green\")\n",
    "\n",
    "show(q)"
   ]
  },
  {
   "cell_type": "markdown",
   "metadata": {},
   "source": [
    "# Scrape dates"
   ]
  },
  {
   "cell_type": "code",
   "execution_count": null,
   "metadata": {},
   "outputs": [],
   "source": [
    "base_url = \"https://www.taoiseach.gov.ie/eng/News/Taoiseach's_Speeches/?pageNumber=\"\n",
    "count = 1\n",
    "for page in range(1,38):\n",
    "    r = requests.get(base_url + str(page))\n",
    "    c = r.content\n",
    "    soup = BeautifulSoup(c, \"html.parser\")\n",
    "    dates = soup.find_all(\"span\",{\"class\":\"newsDate\"})\n",
    "    years = soup.find_all(\"span\",{\"class\":\"newsYear\"})\n",
    "    for date, year in zip(dates, years):\n",
    "        date = re.split('(\\d+)', date.text)\n",
    "        date = date[1] + \" \" + date[2] + \" \" + year.text\n",
    "        print(date)"
   ]
  },
  {
   "cell_type": "code",
   "execution_count": 154,
   "metadata": {},
   "outputs": [
    {
     "data": {
      "text/html": [
       "\n",
       "    <div class=\"bk-root\">\n",
       "        <a href=\"https://bokeh.pydata.org\" target=\"_blank\" class=\"bk-logo bk-logo-small bk-logo-notebook\"></a>\n",
       "        <span id=\"9c59f0b2-0801-4819-8be1-a4e3d7a9580d\">Loading BokehJS ...</span>\n",
       "    </div>"
      ]
     },
     "metadata": {},
     "output_type": "display_data"
    },
    {
     "data": {
      "application/javascript": [
       "\n",
       "(function(root) {\n",
       "  function now() {\n",
       "    return new Date();\n",
       "  }\n",
       "\n",
       "  var force = true;\n",
       "\n",
       "  if (typeof (root._bokeh_onload_callbacks) === \"undefined\" || force === true) {\n",
       "    root._bokeh_onload_callbacks = [];\n",
       "    root._bokeh_is_loading = undefined;\n",
       "  }\n",
       "\n",
       "  var JS_MIME_TYPE = 'application/javascript';\n",
       "  var HTML_MIME_TYPE = 'text/html';\n",
       "  var EXEC_MIME_TYPE = 'application/vnd.bokehjs_exec.v0+json';\n",
       "  var CLASS_NAME = 'output_bokeh rendered_html';\n",
       "\n",
       "  /**\n",
       "   * Render data to the DOM node\n",
       "   */\n",
       "  function render(props, node) {\n",
       "    var script = document.createElement(\"script\");\n",
       "    node.appendChild(script);\n",
       "  }\n",
       "\n",
       "  /**\n",
       "   * Handle when an output is cleared or removed\n",
       "   */\n",
       "  function handleClearOutput(event, handle) {\n",
       "    var cell = handle.cell;\n",
       "\n",
       "    var id = cell.output_area._bokeh_element_id;\n",
       "    var server_id = cell.output_area._bokeh_server_id;\n",
       "    // Clean up Bokeh references\n",
       "    if (id != null && id in Bokeh.index) {\n",
       "      Bokeh.index[id].model.document.clear();\n",
       "      delete Bokeh.index[id];\n",
       "    }\n",
       "\n",
       "    if (server_id !== undefined) {\n",
       "      // Clean up Bokeh references\n",
       "      var cmd = \"from bokeh.io.state import curstate; print(curstate().uuid_to_server['\" + server_id + \"'].get_sessions()[0].document.roots[0]._id)\";\n",
       "      cell.notebook.kernel.execute(cmd, {\n",
       "        iopub: {\n",
       "          output: function(msg) {\n",
       "            var id = msg.content.text.trim();\n",
       "            if (id in Bokeh.index) {\n",
       "              Bokeh.index[id].model.document.clear();\n",
       "              delete Bokeh.index[id];\n",
       "            }\n",
       "          }\n",
       "        }\n",
       "      });\n",
       "      // Destroy server and session\n",
       "      var cmd = \"import bokeh.io.notebook as ion; ion.destroy_server('\" + server_id + \"')\";\n",
       "      cell.notebook.kernel.execute(cmd);\n",
       "    }\n",
       "  }\n",
       "\n",
       "  /**\n",
       "   * Handle when a new output is added\n",
       "   */\n",
       "  function handleAddOutput(event, handle) {\n",
       "    var output_area = handle.output_area;\n",
       "    var output = handle.output;\n",
       "\n",
       "    // limit handleAddOutput to display_data with EXEC_MIME_TYPE content only\n",
       "    if ((output.output_type != \"display_data\") || (!output.data.hasOwnProperty(EXEC_MIME_TYPE))) {\n",
       "      return\n",
       "    }\n",
       "\n",
       "    var toinsert = output_area.element.find(\".\" + CLASS_NAME.split(' ')[0]);\n",
       "\n",
       "    if (output.metadata[EXEC_MIME_TYPE][\"id\"] !== undefined) {\n",
       "      toinsert[toinsert.length - 1].firstChild.textContent = output.data[JS_MIME_TYPE];\n",
       "      // store reference to embed id on output_area\n",
       "      output_area._bokeh_element_id = output.metadata[EXEC_MIME_TYPE][\"id\"];\n",
       "    }\n",
       "    if (output.metadata[EXEC_MIME_TYPE][\"server_id\"] !== undefined) {\n",
       "      var bk_div = document.createElement(\"div\");\n",
       "      bk_div.innerHTML = output.data[HTML_MIME_TYPE];\n",
       "      var script_attrs = bk_div.children[0].attributes;\n",
       "      for (var i = 0; i < script_attrs.length; i++) {\n",
       "        toinsert[toinsert.length - 1].firstChild.setAttribute(script_attrs[i].name, script_attrs[i].value);\n",
       "      }\n",
       "      // store reference to server id on output_area\n",
       "      output_area._bokeh_server_id = output.metadata[EXEC_MIME_TYPE][\"server_id\"];\n",
       "    }\n",
       "  }\n",
       "\n",
       "  function register_renderer(events, OutputArea) {\n",
       "\n",
       "    function append_mime(data, metadata, element) {\n",
       "      // create a DOM node to render to\n",
       "      var toinsert = this.create_output_subarea(\n",
       "        metadata,\n",
       "        CLASS_NAME,\n",
       "        EXEC_MIME_TYPE\n",
       "      );\n",
       "      this.keyboard_manager.register_events(toinsert);\n",
       "      // Render to node\n",
       "      var props = {data: data, metadata: metadata[EXEC_MIME_TYPE]};\n",
       "      render(props, toinsert[toinsert.length - 1]);\n",
       "      element.append(toinsert);\n",
       "      return toinsert\n",
       "    }\n",
       "\n",
       "    /* Handle when an output is cleared or removed */\n",
       "    events.on('clear_output.CodeCell', handleClearOutput);\n",
       "    events.on('delete.Cell', handleClearOutput);\n",
       "\n",
       "    /* Handle when a new output is added */\n",
       "    events.on('output_added.OutputArea', handleAddOutput);\n",
       "\n",
       "    /**\n",
       "     * Register the mime type and append_mime function with output_area\n",
       "     */\n",
       "    OutputArea.prototype.register_mime_type(EXEC_MIME_TYPE, append_mime, {\n",
       "      /* Is output safe? */\n",
       "      safe: true,\n",
       "      /* Index of renderer in `output_area.display_order` */\n",
       "      index: 0\n",
       "    });\n",
       "  }\n",
       "\n",
       "  // register the mime type if in Jupyter Notebook environment and previously unregistered\n",
       "  if (root.Jupyter !== undefined) {\n",
       "    var events = require('base/js/events');\n",
       "    var OutputArea = require('notebook/js/outputarea').OutputArea;\n",
       "\n",
       "    if (OutputArea.prototype.mime_types().indexOf(EXEC_MIME_TYPE) == -1) {\n",
       "      register_renderer(events, OutputArea);\n",
       "    }\n",
       "  }\n",
       "\n",
       "  \n",
       "  if (typeof (root._bokeh_timeout) === \"undefined\" || force === true) {\n",
       "    root._bokeh_timeout = Date.now() + 5000;\n",
       "    root._bokeh_failed_load = false;\n",
       "  }\n",
       "\n",
       "  var NB_LOAD_WARNING = {'data': {'text/html':\n",
       "     \"<div style='background-color: #fdd'>\\n\"+\n",
       "     \"<p>\\n\"+\n",
       "     \"BokehJS does not appear to have successfully loaded. If loading BokehJS from CDN, this \\n\"+\n",
       "     \"may be due to a slow or bad network connection. Possible fixes:\\n\"+\n",
       "     \"</p>\\n\"+\n",
       "     \"<ul>\\n\"+\n",
       "     \"<li>re-rerun `output_notebook()` to attempt to load from CDN again, or</li>\\n\"+\n",
       "     \"<li>use INLINE resources instead, as so:</li>\\n\"+\n",
       "     \"</ul>\\n\"+\n",
       "     \"<code>\\n\"+\n",
       "     \"from bokeh.resources import INLINE\\n\"+\n",
       "     \"output_notebook(resources=INLINE)\\n\"+\n",
       "     \"</code>\\n\"+\n",
       "     \"</div>\"}};\n",
       "\n",
       "  function display_loaded() {\n",
       "    var el = document.getElementById(\"9c59f0b2-0801-4819-8be1-a4e3d7a9580d\");\n",
       "    if (el != null) {\n",
       "      el.textContent = \"BokehJS is loading...\";\n",
       "    }\n",
       "    if (root.Bokeh !== undefined) {\n",
       "      if (el != null) {\n",
       "        el.textContent = \"BokehJS \" + root.Bokeh.version + \" successfully loaded.\";\n",
       "      }\n",
       "    } else if (Date.now() < root._bokeh_timeout) {\n",
       "      setTimeout(display_loaded, 100)\n",
       "    }\n",
       "  }\n",
       "\n",
       "\n",
       "  function run_callbacks() {\n",
       "    try {\n",
       "      root._bokeh_onload_callbacks.forEach(function(callback) { callback() });\n",
       "    }\n",
       "    finally {\n",
       "      delete root._bokeh_onload_callbacks\n",
       "    }\n",
       "    console.info(\"Bokeh: all callbacks have finished\");\n",
       "  }\n",
       "\n",
       "  function load_libs(js_urls, callback) {\n",
       "    root._bokeh_onload_callbacks.push(callback);\n",
       "    if (root._bokeh_is_loading > 0) {\n",
       "      console.log(\"Bokeh: BokehJS is being loaded, scheduling callback at\", now());\n",
       "      return null;\n",
       "    }\n",
       "    if (js_urls == null || js_urls.length === 0) {\n",
       "      run_callbacks();\n",
       "      return null;\n",
       "    }\n",
       "    console.log(\"Bokeh: BokehJS not loaded, scheduling load and callback at\", now());\n",
       "    root._bokeh_is_loading = js_urls.length;\n",
       "    for (var i = 0; i < js_urls.length; i++) {\n",
       "      var url = js_urls[i];\n",
       "      var s = document.createElement('script');\n",
       "      s.src = url;\n",
       "      s.async = false;\n",
       "      s.onreadystatechange = s.onload = function() {\n",
       "        root._bokeh_is_loading--;\n",
       "        if (root._bokeh_is_loading === 0) {\n",
       "          console.log(\"Bokeh: all BokehJS libraries loaded\");\n",
       "          run_callbacks()\n",
       "        }\n",
       "      };\n",
       "      s.onerror = function() {\n",
       "        console.warn(\"failed to load library \" + url);\n",
       "      };\n",
       "      console.log(\"Bokeh: injecting script tag for BokehJS library: \", url);\n",
       "      document.getElementsByTagName(\"head\")[0].appendChild(s);\n",
       "    }\n",
       "  };var element = document.getElementById(\"9c59f0b2-0801-4819-8be1-a4e3d7a9580d\");\n",
       "  if (element == null) {\n",
       "    console.log(\"Bokeh: ERROR: autoload.js configured with elementid '9c59f0b2-0801-4819-8be1-a4e3d7a9580d' but no matching script tag was found. \")\n",
       "    return false;\n",
       "  }\n",
       "\n",
       "  var js_urls = [\"https://cdn.pydata.org/bokeh/release/bokeh-0.13.0.min.js\", \"https://cdn.pydata.org/bokeh/release/bokeh-widgets-0.13.0.min.js\", \"https://cdn.pydata.org/bokeh/release/bokeh-tables-0.13.0.min.js\", \"https://cdn.pydata.org/bokeh/release/bokeh-gl-0.13.0.min.js\"];\n",
       "\n",
       "  var inline_js = [\n",
       "    function(Bokeh) {\n",
       "      Bokeh.set_log_level(\"info\");\n",
       "    },\n",
       "    \n",
       "    function(Bokeh) {\n",
       "      \n",
       "    },\n",
       "    function(Bokeh) {\n",
       "      console.log(\"Bokeh: injecting CSS: https://cdn.pydata.org/bokeh/release/bokeh-0.13.0.min.css\");\n",
       "      Bokeh.embed.inject_css(\"https://cdn.pydata.org/bokeh/release/bokeh-0.13.0.min.css\");\n",
       "      console.log(\"Bokeh: injecting CSS: https://cdn.pydata.org/bokeh/release/bokeh-widgets-0.13.0.min.css\");\n",
       "      Bokeh.embed.inject_css(\"https://cdn.pydata.org/bokeh/release/bokeh-widgets-0.13.0.min.css\");\n",
       "      console.log(\"Bokeh: injecting CSS: https://cdn.pydata.org/bokeh/release/bokeh-tables-0.13.0.min.css\");\n",
       "      Bokeh.embed.inject_css(\"https://cdn.pydata.org/bokeh/release/bokeh-tables-0.13.0.min.css\");\n",
       "    }\n",
       "  ];\n",
       "\n",
       "  function run_inline_js() {\n",
       "    \n",
       "    if ((root.Bokeh !== undefined) || (force === true)) {\n",
       "      for (var i = 0; i < inline_js.length; i++) {\n",
       "        inline_js[i].call(root, root.Bokeh);\n",
       "      }if (force === true) {\n",
       "        display_loaded();\n",
       "      }} else if (Date.now() < root._bokeh_timeout) {\n",
       "      setTimeout(run_inline_js, 100);\n",
       "    } else if (!root._bokeh_failed_load) {\n",
       "      console.log(\"Bokeh: BokehJS failed to load within specified timeout.\");\n",
       "      root._bokeh_failed_load = true;\n",
       "    } else if (force !== true) {\n",
       "      var cell = $(document.getElementById(\"9c59f0b2-0801-4819-8be1-a4e3d7a9580d\")).parents('.cell').data().cell;\n",
       "      cell.output_area.append_execute_result(NB_LOAD_WARNING)\n",
       "    }\n",
       "\n",
       "  }\n",
       "\n",
       "  if (root._bokeh_is_loading === 0) {\n",
       "    console.log(\"Bokeh: BokehJS loaded, going straight to plotting\");\n",
       "    run_inline_js();\n",
       "  } else {\n",
       "    load_libs(js_urls, function() {\n",
       "      console.log(\"Bokeh: BokehJS plotting callback run at\", now());\n",
       "      run_inline_js();\n",
       "    });\n",
       "  }\n",
       "}(window));"
      ],
      "application/vnd.bokehjs_load.v0+json": "\n(function(root) {\n  function now() {\n    return new Date();\n  }\n\n  var force = true;\n\n  if (typeof (root._bokeh_onload_callbacks) === \"undefined\" || force === true) {\n    root._bokeh_onload_callbacks = [];\n    root._bokeh_is_loading = undefined;\n  }\n\n  \n\n  \n  if (typeof (root._bokeh_timeout) === \"undefined\" || force === true) {\n    root._bokeh_timeout = Date.now() + 5000;\n    root._bokeh_failed_load = false;\n  }\n\n  var NB_LOAD_WARNING = {'data': {'text/html':\n     \"<div style='background-color: #fdd'>\\n\"+\n     \"<p>\\n\"+\n     \"BokehJS does not appear to have successfully loaded. If loading BokehJS from CDN, this \\n\"+\n     \"may be due to a slow or bad network connection. Possible fixes:\\n\"+\n     \"</p>\\n\"+\n     \"<ul>\\n\"+\n     \"<li>re-rerun `output_notebook()` to attempt to load from CDN again, or</li>\\n\"+\n     \"<li>use INLINE resources instead, as so:</li>\\n\"+\n     \"</ul>\\n\"+\n     \"<code>\\n\"+\n     \"from bokeh.resources import INLINE\\n\"+\n     \"output_notebook(resources=INLINE)\\n\"+\n     \"</code>\\n\"+\n     \"</div>\"}};\n\n  function display_loaded() {\n    var el = document.getElementById(\"9c59f0b2-0801-4819-8be1-a4e3d7a9580d\");\n    if (el != null) {\n      el.textContent = \"BokehJS is loading...\";\n    }\n    if (root.Bokeh !== undefined) {\n      if (el != null) {\n        el.textContent = \"BokehJS \" + root.Bokeh.version + \" successfully loaded.\";\n      }\n    } else if (Date.now() < root._bokeh_timeout) {\n      setTimeout(display_loaded, 100)\n    }\n  }\n\n\n  function run_callbacks() {\n    try {\n      root._bokeh_onload_callbacks.forEach(function(callback) { callback() });\n    }\n    finally {\n      delete root._bokeh_onload_callbacks\n    }\n    console.info(\"Bokeh: all callbacks have finished\");\n  }\n\n  function load_libs(js_urls, callback) {\n    root._bokeh_onload_callbacks.push(callback);\n    if (root._bokeh_is_loading > 0) {\n      console.log(\"Bokeh: BokehJS is being loaded, scheduling callback at\", now());\n      return null;\n    }\n    if (js_urls == null || js_urls.length === 0) {\n      run_callbacks();\n      return null;\n    }\n    console.log(\"Bokeh: BokehJS not loaded, scheduling load and callback at\", now());\n    root._bokeh_is_loading = js_urls.length;\n    for (var i = 0; i < js_urls.length; i++) {\n      var url = js_urls[i];\n      var s = document.createElement('script');\n      s.src = url;\n      s.async = false;\n      s.onreadystatechange = s.onload = function() {\n        root._bokeh_is_loading--;\n        if (root._bokeh_is_loading === 0) {\n          console.log(\"Bokeh: all BokehJS libraries loaded\");\n          run_callbacks()\n        }\n      };\n      s.onerror = function() {\n        console.warn(\"failed to load library \" + url);\n      };\n      console.log(\"Bokeh: injecting script tag for BokehJS library: \", url);\n      document.getElementsByTagName(\"head\")[0].appendChild(s);\n    }\n  };var element = document.getElementById(\"9c59f0b2-0801-4819-8be1-a4e3d7a9580d\");\n  if (element == null) {\n    console.log(\"Bokeh: ERROR: autoload.js configured with elementid '9c59f0b2-0801-4819-8be1-a4e3d7a9580d' but no matching script tag was found. \")\n    return false;\n  }\n\n  var js_urls = [\"https://cdn.pydata.org/bokeh/release/bokeh-0.13.0.min.js\", \"https://cdn.pydata.org/bokeh/release/bokeh-widgets-0.13.0.min.js\", \"https://cdn.pydata.org/bokeh/release/bokeh-tables-0.13.0.min.js\", \"https://cdn.pydata.org/bokeh/release/bokeh-gl-0.13.0.min.js\"];\n\n  var inline_js = [\n    function(Bokeh) {\n      Bokeh.set_log_level(\"info\");\n    },\n    \n    function(Bokeh) {\n      \n    },\n    function(Bokeh) {\n      console.log(\"Bokeh: injecting CSS: https://cdn.pydata.org/bokeh/release/bokeh-0.13.0.min.css\");\n      Bokeh.embed.inject_css(\"https://cdn.pydata.org/bokeh/release/bokeh-0.13.0.min.css\");\n      console.log(\"Bokeh: injecting CSS: https://cdn.pydata.org/bokeh/release/bokeh-widgets-0.13.0.min.css\");\n      Bokeh.embed.inject_css(\"https://cdn.pydata.org/bokeh/release/bokeh-widgets-0.13.0.min.css\");\n      console.log(\"Bokeh: injecting CSS: https://cdn.pydata.org/bokeh/release/bokeh-tables-0.13.0.min.css\");\n      Bokeh.embed.inject_css(\"https://cdn.pydata.org/bokeh/release/bokeh-tables-0.13.0.min.css\");\n    }\n  ];\n\n  function run_inline_js() {\n    \n    if ((root.Bokeh !== undefined) || (force === true)) {\n      for (var i = 0; i < inline_js.length; i++) {\n        inline_js[i].call(root, root.Bokeh);\n      }if (force === true) {\n        display_loaded();\n      }} else if (Date.now() < root._bokeh_timeout) {\n      setTimeout(run_inline_js, 100);\n    } else if (!root._bokeh_failed_load) {\n      console.log(\"Bokeh: BokehJS failed to load within specified timeout.\");\n      root._bokeh_failed_load = true;\n    } else if (force !== true) {\n      var cell = $(document.getElementById(\"9c59f0b2-0801-4819-8be1-a4e3d7a9580d\")).parents('.cell').data().cell;\n      cell.output_area.append_execute_result(NB_LOAD_WARNING)\n    }\n\n  }\n\n  if (root._bokeh_is_loading === 0) {\n    console.log(\"Bokeh: BokehJS loaded, going straight to plotting\");\n    run_inline_js();\n  } else {\n    load_libs(js_urls, function() {\n      console.log(\"Bokeh: BokehJS plotting callback run at\", now());\n      run_inline_js();\n    });\n  }\n}(window));"
     },
     "metadata": {},
     "output_type": "display_data"
    },
    {
     "data": {
      "text/html": [
       "\n",
       "\n",
       "\n",
       "\n",
       "\n",
       "\n",
       "  <div class=\"bk-root\" id=\"e2fbdfc4-b237-471b-ac77-53b39c8b3f7c\"></div>\n"
      ]
     },
     "metadata": {},
     "output_type": "display_data"
    },
    {
     "data": {
      "application/javascript": [
       "(function(root) {\n",
       "  function embed_document(root) {\n",
       "    \n",
       "  var docs_json = {\"a09b3630-44a0-4436-a354-1190dda081e1\":{\"roots\":{\"references\":[{\"attributes\":{},\"id\":\"3b756a10-e65e-4ce7-8158-587cca5629a8\",\"type\":\"PanTool\"},{\"attributes\":{},\"id\":\"86b47d04-44f9-459e-880b-fe417afeaf3c\",\"type\":\"UnionRenderers\"},{\"attributes\":{\"fill_alpha\":{\"value\":0.1},\"fill_color\":{\"value\":\"#1f77b4\"},\"line_alpha\":{\"value\":0.1},\"line_color\":{\"value\":\"#1f77b4\"},\"size\":{\"units\":\"screen\",\"value\":20},\"x\":{\"field\":\"x\"},\"y\":{\"field\":\"y\"}},\"id\":\"b747c0aa-392a-47df-8508-929a299be6ca\",\"type\":\"Circle\"},{\"attributes\":{},\"id\":\"e4637866-1ce9-446c-8bcd-457f4c6dd8ea\",\"type\":\"Selection\"},{\"attributes\":{\"formatter\":{\"id\":\"ee089953-ed4e-42e2-bcd4-0b18d8316409\",\"type\":\"BasicTickFormatter\"},\"plot\":{\"id\":\"d55ec8bc-27e6-4bac-8c75-3ede9c3fdf8b\",\"subtype\":\"Figure\",\"type\":\"Plot\"},\"ticker\":{\"id\":\"7a92d5bd-4848-46e0-8cb9-49824ccd793b\",\"type\":\"BasicTicker\"}},\"id\":\"1e7aed81-30da-4131-8f65-84d3d4653db9\",\"type\":\"LinearAxis\"},{\"attributes\":{\"active_drag\":\"auto\",\"active_inspect\":\"auto\",\"active_multi\":null,\"active_scroll\":\"auto\",\"active_tap\":\"auto\",\"tools\":[{\"id\":\"3b756a10-e65e-4ce7-8158-587cca5629a8\",\"type\":\"PanTool\"},{\"id\":\"0250619f-2c5c-434c-862e-4f14a687bf53\",\"type\":\"WheelZoomTool\"},{\"id\":\"5a744c7b-f6ad-4171-9f71-3240063ce194\",\"type\":\"BoxZoomTool\"},{\"id\":\"4632e89e-2466-4eac-8b5b-6cfdfe76b1c9\",\"type\":\"SaveTool\"},{\"id\":\"ace8d047-e28e-4095-9b8a-7b9972217108\",\"type\":\"ResetTool\"},{\"id\":\"ffc26b5d-ced1-48dc-9ace-f2946f98a00e\",\"type\":\"HelpTool\"}]},\"id\":\"2e758573-f42e-4ab2-8735-222edcbc3f56\",\"type\":\"Toolbar\"},{\"attributes\":{},\"id\":\"ee089953-ed4e-42e2-bcd4-0b18d8316409\",\"type\":\"BasicTickFormatter\"},{\"attributes\":{\"callback\":null},\"id\":\"d47e4d32-1fc5-4a8f-93bd-3fd78d1a5305\",\"type\":\"DataRange1d\"},{\"attributes\":{\"overlay\":{\"id\":\"913a031f-68aa-4288-9479-b8c0fe2d6c0e\",\"type\":\"BoxAnnotation\"}},\"id\":\"5a744c7b-f6ad-4171-9f71-3240063ce194\",\"type\":\"BoxZoomTool\"},{\"attributes\":{},\"id\":\"ffc26b5d-ced1-48dc-9ace-f2946f98a00e\",\"type\":\"HelpTool\"},{\"attributes\":{},\"id\":\"ace8d047-e28e-4095-9b8a-7b9972217108\",\"type\":\"ResetTool\"},{\"attributes\":{},\"id\":\"a23bde3d-2762-4564-91f1-8fb2d05f34be\",\"type\":\"LinearScale\"},{\"attributes\":{},\"id\":\"0250619f-2c5c-434c-862e-4f14a687bf53\",\"type\":\"WheelZoomTool\"},{\"attributes\":{\"callback\":null,\"data\":{\"x\":[1997,1998,1999,2000,2001,2002,2003,2004,2005,2006,2007,2008,2009,2010,2011,2012,2013],\"y\":[11,74,77,73,65,73,34,30,152,0,0,2,41,46,38,44,368]},\"selected\":{\"id\":\"e4637866-1ce9-446c-8bcd-457f4c6dd8ea\",\"type\":\"Selection\"},\"selection_policy\":{\"id\":\"86b47d04-44f9-459e-880b-fe417afeaf3c\",\"type\":\"UnionRenderers\"}},\"id\":\"53a0df75-c5b9-468b-9d6c-5c67d45f4d14\",\"type\":\"ColumnDataSource\"},{\"attributes\":{},\"id\":\"188c5dc6-5484-49c6-82b5-4ddd203b4c32\",\"type\":\"BasicTickFormatter\"},{\"attributes\":{\"formatter\":{\"id\":\"188c5dc6-5484-49c6-82b5-4ddd203b4c32\",\"type\":\"BasicTickFormatter\"},\"plot\":{\"id\":\"d55ec8bc-27e6-4bac-8c75-3ede9c3fdf8b\",\"subtype\":\"Figure\",\"type\":\"Plot\"},\"ticker\":{\"id\":\"7229311e-4f63-450a-95b3-bd1f2b24c1b2\",\"type\":\"BasicTicker\"}},\"id\":\"b2d803fb-a15c-4082-b5d2-0471800f5100\",\"type\":\"LinearAxis\"},{\"attributes\":{\"source\":{\"id\":\"53a0df75-c5b9-468b-9d6c-5c67d45f4d14\",\"type\":\"ColumnDataSource\"}},\"id\":\"e7511f9d-5566-40cc-be4c-f0336acc2f8b\",\"type\":\"CDSView\"},{\"attributes\":{},\"id\":\"db61b92a-b74c-44be-9d3a-7e6e00f6f6d7\",\"type\":\"LinearScale\"},{\"attributes\":{\"plot\":null,\"text\":\"\"},\"id\":\"a01bfcf6-2458-4a52-8499-acaf8d7835f7\",\"type\":\"Title\"},{\"attributes\":{\"callback\":null},\"id\":\"13ff7b70-ab36-44e1-9f55-09a13f3b7d5d\",\"type\":\"DataRange1d\"},{\"attributes\":{\"data_source\":{\"id\":\"53a0df75-c5b9-468b-9d6c-5c67d45f4d14\",\"type\":\"ColumnDataSource\"},\"glyph\":{\"id\":\"6c23c209-ec32-4d7e-b426-ad2b65893bcb\",\"type\":\"Circle\"},\"hover_glyph\":null,\"muted_glyph\":null,\"nonselection_glyph\":{\"id\":\"b747c0aa-392a-47df-8508-929a299be6ca\",\"type\":\"Circle\"},\"selection_glyph\":null,\"view\":{\"id\":\"e7511f9d-5566-40cc-be4c-f0336acc2f8b\",\"type\":\"CDSView\"}},\"id\":\"e195126b-149c-4250-ad19-3863e7175f1f\",\"type\":\"GlyphRenderer\"},{\"attributes\":{},\"id\":\"4632e89e-2466-4eac-8b5b-6cfdfe76b1c9\",\"type\":\"SaveTool\"},{\"attributes\":{\"dimension\":1,\"plot\":{\"id\":\"d55ec8bc-27e6-4bac-8c75-3ede9c3fdf8b\",\"subtype\":\"Figure\",\"type\":\"Plot\"},\"ticker\":{\"id\":\"7229311e-4f63-450a-95b3-bd1f2b24c1b2\",\"type\":\"BasicTicker\"}},\"id\":\"a5690b29-2021-484a-8ecc-6588af7b8367\",\"type\":\"Grid\"},{\"attributes\":{\"below\":[{\"id\":\"1e7aed81-30da-4131-8f65-84d3d4653db9\",\"type\":\"LinearAxis\"}],\"left\":[{\"id\":\"b2d803fb-a15c-4082-b5d2-0471800f5100\",\"type\":\"LinearAxis\"}],\"renderers\":[{\"id\":\"1e7aed81-30da-4131-8f65-84d3d4653db9\",\"type\":\"LinearAxis\"},{\"id\":\"c8b737a0-e07a-4a90-b164-3e4ca3a91af0\",\"type\":\"Grid\"},{\"id\":\"b2d803fb-a15c-4082-b5d2-0471800f5100\",\"type\":\"LinearAxis\"},{\"id\":\"a5690b29-2021-484a-8ecc-6588af7b8367\",\"type\":\"Grid\"},{\"id\":\"913a031f-68aa-4288-9479-b8c0fe2d6c0e\",\"type\":\"BoxAnnotation\"},{\"id\":\"e195126b-149c-4250-ad19-3863e7175f1f\",\"type\":\"GlyphRenderer\"}],\"title\":{\"id\":\"a01bfcf6-2458-4a52-8499-acaf8d7835f7\",\"type\":\"Title\"},\"toolbar\":{\"id\":\"2e758573-f42e-4ab2-8735-222edcbc3f56\",\"type\":\"Toolbar\"},\"x_range\":{\"id\":\"d47e4d32-1fc5-4a8f-93bd-3fd78d1a5305\",\"type\":\"DataRange1d\"},\"x_scale\":{\"id\":\"db61b92a-b74c-44be-9d3a-7e6e00f6f6d7\",\"type\":\"LinearScale\"},\"y_range\":{\"id\":\"13ff7b70-ab36-44e1-9f55-09a13f3b7d5d\",\"type\":\"DataRange1d\"},\"y_scale\":{\"id\":\"a23bde3d-2762-4564-91f1-8fb2d05f34be\",\"type\":\"LinearScale\"}},\"id\":\"d55ec8bc-27e6-4bac-8c75-3ede9c3fdf8b\",\"subtype\":\"Figure\",\"type\":\"Plot\"},{\"attributes\":{},\"id\":\"7229311e-4f63-450a-95b3-bd1f2b24c1b2\",\"type\":\"BasicTicker\"},{\"attributes\":{\"bottom_units\":\"screen\",\"fill_alpha\":{\"value\":0.5},\"fill_color\":{\"value\":\"lightgrey\"},\"left_units\":\"screen\",\"level\":\"overlay\",\"line_alpha\":{\"value\":1.0},\"line_color\":{\"value\":\"black\"},\"line_dash\":[4,4],\"line_width\":{\"value\":2},\"plot\":null,\"render_mode\":\"css\",\"right_units\":\"screen\",\"top_units\":\"screen\"},\"id\":\"913a031f-68aa-4288-9479-b8c0fe2d6c0e\",\"type\":\"BoxAnnotation\"},{\"attributes\":{\"plot\":{\"id\":\"d55ec8bc-27e6-4bac-8c75-3ede9c3fdf8b\",\"subtype\":\"Figure\",\"type\":\"Plot\"},\"ticker\":{\"id\":\"7a92d5bd-4848-46e0-8cb9-49824ccd793b\",\"type\":\"BasicTicker\"}},\"id\":\"c8b737a0-e07a-4a90-b164-3e4ca3a91af0\",\"type\":\"Grid\"},{\"attributes\":{},\"id\":\"7a92d5bd-4848-46e0-8cb9-49824ccd793b\",\"type\":\"BasicTicker\"},{\"attributes\":{\"fill_alpha\":{\"value\":0.4},\"fill_color\":{\"value\":\"#1f77b4\"},\"line_alpha\":{\"value\":0.4},\"line_color\":{\"value\":\"#1f77b4\"},\"size\":{\"units\":\"screen\",\"value\":20},\"x\":{\"field\":\"x\"},\"y\":{\"field\":\"y\"}},\"id\":\"6c23c209-ec32-4d7e-b426-ad2b65893bcb\",\"type\":\"Circle\"}],\"root_ids\":[\"d55ec8bc-27e6-4bac-8c75-3ede9c3fdf8b\"]},\"title\":\"Bokeh Application\",\"version\":\"0.13.0\"}};\n",
       "  var render_items = [{\"docid\":\"a09b3630-44a0-4436-a354-1190dda081e1\",\"roots\":{\"d55ec8bc-27e6-4bac-8c75-3ede9c3fdf8b\":\"e2fbdfc4-b237-471b-ac77-53b39c8b3f7c\"}}];\n",
       "  root.Bokeh.embed.embed_items_notebook(docs_json, render_items);\n",
       "\n",
       "  }\n",
       "  if (root.Bokeh !== undefined) {\n",
       "    embed_document(root);\n",
       "  } else {\n",
       "    var attempts = 0;\n",
       "    var timer = setInterval(function(root) {\n",
       "      if (root.Bokeh !== undefined) {\n",
       "        embed_document(root);\n",
       "        clearInterval(timer);\n",
       "      }\n",
       "      attempts++;\n",
       "      if (attempts > 100) {\n",
       "        console.log(\"Bokeh: ERROR: Unable to run BokehJS code because BokehJS library is missing\")\n",
       "        clearInterval(timer);\n",
       "      }\n",
       "    }, 10, root)\n",
       "  }\n",
       "})(window);"
      ],
      "application/vnd.bokehjs_exec.v0+json": ""
     },
     "metadata": {
      "application/vnd.bokehjs_exec.v0+json": {
       "id": "d55ec8bc-27e6-4bac-8c75-3ede9c3fdf8b"
      }
     },
     "output_type": "display_data"
    }
   ],
   "source": [
    "from bokeh.plotting import figure, output_notebook, show\n",
    "\n",
    "output_notebook()\n",
    "year = [1997, 1998, 1999, 2000, 2001, 2002, 2003, 2004, 2005, 2006, 2007, 2008, 2009, 2010, 2011, 2012, 2013]\n",
    "no_of_speeches = [11, 74, 77, 73, 65, 73, 34, 30, 152, 0, 0, 2, 41, 46, 38, 44, 368]\n",
    "q = figure()\n",
    "q.circle(year, no_of_speeches, size = 20, alpha = 0.4)\n",
    "\n",
    "show(q)"
   ]
  },
  {
   "cell_type": "code",
   "execution_count": 155,
   "metadata": {},
   "outputs": [
    {
     "data": {
      "text/html": [
       "\n",
       "\n",
       "\n",
       "\n",
       "\n",
       "\n",
       "  <div class=\"bk-root\" id=\"068331d7-cb64-45af-bdf3-97ece6e02cca\"></div>\n"
      ]
     },
     "metadata": {},
     "output_type": "display_data"
    },
    {
     "data": {
      "application/javascript": [
       "(function(root) {\n",
       "  function embed_document(root) {\n",
       "    \n",
       "  var docs_json = {\"85a08c9b-741a-41db-ab06-aa32b138f9f3\":{\"roots\":{\"references\":[{\"attributes\":{\"callback\":null,\"data\":{\"top\":[0,0,0,0,0,0,0,0,0,0,0,0,0,0,0,0,0,0,4,114,225,73],\"x\":[\"97\",\"98\",\"99\",\"00\",\"01\",\"02\",\"03\",\"04\",\"05\",\"06\",\"07\",\"08\",\"09\",\"10\",\"11\",\"12\",\"13\",\"14\",\"15\",\"16\",\"17\",\"18\"]},\"selected\":{\"id\":\"f1376e32-6d5d-4958-bb07-3a5bb7e97f15\",\"type\":\"Selection\"},\"selection_policy\":{\"id\":\"fd8345ab-b053-4679-bec7-64f5745f8f0c\",\"type\":\"UnionRenderers\"}},\"id\":\"9535b934-2665-422c-b6ac-ffc49e40ab6d\",\"type\":\"ColumnDataSource\"},{\"attributes\":{\"plot\":null,\"text\":\"Occurences of Brexit\"},\"id\":\"b583b3c0-cd8e-431e-a3b9-2304026927b8\",\"type\":\"Title\"},{\"attributes\":{},\"id\":\"4c68ae82-dbe2-47a0-a64d-e3ddeb04e4d9\",\"type\":\"BasicTicker\"},{\"attributes\":{},\"id\":\"fd8345ab-b053-4679-bec7-64f5745f8f0c\",\"type\":\"UnionRenderers\"},{\"attributes\":{\"fill_alpha\":{\"value\":0.1},\"fill_color\":{\"value\":\"#1f77b4\"},\"line_alpha\":{\"value\":0.1},\"line_color\":{\"value\":\"#1f77b4\"},\"top\":{\"field\":\"top\"},\"width\":{\"value\":0.9},\"x\":{\"field\":\"x\"}},\"id\":\"58631602-4622-44a1-b636-68d3ea234fed\",\"type\":\"VBar\"},{\"attributes\":{\"below\":[{\"id\":\"a6daba92-4cb8-404c-9fd9-1e825ff5f57b\",\"type\":\"CategoricalAxis\"}],\"left\":[{\"id\":\"8c5604fc-4b29-4821-b7a3-5605cffbfefd\",\"type\":\"LinearAxis\"}],\"plot_height\":200,\"renderers\":[{\"id\":\"a6daba92-4cb8-404c-9fd9-1e825ff5f57b\",\"type\":\"CategoricalAxis\"},{\"id\":\"5496ce68-c208-4486-8cc0-5c9e0aaf2b3f\",\"type\":\"Grid\"},{\"id\":\"8c5604fc-4b29-4821-b7a3-5605cffbfefd\",\"type\":\"LinearAxis\"},{\"id\":\"ca5983a2-20b7-4933-8344-00757d7a358e\",\"type\":\"Grid\"},{\"id\":\"15184589-03c8-4a1e-8f65-6a57ef8900ac\",\"type\":\"BoxAnnotation\"},{\"id\":\"bf0d9e54-c905-4cb4-a73c-592aba56268d\",\"type\":\"GlyphRenderer\"}],\"title\":{\"id\":\"b583b3c0-cd8e-431e-a3b9-2304026927b8\",\"type\":\"Title\"},\"toolbar\":{\"id\":\"c052c5ca-3d04-4b8f-9ffd-83d0bb89eb22\",\"type\":\"Toolbar\"},\"x_range\":{\"id\":\"280dd510-12ce-4342-89b0-ee0dc26678b0\",\"type\":\"FactorRange\"},\"x_scale\":{\"id\":\"2e258adb-e37d-48f9-8e79-af5c4fb40d23\",\"type\":\"CategoricalScale\"},\"y_range\":{\"id\":\"b1bc431d-de0c-4a90-a74e-35210b50ec6e\",\"type\":\"DataRange1d\"},\"y_scale\":{\"id\":\"48f1d778-b9d5-4dfe-b962-b4eaf5901f2b\",\"type\":\"LinearScale\"}},\"id\":\"51e61d67-2560-49d8-8727-ac03123c4b4a\",\"subtype\":\"Figure\",\"type\":\"Plot\"},{\"attributes\":{},\"id\":\"c713cc9b-1e94-4f07-8d4f-93b00d8d09d4\",\"type\":\"WheelZoomTool\"},{\"attributes\":{\"dimension\":1,\"plot\":{\"id\":\"51e61d67-2560-49d8-8727-ac03123c4b4a\",\"subtype\":\"Figure\",\"type\":\"Plot\"},\"ticker\":{\"id\":\"4c68ae82-dbe2-47a0-a64d-e3ddeb04e4d9\",\"type\":\"BasicTicker\"}},\"id\":\"ca5983a2-20b7-4933-8344-00757d7a358e\",\"type\":\"Grid\"},{\"attributes\":{\"data_source\":{\"id\":\"9535b934-2665-422c-b6ac-ffc49e40ab6d\",\"type\":\"ColumnDataSource\"},\"glyph\":{\"id\":\"d3c39dda-43c6-45ee-8638-2bac3f6274de\",\"type\":\"VBar\"},\"hover_glyph\":null,\"muted_glyph\":null,\"nonselection_glyph\":{\"id\":\"58631602-4622-44a1-b636-68d3ea234fed\",\"type\":\"VBar\"},\"selection_glyph\":null,\"view\":{\"id\":\"ba76edd4-ea62-4832-a3d5-629ded127dcd\",\"type\":\"CDSView\"}},\"id\":\"bf0d9e54-c905-4cb4-a73c-592aba56268d\",\"type\":\"GlyphRenderer\"},{\"attributes\":{\"formatter\":{\"id\":\"0b0366b3-25c9-4f93-ac74-137315b968e0\",\"type\":\"BasicTickFormatter\"},\"plot\":{\"id\":\"51e61d67-2560-49d8-8727-ac03123c4b4a\",\"subtype\":\"Figure\",\"type\":\"Plot\"},\"ticker\":{\"id\":\"4c68ae82-dbe2-47a0-a64d-e3ddeb04e4d9\",\"type\":\"BasicTicker\"}},\"id\":\"8c5604fc-4b29-4821-b7a3-5605cffbfefd\",\"type\":\"LinearAxis\"},{\"attributes\":{},\"id\":\"5e26dfd2-094d-4845-a3f3-8b9ae0c87f37\",\"type\":\"PanTool\"},{\"attributes\":{\"callback\":null,\"factors\":[\"97\",\"98\",\"99\",\"00\",\"01\",\"02\",\"03\",\"04\",\"05\",\"06\",\"07\",\"08\",\"09\",\"10\",\"11\",\"12\",\"13\",\"14\",\"15\",\"16\",\"17\",\"18\"]},\"id\":\"280dd510-12ce-4342-89b0-ee0dc26678b0\",\"type\":\"FactorRange\"},{\"attributes\":{\"axis_label\":\"Year\",\"formatter\":{\"id\":\"1a90b673-0ee7-4f67-bf4f-8ef1b7d30222\",\"type\":\"CategoricalTickFormatter\"},\"plot\":{\"id\":\"51e61d67-2560-49d8-8727-ac03123c4b4a\",\"subtype\":\"Figure\",\"type\":\"Plot\"},\"ticker\":{\"id\":\"c5160018-de14-42ad-9d67-84bbac6bb093\",\"type\":\"CategoricalTicker\"}},\"id\":\"a6daba92-4cb8-404c-9fd9-1e825ff5f57b\",\"type\":\"CategoricalAxis\"},{\"attributes\":{},\"id\":\"08fc609d-5373-4f67-9d94-644495b2de79\",\"type\":\"SaveTool\"},{\"attributes\":{\"callback\":null},\"id\":\"b1bc431d-de0c-4a90-a74e-35210b50ec6e\",\"type\":\"DataRange1d\"},{\"attributes\":{\"source\":{\"id\":\"9535b934-2665-422c-b6ac-ffc49e40ab6d\",\"type\":\"ColumnDataSource\"}},\"id\":\"ba76edd4-ea62-4832-a3d5-629ded127dcd\",\"type\":\"CDSView\"},{\"attributes\":{},\"id\":\"2e258adb-e37d-48f9-8e79-af5c4fb40d23\",\"type\":\"CategoricalScale\"},{\"attributes\":{\"plot\":{\"id\":\"51e61d67-2560-49d8-8727-ac03123c4b4a\",\"subtype\":\"Figure\",\"type\":\"Plot\"},\"ticker\":{\"id\":\"c5160018-de14-42ad-9d67-84bbac6bb093\",\"type\":\"CategoricalTicker\"}},\"id\":\"5496ce68-c208-4486-8cc0-5c9e0aaf2b3f\",\"type\":\"Grid\"},{\"attributes\":{},\"id\":\"b0a9b3e4-4d27-4b8c-adbe-b313e55a6ea5\",\"type\":\"ResetTool\"},{\"attributes\":{\"fill_color\":{\"value\":\"#1f77b4\"},\"line_color\":{\"value\":\"#1f77b4\"},\"top\":{\"field\":\"top\"},\"width\":{\"value\":0.9},\"x\":{\"field\":\"x\"}},\"id\":\"d3c39dda-43c6-45ee-8638-2bac3f6274de\",\"type\":\"VBar\"},{\"attributes\":{},\"id\":\"48f1d778-b9d5-4dfe-b962-b4eaf5901f2b\",\"type\":\"LinearScale\"},{\"attributes\":{\"active_drag\":\"auto\",\"active_inspect\":\"auto\",\"active_multi\":null,\"active_scroll\":\"auto\",\"active_tap\":\"auto\",\"tools\":[{\"id\":\"5e26dfd2-094d-4845-a3f3-8b9ae0c87f37\",\"type\":\"PanTool\"},{\"id\":\"c713cc9b-1e94-4f07-8d4f-93b00d8d09d4\",\"type\":\"WheelZoomTool\"},{\"id\":\"f4adc5eb-db6c-443f-860c-d6043a99b19c\",\"type\":\"BoxZoomTool\"},{\"id\":\"08fc609d-5373-4f67-9d94-644495b2de79\",\"type\":\"SaveTool\"},{\"id\":\"b0a9b3e4-4d27-4b8c-adbe-b313e55a6ea5\",\"type\":\"ResetTool\"},{\"id\":\"bc6aa752-cd45-49d0-8c11-c020a801e397\",\"type\":\"HelpTool\"}]},\"id\":\"c052c5ca-3d04-4b8f-9ffd-83d0bb89eb22\",\"type\":\"Toolbar\"},{\"attributes\":{},\"id\":\"bc6aa752-cd45-49d0-8c11-c020a801e397\",\"type\":\"HelpTool\"},{\"attributes\":{},\"id\":\"0b0366b3-25c9-4f93-ac74-137315b968e0\",\"type\":\"BasicTickFormatter\"},{\"attributes\":{},\"id\":\"1a90b673-0ee7-4f67-bf4f-8ef1b7d30222\",\"type\":\"CategoricalTickFormatter\"},{\"attributes\":{\"bottom_units\":\"screen\",\"fill_alpha\":{\"value\":0.5},\"fill_color\":{\"value\":\"lightgrey\"},\"left_units\":\"screen\",\"level\":\"overlay\",\"line_alpha\":{\"value\":1.0},\"line_color\":{\"value\":\"black\"},\"line_dash\":[4,4],\"line_width\":{\"value\":2},\"plot\":null,\"render_mode\":\"css\",\"right_units\":\"screen\",\"top_units\":\"screen\"},\"id\":\"15184589-03c8-4a1e-8f65-6a57ef8900ac\",\"type\":\"BoxAnnotation\"},{\"attributes\":{},\"id\":\"f1376e32-6d5d-4958-bb07-3a5bb7e97f15\",\"type\":\"Selection\"},{\"attributes\":{},\"id\":\"c5160018-de14-42ad-9d67-84bbac6bb093\",\"type\":\"CategoricalTicker\"},{\"attributes\":{\"overlay\":{\"id\":\"15184589-03c8-4a1e-8f65-6a57ef8900ac\",\"type\":\"BoxAnnotation\"}},\"id\":\"f4adc5eb-db6c-443f-860c-d6043a99b19c\",\"type\":\"BoxZoomTool\"}],\"root_ids\":[\"51e61d67-2560-49d8-8727-ac03123c4b4a\"]},\"title\":\"Bokeh Application\",\"version\":\"0.13.0\"}};\n",
       "  var render_items = [{\"docid\":\"85a08c9b-741a-41db-ab06-aa32b138f9f3\",\"roots\":{\"51e61d67-2560-49d8-8727-ac03123c4b4a\":\"068331d7-cb64-45af-bdf3-97ece6e02cca\"}}];\n",
       "  root.Bokeh.embed.embed_items_notebook(docs_json, render_items);\n",
       "\n",
       "  }\n",
       "  if (root.Bokeh !== undefined) {\n",
       "    embed_document(root);\n",
       "  } else {\n",
       "    var attempts = 0;\n",
       "    var timer = setInterval(function(root) {\n",
       "      if (root.Bokeh !== undefined) {\n",
       "        embed_document(root);\n",
       "        clearInterval(timer);\n",
       "      }\n",
       "      attempts++;\n",
       "      if (attempts > 100) {\n",
       "        console.log(\"Bokeh: ERROR: Unable to run BokehJS code because BokehJS library is missing\")\n",
       "        clearInterval(timer);\n",
       "      }\n",
       "    }, 10, root)\n",
       "  }\n",
       "})(window);"
      ],
      "application/vnd.bokehjs_exec.v0+json": ""
     },
     "metadata": {
      "application/vnd.bokehjs_exec.v0+json": {
       "id": "51e61d67-2560-49d8-8727-ac03123c4b4a"
      }
     },
     "output_type": "display_data"
    }
   ],
   "source": [
    "\n"
   ]
  },
  {
   "cell_type": "code",
   "execution_count": 156,
   "metadata": {},
   "outputs": [
    {
     "data": {
      "text/html": [
       "\n",
       "\n",
       "\n",
       "\n",
       "\n",
       "\n",
       "  <div class=\"bk-root\" id=\"119af0fd-2c69-4da4-8401-52691e7bb65f\"></div>\n"
      ]
     },
     "metadata": {},
     "output_type": "display_data"
    },
    {
     "data": {
      "application/javascript": [
       "(function(root) {\n",
       "  function embed_document(root) {\n",
       "    \n",
       "  var docs_json = {\"457708c8-b88c-4b5d-b575-17ba45850615\":{\"roots\":{\"references\":[{\"attributes\":{\"below\":[{\"id\":\"9b420560-9e39-4dbe-a0b4-cc6562d0f190\",\"type\":\"CategoricalAxis\"}],\"left\":[{\"id\":\"582b18d4-d1da-48cd-b44d-e73d1146d4b1\",\"type\":\"LinearAxis\"}],\"plot_height\":200,\"renderers\":[{\"id\":\"9b420560-9e39-4dbe-a0b4-cc6562d0f190\",\"type\":\"CategoricalAxis\"},{\"id\":\"9f1a3baf-46d9-48d5-8957-7b5f29521917\",\"type\":\"Grid\"},{\"id\":\"582b18d4-d1da-48cd-b44d-e73d1146d4b1\",\"type\":\"LinearAxis\"},{\"id\":\"cf2eb794-ae21-48e0-9ab4-788715a356b7\",\"type\":\"Grid\"},{\"id\":\"1d0d56ff-44fb-4591-a6c1-7b52ddc3bf71\",\"type\":\"BoxAnnotation\"},{\"id\":\"c66e12b1-5f08-477e-a7a4-3da5a0052708\",\"type\":\"GlyphRenderer\"}],\"title\":{\"id\":\"0ec4c2d4-734b-4483-839b-8c0d6fa97c01\",\"type\":\"Title\"},\"toolbar\":{\"id\":\"d59bd485-4c4d-4ad1-a0fe-af5ec83f4c67\",\"type\":\"Toolbar\"},\"x_range\":{\"id\":\"b3191154-1c0d-4518-927c-00c2ae8c1654\",\"type\":\"FactorRange\"},\"x_scale\":{\"id\":\"867dc426-6963-446c-bd19-6f4c09ad3cfe\",\"type\":\"CategoricalScale\"},\"y_range\":{\"id\":\"20fd890d-64fd-49ff-a182-e857081aa842\",\"type\":\"DataRange1d\"},\"y_scale\":{\"id\":\"419c585a-3610-449e-9874-a9774ecd6e56\",\"type\":\"LinearScale\"}},\"id\":\"2db64c37-91ce-4d79-a938-340f70d94517\",\"subtype\":\"Figure\",\"type\":\"Plot\"},{\"attributes\":{},\"id\":\"10acaf6b-aa1c-4371-9656-b0d0c4627ab6\",\"type\":\"CategoricalTickFormatter\"},{\"attributes\":{},\"id\":\"867dc426-6963-446c-bd19-6f4c09ad3cfe\",\"type\":\"CategoricalScale\"},{\"attributes\":{},\"id\":\"92c918b0-9379-4089-bd7a-58f633f874d7\",\"type\":\"BasicTicker\"},{\"attributes\":{},\"id\":\"a2129341-6147-4e72-8e2f-12dd30d8a3fc\",\"type\":\"WheelZoomTool\"},{\"attributes\":{\"fill_alpha\":{\"value\":0.1},\"fill_color\":{\"value\":\"#1f77b4\"},\"line_alpha\":{\"value\":0.1},\"line_color\":{\"value\":\"#1f77b4\"},\"top\":{\"field\":\"top\"},\"width\":{\"value\":0.9},\"x\":{\"field\":\"x\"}},\"id\":\"dbea146a-99fc-4399-9756-cb9861b9fcee\",\"type\":\"VBar\"},{\"attributes\":{\"overlay\":{\"id\":\"1d0d56ff-44fb-4591-a6c1-7b52ddc3bf71\",\"type\":\"BoxAnnotation\"}},\"id\":\"4c500fab-824c-42aa-be70-1aa44dadcd5e\",\"type\":\"BoxZoomTool\"},{\"attributes\":{},\"id\":\"194f33b2-6721-494b-abc0-3473aadc0678\",\"type\":\"SaveTool\"},{\"attributes\":{\"dimension\":1,\"plot\":{\"id\":\"2db64c37-91ce-4d79-a938-340f70d94517\",\"subtype\":\"Figure\",\"type\":\"Plot\"},\"ticker\":{\"id\":\"92c918b0-9379-4089-bd7a-58f633f874d7\",\"type\":\"BasicTicker\"}},\"id\":\"cf2eb794-ae21-48e0-9ab4-788715a356b7\",\"type\":\"Grid\"},{\"attributes\":{\"active_drag\":\"auto\",\"active_inspect\":\"auto\",\"active_multi\":null,\"active_scroll\":\"auto\",\"active_tap\":\"auto\",\"tools\":[{\"id\":\"7cbd369f-9f2d-492d-bb79-ed2a252d2a52\",\"type\":\"PanTool\"},{\"id\":\"a2129341-6147-4e72-8e2f-12dd30d8a3fc\",\"type\":\"WheelZoomTool\"},{\"id\":\"4c500fab-824c-42aa-be70-1aa44dadcd5e\",\"type\":\"BoxZoomTool\"},{\"id\":\"194f33b2-6721-494b-abc0-3473aadc0678\",\"type\":\"SaveTool\"},{\"id\":\"a3801463-0431-434b-b22c-6b1670396978\",\"type\":\"ResetTool\"},{\"id\":\"411d3dee-4c06-497c-8c55-94784b1eda78\",\"type\":\"HelpTool\"}]},\"id\":\"d59bd485-4c4d-4ad1-a0fe-af5ec83f4c67\",\"type\":\"Toolbar\"},{\"attributes\":{\"axis_label\":\"Year\",\"formatter\":{\"id\":\"10acaf6b-aa1c-4371-9656-b0d0c4627ab6\",\"type\":\"CategoricalTickFormatter\"},\"plot\":{\"id\":\"2db64c37-91ce-4d79-a938-340f70d94517\",\"subtype\":\"Figure\",\"type\":\"Plot\"},\"ticker\":{\"id\":\"cc4234e1-9591-4589-9873-bd7446dfc882\",\"type\":\"CategoricalTicker\"}},\"id\":\"9b420560-9e39-4dbe-a0b4-cc6562d0f190\",\"type\":\"CategoricalAxis\"},{\"attributes\":{\"bottom_units\":\"screen\",\"fill_alpha\":{\"value\":0.5},\"fill_color\":{\"value\":\"lightgrey\"},\"left_units\":\"screen\",\"level\":\"overlay\",\"line_alpha\":{\"value\":1.0},\"line_color\":{\"value\":\"black\"},\"line_dash\":[4,4],\"line_width\":{\"value\":2},\"plot\":null,\"render_mode\":\"css\",\"right_units\":\"screen\",\"top_units\":\"screen\"},\"id\":\"1d0d56ff-44fb-4591-a6c1-7b52ddc3bf71\",\"type\":\"BoxAnnotation\"},{\"attributes\":{},\"id\":\"a3801463-0431-434b-b22c-6b1670396978\",\"type\":\"ResetTool\"},{\"attributes\":{\"plot\":{\"id\":\"2db64c37-91ce-4d79-a938-340f70d94517\",\"subtype\":\"Figure\",\"type\":\"Plot\"},\"ticker\":{\"id\":\"cc4234e1-9591-4589-9873-bd7446dfc882\",\"type\":\"CategoricalTicker\"}},\"id\":\"9f1a3baf-46d9-48d5-8957-7b5f29521917\",\"type\":\"Grid\"},{\"attributes\":{},\"id\":\"411d3dee-4c06-497c-8c55-94784b1eda78\",\"type\":\"HelpTool\"},{\"attributes\":{},\"id\":\"419c585a-3610-449e-9874-a9774ecd6e56\",\"type\":\"LinearScale\"},{\"attributes\":{},\"id\":\"cc4234e1-9591-4589-9873-bd7446dfc882\",\"type\":\"CategoricalTicker\"},{\"attributes\":{\"callback\":null,\"data\":{\"top\":[0,0,0,0,0,0,0,0,0,0,0,0,0,0,0,0,0,0,0.006,0.195,0.401,0.167],\"x\":[\"97\",\"98\",\"99\",\"00\",\"01\",\"02\",\"03\",\"04\",\"05\",\"06\",\"07\",\"08\",\"09\",\"10\",\"11\",\"12\",\"13\",\"14\",\"15\",\"16\",\"17\",\"18\"]},\"selected\":{\"id\":\"1ad2ce8b-e986-47fb-a3ee-9ce7f0ee53fa\",\"type\":\"Selection\"},\"selection_policy\":{\"id\":\"14f0ffc7-df8f-49fa-80a5-934a7dd9e1f3\",\"type\":\"UnionRenderers\"}},\"id\":\"5e9e457d-c061-4357-83e2-a3ca12fa2cee\",\"type\":\"ColumnDataSource\"},{\"attributes\":{},\"id\":\"7cbd369f-9f2d-492d-bb79-ed2a252d2a52\",\"type\":\"PanTool\"},{\"attributes\":{\"fill_color\":{\"value\":\"#1f77b4\"},\"line_color\":{\"value\":\"#1f77b4\"},\"top\":{\"field\":\"top\"},\"width\":{\"value\":0.9},\"x\":{\"field\":\"x\"}},\"id\":\"f0d3b646-813f-4fc4-9857-a81e9e453216\",\"type\":\"VBar\"},{\"attributes\":{\"plot\":null,\"text\":\"Occurences of Brexit\"},\"id\":\"0ec4c2d4-734b-4483-839b-8c0d6fa97c01\",\"type\":\"Title\"},{\"attributes\":{\"formatter\":{\"id\":\"0c746227-f84d-43dc-8f01-affcbd4bce83\",\"type\":\"BasicTickFormatter\"},\"plot\":{\"id\":\"2db64c37-91ce-4d79-a938-340f70d94517\",\"subtype\":\"Figure\",\"type\":\"Plot\"},\"ticker\":{\"id\":\"92c918b0-9379-4089-bd7a-58f633f874d7\",\"type\":\"BasicTicker\"}},\"id\":\"582b18d4-d1da-48cd-b44d-e73d1146d4b1\",\"type\":\"LinearAxis\"},{\"attributes\":{\"source\":{\"id\":\"5e9e457d-c061-4357-83e2-a3ca12fa2cee\",\"type\":\"ColumnDataSource\"}},\"id\":\"dcbbbe6e-4707-46d1-a856-c032c396333a\",\"type\":\"CDSView\"},{\"attributes\":{},\"id\":\"1ad2ce8b-e986-47fb-a3ee-9ce7f0ee53fa\",\"type\":\"Selection\"},{\"attributes\":{\"callback\":null},\"id\":\"20fd890d-64fd-49ff-a182-e857081aa842\",\"type\":\"DataRange1d\"},{\"attributes\":{},\"id\":\"14f0ffc7-df8f-49fa-80a5-934a7dd9e1f3\",\"type\":\"UnionRenderers\"},{\"attributes\":{\"data_source\":{\"id\":\"5e9e457d-c061-4357-83e2-a3ca12fa2cee\",\"type\":\"ColumnDataSource\"},\"glyph\":{\"id\":\"f0d3b646-813f-4fc4-9857-a81e9e453216\",\"type\":\"VBar\"},\"hover_glyph\":null,\"muted_glyph\":null,\"nonselection_glyph\":{\"id\":\"dbea146a-99fc-4399-9756-cb9861b9fcee\",\"type\":\"VBar\"},\"selection_glyph\":null,\"view\":{\"id\":\"dcbbbe6e-4707-46d1-a856-c032c396333a\",\"type\":\"CDSView\"}},\"id\":\"c66e12b1-5f08-477e-a7a4-3da5a0052708\",\"type\":\"GlyphRenderer\"},{\"attributes\":{\"callback\":null,\"factors\":[\"97\",\"98\",\"99\",\"00\",\"01\",\"02\",\"03\",\"04\",\"05\",\"06\",\"07\",\"08\",\"09\",\"10\",\"11\",\"12\",\"13\",\"14\",\"15\",\"16\",\"17\",\"18\"]},\"id\":\"b3191154-1c0d-4518-927c-00c2ae8c1654\",\"type\":\"FactorRange\"},{\"attributes\":{},\"id\":\"0c746227-f84d-43dc-8f01-affcbd4bce83\",\"type\":\"BasicTickFormatter\"}],\"root_ids\":[\"2db64c37-91ce-4d79-a938-340f70d94517\"]},\"title\":\"Bokeh Application\",\"version\":\"0.13.0\"}};\n",
       "  var render_items = [{\"docid\":\"457708c8-b88c-4b5d-b575-17ba45850615\",\"roots\":{\"2db64c37-91ce-4d79-a938-340f70d94517\":\"119af0fd-2c69-4da4-8401-52691e7bb65f\"}}];\n",
       "  root.Bokeh.embed.embed_items_notebook(docs_json, render_items);\n",
       "\n",
       "  }\n",
       "  if (root.Bokeh !== undefined) {\n",
       "    embed_document(root);\n",
       "  } else {\n",
       "    var attempts = 0;\n",
       "    var timer = setInterval(function(root) {\n",
       "      if (root.Bokeh !== undefined) {\n",
       "        embed_document(root);\n",
       "        clearInterval(timer);\n",
       "      }\n",
       "      attempts++;\n",
       "      if (attempts > 100) {\n",
       "        console.log(\"Bokeh: ERROR: Unable to run BokehJS code because BokehJS library is missing\")\n",
       "        clearInterval(timer);\n",
       "      }\n",
       "    }, 10, root)\n",
       "  }\n",
       "})(window);"
      ],
      "application/vnd.bokehjs_exec.v0+json": ""
     },
     "metadata": {
      "application/vnd.bokehjs_exec.v0+json": {
       "id": "2db64c37-91ce-4d79-a938-340f70d94517"
      }
     },
     "output_type": "display_data"
    }
   ],
   "source": [
    "# Occurences of Brexit as a % of all words of that year\n",
    "year = [\"97\", \"98\", \"99\", \"00\", \"01\", \"02\", \"03\", \"04\", \"05\", \"06\", \"07\", \"08\", \"09\", \"10\", \"11\", \"12\", \"13\", \"14\", \"15\", \"16\", \"17\", \"18\"]\n",
    "brexit = [0, 0, 0, 0, 0, 0, 0, 0, 0, 0, 0, 0, 0, 0, 0, 0, 0, 0,  0.006, 0.195, 0.401, 0.167]\n",
    "\n",
    "p = figure(x_axis_label = \"Year\", x_range = year, title = \"Occurences of Brexit\", plot_height = 200)\n",
    "p.vbar(x = year, top = brexit, width = 0.9,)\n",
    "       \n",
    "show(p)"
   ]
  },
  {
   "cell_type": "code",
   "execution_count": 157,
   "metadata": {
    "scrolled": true
   },
   "outputs": [
    {
     "data": {
      "text/html": [
       "\n",
       "\n",
       "\n",
       "\n",
       "\n",
       "\n",
       "  <div class=\"bk-root\" id=\"3be0dd8b-fdd6-4f49-a24f-fd276d0bd998\"></div>\n"
      ]
     },
     "metadata": {},
     "output_type": "display_data"
    },
    {
     "data": {
      "application/javascript": [
       "(function(root) {\n",
       "  function embed_document(root) {\n",
       "    \n",
       "  var docs_json = {\"e802b215-3e84-4ec7-a53c-2c7bacb17fd6\":{\"roots\":{\"references\":[{\"attributes\":{\"axis_label\":\"Year\",\"formatter\":{\"id\":\"7d1aec1c-6e06-43c7-9eae-9cfc56235471\",\"type\":\"CategoricalTickFormatter\"},\"plot\":{\"id\":\"f6c59df5-92b7-4713-9115-c495590dfd4e\",\"subtype\":\"Figure\",\"type\":\"Plot\"},\"ticker\":{\"id\":\"9f89e756-2f29-4982-95d3-a8178aba30ed\",\"type\":\"CategoricalTicker\"}},\"id\":\"a60d9892-c3b0-461b-9a5b-6a51cd11aaf2\",\"type\":\"CategoricalAxis\"},{\"attributes\":{},\"id\":\"429c3431-b0f1-48eb-b406-6a62cbf57c20\",\"type\":\"BasicTickFormatter\"},{\"attributes\":{\"overlay\":{\"id\":\"ad8482c8-bf50-42bd-aa76-76a31f87c72f\",\"type\":\"BoxAnnotation\"}},\"id\":\"21713c62-8033-4a06-a5be-bd208aed7d42\",\"type\":\"BoxZoomTool\"},{\"attributes\":{\"plot\":null,\"text\":\"Occurences of recession\"},\"id\":\"55a7188c-9690-47a7-b7d2-33539dfc33d1\",\"type\":\"Title\"},{\"attributes\":{},\"id\":\"106c3537-550e-4bba-b817-7728df2723aa\",\"type\":\"HelpTool\"},{\"attributes\":{},\"id\":\"cf3032cf-17a8-44f6-8e27-9f201f5ae0fb\",\"type\":\"LinearScale\"},{\"attributes\":{},\"id\":\"23ecff61-675e-4000-be18-c37982598a11\",\"type\":\"SaveTool\"},{\"attributes\":{},\"id\":\"7d1aec1c-6e06-43c7-9eae-9cfc56235471\",\"type\":\"CategoricalTickFormatter\"},{\"attributes\":{\"dimension\":1,\"plot\":{\"id\":\"f6c59df5-92b7-4713-9115-c495590dfd4e\",\"subtype\":\"Figure\",\"type\":\"Plot\"},\"ticker\":{\"id\":\"ba892fc7-243e-4b79-9b77-7a92b838f814\",\"type\":\"BasicTicker\"}},\"id\":\"70816952-dfe7-4811-9f7c-54cb1a448813\",\"type\":\"Grid\"},{\"attributes\":{},\"id\":\"6e6517e6-fef4-4425-b478-2f80f146232f\",\"type\":\"PanTool\"},{\"attributes\":{},\"id\":\"e48b1738-8692-4ebf-b9db-1f73d838ab1d\",\"type\":\"CategoricalScale\"},{\"attributes\":{\"below\":[{\"id\":\"a60d9892-c3b0-461b-9a5b-6a51cd11aaf2\",\"type\":\"CategoricalAxis\"}],\"left\":[{\"id\":\"97d7e2b2-503e-4aba-8e93-7a0409964195\",\"type\":\"LinearAxis\"}],\"plot_height\":200,\"renderers\":[{\"id\":\"a60d9892-c3b0-461b-9a5b-6a51cd11aaf2\",\"type\":\"CategoricalAxis\"},{\"id\":\"22590bb1-4c67-4418-9eb3-5b046db1d191\",\"type\":\"Grid\"},{\"id\":\"97d7e2b2-503e-4aba-8e93-7a0409964195\",\"type\":\"LinearAxis\"},{\"id\":\"70816952-dfe7-4811-9f7c-54cb1a448813\",\"type\":\"Grid\"},{\"id\":\"ad8482c8-bf50-42bd-aa76-76a31f87c72f\",\"type\":\"BoxAnnotation\"},{\"id\":\"3617d31b-5f28-4f0f-b95d-a11fc954e5c1\",\"type\":\"GlyphRenderer\"}],\"title\":{\"id\":\"55a7188c-9690-47a7-b7d2-33539dfc33d1\",\"type\":\"Title\"},\"toolbar\":{\"id\":\"b28b31d6-809a-46b4-ac1a-ac3fe2973126\",\"type\":\"Toolbar\"},\"x_range\":{\"id\":\"e78aba43-d848-46d2-826c-68949efcbffe\",\"type\":\"FactorRange\"},\"x_scale\":{\"id\":\"e48b1738-8692-4ebf-b9db-1f73d838ab1d\",\"type\":\"CategoricalScale\"},\"y_range\":{\"id\":\"2de0f5ac-dc63-4b2f-83a9-b783e6558229\",\"type\":\"DataRange1d\"},\"y_scale\":{\"id\":\"cf3032cf-17a8-44f6-8e27-9f201f5ae0fb\",\"type\":\"LinearScale\"}},\"id\":\"f6c59df5-92b7-4713-9115-c495590dfd4e\",\"subtype\":\"Figure\",\"type\":\"Plot\"},{\"attributes\":{},\"id\":\"187ffa21-5fd2-4519-9568-8b531be8241d\",\"type\":\"UnionRenderers\"},{\"attributes\":{\"callback\":null,\"factors\":[\"97\",\"98\",\"99\",\"00\",\"01\",\"02\",\"03\",\"04\",\"05\",\"09\",\"10\",\"11\",\"12\",\"14\",\"15\",\"16\",\"17\",\"18\"]},\"id\":\"e78aba43-d848-46d2-826c-68949efcbffe\",\"type\":\"FactorRange\"},{\"attributes\":{},\"id\":\"ba892fc7-243e-4b79-9b77-7a92b838f814\",\"type\":\"BasicTicker\"},{\"attributes\":{},\"id\":\"b2f728f5-0510-416d-a1e5-8425ad2ae648\",\"type\":\"ResetTool\"},{\"attributes\":{\"callback\":null,\"data\":{\"top\":[0,0,1,2,0,0,0,1,0,21,21,2,1,10,33,1,3,3],\"x\":[\"97\",\"98\",\"99\",\"00\",\"01\",\"02\",\"03\",\"04\",\"05\",\"09\",\"10\",\"11\",\"12\",\"14\",\"15\",\"16\",\"17\",\"18\"]},\"selected\":{\"id\":\"6e970152-b1e9-46ea-bef0-b55733020a6a\",\"type\":\"Selection\"},\"selection_policy\":{\"id\":\"187ffa21-5fd2-4519-9568-8b531be8241d\",\"type\":\"UnionRenderers\"}},\"id\":\"abbae65a-e35f-41a8-9e0e-dd41a7ea4b4e\",\"type\":\"ColumnDataSource\"},{\"attributes\":{\"source\":{\"id\":\"abbae65a-e35f-41a8-9e0e-dd41a7ea4b4e\",\"type\":\"ColumnDataSource\"}},\"id\":\"688a5b25-c394-4eb6-bd2f-47d5f272b77c\",\"type\":\"CDSView\"},{\"attributes\":{},\"id\":\"9f89e756-2f29-4982-95d3-a8178aba30ed\",\"type\":\"CategoricalTicker\"},{\"attributes\":{\"fill_color\":{\"value\":\"#1f77b4\"},\"line_color\":{\"value\":\"#1f77b4\"},\"top\":{\"field\":\"top\"},\"width\":{\"value\":0.9},\"x\":{\"field\":\"x\"}},\"id\":\"688970e6-0a5f-4afa-a4f6-b2db2e2332ff\",\"type\":\"VBar\"},{\"attributes\":{\"plot\":{\"id\":\"f6c59df5-92b7-4713-9115-c495590dfd4e\",\"subtype\":\"Figure\",\"type\":\"Plot\"},\"ticker\":{\"id\":\"9f89e756-2f29-4982-95d3-a8178aba30ed\",\"type\":\"CategoricalTicker\"}},\"id\":\"22590bb1-4c67-4418-9eb3-5b046db1d191\",\"type\":\"Grid\"},{\"attributes\":{\"active_drag\":\"auto\",\"active_inspect\":\"auto\",\"active_multi\":null,\"active_scroll\":\"auto\",\"active_tap\":\"auto\",\"tools\":[{\"id\":\"6e6517e6-fef4-4425-b478-2f80f146232f\",\"type\":\"PanTool\"},{\"id\":\"c38dd4d0-aac0-4e58-b901-ce535bfd923b\",\"type\":\"WheelZoomTool\"},{\"id\":\"21713c62-8033-4a06-a5be-bd208aed7d42\",\"type\":\"BoxZoomTool\"},{\"id\":\"23ecff61-675e-4000-be18-c37982598a11\",\"type\":\"SaveTool\"},{\"id\":\"b2f728f5-0510-416d-a1e5-8425ad2ae648\",\"type\":\"ResetTool\"},{\"id\":\"106c3537-550e-4bba-b817-7728df2723aa\",\"type\":\"HelpTool\"}]},\"id\":\"b28b31d6-809a-46b4-ac1a-ac3fe2973126\",\"type\":\"Toolbar\"},{\"attributes\":{\"callback\":null},\"id\":\"2de0f5ac-dc63-4b2f-83a9-b783e6558229\",\"type\":\"DataRange1d\"},{\"attributes\":{\"bottom_units\":\"screen\",\"fill_alpha\":{\"value\":0.5},\"fill_color\":{\"value\":\"lightgrey\"},\"left_units\":\"screen\",\"level\":\"overlay\",\"line_alpha\":{\"value\":1.0},\"line_color\":{\"value\":\"black\"},\"line_dash\":[4,4],\"line_width\":{\"value\":2},\"plot\":null,\"render_mode\":\"css\",\"right_units\":\"screen\",\"top_units\":\"screen\"},\"id\":\"ad8482c8-bf50-42bd-aa76-76a31f87c72f\",\"type\":\"BoxAnnotation\"},{\"attributes\":{\"formatter\":{\"id\":\"429c3431-b0f1-48eb-b406-6a62cbf57c20\",\"type\":\"BasicTickFormatter\"},\"plot\":{\"id\":\"f6c59df5-92b7-4713-9115-c495590dfd4e\",\"subtype\":\"Figure\",\"type\":\"Plot\"},\"ticker\":{\"id\":\"ba892fc7-243e-4b79-9b77-7a92b838f814\",\"type\":\"BasicTicker\"}},\"id\":\"97d7e2b2-503e-4aba-8e93-7a0409964195\",\"type\":\"LinearAxis\"},{\"attributes\":{\"data_source\":{\"id\":\"abbae65a-e35f-41a8-9e0e-dd41a7ea4b4e\",\"type\":\"ColumnDataSource\"},\"glyph\":{\"id\":\"688970e6-0a5f-4afa-a4f6-b2db2e2332ff\",\"type\":\"VBar\"},\"hover_glyph\":null,\"muted_glyph\":null,\"nonselection_glyph\":{\"id\":\"53ef2529-71dc-4f55-843e-00353af527b5\",\"type\":\"VBar\"},\"selection_glyph\":null,\"view\":{\"id\":\"688a5b25-c394-4eb6-bd2f-47d5f272b77c\",\"type\":\"CDSView\"}},\"id\":\"3617d31b-5f28-4f0f-b95d-a11fc954e5c1\",\"type\":\"GlyphRenderer\"},{\"attributes\":{\"fill_alpha\":{\"value\":0.1},\"fill_color\":{\"value\":\"#1f77b4\"},\"line_alpha\":{\"value\":0.1},\"line_color\":{\"value\":\"#1f77b4\"},\"top\":{\"field\":\"top\"},\"width\":{\"value\":0.9},\"x\":{\"field\":\"x\"}},\"id\":\"53ef2529-71dc-4f55-843e-00353af527b5\",\"type\":\"VBar\"},{\"attributes\":{},\"id\":\"6e970152-b1e9-46ea-bef0-b55733020a6a\",\"type\":\"Selection\"},{\"attributes\":{},\"id\":\"c38dd4d0-aac0-4e58-b901-ce535bfd923b\",\"type\":\"WheelZoomTool\"}],\"root_ids\":[\"f6c59df5-92b7-4713-9115-c495590dfd4e\"]},\"title\":\"Bokeh Application\",\"version\":\"0.13.0\"}};\n",
       "  var render_items = [{\"docid\":\"e802b215-3e84-4ec7-a53c-2c7bacb17fd6\",\"roots\":{\"f6c59df5-92b7-4713-9115-c495590dfd4e\":\"3be0dd8b-fdd6-4f49-a24f-fd276d0bd998\"}}];\n",
       "  root.Bokeh.embed.embed_items_notebook(docs_json, render_items);\n",
       "\n",
       "  }\n",
       "  if (root.Bokeh !== undefined) {\n",
       "    embed_document(root);\n",
       "  } else {\n",
       "    var attempts = 0;\n",
       "    var timer = setInterval(function(root) {\n",
       "      if (root.Bokeh !== undefined) {\n",
       "        embed_document(root);\n",
       "        clearInterval(timer);\n",
       "      }\n",
       "      attempts++;\n",
       "      if (attempts > 100) {\n",
       "        console.log(\"Bokeh: ERROR: Unable to run BokehJS code because BokehJS library is missing\")\n",
       "        clearInterval(timer);\n",
       "      }\n",
       "    }, 10, root)\n",
       "  }\n",
       "})(window);"
      ],
      "application/vnd.bokehjs_exec.v0+json": ""
     },
     "metadata": {
      "application/vnd.bokehjs_exec.v0+json": {
       "id": "f6c59df5-92b7-4713-9115-c495590dfd4e"
      }
     },
     "output_type": "display_data"
    }
   ],
   "source": [
    "# Occurences of the word recession\n",
    "year = [\"97\", \"98\", \"99\", \"00\", \"01\", \"02\", \"03\", \"04\", \"05\", \"09\", \"10\", \"11\", \"12\", \"14\", \"15\", \"16\", \"17\", \"18\"]\n",
    "recession = [0, 0, 1, 2, 0, 0, 0, 1, 0, 21, 21, 2, 1, 10, 33, 1, 3, 3]\n",
    "\n",
    "p = figure(x_axis_label = \"Year\", x_range = year, title = \"Occurences of recession\", plot_height = 200)\n",
    "p.vbar(x = year, top = recession, width = 0.9,)\n",
    "       \n",
    "show(p)"
   ]
  },
  {
   "cell_type": "code",
   "execution_count": 158,
   "metadata": {},
   "outputs": [
    {
     "ename": "NameError",
     "evalue": "name 'recession_1999' is not defined",
     "output_type": "error",
     "traceback": [
      "\u001b[1;31m---------------------------------------------------------------------------\u001b[0m",
      "\u001b[1;31mNameError\u001b[0m                                 Traceback (most recent call last)",
      "\u001b[1;32m<ipython-input-158-5537114bba2c>\u001b[0m in \u001b[0;36m<module>\u001b[1;34m()\u001b[0m\n\u001b[0;32m      1\u001b[0m \u001b[1;31m# Occurences of the word recession % 0f total words\u001b[0m\u001b[1;33m\u001b[0m\u001b[1;33m\u001b[0m\u001b[0m\n\u001b[0;32m      2\u001b[0m \u001b[0myear\u001b[0m \u001b[1;33m=\u001b[0m \u001b[1;33m[\u001b[0m\u001b[1;34m\"97\"\u001b[0m\u001b[1;33m,\u001b[0m \u001b[1;34m\"98\"\u001b[0m\u001b[1;33m,\u001b[0m \u001b[1;34m\"99\"\u001b[0m\u001b[1;33m,\u001b[0m \u001b[1;34m\"00\"\u001b[0m\u001b[1;33m,\u001b[0m \u001b[1;34m\"01\"\u001b[0m\u001b[1;33m,\u001b[0m \u001b[1;34m\"02\"\u001b[0m\u001b[1;33m,\u001b[0m \u001b[1;34m\"03\"\u001b[0m\u001b[1;33m,\u001b[0m \u001b[1;34m\"04\"\u001b[0m\u001b[1;33m,\u001b[0m \u001b[1;34m\"05\"\u001b[0m\u001b[1;33m,\u001b[0m \u001b[1;34m\"09\"\u001b[0m\u001b[1;33m,\u001b[0m \u001b[1;34m\"10\"\u001b[0m\u001b[1;33m,\u001b[0m \u001b[1;34m\"11\"\u001b[0m\u001b[1;33m,\u001b[0m \u001b[1;34m\"12\"\u001b[0m\u001b[1;33m,\u001b[0m \u001b[1;34m\"14\"\u001b[0m\u001b[1;33m,\u001b[0m \u001b[1;34m\"15\"\u001b[0m\u001b[1;33m,\u001b[0m \u001b[1;34m\"16\"\u001b[0m\u001b[1;33m,\u001b[0m \u001b[1;34m\"17\"\u001b[0m\u001b[1;33m,\u001b[0m \u001b[1;34m\"18\"\u001b[0m\u001b[1;33m]\u001b[0m\u001b[1;33m\u001b[0m\u001b[0m\n\u001b[1;32m----> 3\u001b[1;33m \u001b[0mrecession\u001b[0m \u001b[1;33m=\u001b[0m \u001b[1;33m[\u001b[0m\u001b[1;36m0\u001b[0m\u001b[1;33m,\u001b[0m \u001b[1;36m0\u001b[0m\u001b[1;33m,\u001b[0m \u001b[0mrecession_1999\u001b[0m\u001b[1;33m,\u001b[0m \u001b[0mrecession_2000\u001b[0m\u001b[1;33m,\u001b[0m \u001b[1;36m0\u001b[0m\u001b[1;33m,\u001b[0m \u001b[1;36m0\u001b[0m\u001b[1;33m,\u001b[0m \u001b[1;36m0\u001b[0m\u001b[1;33m,\u001b[0m \u001b[0mrecession_2004\u001b[0m\u001b[1;33m,\u001b[0m \u001b[1;36m0\u001b[0m\u001b[1;33m,\u001b[0m \u001b[0mrecession_2009\u001b[0m\u001b[1;33m,\u001b[0m \u001b[0mrecession_2010\u001b[0m\u001b[1;33m,\u001b[0m \u001b[0mrecession_2011\u001b[0m\u001b[1;33m,\u001b[0m \u001b[0mrecession_2012\u001b[0m\u001b[1;33m,\u001b[0m \u001b[0mrecession_2014\u001b[0m\u001b[1;33m,\u001b[0m \u001b[0mrecession_2015\u001b[0m\u001b[1;33m,\u001b[0m \u001b[0mrecession_2016\u001b[0m\u001b[1;33m,\u001b[0m \u001b[0mrecession_2017\u001b[0m\u001b[1;33m,\u001b[0m \u001b[0mrecession_2018\u001b[0m\u001b[1;33m]\u001b[0m\u001b[1;33m\u001b[0m\u001b[0m\n\u001b[0m\u001b[0;32m      4\u001b[0m \u001b[1;33m\u001b[0m\u001b[0m\n\u001b[0;32m      5\u001b[0m \u001b[0mp\u001b[0m \u001b[1;33m=\u001b[0m \u001b[0mfigure\u001b[0m\u001b[1;33m(\u001b[0m\u001b[0mx_axis_label\u001b[0m \u001b[1;33m=\u001b[0m \u001b[1;34m\"Year\"\u001b[0m\u001b[1;33m,\u001b[0m \u001b[0mx_range\u001b[0m \u001b[1;33m=\u001b[0m \u001b[0myear\u001b[0m\u001b[1;33m,\u001b[0m \u001b[0mtitle\u001b[0m \u001b[1;33m=\u001b[0m \u001b[1;34m\"Occurences of recession\"\u001b[0m\u001b[1;33m,\u001b[0m \u001b[0mplot_height\u001b[0m \u001b[1;33m=\u001b[0m \u001b[1;36m200\u001b[0m\u001b[1;33m)\u001b[0m\u001b[1;33m\u001b[0m\u001b[0m\n",
      "\u001b[1;31mNameError\u001b[0m: name 'recession_1999' is not defined"
     ]
    }
   ],
   "source": [
    "# Occurences of the word recession % 0f total words\n",
    "year = [\"97\", \"98\", \"99\", \"00\", \"01\", \"02\", \"03\", \"04\", \"05\", \"09\", \"10\", \"11\", \"12\", \"14\", \"15\", \"16\", \"17\", \"18\"]\n",
    "recession = [0, 0, recession_1999, recession_2000, 0, 0, 0, recession_2004, 0, recession_2009, recession_2010, recession_2011, recession_2012, recession_2014, recession_2015, recession_2016, recession_2017, recession_2018]\n",
    "\n",
    "p = figure(x_axis_label = \"Year\", x_range = year, title = \"Occurences of recession\", plot_height = 200)\n",
    "p.vbar(x = year, top = recession, width = 0.9,)\n",
    "       \n",
    "show(p)"
   ]
  },
  {
   "cell_type": "code",
   "execution_count": 201,
   "metadata": {},
   "outputs": [
    {
     "data": {
      "text/html": [
       "\n",
       "    <div class=\"bk-root\">\n",
       "        <a href=\"https://bokeh.pydata.org\" target=\"_blank\" class=\"bk-logo bk-logo-small bk-logo-notebook\"></a>\n",
       "        <span id=\"c9aed055-bdc9-402d-a164-83eb98aa0384\">Loading BokehJS ...</span>\n",
       "    </div>"
      ]
     },
     "metadata": {},
     "output_type": "display_data"
    },
    {
     "data": {
      "application/javascript": [
       "\n",
       "(function(root) {\n",
       "  function now() {\n",
       "    return new Date();\n",
       "  }\n",
       "\n",
       "  var force = true;\n",
       "\n",
       "  if (typeof (root._bokeh_onload_callbacks) === \"undefined\" || force === true) {\n",
       "    root._bokeh_onload_callbacks = [];\n",
       "    root._bokeh_is_loading = undefined;\n",
       "  }\n",
       "\n",
       "  var JS_MIME_TYPE = 'application/javascript';\n",
       "  var HTML_MIME_TYPE = 'text/html';\n",
       "  var EXEC_MIME_TYPE = 'application/vnd.bokehjs_exec.v0+json';\n",
       "  var CLASS_NAME = 'output_bokeh rendered_html';\n",
       "\n",
       "  /**\n",
       "   * Render data to the DOM node\n",
       "   */\n",
       "  function render(props, node) {\n",
       "    var script = document.createElement(\"script\");\n",
       "    node.appendChild(script);\n",
       "  }\n",
       "\n",
       "  /**\n",
       "   * Handle when an output is cleared or removed\n",
       "   */\n",
       "  function handleClearOutput(event, handle) {\n",
       "    var cell = handle.cell;\n",
       "\n",
       "    var id = cell.output_area._bokeh_element_id;\n",
       "    var server_id = cell.output_area._bokeh_server_id;\n",
       "    // Clean up Bokeh references\n",
       "    if (id != null && id in Bokeh.index) {\n",
       "      Bokeh.index[id].model.document.clear();\n",
       "      delete Bokeh.index[id];\n",
       "    }\n",
       "\n",
       "    if (server_id !== undefined) {\n",
       "      // Clean up Bokeh references\n",
       "      var cmd = \"from bokeh.io.state import curstate; print(curstate().uuid_to_server['\" + server_id + \"'].get_sessions()[0].document.roots[0]._id)\";\n",
       "      cell.notebook.kernel.execute(cmd, {\n",
       "        iopub: {\n",
       "          output: function(msg) {\n",
       "            var id = msg.content.text.trim();\n",
       "            if (id in Bokeh.index) {\n",
       "              Bokeh.index[id].model.document.clear();\n",
       "              delete Bokeh.index[id];\n",
       "            }\n",
       "          }\n",
       "        }\n",
       "      });\n",
       "      // Destroy server and session\n",
       "      var cmd = \"import bokeh.io.notebook as ion; ion.destroy_server('\" + server_id + \"')\";\n",
       "      cell.notebook.kernel.execute(cmd);\n",
       "    }\n",
       "  }\n",
       "\n",
       "  /**\n",
       "   * Handle when a new output is added\n",
       "   */\n",
       "  function handleAddOutput(event, handle) {\n",
       "    var output_area = handle.output_area;\n",
       "    var output = handle.output;\n",
       "\n",
       "    // limit handleAddOutput to display_data with EXEC_MIME_TYPE content only\n",
       "    if ((output.output_type != \"display_data\") || (!output.data.hasOwnProperty(EXEC_MIME_TYPE))) {\n",
       "      return\n",
       "    }\n",
       "\n",
       "    var toinsert = output_area.element.find(\".\" + CLASS_NAME.split(' ')[0]);\n",
       "\n",
       "    if (output.metadata[EXEC_MIME_TYPE][\"id\"] !== undefined) {\n",
       "      toinsert[toinsert.length - 1].firstChild.textContent = output.data[JS_MIME_TYPE];\n",
       "      // store reference to embed id on output_area\n",
       "      output_area._bokeh_element_id = output.metadata[EXEC_MIME_TYPE][\"id\"];\n",
       "    }\n",
       "    if (output.metadata[EXEC_MIME_TYPE][\"server_id\"] !== undefined) {\n",
       "      var bk_div = document.createElement(\"div\");\n",
       "      bk_div.innerHTML = output.data[HTML_MIME_TYPE];\n",
       "      var script_attrs = bk_div.children[0].attributes;\n",
       "      for (var i = 0; i < script_attrs.length; i++) {\n",
       "        toinsert[toinsert.length - 1].firstChild.setAttribute(script_attrs[i].name, script_attrs[i].value);\n",
       "      }\n",
       "      // store reference to server id on output_area\n",
       "      output_area._bokeh_server_id = output.metadata[EXEC_MIME_TYPE][\"server_id\"];\n",
       "    }\n",
       "  }\n",
       "\n",
       "  function register_renderer(events, OutputArea) {\n",
       "\n",
       "    function append_mime(data, metadata, element) {\n",
       "      // create a DOM node to render to\n",
       "      var toinsert = this.create_output_subarea(\n",
       "        metadata,\n",
       "        CLASS_NAME,\n",
       "        EXEC_MIME_TYPE\n",
       "      );\n",
       "      this.keyboard_manager.register_events(toinsert);\n",
       "      // Render to node\n",
       "      var props = {data: data, metadata: metadata[EXEC_MIME_TYPE]};\n",
       "      render(props, toinsert[toinsert.length - 1]);\n",
       "      element.append(toinsert);\n",
       "      return toinsert\n",
       "    }\n",
       "\n",
       "    /* Handle when an output is cleared or removed */\n",
       "    events.on('clear_output.CodeCell', handleClearOutput);\n",
       "    events.on('delete.Cell', handleClearOutput);\n",
       "\n",
       "    /* Handle when a new output is added */\n",
       "    events.on('output_added.OutputArea', handleAddOutput);\n",
       "\n",
       "    /**\n",
       "     * Register the mime type and append_mime function with output_area\n",
       "     */\n",
       "    OutputArea.prototype.register_mime_type(EXEC_MIME_TYPE, append_mime, {\n",
       "      /* Is output safe? */\n",
       "      safe: true,\n",
       "      /* Index of renderer in `output_area.display_order` */\n",
       "      index: 0\n",
       "    });\n",
       "  }\n",
       "\n",
       "  // register the mime type if in Jupyter Notebook environment and previously unregistered\n",
       "  if (root.Jupyter !== undefined) {\n",
       "    var events = require('base/js/events');\n",
       "    var OutputArea = require('notebook/js/outputarea').OutputArea;\n",
       "\n",
       "    if (OutputArea.prototype.mime_types().indexOf(EXEC_MIME_TYPE) == -1) {\n",
       "      register_renderer(events, OutputArea);\n",
       "    }\n",
       "  }\n",
       "\n",
       "  \n",
       "  if (typeof (root._bokeh_timeout) === \"undefined\" || force === true) {\n",
       "    root._bokeh_timeout = Date.now() + 5000;\n",
       "    root._bokeh_failed_load = false;\n",
       "  }\n",
       "\n",
       "  var NB_LOAD_WARNING = {'data': {'text/html':\n",
       "     \"<div style='background-color: #fdd'>\\n\"+\n",
       "     \"<p>\\n\"+\n",
       "     \"BokehJS does not appear to have successfully loaded. If loading BokehJS from CDN, this \\n\"+\n",
       "     \"may be due to a slow or bad network connection. Possible fixes:\\n\"+\n",
       "     \"</p>\\n\"+\n",
       "     \"<ul>\\n\"+\n",
       "     \"<li>re-rerun `output_notebook()` to attempt to load from CDN again, or</li>\\n\"+\n",
       "     \"<li>use INLINE resources instead, as so:</li>\\n\"+\n",
       "     \"</ul>\\n\"+\n",
       "     \"<code>\\n\"+\n",
       "     \"from bokeh.resources import INLINE\\n\"+\n",
       "     \"output_notebook(resources=INLINE)\\n\"+\n",
       "     \"</code>\\n\"+\n",
       "     \"</div>\"}};\n",
       "\n",
       "  function display_loaded() {\n",
       "    var el = document.getElementById(\"c9aed055-bdc9-402d-a164-83eb98aa0384\");\n",
       "    if (el != null) {\n",
       "      el.textContent = \"BokehJS is loading...\";\n",
       "    }\n",
       "    if (root.Bokeh !== undefined) {\n",
       "      if (el != null) {\n",
       "        el.textContent = \"BokehJS \" + root.Bokeh.version + \" successfully loaded.\";\n",
       "      }\n",
       "    } else if (Date.now() < root._bokeh_timeout) {\n",
       "      setTimeout(display_loaded, 100)\n",
       "    }\n",
       "  }\n",
       "\n",
       "\n",
       "  function run_callbacks() {\n",
       "    try {\n",
       "      root._bokeh_onload_callbacks.forEach(function(callback) { callback() });\n",
       "    }\n",
       "    finally {\n",
       "      delete root._bokeh_onload_callbacks\n",
       "    }\n",
       "    console.info(\"Bokeh: all callbacks have finished\");\n",
       "  }\n",
       "\n",
       "  function load_libs(js_urls, callback) {\n",
       "    root._bokeh_onload_callbacks.push(callback);\n",
       "    if (root._bokeh_is_loading > 0) {\n",
       "      console.log(\"Bokeh: BokehJS is being loaded, scheduling callback at\", now());\n",
       "      return null;\n",
       "    }\n",
       "    if (js_urls == null || js_urls.length === 0) {\n",
       "      run_callbacks();\n",
       "      return null;\n",
       "    }\n",
       "    console.log(\"Bokeh: BokehJS not loaded, scheduling load and callback at\", now());\n",
       "    root._bokeh_is_loading = js_urls.length;\n",
       "    for (var i = 0; i < js_urls.length; i++) {\n",
       "      var url = js_urls[i];\n",
       "      var s = document.createElement('script');\n",
       "      s.src = url;\n",
       "      s.async = false;\n",
       "      s.onreadystatechange = s.onload = function() {\n",
       "        root._bokeh_is_loading--;\n",
       "        if (root._bokeh_is_loading === 0) {\n",
       "          console.log(\"Bokeh: all BokehJS libraries loaded\");\n",
       "          run_callbacks()\n",
       "        }\n",
       "      };\n",
       "      s.onerror = function() {\n",
       "        console.warn(\"failed to load library \" + url);\n",
       "      };\n",
       "      console.log(\"Bokeh: injecting script tag for BokehJS library: \", url);\n",
       "      document.getElementsByTagName(\"head\")[0].appendChild(s);\n",
       "    }\n",
       "  };var element = document.getElementById(\"c9aed055-bdc9-402d-a164-83eb98aa0384\");\n",
       "  if (element == null) {\n",
       "    console.log(\"Bokeh: ERROR: autoload.js configured with elementid 'c9aed055-bdc9-402d-a164-83eb98aa0384' but no matching script tag was found. \")\n",
       "    return false;\n",
       "  }\n",
       "\n",
       "  var js_urls = [\"https://cdn.pydata.org/bokeh/release/bokeh-0.13.0.min.js\", \"https://cdn.pydata.org/bokeh/release/bokeh-widgets-0.13.0.min.js\", \"https://cdn.pydata.org/bokeh/release/bokeh-tables-0.13.0.min.js\", \"https://cdn.pydata.org/bokeh/release/bokeh-gl-0.13.0.min.js\"];\n",
       "\n",
       "  var inline_js = [\n",
       "    function(Bokeh) {\n",
       "      Bokeh.set_log_level(\"info\");\n",
       "    },\n",
       "    \n",
       "    function(Bokeh) {\n",
       "      \n",
       "    },\n",
       "    function(Bokeh) {\n",
       "      console.log(\"Bokeh: injecting CSS: https://cdn.pydata.org/bokeh/release/bokeh-0.13.0.min.css\");\n",
       "      Bokeh.embed.inject_css(\"https://cdn.pydata.org/bokeh/release/bokeh-0.13.0.min.css\");\n",
       "      console.log(\"Bokeh: injecting CSS: https://cdn.pydata.org/bokeh/release/bokeh-widgets-0.13.0.min.css\");\n",
       "      Bokeh.embed.inject_css(\"https://cdn.pydata.org/bokeh/release/bokeh-widgets-0.13.0.min.css\");\n",
       "      console.log(\"Bokeh: injecting CSS: https://cdn.pydata.org/bokeh/release/bokeh-tables-0.13.0.min.css\");\n",
       "      Bokeh.embed.inject_css(\"https://cdn.pydata.org/bokeh/release/bokeh-tables-0.13.0.min.css\");\n",
       "    }\n",
       "  ];\n",
       "\n",
       "  function run_inline_js() {\n",
       "    \n",
       "    if ((root.Bokeh !== undefined) || (force === true)) {\n",
       "      for (var i = 0; i < inline_js.length; i++) {\n",
       "        inline_js[i].call(root, root.Bokeh);\n",
       "      }if (force === true) {\n",
       "        display_loaded();\n",
       "      }} else if (Date.now() < root._bokeh_timeout) {\n",
       "      setTimeout(run_inline_js, 100);\n",
       "    } else if (!root._bokeh_failed_load) {\n",
       "      console.log(\"Bokeh: BokehJS failed to load within specified timeout.\");\n",
       "      root._bokeh_failed_load = true;\n",
       "    } else if (force !== true) {\n",
       "      var cell = $(document.getElementById(\"c9aed055-bdc9-402d-a164-83eb98aa0384\")).parents('.cell').data().cell;\n",
       "      cell.output_area.append_execute_result(NB_LOAD_WARNING)\n",
       "    }\n",
       "\n",
       "  }\n",
       "\n",
       "  if (root._bokeh_is_loading === 0) {\n",
       "    console.log(\"Bokeh: BokehJS loaded, going straight to plotting\");\n",
       "    run_inline_js();\n",
       "  } else {\n",
       "    load_libs(js_urls, function() {\n",
       "      console.log(\"Bokeh: BokehJS plotting callback run at\", now());\n",
       "      run_inline_js();\n",
       "    });\n",
       "  }\n",
       "}(window));"
      ],
      "application/vnd.bokehjs_load.v0+json": "\n(function(root) {\n  function now() {\n    return new Date();\n  }\n\n  var force = true;\n\n  if (typeof (root._bokeh_onload_callbacks) === \"undefined\" || force === true) {\n    root._bokeh_onload_callbacks = [];\n    root._bokeh_is_loading = undefined;\n  }\n\n  \n\n  \n  if (typeof (root._bokeh_timeout) === \"undefined\" || force === true) {\n    root._bokeh_timeout = Date.now() + 5000;\n    root._bokeh_failed_load = false;\n  }\n\n  var NB_LOAD_WARNING = {'data': {'text/html':\n     \"<div style='background-color: #fdd'>\\n\"+\n     \"<p>\\n\"+\n     \"BokehJS does not appear to have successfully loaded. If loading BokehJS from CDN, this \\n\"+\n     \"may be due to a slow or bad network connection. Possible fixes:\\n\"+\n     \"</p>\\n\"+\n     \"<ul>\\n\"+\n     \"<li>re-rerun `output_notebook()` to attempt to load from CDN again, or</li>\\n\"+\n     \"<li>use INLINE resources instead, as so:</li>\\n\"+\n     \"</ul>\\n\"+\n     \"<code>\\n\"+\n     \"from bokeh.resources import INLINE\\n\"+\n     \"output_notebook(resources=INLINE)\\n\"+\n     \"</code>\\n\"+\n     \"</div>\"}};\n\n  function display_loaded() {\n    var el = document.getElementById(\"c9aed055-bdc9-402d-a164-83eb98aa0384\");\n    if (el != null) {\n      el.textContent = \"BokehJS is loading...\";\n    }\n    if (root.Bokeh !== undefined) {\n      if (el != null) {\n        el.textContent = \"BokehJS \" + root.Bokeh.version + \" successfully loaded.\";\n      }\n    } else if (Date.now() < root._bokeh_timeout) {\n      setTimeout(display_loaded, 100)\n    }\n  }\n\n\n  function run_callbacks() {\n    try {\n      root._bokeh_onload_callbacks.forEach(function(callback) { callback() });\n    }\n    finally {\n      delete root._bokeh_onload_callbacks\n    }\n    console.info(\"Bokeh: all callbacks have finished\");\n  }\n\n  function load_libs(js_urls, callback) {\n    root._bokeh_onload_callbacks.push(callback);\n    if (root._bokeh_is_loading > 0) {\n      console.log(\"Bokeh: BokehJS is being loaded, scheduling callback at\", now());\n      return null;\n    }\n    if (js_urls == null || js_urls.length === 0) {\n      run_callbacks();\n      return null;\n    }\n    console.log(\"Bokeh: BokehJS not loaded, scheduling load and callback at\", now());\n    root._bokeh_is_loading = js_urls.length;\n    for (var i = 0; i < js_urls.length; i++) {\n      var url = js_urls[i];\n      var s = document.createElement('script');\n      s.src = url;\n      s.async = false;\n      s.onreadystatechange = s.onload = function() {\n        root._bokeh_is_loading--;\n        if (root._bokeh_is_loading === 0) {\n          console.log(\"Bokeh: all BokehJS libraries loaded\");\n          run_callbacks()\n        }\n      };\n      s.onerror = function() {\n        console.warn(\"failed to load library \" + url);\n      };\n      console.log(\"Bokeh: injecting script tag for BokehJS library: \", url);\n      document.getElementsByTagName(\"head\")[0].appendChild(s);\n    }\n  };var element = document.getElementById(\"c9aed055-bdc9-402d-a164-83eb98aa0384\");\n  if (element == null) {\n    console.log(\"Bokeh: ERROR: autoload.js configured with elementid 'c9aed055-bdc9-402d-a164-83eb98aa0384' but no matching script tag was found. \")\n    return false;\n  }\n\n  var js_urls = [\"https://cdn.pydata.org/bokeh/release/bokeh-0.13.0.min.js\", \"https://cdn.pydata.org/bokeh/release/bokeh-widgets-0.13.0.min.js\", \"https://cdn.pydata.org/bokeh/release/bokeh-tables-0.13.0.min.js\", \"https://cdn.pydata.org/bokeh/release/bokeh-gl-0.13.0.min.js\"];\n\n  var inline_js = [\n    function(Bokeh) {\n      Bokeh.set_log_level(\"info\");\n    },\n    \n    function(Bokeh) {\n      \n    },\n    function(Bokeh) {\n      console.log(\"Bokeh: injecting CSS: https://cdn.pydata.org/bokeh/release/bokeh-0.13.0.min.css\");\n      Bokeh.embed.inject_css(\"https://cdn.pydata.org/bokeh/release/bokeh-0.13.0.min.css\");\n      console.log(\"Bokeh: injecting CSS: https://cdn.pydata.org/bokeh/release/bokeh-widgets-0.13.0.min.css\");\n      Bokeh.embed.inject_css(\"https://cdn.pydata.org/bokeh/release/bokeh-widgets-0.13.0.min.css\");\n      console.log(\"Bokeh: injecting CSS: https://cdn.pydata.org/bokeh/release/bokeh-tables-0.13.0.min.css\");\n      Bokeh.embed.inject_css(\"https://cdn.pydata.org/bokeh/release/bokeh-tables-0.13.0.min.css\");\n    }\n  ];\n\n  function run_inline_js() {\n    \n    if ((root.Bokeh !== undefined) || (force === true)) {\n      for (var i = 0; i < inline_js.length; i++) {\n        inline_js[i].call(root, root.Bokeh);\n      }if (force === true) {\n        display_loaded();\n      }} else if (Date.now() < root._bokeh_timeout) {\n      setTimeout(run_inline_js, 100);\n    } else if (!root._bokeh_failed_load) {\n      console.log(\"Bokeh: BokehJS failed to load within specified timeout.\");\n      root._bokeh_failed_load = true;\n    } else if (force !== true) {\n      var cell = $(document.getElementById(\"c9aed055-bdc9-402d-a164-83eb98aa0384\")).parents('.cell').data().cell;\n      cell.output_area.append_execute_result(NB_LOAD_WARNING)\n    }\n\n  }\n\n  if (root._bokeh_is_loading === 0) {\n    console.log(\"Bokeh: BokehJS loaded, going straight to plotting\");\n    run_inline_js();\n  } else {\n    load_libs(js_urls, function() {\n      console.log(\"Bokeh: BokehJS plotting callback run at\", now());\n      run_inline_js();\n    });\n  }\n}(window));"
     },
     "metadata": {},
     "output_type": "display_data"
    },
    {
     "data": {
      "text/html": [
       "\n",
       "\n",
       "\n",
       "\n",
       "\n",
       "\n",
       "  <div class=\"bk-root\" id=\"e29cfef3-4fbc-44d6-9bcb-bb7c65977a81\"></div>\n"
      ]
     },
     "metadata": {},
     "output_type": "display_data"
    },
    {
     "data": {
      "application/javascript": [
       "(function(root) {\n",
       "  function embed_document(root) {\n",
       "    \n",
       "  var docs_json = {\"0bc11592-782c-4188-9e47-97a6b95426f7\":{\"roots\":{\"references\":[{\"attributes\":{},\"id\":\"fa75cc87-2788-406f-8075-f56b3fdcb4e3\",\"type\":\"BasicTickFormatter\"},{\"attributes\":{\"formatter\":{\"id\":\"e42e3ef9-549e-4f00-9f3b-6394f105ed23\",\"type\":\"BasicTickFormatter\"},\"plot\":{\"id\":\"523950b2-a6df-40b2-8ecb-aa34865e48ba\",\"subtype\":\"Figure\",\"type\":\"Plot\"},\"ticker\":{\"id\":\"6ddfe78c-9c5b-49b8-b3fb-9f9db91cea2b\",\"type\":\"BasicTicker\"}},\"id\":\"1fefb523-875c-47da-8dd8-119eaaedf494\",\"type\":\"LinearAxis\"},{\"attributes\":{},\"id\":\"6ddfe78c-9c5b-49b8-b3fb-9f9db91cea2b\",\"type\":\"BasicTicker\"},{\"attributes\":{\"formatter\":{\"id\":\"fa75cc87-2788-406f-8075-f56b3fdcb4e3\",\"type\":\"BasicTickFormatter\"},\"plot\":{\"id\":\"523950b2-a6df-40b2-8ecb-aa34865e48ba\",\"subtype\":\"Figure\",\"type\":\"Plot\"},\"ticker\":{\"id\":\"b0879ee5-c6fb-4ec3-98b1-a7350208f8d1\",\"type\":\"BasicTicker\"}},\"id\":\"7c7bd450-30e7-43b1-a600-aa43851f50f4\",\"type\":\"LinearAxis\"},{\"attributes\":{},\"id\":\"486da4bd-450e-4644-848e-9175d881f5c8\",\"type\":\"LinearScale\"},{\"attributes\":{},\"id\":\"b0879ee5-c6fb-4ec3-98b1-a7350208f8d1\",\"type\":\"BasicTicker\"},{\"attributes\":{\"dimension\":1,\"plot\":{\"id\":\"523950b2-a6df-40b2-8ecb-aa34865e48ba\",\"subtype\":\"Figure\",\"type\":\"Plot\"},\"ticker\":{\"id\":\"b0879ee5-c6fb-4ec3-98b1-a7350208f8d1\",\"type\":\"BasicTicker\"}},\"id\":\"de688789-87d9-413e-bdbf-da567d97781a\",\"type\":\"Grid\"},{\"attributes\":{\"below\":[{\"id\":\"1fefb523-875c-47da-8dd8-119eaaedf494\",\"type\":\"LinearAxis\"}],\"left\":[{\"id\":\"7c7bd450-30e7-43b1-a600-aa43851f50f4\",\"type\":\"LinearAxis\"}],\"renderers\":[{\"id\":\"1fefb523-875c-47da-8dd8-119eaaedf494\",\"type\":\"LinearAxis\"},{\"id\":\"79637428-fcfb-41f5-aaeb-39fb2d514ccc\",\"type\":\"Grid\"},{\"id\":\"7c7bd450-30e7-43b1-a600-aa43851f50f4\",\"type\":\"LinearAxis\"},{\"id\":\"de688789-87d9-413e-bdbf-da567d97781a\",\"type\":\"Grid\"},{\"id\":\"4fd9c829-8916-4186-a446-31f8d9ea4ae0\",\"type\":\"BoxAnnotation\"}],\"title\":{\"id\":\"731008dc-4e99-4187-9075-f9969e693cbc\",\"type\":\"Title\"},\"toolbar\":{\"id\":\"618700ac-4c35-48db-b9bb-09c911a389dd\",\"type\":\"Toolbar\"},\"toolbar_location\":null,\"x_range\":{\"id\":\"588fd25d-076c-4fb7-a69f-a540b8691c03\",\"type\":\"DataRange1d\"},\"x_scale\":{\"id\":\"8621ecb2-2d31-414a-b79e-73394b1915fd\",\"type\":\"LinearScale\"},\"y_range\":{\"id\":\"4d34edf8-fe8d-45bb-a14b-5ef2df510539\",\"type\":\"DataRange1d\"},\"y_scale\":{\"id\":\"486da4bd-450e-4644-848e-9175d881f5c8\",\"type\":\"LinearScale\"}},\"id\":\"523950b2-a6df-40b2-8ecb-aa34865e48ba\",\"subtype\":\"Figure\",\"type\":\"Plot\"},{\"attributes\":{},\"id\":\"7fbdd608-8d01-4943-bae1-0c73c894cb41\",\"type\":\"PanTool\"},{\"attributes\":{\"active_drag\":\"auto\",\"active_inspect\":\"auto\",\"active_multi\":null,\"active_scroll\":\"auto\",\"active_tap\":\"auto\",\"tools\":[{\"id\":\"7fbdd608-8d01-4943-bae1-0c73c894cb41\",\"type\":\"PanTool\"},{\"id\":\"a24c979f-ed5e-4e34-bb23-e468fcf74de6\",\"type\":\"WheelZoomTool\"},{\"id\":\"b835f41a-ed41-4f00-96ab-388322bfcbb8\",\"type\":\"BoxZoomTool\"},{\"id\":\"b18c2e98-19ec-4eb0-9e44-ca924f2c8ce0\",\"type\":\"SaveTool\"},{\"id\":\"83d99112-e404-4679-bd44-c7b1eb389a84\",\"type\":\"ResetTool\"},{\"id\":\"30641cc3-87d7-4ef4-98c2-25fcf42d621c\",\"type\":\"HelpTool\"}]},\"id\":\"618700ac-4c35-48db-b9bb-09c911a389dd\",\"type\":\"Toolbar\"},{\"attributes\":{},\"id\":\"a24c979f-ed5e-4e34-bb23-e468fcf74de6\",\"type\":\"WheelZoomTool\"},{\"attributes\":{\"overlay\":{\"id\":\"4fd9c829-8916-4186-a446-31f8d9ea4ae0\",\"type\":\"BoxAnnotation\"}},\"id\":\"b835f41a-ed41-4f00-96ab-388322bfcbb8\",\"type\":\"BoxZoomTool\"},{\"attributes\":{},\"id\":\"b18c2e98-19ec-4eb0-9e44-ca924f2c8ce0\",\"type\":\"SaveTool\"},{\"attributes\":{\"callback\":null},\"id\":\"4d34edf8-fe8d-45bb-a14b-5ef2df510539\",\"type\":\"DataRange1d\"},{\"attributes\":{},\"id\":\"83d99112-e404-4679-bd44-c7b1eb389a84\",\"type\":\"ResetTool\"},{\"attributes\":{},\"id\":\"30641cc3-87d7-4ef4-98c2-25fcf42d621c\",\"type\":\"HelpTool\"},{\"attributes\":{},\"id\":\"8621ecb2-2d31-414a-b79e-73394b1915fd\",\"type\":\"LinearScale\"},{\"attributes\":{\"plot\":null,\"text\":\"\"},\"id\":\"731008dc-4e99-4187-9075-f9969e693cbc\",\"type\":\"Title\"},{\"attributes\":{\"bottom_units\":\"screen\",\"fill_alpha\":{\"value\":0.5},\"fill_color\":{\"value\":\"lightgrey\"},\"left_units\":\"screen\",\"level\":\"overlay\",\"line_alpha\":{\"value\":1.0},\"line_color\":{\"value\":\"black\"},\"line_dash\":[4,4],\"line_width\":{\"value\":2},\"plot\":null,\"render_mode\":\"css\",\"right_units\":\"screen\",\"top_units\":\"screen\"},\"id\":\"4fd9c829-8916-4186-a446-31f8d9ea4ae0\",\"type\":\"BoxAnnotation\"},{\"attributes\":{\"callback\":null},\"id\":\"588fd25d-076c-4fb7-a69f-a540b8691c03\",\"type\":\"DataRange1d\"},{\"attributes\":{},\"id\":\"e42e3ef9-549e-4f00-9f3b-6394f105ed23\",\"type\":\"BasicTickFormatter\"},{\"attributes\":{\"plot\":{\"id\":\"523950b2-a6df-40b2-8ecb-aa34865e48ba\",\"subtype\":\"Figure\",\"type\":\"Plot\"},\"ticker\":{\"id\":\"6ddfe78c-9c5b-49b8-b3fb-9f9db91cea2b\",\"type\":\"BasicTicker\"}},\"id\":\"79637428-fcfb-41f5-aaeb-39fb2d514ccc\",\"type\":\"Grid\"}],\"root_ids\":[\"523950b2-a6df-40b2-8ecb-aa34865e48ba\"]},\"title\":\"Bokeh Application\",\"version\":\"0.13.0\"}};\n",
       "  var render_items = [{\"docid\":\"0bc11592-782c-4188-9e47-97a6b95426f7\",\"roots\":{\"523950b2-a6df-40b2-8ecb-aa34865e48ba\":\"e29cfef3-4fbc-44d6-9bcb-bb7c65977a81\"}}];\n",
       "  root.Bokeh.embed.embed_items_notebook(docs_json, render_items);\n",
       "\n",
       "  }\n",
       "  if (root.Bokeh !== undefined) {\n",
       "    embed_document(root);\n",
       "  } else {\n",
       "    var attempts = 0;\n",
       "    var timer = setInterval(function(root) {\n",
       "      if (root.Bokeh !== undefined) {\n",
       "        embed_document(root);\n",
       "        clearInterval(timer);\n",
       "      }\n",
       "      attempts++;\n",
       "      if (attempts > 100) {\n",
       "        console.log(\"Bokeh: ERROR: Unable to run BokehJS code because BokehJS library is missing\")\n",
       "        clearInterval(timer);\n",
       "      }\n",
       "    }, 10, root)\n",
       "  }\n",
       "})(window);"
      ],
      "application/vnd.bokehjs_exec.v0+json": ""
     },
     "metadata": {
      "application/vnd.bokehjs_exec.v0+json": {
       "id": "523950b2-a6df-40b2-8ecb-aa34865e48ba"
      }
     },
     "output_type": "display_data"
    },
    {
     "data": {
      "image/png": "[encoded data removed]",
      "text/plain": [
       "<Figure size 432x288 with 1 Axes>"
      ]
     },
     "metadata": {
      "needs_background": "light"
     },
     "output_type": "display_data"
    }
   ],
   "source": [
    "#recession\n",
    "output_notebook()\n",
    "year = [\"97\", \"98\", \"99\", \"00\", \"01\", \"02\", \"03\", \"04\", \"05\", \"09\", \"10\", \"11\", \"12\", \"14\", \"15\", \"16\", \"17\", \"18\"]\n",
    "#year = [1997, 1998, 1999, 2000, 2001, 2002, 2003, 2004, 2005, 2009, 2010, 2011, 2012, 2014, 2015, 2016, 2017, 2018]\n",
    "recession = [0, 0, 1, 2, 0, 0, 0, 1, 0, 21, 21, 2, 1, 10, 33, 1, 3, 3]\n",
    "recovery = [0, 4, 2, 3, 7, 4, 4, 6, 6, 46, 54, 35, 79, 140, 280, 105, 27, 1]\n",
    "growth = [9, 89, 80, 92, 53, 39, 54, 80, 175, 57, 91, 77, 177, 81, 157, 79, 59, 56]\n",
    "investment = [2, 96, 107, 139, 70, 100, 66, 78, 143, 86, 107, 40, 109, 132, 181, 130, 142, 104]\n",
    "brexit = [0, 0, 0, 0, 0, 0, 0, 0, 0, 0, 0, 0, 0, 0, 4, 114, 225, 63]\n",
    "q = figure(toolbar_location=None)\n",
    "# q.line(year, recession,  legend=\"recession\", color=\"red\")\n",
    "# q.line(year, recovery,  legend=\"recovery\", color = \"blue\")\n",
    "# q.line(year, growth,  legend=\"growth\", color = \"green\")\n",
    "# q.line(year, investment,  legend=\"investment\", color = \"orange\")\n",
    "# q.line(year, brexit,  legend=\"brexit\", color = \"brown\")\n",
    "\n",
    "ypos = np.arange(len(recession))\n",
    "\n",
    "plt.xticks(ypos, year)\n",
    "plt.ylabel(\"No. of words\")\n",
    "plt.xlabel(\"Year\")\n",
    "plt.bar(ypos+.1, growth, label = \"growth\" ,alpha = 1)\n",
    "plt.bar(ypos+.2, recovery,  label = \"recovery\", alpha = 1)\n",
    "plt.bar(ypos+.3, investment,  label = \"investment\", alpha = 0.8)\n",
    "plt.legend()\n",
    "show(q)"
   ]
  },
  {
   "cell_type": "code",
   "execution_count": 160,
   "metadata": {},
   "outputs": [
    {
     "data": {
      "text/html": [
       "\n",
       "    <div class=\"bk-root\">\n",
       "        <a href=\"https://bokeh.pydata.org\" target=\"_blank\" class=\"bk-logo bk-logo-small bk-logo-notebook\"></a>\n",
       "        <span id=\"7d203203-b438-4d60-af21-3c4ce904d689\">Loading BokehJS ...</span>\n",
       "    </div>"
      ]
     },
     "metadata": {},
     "output_type": "display_data"
    },
    {
     "data": {
      "application/javascript": [
       "\n",
       "(function(root) {\n",
       "  function now() {\n",
       "    return new Date();\n",
       "  }\n",
       "\n",
       "  var force = true;\n",
       "\n",
       "  if (typeof (root._bokeh_onload_callbacks) === \"undefined\" || force === true) {\n",
       "    root._bokeh_onload_callbacks = [];\n",
       "    root._bokeh_is_loading = undefined;\n",
       "  }\n",
       "\n",
       "  var JS_MIME_TYPE = 'application/javascript';\n",
       "  var HTML_MIME_TYPE = 'text/html';\n",
       "  var EXEC_MIME_TYPE = 'application/vnd.bokehjs_exec.v0+json';\n",
       "  var CLASS_NAME = 'output_bokeh rendered_html';\n",
       "\n",
       "  /**\n",
       "   * Render data to the DOM node\n",
       "   */\n",
       "  function render(props, node) {\n",
       "    var script = document.createElement(\"script\");\n",
       "    node.appendChild(script);\n",
       "  }\n",
       "\n",
       "  /**\n",
       "   * Handle when an output is cleared or removed\n",
       "   */\n",
       "  function handleClearOutput(event, handle) {\n",
       "    var cell = handle.cell;\n",
       "\n",
       "    var id = cell.output_area._bokeh_element_id;\n",
       "    var server_id = cell.output_area._bokeh_server_id;\n",
       "    // Clean up Bokeh references\n",
       "    if (id != null && id in Bokeh.index) {\n",
       "      Bokeh.index[id].model.document.clear();\n",
       "      delete Bokeh.index[id];\n",
       "    }\n",
       "\n",
       "    if (server_id !== undefined) {\n",
       "      // Clean up Bokeh references\n",
       "      var cmd = \"from bokeh.io.state import curstate; print(curstate().uuid_to_server['\" + server_id + \"'].get_sessions()[0].document.roots[0]._id)\";\n",
       "      cell.notebook.kernel.execute(cmd, {\n",
       "        iopub: {\n",
       "          output: function(msg) {\n",
       "            var id = msg.content.text.trim();\n",
       "            if (id in Bokeh.index) {\n",
       "              Bokeh.index[id].model.document.clear();\n",
       "              delete Bokeh.index[id];\n",
       "            }\n",
       "          }\n",
       "        }\n",
       "      });\n",
       "      // Destroy server and session\n",
       "      var cmd = \"import bokeh.io.notebook as ion; ion.destroy_server('\" + server_id + \"')\";\n",
       "      cell.notebook.kernel.execute(cmd);\n",
       "    }\n",
       "  }\n",
       "\n",
       "  /**\n",
       "   * Handle when a new output is added\n",
       "   */\n",
       "  function handleAddOutput(event, handle) {\n",
       "    var output_area = handle.output_area;\n",
       "    var output = handle.output;\n",
       "\n",
       "    // limit handleAddOutput to display_data with EXEC_MIME_TYPE content only\n",
       "    if ((output.output_type != \"display_data\") || (!output.data.hasOwnProperty(EXEC_MIME_TYPE))) {\n",
       "      return\n",
       "    }\n",
       "\n",
       "    var toinsert = output_area.element.find(\".\" + CLASS_NAME.split(' ')[0]);\n",
       "\n",
       "    if (output.metadata[EXEC_MIME_TYPE][\"id\"] !== undefined) {\n",
       "      toinsert[toinsert.length - 1].firstChild.textContent = output.data[JS_MIME_TYPE];\n",
       "      // store reference to embed id on output_area\n",
       "      output_area._bokeh_element_id = output.metadata[EXEC_MIME_TYPE][\"id\"];\n",
       "    }\n",
       "    if (output.metadata[EXEC_MIME_TYPE][\"server_id\"] !== undefined) {\n",
       "      var bk_div = document.createElement(\"div\");\n",
       "      bk_div.innerHTML = output.data[HTML_MIME_TYPE];\n",
       "      var script_attrs = bk_div.children[0].attributes;\n",
       "      for (var i = 0; i < script_attrs.length; i++) {\n",
       "        toinsert[toinsert.length - 1].firstChild.setAttribute(script_attrs[i].name, script_attrs[i].value);\n",
       "      }\n",
       "      // store reference to server id on output_area\n",
       "      output_area._bokeh_server_id = output.metadata[EXEC_MIME_TYPE][\"server_id\"];\n",
       "    }\n",
       "  }\n",
       "\n",
       "  function register_renderer(events, OutputArea) {\n",
       "\n",
       "    function append_mime(data, metadata, element) {\n",
       "      // create a DOM node to render to\n",
       "      var toinsert = this.create_output_subarea(\n",
       "        metadata,\n",
       "        CLASS_NAME,\n",
       "        EXEC_MIME_TYPE\n",
       "      );\n",
       "      this.keyboard_manager.register_events(toinsert);\n",
       "      // Render to node\n",
       "      var props = {data: data, metadata: metadata[EXEC_MIME_TYPE]};\n",
       "      render(props, toinsert[toinsert.length - 1]);\n",
       "      element.append(toinsert);\n",
       "      return toinsert\n",
       "    }\n",
       "\n",
       "    /* Handle when an output is cleared or removed */\n",
       "    events.on('clear_output.CodeCell', handleClearOutput);\n",
       "    events.on('delete.Cell', handleClearOutput);\n",
       "\n",
       "    /* Handle when a new output is added */\n",
       "    events.on('output_added.OutputArea', handleAddOutput);\n",
       "\n",
       "    /**\n",
       "     * Register the mime type and append_mime function with output_area\n",
       "     */\n",
       "    OutputArea.prototype.register_mime_type(EXEC_MIME_TYPE, append_mime, {\n",
       "      /* Is output safe? */\n",
       "      safe: true,\n",
       "      /* Index of renderer in `output_area.display_order` */\n",
       "      index: 0\n",
       "    });\n",
       "  }\n",
       "\n",
       "  // register the mime type if in Jupyter Notebook environment and previously unregistered\n",
       "  if (root.Jupyter !== undefined) {\n",
       "    var events = require('base/js/events');\n",
       "    var OutputArea = require('notebook/js/outputarea').OutputArea;\n",
       "\n",
       "    if (OutputArea.prototype.mime_types().indexOf(EXEC_MIME_TYPE) == -1) {\n",
       "      register_renderer(events, OutputArea);\n",
       "    }\n",
       "  }\n",
       "\n",
       "  \n",
       "  if (typeof (root._bokeh_timeout) === \"undefined\" || force === true) {\n",
       "    root._bokeh_timeout = Date.now() + 5000;\n",
       "    root._bokeh_failed_load = false;\n",
       "  }\n",
       "\n",
       "  var NB_LOAD_WARNING = {'data': {'text/html':\n",
       "     \"<div style='background-color: #fdd'>\\n\"+\n",
       "     \"<p>\\n\"+\n",
       "     \"BokehJS does not appear to have successfully loaded. If loading BokehJS from CDN, this \\n\"+\n",
       "     \"may be due to a slow or bad network connection. Possible fixes:\\n\"+\n",
       "     \"</p>\\n\"+\n",
       "     \"<ul>\\n\"+\n",
       "     \"<li>re-rerun `output_notebook()` to attempt to load from CDN again, or</li>\\n\"+\n",
       "     \"<li>use INLINE resources instead, as so:</li>\\n\"+\n",
       "     \"</ul>\\n\"+\n",
       "     \"<code>\\n\"+\n",
       "     \"from bokeh.resources import INLINE\\n\"+\n",
       "     \"output_notebook(resources=INLINE)\\n\"+\n",
       "     \"</code>\\n\"+\n",
       "     \"</div>\"}};\n",
       "\n",
       "  function display_loaded() {\n",
       "    var el = document.getElementById(\"7d203203-b438-4d60-af21-3c4ce904d689\");\n",
       "    if (el != null) {\n",
       "      el.textContent = \"BokehJS is loading...\";\n",
       "    }\n",
       "    if (root.Bokeh !== undefined) {\n",
       "      if (el != null) {\n",
       "        el.textContent = \"BokehJS \" + root.Bokeh.version + \" successfully loaded.\";\n",
       "      }\n",
       "    } else if (Date.now() < root._bokeh_timeout) {\n",
       "      setTimeout(display_loaded, 100)\n",
       "    }\n",
       "  }\n",
       "\n",
       "\n",
       "  function run_callbacks() {\n",
       "    try {\n",
       "      root._bokeh_onload_callbacks.forEach(function(callback) { callback() });\n",
       "    }\n",
       "    finally {\n",
       "      delete root._bokeh_onload_callbacks\n",
       "    }\n",
       "    console.info(\"Bokeh: all callbacks have finished\");\n",
       "  }\n",
       "\n",
       "  function load_libs(js_urls, callback) {\n",
       "    root._bokeh_onload_callbacks.push(callback);\n",
       "    if (root._bokeh_is_loading > 0) {\n",
       "      console.log(\"Bokeh: BokehJS is being loaded, scheduling callback at\", now());\n",
       "      return null;\n",
       "    }\n",
       "    if (js_urls == null || js_urls.length === 0) {\n",
       "      run_callbacks();\n",
       "      return null;\n",
       "    }\n",
       "    console.log(\"Bokeh: BokehJS not loaded, scheduling load and callback at\", now());\n",
       "    root._bokeh_is_loading = js_urls.length;\n",
       "    for (var i = 0; i < js_urls.length; i++) {\n",
       "      var url = js_urls[i];\n",
       "      var s = document.createElement('script');\n",
       "      s.src = url;\n",
       "      s.async = false;\n",
       "      s.onreadystatechange = s.onload = function() {\n",
       "        root._bokeh_is_loading--;\n",
       "        if (root._bokeh_is_loading === 0) {\n",
       "          console.log(\"Bokeh: all BokehJS libraries loaded\");\n",
       "          run_callbacks()\n",
       "        }\n",
       "      };\n",
       "      s.onerror = function() {\n",
       "        console.warn(\"failed to load library \" + url);\n",
       "      };\n",
       "      console.log(\"Bokeh: injecting script tag for BokehJS library: \", url);\n",
       "      document.getElementsByTagName(\"head\")[0].appendChild(s);\n",
       "    }\n",
       "  };var element = document.getElementById(\"7d203203-b438-4d60-af21-3c4ce904d689\");\n",
       "  if (element == null) {\n",
       "    console.log(\"Bokeh: ERROR: autoload.js configured with elementid '7d203203-b438-4d60-af21-3c4ce904d689' but no matching script tag was found. \")\n",
       "    return false;\n",
       "  }\n",
       "\n",
       "  var js_urls = [\"https://cdn.pydata.org/bokeh/release/bokeh-0.13.0.min.js\", \"https://cdn.pydata.org/bokeh/release/bokeh-widgets-0.13.0.min.js\", \"https://cdn.pydata.org/bokeh/release/bokeh-tables-0.13.0.min.js\", \"https://cdn.pydata.org/bokeh/release/bokeh-gl-0.13.0.min.js\"];\n",
       "\n",
       "  var inline_js = [\n",
       "    function(Bokeh) {\n",
       "      Bokeh.set_log_level(\"info\");\n",
       "    },\n",
       "    \n",
       "    function(Bokeh) {\n",
       "      \n",
       "    },\n",
       "    function(Bokeh) {\n",
       "      console.log(\"Bokeh: injecting CSS: https://cdn.pydata.org/bokeh/release/bokeh-0.13.0.min.css\");\n",
       "      Bokeh.embed.inject_css(\"https://cdn.pydata.org/bokeh/release/bokeh-0.13.0.min.css\");\n",
       "      console.log(\"Bokeh: injecting CSS: https://cdn.pydata.org/bokeh/release/bokeh-widgets-0.13.0.min.css\");\n",
       "      Bokeh.embed.inject_css(\"https://cdn.pydata.org/bokeh/release/bokeh-widgets-0.13.0.min.css\");\n",
       "      console.log(\"Bokeh: injecting CSS: https://cdn.pydata.org/bokeh/release/bokeh-tables-0.13.0.min.css\");\n",
       "      Bokeh.embed.inject_css(\"https://cdn.pydata.org/bokeh/release/bokeh-tables-0.13.0.min.css\");\n",
       "    }\n",
       "  ];\n",
       "\n",
       "  function run_inline_js() {\n",
       "    \n",
       "    if ((root.Bokeh !== undefined) || (force === true)) {\n",
       "      for (var i = 0; i < inline_js.length; i++) {\n",
       "        inline_js[i].call(root, root.Bokeh);\n",
       "      }if (force === true) {\n",
       "        display_loaded();\n",
       "      }} else if (Date.now() < root._bokeh_timeout) {\n",
       "      setTimeout(run_inline_js, 100);\n",
       "    } else if (!root._bokeh_failed_load) {\n",
       "      console.log(\"Bokeh: BokehJS failed to load within specified timeout.\");\n",
       "      root._bokeh_failed_load = true;\n",
       "    } else if (force !== true) {\n",
       "      var cell = $(document.getElementById(\"7d203203-b438-4d60-af21-3c4ce904d689\")).parents('.cell').data().cell;\n",
       "      cell.output_area.append_execute_result(NB_LOAD_WARNING)\n",
       "    }\n",
       "\n",
       "  }\n",
       "\n",
       "  if (root._bokeh_is_loading === 0) {\n",
       "    console.log(\"Bokeh: BokehJS loaded, going straight to plotting\");\n",
       "    run_inline_js();\n",
       "  } else {\n",
       "    load_libs(js_urls, function() {\n",
       "      console.log(\"Bokeh: BokehJS plotting callback run at\", now());\n",
       "      run_inline_js();\n",
       "    });\n",
       "  }\n",
       "}(window));"
      ],
      "application/vnd.bokehjs_load.v0+json": "\n(function(root) {\n  function now() {\n    return new Date();\n  }\n\n  var force = true;\n\n  if (typeof (root._bokeh_onload_callbacks) === \"undefined\" || force === true) {\n    root._bokeh_onload_callbacks = [];\n    root._bokeh_is_loading = undefined;\n  }\n\n  \n\n  \n  if (typeof (root._bokeh_timeout) === \"undefined\" || force === true) {\n    root._bokeh_timeout = Date.now() + 5000;\n    root._bokeh_failed_load = false;\n  }\n\n  var NB_LOAD_WARNING = {'data': {'text/html':\n     \"<div style='background-color: #fdd'>\\n\"+\n     \"<p>\\n\"+\n     \"BokehJS does not appear to have successfully loaded. If loading BokehJS from CDN, this \\n\"+\n     \"may be due to a slow or bad network connection. Possible fixes:\\n\"+\n     \"</p>\\n\"+\n     \"<ul>\\n\"+\n     \"<li>re-rerun `output_notebook()` to attempt to load from CDN again, or</li>\\n\"+\n     \"<li>use INLINE resources instead, as so:</li>\\n\"+\n     \"</ul>\\n\"+\n     \"<code>\\n\"+\n     \"from bokeh.resources import INLINE\\n\"+\n     \"output_notebook(resources=INLINE)\\n\"+\n     \"</code>\\n\"+\n     \"</div>\"}};\n\n  function display_loaded() {\n    var el = document.getElementById(\"7d203203-b438-4d60-af21-3c4ce904d689\");\n    if (el != null) {\n      el.textContent = \"BokehJS is loading...\";\n    }\n    if (root.Bokeh !== undefined) {\n      if (el != null) {\n        el.textContent = \"BokehJS \" + root.Bokeh.version + \" successfully loaded.\";\n      }\n    } else if (Date.now() < root._bokeh_timeout) {\n      setTimeout(display_loaded, 100)\n    }\n  }\n\n\n  function run_callbacks() {\n    try {\n      root._bokeh_onload_callbacks.forEach(function(callback) { callback() });\n    }\n    finally {\n      delete root._bokeh_onload_callbacks\n    }\n    console.info(\"Bokeh: all callbacks have finished\");\n  }\n\n  function load_libs(js_urls, callback) {\n    root._bokeh_onload_callbacks.push(callback);\n    if (root._bokeh_is_loading > 0) {\n      console.log(\"Bokeh: BokehJS is being loaded, scheduling callback at\", now());\n      return null;\n    }\n    if (js_urls == null || js_urls.length === 0) {\n      run_callbacks();\n      return null;\n    }\n    console.log(\"Bokeh: BokehJS not loaded, scheduling load and callback at\", now());\n    root._bokeh_is_loading = js_urls.length;\n    for (var i = 0; i < js_urls.length; i++) {\n      var url = js_urls[i];\n      var s = document.createElement('script');\n      s.src = url;\n      s.async = false;\n      s.onreadystatechange = s.onload = function() {\n        root._bokeh_is_loading--;\n        if (root._bokeh_is_loading === 0) {\n          console.log(\"Bokeh: all BokehJS libraries loaded\");\n          run_callbacks()\n        }\n      };\n      s.onerror = function() {\n        console.warn(\"failed to load library \" + url);\n      };\n      console.log(\"Bokeh: injecting script tag for BokehJS library: \", url);\n      document.getElementsByTagName(\"head\")[0].appendChild(s);\n    }\n  };var element = document.getElementById(\"7d203203-b438-4d60-af21-3c4ce904d689\");\n  if (element == null) {\n    console.log(\"Bokeh: ERROR: autoload.js configured with elementid '7d203203-b438-4d60-af21-3c4ce904d689' but no matching script tag was found. \")\n    return false;\n  }\n\n  var js_urls = [\"https://cdn.pydata.org/bokeh/release/bokeh-0.13.0.min.js\", \"https://cdn.pydata.org/bokeh/release/bokeh-widgets-0.13.0.min.js\", \"https://cdn.pydata.org/bokeh/release/bokeh-tables-0.13.0.min.js\", \"https://cdn.pydata.org/bokeh/release/bokeh-gl-0.13.0.min.js\"];\n\n  var inline_js = [\n    function(Bokeh) {\n      Bokeh.set_log_level(\"info\");\n    },\n    \n    function(Bokeh) {\n      \n    },\n    function(Bokeh) {\n      console.log(\"Bokeh: injecting CSS: https://cdn.pydata.org/bokeh/release/bokeh-0.13.0.min.css\");\n      Bokeh.embed.inject_css(\"https://cdn.pydata.org/bokeh/release/bokeh-0.13.0.min.css\");\n      console.log(\"Bokeh: injecting CSS: https://cdn.pydata.org/bokeh/release/bokeh-widgets-0.13.0.min.css\");\n      Bokeh.embed.inject_css(\"https://cdn.pydata.org/bokeh/release/bokeh-widgets-0.13.0.min.css\");\n      console.log(\"Bokeh: injecting CSS: https://cdn.pydata.org/bokeh/release/bokeh-tables-0.13.0.min.css\");\n      Bokeh.embed.inject_css(\"https://cdn.pydata.org/bokeh/release/bokeh-tables-0.13.0.min.css\");\n    }\n  ];\n\n  function run_inline_js() {\n    \n    if ((root.Bokeh !== undefined) || (force === true)) {\n      for (var i = 0; i < inline_js.length; i++) {\n        inline_js[i].call(root, root.Bokeh);\n      }if (force === true) {\n        display_loaded();\n      }} else if (Date.now() < root._bokeh_timeout) {\n      setTimeout(run_inline_js, 100);\n    } else if (!root._bokeh_failed_load) {\n      console.log(\"Bokeh: BokehJS failed to load within specified timeout.\");\n      root._bokeh_failed_load = true;\n    } else if (force !== true) {\n      var cell = $(document.getElementById(\"7d203203-b438-4d60-af21-3c4ce904d689\")).parents('.cell').data().cell;\n      cell.output_area.append_execute_result(NB_LOAD_WARNING)\n    }\n\n  }\n\n  if (root._bokeh_is_loading === 0) {\n    console.log(\"Bokeh: BokehJS loaded, going straight to plotting\");\n    run_inline_js();\n  } else {\n    load_libs(js_urls, function() {\n      console.log(\"Bokeh: BokehJS plotting callback run at\", now());\n      run_inline_js();\n    });\n  }\n}(window));"
     },
     "metadata": {},
     "output_type": "display_data"
    },
    {
     "data": {
      "text/html": [
       "\n",
       "\n",
       "\n",
       "\n",
       "\n",
       "\n",
       "  <div class=\"bk-root\" id=\"ca014a28-1429-4a9f-9e90-d8c6a389dc41\"></div>\n"
      ]
     },
     "metadata": {},
     "output_type": "display_data"
    },
    {
     "data": {
      "application/javascript": [
       "(function(root) {\n",
       "  function embed_document(root) {\n",
       "    \n",
       "  var docs_json = {\"123d3a25-1c11-4d5c-ab32-68e719373a5d\":{\"roots\":{\"references\":[{\"attributes\":{\"plot\":null,\"text\":\"\"},\"id\":\"ba4bc9e4-4a90-4676-ab83-2eeb56c4a7cc\",\"type\":\"Title\"},{\"attributes\":{},\"id\":\"892c1aa0-fdd7-4fa6-bc4a-3d336ffc51f3\",\"type\":\"SaveTool\"},{\"attributes\":{},\"id\":\"80329257-ab54-44f0-9103-2c6376ee8488\",\"type\":\"ResetTool\"},{\"attributes\":{\"overlay\":{\"id\":\"dd1f8bfe-9bf0-48a9-b738-d4d1d0f6170a\",\"type\":\"BoxAnnotation\"}},\"id\":\"f48414db-2283-4ebc-9f11-ebbcdf6e525d\",\"type\":\"BoxZoomTool\"},{\"attributes\":{},\"id\":\"a32ae7bd-388d-46bf-8c04-a6631f82bacf\",\"type\":\"UnionRenderers\"},{\"attributes\":{\"callback\":null,\"data\":{\"x\":[1997,1998,1999,2000,2001,2002,2003,2004,2005,2009,2010,2011,2012,2014,2015,2016,2017,2018],\"y\":[0,4,2,3,7,4,4,6,6,46,54,35,79,140,280,105,27,1]},\"selected\":{\"id\":\"09a2dd72-40ed-4c6e-9619-fcc4a51c86c2\",\"type\":\"Selection\"},\"selection_policy\":{\"id\":\"e33bd6dd-96a9-42b3-8bd8-e7e20fadd5b4\",\"type\":\"UnionRenderers\"}},\"id\":\"1d0645c9-be71-497c-ab8d-000bc1222837\",\"type\":\"ColumnDataSource\"},{\"attributes\":{\"line_color\":\"blue\",\"x\":{\"field\":\"x\"},\"y\":{\"field\":\"y\"}},\"id\":\"3612604c-886f-4e9c-b24b-b7ae21bba543\",\"type\":\"Line\"},{\"attributes\":{\"callback\":null},\"id\":\"3f9acaf1-44f0-4e02-a0a0-8f1e91004355\",\"type\":\"DataRange1d\"},{\"attributes\":{\"bottom_units\":\"screen\",\"fill_alpha\":{\"value\":0.5},\"fill_color\":{\"value\":\"lightgrey\"},\"left_units\":\"screen\",\"level\":\"overlay\",\"line_alpha\":{\"value\":1.0},\"line_color\":{\"value\":\"black\"},\"line_dash\":[4,4],\"line_width\":{\"value\":2},\"plot\":null,\"render_mode\":\"css\",\"right_units\":\"screen\",\"top_units\":\"screen\"},\"id\":\"dd1f8bfe-9bf0-48a9-b738-d4d1d0f6170a\",\"type\":\"BoxAnnotation\"},{\"attributes\":{},\"id\":\"faf51904-5e74-4eb1-82a5-3f18395141af\",\"type\":\"HelpTool\"},{\"attributes\":{\"data_source\":{\"id\":\"3d2bc14a-38f0-41a8-ac30-c532789240b4\",\"type\":\"ColumnDataSource\"},\"glyph\":{\"id\":\"3612604c-886f-4e9c-b24b-b7ae21bba543\",\"type\":\"Line\"},\"hover_glyph\":null,\"muted_glyph\":null,\"nonselection_glyph\":{\"id\":\"4d18644e-808d-40ac-ac7d-fb00e8b120ef\",\"type\":\"Line\"},\"selection_glyph\":null,\"view\":{\"id\":\"ea0f1111-4bb2-4097-9901-840214e7f0b4\",\"type\":\"CDSView\"}},\"id\":\"309c3c8a-9a19-49b7-be9a-06040d7d49f8\",\"type\":\"GlyphRenderer\"},{\"attributes\":{\"active_drag\":\"auto\",\"active_inspect\":\"auto\",\"active_multi\":null,\"active_scroll\":\"auto\",\"active_tap\":\"auto\",\"tools\":[{\"id\":\"7498d147-4503-4b89-9661-d8020b4e8973\",\"type\":\"PanTool\"},{\"id\":\"a957648d-3a74-4adc-8fdb-47f6d3e1b3de\",\"type\":\"WheelZoomTool\"},{\"id\":\"f48414db-2283-4ebc-9f11-ebbcdf6e525d\",\"type\":\"BoxZoomTool\"},{\"id\":\"892c1aa0-fdd7-4fa6-bc4a-3d336ffc51f3\",\"type\":\"SaveTool\"},{\"id\":\"80329257-ab54-44f0-9103-2c6376ee8488\",\"type\":\"ResetTool\"},{\"id\":\"faf51904-5e74-4eb1-82a5-3f18395141af\",\"type\":\"HelpTool\"}]},\"id\":\"38b7c8ed-f7e0-48cc-9998-eb7fa83350ed\",\"type\":\"Toolbar\"},{\"attributes\":{\"items\":[{\"id\":\"0a00a37a-3c9d-48e8-9b82-1ee8d46043da\",\"type\":\"LegendItem\"},{\"id\":\"b0aba9ab-3cfb-4d63-a920-c37966d32975\",\"type\":\"LegendItem\"}],\"plot\":{\"id\":\"69fbb99e-0e86-481d-9ce8-1ab2e51c4ce0\",\"subtype\":\"Figure\",\"type\":\"Plot\"}},\"id\":\"af95d2bf-55b5-4edd-ac23-673fc2c372f6\",\"type\":\"Legend\"},{\"attributes\":{\"below\":[{\"id\":\"c9102985-e4dd-4c01-8088-0113af7efe8d\",\"type\":\"LinearAxis\"}],\"left\":[{\"id\":\"85a65aaf-5599-48cd-84ad-53c71ff7e464\",\"type\":\"LinearAxis\"}],\"renderers\":[{\"id\":\"c9102985-e4dd-4c01-8088-0113af7efe8d\",\"type\":\"LinearAxis\"},{\"id\":\"0557c085-5753-44a8-8ab7-d0e8e36eb425\",\"type\":\"Grid\"},{\"id\":\"85a65aaf-5599-48cd-84ad-53c71ff7e464\",\"type\":\"LinearAxis\"},{\"id\":\"28ef9c9e-d9fd-42e2-a9e2-0d7014eecabf\",\"type\":\"Grid\"},{\"id\":\"dd1f8bfe-9bf0-48a9-b738-d4d1d0f6170a\",\"type\":\"BoxAnnotation\"},{\"id\":\"af95d2bf-55b5-4edd-ac23-673fc2c372f6\",\"type\":\"Legend\"},{\"id\":\"92c69bd8-ba02-4936-b856-5356913ca390\",\"type\":\"GlyphRenderer\"},{\"id\":\"309c3c8a-9a19-49b7-be9a-06040d7d49f8\",\"type\":\"GlyphRenderer\"}],\"title\":{\"id\":\"ba4bc9e4-4a90-4676-ab83-2eeb56c4a7cc\",\"type\":\"Title\"},\"toolbar\":{\"id\":\"38b7c8ed-f7e0-48cc-9998-eb7fa83350ed\",\"type\":\"Toolbar\"},\"x_range\":{\"id\":\"3f9acaf1-44f0-4e02-a0a0-8f1e91004355\",\"type\":\"DataRange1d\"},\"x_scale\":{\"id\":\"88ef8010-108e-4497-9ed8-3361d7efd76d\",\"type\":\"LinearScale\"},\"y_range\":{\"id\":\"23dac511-df08-45a8-8ed4-ce7394479df7\",\"type\":\"DataRange1d\"},\"y_scale\":{\"id\":\"90436b73-150c-402a-905b-397a7c20a75e\",\"type\":\"LinearScale\"}},\"id\":\"69fbb99e-0e86-481d-9ce8-1ab2e51c4ce0\",\"subtype\":\"Figure\",\"type\":\"Plot\"},{\"attributes\":{},\"id\":\"7498d147-4503-4b89-9661-d8020b4e8973\",\"type\":\"PanTool\"},{\"attributes\":{\"source\":{\"id\":\"1d0645c9-be71-497c-ab8d-000bc1222837\",\"type\":\"ColumnDataSource\"}},\"id\":\"ced067ff-88a0-4d54-ba38-0482f5b6f5f5\",\"type\":\"CDSView\"},{\"attributes\":{\"line_alpha\":0.1,\"line_color\":\"#1f77b4\",\"x\":{\"field\":\"x\"},\"y\":{\"field\":\"y\"}},\"id\":\"2b92eaa5-8de9-4d5f-aa94-c442949d6790\",\"type\":\"Line\"},{\"attributes\":{},\"id\":\"20e7a517-6c82-4e54-baa3-fc48911b8506\",\"type\":\"Selection\"},{\"attributes\":{\"callback\":null,\"data\":{\"x\":[1997,1998,1999,2000,2001,2002,2003,2004,2005,2009,2010,2011,2012,2014,2015,2016,2017,2018],\"y\":[0,4.298,2.098,3.473,7.991,5.536,5.623,9.82,4.944,62.619,74.298,52.309,118.976,162.375,262.64,108.036,26.165,1.266]},\"selected\":{\"id\":\"20e7a517-6c82-4e54-baa3-fc48911b8506\",\"type\":\"Selection\"},\"selection_policy\":{\"id\":\"a32ae7bd-388d-46bf-8c04-a6631f82bacf\",\"type\":\"UnionRenderers\"}},\"id\":\"3d2bc14a-38f0-41a8-ac30-c532789240b4\",\"type\":\"ColumnDataSource\"},{\"attributes\":{},\"id\":\"836492d1-84d7-44ce-8ebd-1834c239e5bc\",\"type\":\"BasicTickFormatter\"},{\"attributes\":{\"dimension\":1,\"plot\":{\"id\":\"69fbb99e-0e86-481d-9ce8-1ab2e51c4ce0\",\"subtype\":\"Figure\",\"type\":\"Plot\"},\"ticker\":{\"id\":\"ab97f993-090b-47da-af56-7ce05e8e7ebd\",\"type\":\"BasicTicker\"}},\"id\":\"28ef9c9e-d9fd-42e2-a9e2-0d7014eecabf\",\"type\":\"Grid\"},{\"attributes\":{},\"id\":\"ab97f993-090b-47da-af56-7ce05e8e7ebd\",\"type\":\"BasicTicker\"},{\"attributes\":{\"formatter\":{\"id\":\"836492d1-84d7-44ce-8ebd-1834c239e5bc\",\"type\":\"BasicTickFormatter\"},\"plot\":{\"id\":\"69fbb99e-0e86-481d-9ce8-1ab2e51c4ce0\",\"subtype\":\"Figure\",\"type\":\"Plot\"},\"ticker\":{\"id\":\"ab97f993-090b-47da-af56-7ce05e8e7ebd\",\"type\":\"BasicTicker\"}},\"id\":\"85a65aaf-5599-48cd-84ad-53c71ff7e464\",\"type\":\"LinearAxis\"},{\"attributes\":{},\"id\":\"f0576fd3-7524-46cc-b5fd-d558c3f21e6c\",\"type\":\"BasicTicker\"},{\"attributes\":{},\"id\":\"e33bd6dd-96a9-42b3-8bd8-e7e20fadd5b4\",\"type\":\"UnionRenderers\"},{\"attributes\":{\"formatter\":{\"id\":\"7975bc5f-9627-4469-bf9d-2b24b3ee1d2e\",\"type\":\"BasicTickFormatter\"},\"plot\":{\"id\":\"69fbb99e-0e86-481d-9ce8-1ab2e51c4ce0\",\"subtype\":\"Figure\",\"type\":\"Plot\"},\"ticker\":{\"id\":\"f0576fd3-7524-46cc-b5fd-d558c3f21e6c\",\"type\":\"BasicTicker\"}},\"id\":\"c9102985-e4dd-4c01-8088-0113af7efe8d\",\"type\":\"LinearAxis\"},{\"attributes\":{\"plot\":{\"id\":\"69fbb99e-0e86-481d-9ce8-1ab2e51c4ce0\",\"subtype\":\"Figure\",\"type\":\"Plot\"},\"ticker\":{\"id\":\"f0576fd3-7524-46cc-b5fd-d558c3f21e6c\",\"type\":\"BasicTicker\"}},\"id\":\"0557c085-5753-44a8-8ab7-d0e8e36eb425\",\"type\":\"Grid\"},{\"attributes\":{},\"id\":\"90436b73-150c-402a-905b-397a7c20a75e\",\"type\":\"LinearScale\"},{\"attributes\":{\"source\":{\"id\":\"3d2bc14a-38f0-41a8-ac30-c532789240b4\",\"type\":\"ColumnDataSource\"}},\"id\":\"ea0f1111-4bb2-4097-9901-840214e7f0b4\",\"type\":\"CDSView\"},{\"attributes\":{},\"id\":\"88ef8010-108e-4497-9ed8-3361d7efd76d\",\"type\":\"LinearScale\"},{\"attributes\":{\"callback\":null},\"id\":\"23dac511-df08-45a8-8ed4-ce7394479df7\",\"type\":\"DataRange1d\"},{\"attributes\":{\"label\":{\"value\":\"r2\"},\"renderers\":[{\"id\":\"309c3c8a-9a19-49b7-be9a-06040d7d49f8\",\"type\":\"GlyphRenderer\"}]},\"id\":\"b0aba9ab-3cfb-4d63-a920-c37966d32975\",\"type\":\"LegendItem\"},{\"attributes\":{\"line_color\":\"red\",\"x\":{\"field\":\"x\"},\"y\":{\"field\":\"y\"}},\"id\":\"61cbab22-be6a-4f6f-b015-526ce81bcb89\",\"type\":\"Line\"},{\"attributes\":{\"line_alpha\":0.1,\"line_color\":\"#1f77b4\",\"x\":{\"field\":\"x\"},\"y\":{\"field\":\"y\"}},\"id\":\"4d18644e-808d-40ac-ac7d-fb00e8b120ef\",\"type\":\"Line\"},{\"attributes\":{\"label\":{\"value\":\"r\"},\"renderers\":[{\"id\":\"92c69bd8-ba02-4936-b856-5356913ca390\",\"type\":\"GlyphRenderer\"}]},\"id\":\"0a00a37a-3c9d-48e8-9b82-1ee8d46043da\",\"type\":\"LegendItem\"},{\"attributes\":{},\"id\":\"a957648d-3a74-4adc-8fdb-47f6d3e1b3de\",\"type\":\"WheelZoomTool\"},{\"attributes\":{\"data_source\":{\"id\":\"1d0645c9-be71-497c-ab8d-000bc1222837\",\"type\":\"ColumnDataSource\"},\"glyph\":{\"id\":\"61cbab22-be6a-4f6f-b015-526ce81bcb89\",\"type\":\"Line\"},\"hover_glyph\":null,\"muted_glyph\":null,\"nonselection_glyph\":{\"id\":\"2b92eaa5-8de9-4d5f-aa94-c442949d6790\",\"type\":\"Line\"},\"selection_glyph\":null,\"view\":{\"id\":\"ced067ff-88a0-4d54-ba38-0482f5b6f5f5\",\"type\":\"CDSView\"}},\"id\":\"92c69bd8-ba02-4936-b856-5356913ca390\",\"type\":\"GlyphRenderer\"},{\"attributes\":{},\"id\":\"7975bc5f-9627-4469-bf9d-2b24b3ee1d2e\",\"type\":\"BasicTickFormatter\"},{\"attributes\":{},\"id\":\"09a2dd72-40ed-4c6e-9619-fcc4a51c86c2\",\"type\":\"Selection\"}],\"root_ids\":[\"69fbb99e-0e86-481d-9ce8-1ab2e51c4ce0\"]},\"title\":\"Bokeh Application\",\"version\":\"0.13.0\"}};\n",
       "  var render_items = [{\"docid\":\"123d3a25-1c11-4d5c-ab32-68e719373a5d\",\"roots\":{\"69fbb99e-0e86-481d-9ce8-1ab2e51c4ce0\":\"ca014a28-1429-4a9f-9e90-d8c6a389dc41\"}}];\n",
       "  root.Bokeh.embed.embed_items_notebook(docs_json, render_items);\n",
       "\n",
       "  }\n",
       "  if (root.Bokeh !== undefined) {\n",
       "    embed_document(root);\n",
       "  } else {\n",
       "    var attempts = 0;\n",
       "    var timer = setInterval(function(root) {\n",
       "      if (root.Bokeh !== undefined) {\n",
       "        embed_document(root);\n",
       "        clearInterval(timer);\n",
       "      }\n",
       "      attempts++;\n",
       "      if (attempts > 100) {\n",
       "        console.log(\"Bokeh: ERROR: Unable to run BokehJS code because BokehJS library is missing\")\n",
       "        clearInterval(timer);\n",
       "      }\n",
       "    }, 10, root)\n",
       "  }\n",
       "})(window);"
      ],
      "application/vnd.bokehjs_exec.v0+json": ""
     },
     "metadata": {
      "application/vnd.bokehjs_exec.v0+json": {
       "id": "69fbb99e-0e86-481d-9ce8-1ab2e51c4ce0"
      }
     },
     "output_type": "display_data"
    }
   ],
   "source": [
    "#recovery\n",
    "output_notebook()\n",
    "year = [1997, 1998, 1999, 2000, 2001, 2002, 2003, 2004, 2005, 2009, 2010, 2011, 2012, 2014, 2015, 2016, 2017, 2018]\n",
    "recovery = [0, 4, 2, 3, 7, 4, 4, 6, 6, 46, 54, 35, 79, 140, 280, 105, 27, 1]\n",
    "recovery2 = [0, 4.298, 2.098, 3.473, 7.991, 5.536, 5.623, 9.820, 4.944, 62.619, 74.298, 52.309, 118.976, 162.375, 262.64, 108.036, 26.165, 1.266]\n",
    "q = figure()\n",
    "q.line(year, recovery,  legend=\"r\", color=\"red\")\n",
    "q.line(year, recovery2,  legend=\"r2\", color = \"blue\")\n",
    "show(q)\n"
   ]
  },
  {
   "cell_type": "code",
   "execution_count": null,
   "metadata": {},
   "outputs": [],
   "source": [
    "# pos_words = \"ABLE, ACCEPT , ACCEPTANCE , ACCEPTABLE , ACCEPTED , ACCEPTING, ACTION, ACTIVATE, ACTIVE, ADD, ADDITION, ADORABLE, ADVANTAGE, AFFIRM, AGELESS, AGREE, AGREEABLE, AID, AIM, ABUNDANCE, ACCOUNTABILITY, ACCOMPLISHMENT , ACCOMPLISH, ACCURACY, ACHIEVEMENT , ACHIEVE, ACKNOWLEDGEMENT, ADAPTABILITY, ADVENTURE , ADVENTUROUS, AGILITY, ALERTNESS, AMBITION, ANTICIPATION, APPRECIATE , APPRECIATION , APPRECIATIVE , APPRECIATIVENESS, ASSERTIVENESS , ASSERTIVE, ATTENTIVENESS, AUDACITY, AWARE , AWARENESS, AUTHENTIC , AUTHENTICITY, ABRACADABRA, ATTRACTION, ALLOW , ALLOWING, AFFECTION , AFFECTIONATE, ABSORBED, ALERT, AMAZED, AWE , AWED, ANIMATE , ANIMATED , ANIMATING , ANIMATION, ANIMATENESS, ARDENT, AMAZING, AWESOME – AWESOMENESS, AROUSED, ASTONISHED – ASTONISHING, AMUSED, AIR – AIRNESS, ALOHA, ADORE, ADMIRE, ADMIRABLE, ALLURE, ANGEL – ANGELIC, ALTRUISM – ALTRUISTIC, ABOUND – ABOUNDING – ABOUNDS- ABUNDANT, ABSOLUTE – ABSOLUTELY, ACCESSIBLE, ACCLAIMED, ACCOMMODATE – ACCOMMODATED – ACCOMMODATION – ACCOMMODATING, AMPLE, APPRECIATIVE JOY, AMIN, ACCENTUACTIVITY, ACTABILITY, AFFABLE, ALACRITY, ALTRUCAUSE, AMIABLE, ASTOUNDING, ATTRACTIVE, ALIVE , ALIVENESS, ACCLAIM, ACCLAMATION, ACCOMPLISHED, ACCOMPLISHMENTS, ACCURATE, ACCURATELY, ACHIEVABLE, ACHIEVEMENTS, ACTION FOR HAPPINESS, ACTIVE AND CONSTRUCTIVE STEPS, ACTS OF KINDNESS, ADAPTABLE, ADAPTIVE, ADEQUATE, ADMIRABLY, ADMIRATION, ADMIRED, ADORED, ADORING, ADORINGLY, ADVANCED, ADVANTAGEOUS, ADVANTAGEOUSLY, ADVANTAGES, AFFABILITY, AFFABLY, AFFINITY, AFFIRMATION, AFFIRMATIVE, AFFLUENCE, AFFLUENT, AFFORD, AFFORDABLE, AFFORDABLY, AGILE, AGILELY, AGREEABLENESS, AGREEABLY, ALIGNED, ALLURING, ALLURINGLY, ALTRUISTICALLY, AMAZE, AMAZEMENT, AMAZES, AMAZINGLY, AMIABILITY, AMICABILITY, AMICABLE, AMICABLY, AMUSING, APPEAL, APPEALING, APPLAUD, APPRECIABLE, APPRECIATED, APPRECIATES, APPRECIATION OF BEAUTY, APPRECIATIVELY, APPROPRIATE, APPROVAL, APPROVE, ARDOR, ART OF APPRECIATION, ART OF STILLNESS, ART OF WELL-BEING, ASSURANCE, A REASON FOR BEING, ACARONAR, ACCOMMODATIVE, ALTITUDINARIAN,  AMIABLY, ACCOLADE, ACUMEN, ADJUSTABLE, ADMIRER, ADMIRING, ADMIRINGLY, ADORER, ADROIT, ADROITLY, ADULATED, ADULATION, ADULATORY, ADVENTURESOME, ADVOCATED, AMBITIOUS, AMBITIOUSLY, AMELIORATE, AMENITY, AMITY, AMPLY, AMUSE, AMUSINGLY, APOTHEOSIS, ASSUME YOUR OWN VALUE, ASTONISHINGLY, ASTONISHMENT,  AWAKEN, AWAKENING,  AURORA, BEATIFY, BEATITUDE, BENEFICIAL, BENEFIT, BENEVOLENT, BELOVED, BEST, BETTER, BLESS , BLESSING , BLESSED, BLISS , BLISSFULNESS , BLISSFUL, BLOOM, BLOSSOM, BALANCE , BALANCED, BEAUTY , BEAUTIFUL , BEAUTIFULLY, BELONG , BELONGING, BOLDNESS, BRAVERY, BRILLIANCE , BRILLIANT,  BIOPHILIA, BRIGHT , BRIGHTEN, BRIGHTNESS, BALISTIC, BLASTING, BLAZING, BLINDING, BREATHTAKING, BUBBLING, BUSTING, BLISSCIPLINE, BUYANCY, BULLISHNESS, BRISKNESS, BUOYANCY, BREEZINESS, BRIO,  BEAUTIFY,  BENEFACTOR, BENEFITS, BENEVOLENCE, BENEVOLENTLY,   BEYOND, BEAUTY IN ALL THINGS, BEINGNESS, BELIEVABLE, BLOOD-BROTHERS,  BADASSERY, BEST-SELLING,  BETTER-KNOWN,  BLITHESOME, BLOSSOMING, BONUS, BLING, BUDO, BLASTING LOVE, BUDDHAHOOD, CARE – CARING, CALM, CREATE, CREATIVE , CREATIVITY – CREATIVENESS , CAPABLE – CAPABILITY – CAPABLY, CELEBRATE – CELEBRATION, CERTAIN – CERTAINTY, CHARITABLE – CHARITY, CHARM – CHARMING – CHARMER, CHOICE, CLEAN , CLEANLINESS, COMFORT , COMFORTABLE ,COMFORTING, CUDDLE , CUDDLING, CANDOR, CAREFULNESS, CHALLENGE, CHANGE, CHEERFUL , CHEERFULNESS, CLARITY, COLLABORATION, COMMITMENT, COMMUNICATION, COMMUNITY, COMPASSION , COMPASSIONATE, COMPETENT , COMPETENCE – COMPETENCY, CONCENTRATION, CONFIDENT , CONFIDENCE, CONSCIOUSNESS, CONSISTENCY , CONSISTENT, CONTENT , CONTENTMENT, CONTINUITY , CONTINUOUS, CONTRIBUTION, CONVICTION , CONVINCING, COOPERATION, COURAGE, COURTESY , COURTEOUS, CURIOUS , CURIOSITY, CHAKRA, COOL, CLEAR HEADED, CENTERED, CLOSENESS, COMPANIONSHIP, CONSIDERATE – CONSIDERATION, COMMUNION, CONNECT – CONNECTED – CONNECTION – CONNECTEDNESS, CONQUER, CUTE, CHARISMA – CHARISMATIC, COLLECTED, CHEERFUL WILLINGNESS, CHEERS, CONGRUENCE, CORDIAL, CAPITAL, CORKING, CLEAR, CARESS, CHEERFUL MOOD,  CONTENTED, COZINESS, CUTENESS, CAREFREENESS, CAREFREE, CENTERING, CENTERING MEDITATION, CITIZEN OF MASTERY, CO-CREATING, CO-CREATOR, COHESION, CONTINUAL STREAM OF SYNCHRONICITY, CREATIVE PROCESS, CREATIVE AFFIRMATIONS, COMPOSTURE, CONCORD, CEREBRO,  CHI, CLASSY, COPACABANA, COSMIC AWARENESS, DIRECTION, DELICATE, DECENT, DESIRABLE, DELICIOUS , DELICIOUSNESS, DO, DREAM – DREAMY, DYNAMIC, DARING, DECISIVENESS, DELIGHT – DELIGHTED – DELIGHTFUL, DEPENDABILITY, DESIRE, DETERMINATION, DEVOTION, DIGNITY, DILIGENCE, DISCIPLINE, DISCOVERY, DISCRETION, DIVERSITY, DRIVE, DUTY, DIVINE, DAZZLED, DISNEY, DEVOTED, DANDY, DAIMON, DEBONAIR, DETACHMENT, DEDICATED, DAUWTRAPPEN, DAZZLE, DELIGHTFULLY, DEFENCELESSNESS,  DESERVE, DESERVEDNESS, DESERVINGNESS, DIS-IDENTIFY, DOPE, EMPATHY , EMPATHIZE , EMPHATIC, EASY , EASILY , EASIER, EDUCATE , EDUCATION , EDUCATED, EFFICIENT, ENABLE , ENABLED, ENERGETIC – ENERGIZE – ENERGY, ENGAGE – ENGAGING , ENGAGED, ENJOY , ENJOYMENT, ENOUGH, EAGER , EAGERNESS, EFFECTIVENESS, EFFICIENCY, ELATION, ELEGANCE, ENCOURAGE , ENCOURAGEMENT – ENCOURAGED, ENDURANCE, EQUALITY, EXCELLENCE,– EXCELLENT, EXCITE, EXCITEMENT , EXCITED, EXPERIENCE, EXPERTISE, EXPLORATION, EXPRESSIVENESS , EXPRESSING, ENLIGHTENMENT , ENLIGHTENED, ETERNAL, EXALTATION, EMULATE, EMPOWER , EMPOWERING , EMPOWERED, EXPANSIVE, EXHILARATING, ENTHUSIASTIC , ENTHUSIASM, ENGROSSED, ENCHANTED, ENTRANCED, ECSTATIC, ELATED, ENTHRALLED, EXUBERANT , EXUBERANCE, EXPECTANT, EQUANIMOUS, ENLIVENED, EFFICACY, EASE, EXEMPLARY, EXTRAORDINARY, EARNEST, ELEVATE – ELEVATED, EQUANIMITY, EASE-OF-MIND, EXCITED ANTICIPATION, EXTRA, EQUITY , EQUITABLY , EQUITABLE, ECSTATIFY, EUDAEMONISM, EUDAEMONIST, EUDAEMONISTIC, EUDAIMONIA, EUDAMONIA, EVOLVE, EXALTING, EXSTATISFY, EXULTANT, ASTRONOMICAL, CHAMPION, CHAMP’, ELECTRIC, ENORMOUS , EXCEPTIONAL, EXCITING, EXQUISITE, EFFORTLESSNESS, EUNOIA, ECOSOPHY, EBULLIENCE, EMBRACE,   ERLEBNIS,  EFFORTLESSLY, EKAGGATA,  EARTHING, EVER-JOYOUS,  ETHEREAL, ENDLESS, FANTASTIC,  FLOW , FLOWING, FABULOUS, FAIR, FAITH, FAITHFUL, FAME, FAVORITE, FAIRNESS, FAMILY, FIDELITY, FLEXIBILITY, FOCUS, FLOURISH, FORGIVE – FORGIVING – FORGIVENESS, FORTITUDE, FREE , FREEDOM, FRUGALITY, FUN, FUTURE, FRIEND , FRIENDLY , FRIENDSHIP , FRIENDLINESS, FASCINATE , FASCINATED, FULFILL , FULFILLED, FOOD, FEISTY , FEISTINESS, FEASIBLE, FINE, FEARLESS, FESTIVE , FESTIVENESS, FIT, FANTABULOUS, FREECYCLE, FUNERIFIC, FUNOLOGY, FLAWLESS, FAMOUS, FANCY, FLASHY, FTW, FUNNY JOKES, FLAUNTING, FONDLE, FRIC-TIONLESSLY, FLAWLESSLY, FLOURISHING, FORTUITOUS, FUN-LOVING, FREE-SPIRITED, FELICITY, GLOW, GENEROUS – GENEROSITY, GENERATE, GENIAL, GENIUS, GENUINE, GIFT, GIVE ,GIVING, GOOD, GOODNESS,  GRACE, GRATITUDE, GRATEFULNESS, GROW , GROWTH, GUIDE , GUIDING , GUIDANCE, GOD, GROUNDED, GLORY, GODLINESS,  GROOVY, GIDDY, GLAD,  GLAMOR, GIGGLING, GODDESS, GORGEOUS , GORGEOUSNESS, GRANDIOSITY, GENERAVITY, GENTLEMAN, GARGANTUAN, GRAND, GREAT, GINGER, GOOD-HUMORED, GOODWILL, GREATFUL, GEMUTLICHKEIT, GIBIGIANA, GIGIL, GOOD INDWELLING SPIRIT, GOOD-HUMORED, GOODWILL,  GAME-CHANGER, GENERATOR OF LIFE, GRACEFULLY, GRACIOUSNESS, GOLDILOCKS, GENUINENESS, GREAT ZEAL, GOOD DONE IN SECRET, HOPE , HOPEFULNESS, HAPPINESS , HAPPY , HAPPILY, HARMONIOUS , HARMONIZE , HARMONY, HEALTH , HEALTHY, HEART, HELLO, HELP , HELPFUL , HELPING, HOT , HONEST , HONESTY, HUMAN, HUMOR, HELPFULNESS, HERO , HEROISM, HOLY , HOLINESS, HONOR, HOSPITALITY, HUMBLE, HEAVEN , HEAVENLY, HALO, HEARTFELT, HEARTWARMING, ONE-POINTEDNESS, HAPPY HEARTED, HEEDFUL, HANDSOME, HUGE, HIGH-SPIRITEDNESS,  HEART-OPENING, HOSPITABLE, HUMAN FLOURISHING, HIGHLY DISTINGUISHED, HARNESS, HEIGHTENED, HOLISTIC, HOLY SPIRIT, HALL OF AWESOMENESS, HONEY BADGER,  HALYCON, HABITUATION,  IMAGINATION, INSPIRE , INSPIRATION , INSPIRED , INSPIRATIONAL,  IDEA, INCREDIBLE, INNOVATE , INNOVATION, INTERESTING – INTEREST – INTERESTED, IMPROVEMENT, INDEPENDENCE, INFLUENCE, INGENUITY, INNER PEACE, INSIGHT – INSIGHTFULNESS – INSIGHTFUL, INTEGRITY, INTELLIGENCE – INTELLIGENT, INTENSITY, INTIMACY, INTUITIVENESS, INVENTIVENESS, INVESTING, INTENTION, INVIGORATE – INVIGORATED, INTRIGUED, INVOLVE – INVOLVED, INCLUSION, INNOCENT, INEFFABLE – INEFFABILITY, INTREPID, IDEALISM, ILLUMINATION – ILLUMINATED, INCOMPARABLE, INVINCIBLE, INQUISITIVE, INFINITE, INFINITY, ILLUSTRIOUS, INNER, ICHARIBA CHODE, IKIGAI, INCREDIBLE CUTENESS, INDWELLING,  IRIDESCENT, ILLUSTRIOUS, INNER,  INTERCONNECTED, INTERCONNECTIVITY, INTUITION, INCLUSIVENESS,JOY , JOYFUL , JOYOUS, JOKE, JOLLY, JOVIAL, JUST, JUSTICE, JUBILANT, JUVENESCENT, JUMPY, JAMMIN, JUBILINGO, KINDNESS , KIND ,KIND-HEART , KINDLY, KEEP-UP, KISS, KNOWLEDGE, KITTENS, KEEN, KAAJHUAB, KALON, KILIG,  LIKE, LAUGH , LAUGHING, LEARN , LEARNING, LIFE, LIVE – LIVING, LUXURY, LONGEVITY, LOYALTY – LOYAL, LOVE – LOVABLE – LOVING, LIBERTY, LOGIC, LEADER , LEADERSHIP, LUCK , LUCKY, LIGHT,  LIVELY,  LOVELY,  LIGHTWORKER, LEADING,  LUSTROUS,  LIGHT-HEARTED, LEEWAY,  LIVELINESS, MEANING , MORE, MAGNIFICENT, MAJESTY, MANY, MARVELOUS, MERIT, MOTIVATE, MIRACLE, MAGIC, MASTERY, MATURITY, MINDFUL – MINDFULNESS, MODESTY, MOTIVATION – MOTIVATIONAL, MERCY, MEDITATION, MIND-BLOWING, MELLOW, MOVED, MOVEMENT, MUTUALITY, MOURNING, MELIORISM, MENCH, MINDSIGHT, MINDSIGHT, MAJOR, MILD, MEANINGFUL, MEMORABLE, MORPHING, MOTIVATED, MOVING,  MIRTHFUL, MYRIAD, MOJO, NOBLE, NURTURING , NURTURE, NON-RESISTANCE , NON-RESISTANT, NEW, NICE, NIRVANA, NEAT,  NOURISH , NOURISHED , NOURISHING , NOURISHMENT, NAMASTE, NEOTENY,  NOVATURIENT, NON-DUALITY,OPTIMIST , OPTIMISTIC, OUTSTANDING, OK, ON, ONWARDS, OPEN , OPENLY , OPENING, OPEN-MINDED, OPPORTUNITY, ORIGINAL, OPENNESS, OPTIMISM, ORDER, ORGANIZATION, ORIGINALITY, OUTCOME, ORIENTATION, OBEDIENT,  OMG, OVERCOME,  OUTGOING, ONENESS, OUTERNATIONALIST,  ORENDA,  OMNISCIENCE,  PERFECT , PERFECTION,  PEACE , PACIFY, PARADISE , PARADISIAC, PASSION , PASSIONATE, PLEASE, PURE, PERCEPTIVENESS, PERSEVERANCE, PERSISTENCE,  PLEASURE,  POWER , POWERFUL, PRACTICALITY, PRECISION, PREPAREDNESS, PRESENCE, PRESERVATION, PRIVACY, PROACTIVITY , PROACTIVE, PROGRESS, PROSPERITY,  PROSPEROUS, PUNCTUALITY , PUNCTUAL, PATIENCE, PROUD, PLEASED, PLAY – PLAYFUL – PLAYFULNESS, PARTICIPATION, PURPOSE, PICK-ME-UP, PRONIA, PIOUS, PUPPIES, POLITE, POSITIVE MIND, POSITIVE THINKING, PRETTY, PRECIOUS, PARDON, PERKINESS, PIQUANCY, POSICHOICE, POSIDRIVING, POSIFIT, POSILENZ, POSIMASS, POSIMINDER, POSIRATIO, POSIRIPPLE, POSIRIPPLER, POSIRIPPLES, POSISINGER, POSISITE, POSISTRENGTH, POSITIBILITARIAN, POSITRACTION, POSITUDE, POSIVALUES, POSIWORD, POSSIBILITARIAN, PROMPTNESS, PROTO, PRICELESS, PEP – PEPPINESS, PERMALICIOUS, PLUCKY, POLLYANNAISM, PRIDE, PETRICHOR, PHILOCALIST,  PROTECT, POLITENESS,  PRIVILEGE, PROPITIOUS,  PICTURESQUE, PRANA, PANACHE, QUALITY, QUIET , QUIETNESS, QUAINT, QUIESCENT, QUEENLY, QUICKENING, QUIDDITY,   QUANTUMNESS,  RESPECT, RADIANT, READY , READINESS, REAL , REALITY, REASON, RECOMMEND, REFRESH – REFRESHED, RELAX – RELAXED, RELIEF, RELIEVE – RELIEVED, REMARKABLE, RATIONALITY, RECOGNITION, RELATIONSHIPS, RELIABLE – RELIABILITY, RELIGION, RESOURCEFULNESS, RESPONSIBILITY, RIGHTEOUSNESS, RISK-TAKING, ROMANCE, REVELATION, REVIVED, RESTORE – RESTORED, REST – RESTED, RENEW – RENEWED, REJUVENATE – REJUVENATED, RAPTURE – RAPTUROUS, RESILIENT – RESILIENCE, REVERENCE, RIPE, REBORN, RELATEDNESS, RASASVADA, REPOSE, ROSINESS, RELENT, RENOWNED, RESPECTED, RAINBOW, ROMANTIC, RELENT, RENOWNED, RADIATE, RECOGNIZE, RELEASING, RIGHTFUL, ROCKSTAR, SCOPE, SMILE – SMILING, SOULMATE, SOUL – SOULFUL, SACRED, SAFE – SAFETY, SECURE – SECURED – SECURITY, SUSTAIN – SUSTAINED, SAVE, SAVINGS, SIMPLE – SIMPLIFY, SELFLESSNESS, SELF-ESTEEM, SERVICE, SIMPLICITY, SINCERITY, SKILL – SKILLED, SPIRIT, SERENE – SERENITY, STABILITY, STRENGTH, STYLE, SYSTEMATIZATION, SELF-LOVE, STRIVE, SALVATION, SELF-RESPECT, SELF-FORGIVENESS, SERVE, SYMPATHETIC, SELF-COMPASSION, SELF-KINDNESS, SPELLBOUND, STIMULATED – STIMULATING – STIMULATION, SATISFIED, STILL, SURPRISED, SLEEP, SEXUAL EXPRESSION, SHELTER, SELF-EXPRESSION, SPACE – SPACIOUS, SPONTANEITY – SPONTANEOUS, SUNSHINE, SPARK, SPARKLE , SPARKLES, SWEET , SWEETNESS, SUPPORT, SUPPORTING , SUPPORTED, SEXY , SEXINESS, SUPREME, SUCCULENT, SWEETHEART, STUDY – STUDIOUS, SAVOUR – SAVOURING, SUFFICIENT, STUPENDOUS, SWAG , SWAGGY, SPLENDID, SMART, SPECTACULAR, SPECIAL, SERENDIPITY, SYNERGY,  START, STEADFASTNESS, SUBLIME, SUNNINESS, SUPERPOWER, SPUNKY, STELLAR, SUPERCHARGE, SUPERCHARGED,  SYNCHRONICITY, SASSY, SUPERCALIFRAGILISTIC, SUPERCALIFRAGILISTICEXPIALIDOCIOUS, TRUE, TRUST , TRUSTING , TACT, TEACH – TEACHABLE, TEAM, THANKFUL, THANK ,THANKFULNESS, THERAPY, TIME, TEAMWORK, TIMELINESS, TOLERANCE, TRADITION, TRANQUIL , TRANQUILITY, TRUTH , TRUTHFULNESS, TENDER, THRILLED, TOUCH , TOUCHED, TICKLED,  TRANSFORMATIVE , TRANSFORMATION , TRANSFORM, TRIUMPH, THRIVE , THRIVING, TENACITY, TRANSPARENT, TEMUL, TENDERLY, TIDSOPTIMIST, UNIFICATION, UNIQUE, UPLIFT, ULTIMATE, UNCONDITIONAL, UPGRADE, USEFUL, USER-FRIENDLY, UNITY, UNDERSTAND , UNDERSTANDING ,UNDERSTOOD, UPSKILL, UNBELIEVABLE, UNFLAPPABLE, UNREAL, UNABASHED,   UNHURRY, UNBELIEVABLE, UNFLAPPABLE, UNREAL, VITALITY, VALUE – VALUES – VALUABLE, VIRTUOUS, VALID, VERIFY, VERY, VIABLE, VIRTUE, VICTORY , VICTORIOUS, VARIETY, VULNERABILITY ,VULNERABLE, VIBRANT, VOW, VIM, VIGOR, VENERATION, VOCABULEVERAGE, VERSATILITY, UBUNTU, WORTH – WORTHY – WORTHINESS, WEALTH, WARM – WARMTH, WELCOME,  WILLING , WILLINGNESS , WISDOM, WISE, WON, WONDERFUL,  WHOLEHEARTEDNESS, WOW, WONDER, WATER, WELL, WELLNESS, WELFARE, WHOLE,  WIN , WINNABLE , WINNING, WALWALUN, WHOLEHEARTEDLY,  WONDROUS, WANDERLUST, XO, XENODOCHIAL, XFACTOR, XENOPHILE, XENIAL, YES, YOUTH, YOUTHFUL, YOUNG, YIPPEE, YAY, YEARN, YEA, YEAH, YUMMY, YEN, YESABILITY, YUGEN, YARAANA, YESABLE, ZEALOUS, ZEAL, ZEST, ZESTY, ZESTFUL, ZIPPY, ZING, ZAPPY, ZANY, ZAJEBISCIE\"\n",
    "# pos_words = pos_words.lower()\n",
    "# pos_words = word_tokenize(pos_words)\n",
    "\n",
    "# # remove all instances of \",\"\n",
    "# pos_words = [word for word in pos_words if word != \",\"]\n",
    "# pos_words = [word for word in pos_words if word != \"–\"]\n",
    "# pos_words = [w for w in pos_words if not w in stop_words]\n",
    "\n",
    "# #print(\"There are %s positive words\" % len(pos_words))\n",
    "# all_pos_words = [w for w in pos_words if w in speech_string_2010]\n",
    "# print(len(all_pos_words))\n",
    "# #print(all_pos_words)\n",
    "# freq_pos_words = nltk.FreqDist(all_pos_words)\n",
    "# print(len(freq_pos_words))\n",
    "# print(freq_pos_words.most_common())"
   ]
  },
  {
   "cell_type": "code",
   "execution_count": 339,
   "metadata": {},
   "outputs": [
    {
     "name": "stdout",
     "output_type": "stream",
     "text": [
      "111\n",
      "1983\n",
      "1923\n",
      "1852\n",
      "1789\n",
      "1963\n",
      "1247\n",
      "1063\n",
      "3044\n",
      "912\n",
      "1034\n",
      "848\n",
      "1141\n",
      "1260\n",
      "1938\n",
      "1708\n",
      "1958\n",
      "1178\n"
     ]
    }
   ],
   "source": [
    "#pos words 2nd dataset\n",
    "pos_words=\"absolutely,accepted,acclaimed,accomplish,accomplishment,achievement,action,active,admire,adorable,adventure,affirmative,affluent,agree,agreeable,amazing,angelic,appealing,approve aptitude attractive awesome,beaming,beautiful,believe,beneficial,bliss,bountiful,bounty,brave,bravo,brilliant,bubbly,calm,celebrated,certain,champ,champion,charming,cheery,choice,classic,classical,clean,commend,composed,congratulation,constant,cool,courageous,creative,cute,dazzling,delight,delightful,distinguished,divine,earnest,easy,ecstatic,effective,effervescent,efficient,effortless,electrifying,elegant,enchanting,encouraging,endorsed,energetic,energized,engaging,enthusiastic,essential,esteemed,ethical,excellent,exciting,exquisite,fabulous,fair,familiar,famous,fantastic,favorable,fetching,finefitting,flourishing,fortunate,free,fresh,friendly,fun,funny,generous,genius,genuine,giving,glamorous,glowing,good,gorgeous,graceful,great,green,grin,growing,handsome,happy,harmonious,healing,healthy,hearty,heavenly,honest,honorable,honored,hug,idea,ideal,imaginative,imagine,impressive,independent,innovate,innovative,instant,instantaneous,instinctive,intellectual,intelligent,intuitive,inventive,jovial,joy,jubilant,keen,kind,knowing,knowledgeable,laugh,learned,legendary,light,lively,lovely,lucid,lucky,luminous,marvelous,masterful,meaningful,merit,meritorious,miraculous,motivating,moving,natural,nice,novel,now,nurturing,nutritious,okay,open,optimistic,paradise,perfect,phenomenal,pleasant,pleasurable,plentiful,poised,polished,popular,positive,powerful,prepared,pretty,principled,productive,progress,prominent,protected,proud,quality,quick,quiet,ready,reassuring,refined,refreshing,rejoice,reliable,remarkable,resounding,respected,restored,reward,rewarding,right,robust,safe,satisfactory,secure,seemly,simple,skilled,skillful,smile,soulful,sparkling,special,spirited,spiritual,stirring,stunning,stupendous,success,successful,sunny,super,superb,supporting,surprising,terrific,thorough,thrilling,thriving,tops,tranquil,transformative,transforming,trusting,truthful,unreal,unwavering,upupbeat,upright,upstanding,valued,vibrant,victorious,victory,vigorous,virtuous,vital,vivacious,wealthy,welcome,well,whole,wholesome,willing,wonderful,wondrous,worthy,wow,yes,yummy,zeal,zealous\"\n",
    "pos_words = word_tokenize(pos_words)\n",
    "\n",
    "# remove all instances of \",\"\n",
    "pos_words = [word for word in pos_words if word != \",\"]\n",
    "pos_words = [w for w in pos_words if not w in stop_words]\n",
    "\n",
    "#print(\"There are %s positive words\" % len(pos_words))\n",
    "\n",
    "\n",
    "# all_words = word_tokenize(all_speeches_string)\n",
    "\n",
    "# all_words = [w for w in all_words if not w in stop_words]\n",
    "\n",
    "\n",
    "# all_pos_words = [w for w in all_words if w in pos_words]\n",
    "\n",
    "# freq_pos_words = nltk.FreqDist(all_pos_words)\n",
    "\n",
    "# top_50_pos_words = [word[0] for word in freq_pos_words.most_common(50)]\n",
    "\n",
    "# top_50_pos_words_string = \"\"\n",
    "\n",
    "# for word in top_50_pos_words:\n",
    "#     top_50_pos_words_string += (word + \" \")\n",
    "    \n",
    "\n",
    "# # Create the wordcloud object\n",
    "# wordcloud = WordCloud(width=960, height=960).generate(top_50_pos_words_string)\n",
    " \n",
    "# # Display the generated image:\n",
    "# plt.imshow(wordcloud, interpolation='bilinear')\n",
    "# plt.axis(\"off\")\n",
    "# plt.margins(x=0, y=0)\n",
    "# plt.show()\n",
    "\n",
    "\n",
    "\n",
    "all_pos_words_1997 = [w for w in ( word_tokenize(speech_string_1997)) if w in pos_words]\n",
    "print(len(all_pos_words_1997))\n",
    "all_pos_words_1998 = [w for w in ( word_tokenize(speech_string_1998)) if w in pos_words]\n",
    "print(len(all_pos_words_1998))\n",
    "all_pos_words_1999 = [w for w in ( word_tokenize(speech_string_1999)) if w in pos_words]\n",
    "print(len(all_pos_words_1999))\n",
    "all_pos_words_2000 = [w for w in ( word_tokenize(speech_string_2000)) if w in pos_words]\n",
    "print(len(all_pos_words_2000))\n",
    "all_pos_words_2001 = [w for w in ( word_tokenize(speech_string_2001)) if w in pos_words]\n",
    "print(len(all_pos_words_2001))\n",
    "all_pos_words_2002 = [w for w in ( word_tokenize(speech_string_2002)) if w in pos_words]\n",
    "print(len(all_pos_words_2002))\n",
    "all_pos_words_2003 = [w for w in ( word_tokenize(speech_string_2003)) if w in pos_words]\n",
    "print(len(all_pos_words_2003))\n",
    "all_pos_words_2004 = [w for w in ( word_tokenize(speech_string_2004)) if w in pos_words]\n",
    "print(len(all_pos_words_2004))\n",
    "all_pos_words_2005 = [w for w in ( word_tokenize(speech_string_2005)) if w in pos_words]\n",
    "print(len(all_pos_words_2005))\n",
    "all_pos_words_2009 = [w for w in ( word_tokenize(speech_string_2009)) if w in pos_words]\n",
    "print(len(all_pos_words_2009))\n",
    "all_pos_words_2010 = [w for w in ( word_tokenize(speech_string_2010)) if w in pos_words]\n",
    "print(len(all_pos_words_2010))\n",
    "all_pos_words_2011 = [w for w in ( word_tokenize(speech_string_2011)) if w in pos_words]\n",
    "print(len(all_pos_words_2011))\n",
    "all_pos_words_2012 = [w for w in ( word_tokenize(speech_string_2012)) if w in pos_words]\n",
    "print(len(all_pos_words_2012))\n",
    "all_pos_words_2014 = [w for w in ( word_tokenize(speech_string_2014)) if w in pos_words]\n",
    "print(len(all_pos_words_2014))\n",
    "all_pos_words_2015 = [w for w in ( word_tokenize(speech_string_2015)) if w in pos_words]\n",
    "print(len(all_pos_words_2015))\n",
    "all_pos_words_2016 = [w for w in ( word_tokenize(speech_string_2016)) if w in pos_words]\n",
    "print(len(all_pos_words_2016))\n",
    "all_pos_words_2017 = [w for w in ( word_tokenize(speech_string_2017)) if w in pos_words]\n",
    "print(len(all_pos_words_2017))\n",
    "all_pos_words_2018 = [w for w in ( word_tokenize(speech_string_2018)) if w in pos_words]\n",
    "print(len(all_pos_words_2018))\n"
   ]
  },
  {
   "cell_type": "code",
   "execution_count": 340,
   "metadata": {},
   "outputs": [
    {
     "name": "stdout",
     "output_type": "stream",
     "text": [
      "11\n",
      "243\n",
      "206\n",
      "181\n",
      "266\n",
      "195\n",
      "178\n",
      "133\n",
      "403\n",
      "169\n",
      "125\n",
      "138\n",
      "114\n",
      "186\n",
      "347\n",
      "248\n",
      "275\n",
      "176\n"
     ]
    }
   ],
   "source": [
    "all_neg_words_1997 = [w for w in ( word_tokenize(speech_string_1997)) if w in neg_words]\n",
    "print(len(all_neg_words_1997))\n",
    "all_neg_words_1998 = [w for w in ( word_tokenize(speech_string_1998)) if w in neg_words]\n",
    "print(len(all_neg_words_1998))\n",
    "all_neg_words_1999 = [w for w in ( word_tokenize(speech_string_1999)) if w in neg_words]\n",
    "print(len(all_neg_words_1999))\n",
    "all_neg_words_2000 = [w for w in ( word_tokenize(speech_string_2000)) if w in neg_words]\n",
    "print(len(all_neg_words_2000))\n",
    "all_neg_words_2001 = [w for w in ( word_tokenize(speech_string_2001)) if w in neg_words]\n",
    "print(len(all_neg_words_2001))\n",
    "all_neg_words_2002 = [w for w in ( word_tokenize(speech_string_2002)) if w in neg_words]\n",
    "print(len(all_neg_words_2002))\n",
    "all_neg_words_2003 = [w for w in ( word_tokenize(speech_string_2003)) if w in neg_words]\n",
    "print(len(all_neg_words_2003))\n",
    "all_neg_words_2004 = [w for w in ( word_tokenize(speech_string_2004)) if w in neg_words]\n",
    "print(len(all_neg_words_2004))\n",
    "all_neg_words_2005 = [w for w in ( word_tokenize(speech_string_2005)) if w in neg_words]\n",
    "print(len(all_neg_words_2005))\n",
    "all_neg_words_2009 = [w for w in ( word_tokenize(speech_string_2009)) if w in neg_words]\n",
    "print(len(all_neg_words_2009))\n",
    "all_neg_words_2010 = [w for w in ( word_tokenize(speech_string_2010)) if w in neg_words]\n",
    "print(len(all_neg_words_2010))\n",
    "all_neg_words_2011 = [w for w in ( word_tokenize(speech_string_2011)) if w in neg_words]\n",
    "print(len(all_neg_words_2011))\n",
    "all_neg_words_2012 = [w for w in ( word_tokenize(speech_string_2012)) if w in neg_words]\n",
    "print(len(all_neg_words_2012))\n",
    "all_neg_words_2014 = [w for w in ( word_tokenize(speech_string_2014)) if w in neg_words]\n",
    "print(len(all_neg_words_2014))\n",
    "all_neg_words_2015 = [w for w in ( word_tokenize(speech_string_2015)) if w in neg_words]\n",
    "print(len(all_neg_words_2015))\n",
    "all_neg_words_2016 = [w for w in ( word_tokenize(speech_string_2016)) if w in neg_words]\n",
    "print(len(all_neg_words_2016))\n",
    "all_neg_words_2017 = [w for w in ( word_tokenize(speech_string_2017)) if w in neg_words]\n",
    "print(len(all_neg_words_2017))\n",
    "all_neg_words_2018 = [w for w in ( word_tokenize(speech_string_2018)) if w in neg_words]\n",
    "print(len(all_neg_words_2018))"
   ]
  },
  {
   "cell_type": "code",
   "execution_count": 330,
   "metadata": {},
   "outputs": [
    {
     "name": "stdout",
     "output_type": "stream",
     "text": [
      "14980\n",
      "1816\n"
     ]
    }
   ],
   "source": [
    "# analyse Bertie speeches for pos/neg words\n",
    "bertie_words = word_tokenize(bertie_string)\n",
    "\n",
    "bertie_words = [w for w in bertie_words if not w in stop_words]\n",
    "bertie_pos_words = [w for w in bertie_words if w in pos_words]\n",
    "bertie_neg_words = [w for w in bertie_words if w in neg_words]\n",
    "\n",
    "print(len(bertie_pos_words))\n",
    "print(len(bertie_neg_words))"
   ]
  },
  {
   "cell_type": "code",
   "execution_count": 329,
   "metadata": {},
   "outputs": [
    {
     "name": "stdout",
     "output_type": "stream",
     "text": [
      "1946\n",
      "294\n"
     ]
    }
   ],
   "source": [
    "# analyse Brian speeches for pos/neg words\n",
    "brian_words = word_tokenize(brian_string)\n",
    "\n",
    "brian_words = [w for w in brian_words if not w in stop_words]\n",
    "brian_pos_words = [w for w in brian_words if w in pos_words]\n",
    "brian_neg_words = [w for w in brian_words if w in neg_words]\n",
    "\n",
    "\n",
    "print(len(brian_pos_words))\n",
    "print(len(brian_neg_words))"
   ]
  },
  {
   "cell_type": "code",
   "execution_count": 327,
   "metadata": {},
   "outputs": [
    {
     "name": "stdout",
     "output_type": "stream",
     "text": [
      "5193\n",
      "875\n"
     ]
    }
   ],
   "source": [
    "# analyse enda speeches for pos/neg words\n",
    "enda_words = word_tokenize(enda_string)\n",
    "\n",
    "enda_words = [w for w in enda_words if not w in stop_words]\n",
    "enda_pos_words = [w for w in enda_words if w in pos_words]\n",
    "enda_neg_words = [w for w in enda_words if w in neg_words]\n",
    "\n",
    "\n",
    "print(len(enda_pos_words))\n",
    "print(len(enda_neg_words))"
   ]
  },
  {
   "cell_type": "code",
   "execution_count": 328,
   "metadata": {},
   "outputs": [
    {
     "name": "stdout",
     "output_type": "stream",
     "text": [
      "2105\n",
      "307\n"
     ]
    }
   ],
   "source": [
    "# analyse leo speeches for pos/neg words\n",
    "leo_words = word_tokenize(leo_string)\n",
    "\n",
    "leo_words = [w for w in leo_words if not w in stop_words]\n",
    "leo_pos_words = [w for w in leo_words if w in pos_words]\n",
    "leo_neg_words = [w for w in leo_words if w in neg_words]\n",
    "\n",
    "\n",
    "print(len(leo_pos_words))\n",
    "print(len(leo_neg_words))"
   ]
  },
  {
   "cell_type": "code",
   "execution_count": null,
   "metadata": {},
   "outputs": [],
   "source": [
    "# neg_words = \"abnormal, abolish, abominable, abominably, abominate, abomination, abort, aborted, aborts, abrade, abrasive, abrupt, abruptly, abscond, absence, absent-minded, absentee, absurd, absurdity, absurdly, absurdness, abuse, abused, abuses, abusive, abysmal, abysmally, abyss, accidental, accost, accursed, accusation, accusations, accuse, accuses, accusing, accusingly, acerbate, acerbic, acerbically, ache, ached, aches, aching, acrid, acridly, acridness, acrimonious, acrimoniously, acrimony, adamant, adamantly, addict, addicted, addicting, addicts, admonish, admonisher, admonishingly, admonishment, admonition, adulterate, adulterated, adulteration, adversarial, adversary, adverse, adversity, afflict, affliction, afflictive, affront, afraid, aggravate, aggravating, aggravation, aggression, aggressive, aggressiveness, aggressor, aggrieve, aggrieved, aghast, agonies, agonize, agonizing, agonizingly, agony, aground, ail, ailing, ailment, aimless, alarm, alarmed, alarming, alarmingly, alienate, alienated, alienation, allegation, allegations, allege, allergic, allergies, allergy, aloof, altercation, ambiguity, ambiguous, ambivalence, ambivalent, ambush, amiss, amputate, anarchism, anarchist, anarchistic, anarchy, anemic, anger, angrily, angriness, angry, anguish, animosity, annihilate, annihilation, annoy, annoyance, annoyances, annoyed, annoying, annoyingly, annoys, anomalous, anomaly, antagonism, antagonist, antagonistic, antagonize, anti-, anti-occupation, anti-proliferation, anti-social, anti-us, anti-white, antipathy, antiquated, antithetical, anxieties, anxiety, anxious, anxiously, anxiousness, apathetic, apathetically, apathy, apocalypse, apocalyptic, apologist, apologists, appall, appalled, appalling, appallingly, apprehension, apprehensions, apprehensive, apprehensively, arbitrary, arcane, archaic, arduous, arduously, argumentative, arrogance, arrogant, arrogantly, ashamed, asinine, asininely, askance, asperse, aspersion, aspersions, assail, assassin, assassinate, assault, astray, asunder, atrocious, atrocities, atrocity, atrophy, attack, attacks, audacious, audaciously, audaciousness, audacity, austere, authoritarian, autocrat, autocratic, avalanche, avarice, avaricious, avariciously, avenge, averse, aversion, awful, awfully, awfulness, awkward, awkwardness, ax, babble, back-logged, back-wood, back-woods, backache, backaches, backbite, backbiting, backward, backwardness, backwoods, bad, badly, baffle, baffled, bafflement, baffling, bait, balk, banal, bane, banish, banishment, bankrupt, barbarian, barbaric, barbarically, barbarity, barbarous, barbarously, barren, baseless, bash, bashed, bashful, bashing, battered, battering, batty, bearish, beastly, bedlam, bedlamite, befoul, beg, beggar, beggarly, begging, beguile, belabor, belated, beleaguer, belie, belittle, belittled, belittling, bellicose, belligerence, belligerent, belligerently, bemoan, bemoaning, bemused, bent, berate, bereave, bereavement, bereft, berserk, beseech, beset, besiege, besmirch, betray, betrayal, betrayals, betrayer, betraying, betrays, bewail, beware, bewilder, bewildered, bewildering, bewilderingly, bewilderment, bewitch, bias, biased, biases, bicker, bickering, bid-rigging, bigotries, bigotry, biting, bitingly, bitter, bitterly, bitterness, bizarre, blab, blabber, blackmail, blah, blame, blameworthy, bland, blandish, blaspheme, blasphemous, blasphemy, blasted, blatant, blatantly, blather, bleak, bleakly, bleakness, bleed, bleeding, bleeds, blemish, blind, blinding, blindingly, blindside, blister, blistering, bloated, blockage, blockhead, bloodshed, bloodthirsty, bloody, blotchy, blow, blunder, blundering, blunders, blunt, blur, blurred, blurring, blurry, blurs, blurt, boastful, boggle, bogus, boil, boiling, boisterous, bomb, bombard, bombardment, bombastic, bondage, bonkers, bore, bored, boredom, bores, boring, botch, bother, bothered, bothering, bothers, bothersome, bowdlerize, boycott, braggart, bragger, brainless, brainwash, brash, brashly, brashness, brat, bravado, brazen, brazenly, brazenness, breach, break, break-up, break-ups, breakdown, breaking, breaks, breakup, breakups, bribery, brimstone, bristle, brittle, broke, broken, broken-hearted, brood, browbeat, bruise, bruised, bruises, bruising, brusque, brutal, brutalities, brutality, brutalize, brutalizing, brutally, brute, brutish, buckle, bug, bugging, buggy, bugs, bulkier, bulkiness, bulky,  bull—-, bullies, bulls..t, bully, bullying, bullyingly, bum, bump, bumped, bumping, bumps, bumpy, bungle, bungler, bungling, bunk, burden, burdensome, burdensomely, burn, burned, burning, burns, bust, busts, busybody, butcher, butchery, buzzing, byzantine, cackle, calamities, calamitous, calamitously, calamity, callous, calumniate, calumniation, calumnies, calumnious, calumniously, calumny, cancer, cancerous, cannibal, cannibalize, capitulate, capricious, capriciously, capriciousness, capsize, careless, carelessness, caricature, carnage, carp, cartoonish, cash-strapped, castigate, castrated, casualty, cataclysm, cataclysmal, cataclysmic, cataclysmically, catastrophe, catastrophes, catastrophic, catastrophically, caustic, caustically, cautionary, cave, censure, chafe, chaff, chagrin, challenging, chaos, chaotic, chasten, chastise, chastisement, chatter, chatterbox, cheap, cheapen, cheaply, cheat, cheated, cheater, cheating, cheats, checkered, cheerless, cheesy, chide, childish, chill, chilly, chintzy, choke, choleric, choppy, chore, chronic, chunky, clamor, clamorous, clash, clique, clog, clogged, clogs, cloud, clouding, cloudy, clueless, clumsy, clunky, coarse, cocky, coerce, coercion, coercive, cold, coldly, collapse, collude, collusion, combative, combust, comical, commiserate, commonplace, commotion, commotions, complacent, complain, complained, complaining, complains, complaint, complaints, complex, complicated, complication, complicit, compulsion, compulsive, concede, conceded, conceit, conceited, concern, concerned, concerns, concession, concessions, condemn, condemnable, condemnation, condemned, condemns, condescend, condescending, condescendingly, condescension, confess, confession, confessions, confined, conflict, conflicted, conflicting, conflicts, confound, confounded, confounding, confront, confrontation, confrontational, confuse, confused, confuses, confusing, confusion, confusions, congested, congestion, cons, conservative, conspicuous, conspicuously, conspiracies, conspiracy, conspirator, conspiratorial, conspire, consternation, contagious, contaminate, contaminated, contaminates, contaminating, contamination, contempt, contemptible, contemptuous, contemptuously, contend, contention, contentious, contort, contortions, contradict, contradiction, contradictory, contrariness, contravene, contrive, contrived, controversial, controversy, convoluted, corrode, corrosion, corrosions, corrosive, corrupt, corrupted, corrupting, corruption, corrupts, costlier, costly, counter-productive, counterproductive, covetous, coward, cowardly, crabby, crack, cracked, cracks, craftily, crafty, cramp, cramped, cramping, cranky, crap, crappy, craps, crash, crashed, crashes, crashing, crass, craven, cravenly, craze, crazily, craziness, crazy, creak, creaking, creaks, credulous, creep, creeping, creeps, creepy, crept, crime, criminal, cringe, cringed, cringes, cripple, crippled, cripples, crippling, crisis, critic, critical, criticism, criticisms, criticize, criticized, criticizing, critics, cronyism, crook, crooked, crooks, crowded, crowdedness, crude, cruel, crueler, cruelest, cruelly, cruelness, cruelties, cruelty, crumble, crumbling, crummy, crumple, crumpled, crumples, crush, crushed, crushing, cry, culpable, culprit, cumbersome, curse, cursed, curses, curt, cuss, cussed, cutthroat, cynical, cynicism, damage, damaged, damages, damaging, damn, damnable, damnably, damnation, damned, damning, damper, danger, dangerous, dangerousness, dark, darken, darkened, darker, darkness, dastard, dastardly, daunt, daunting, dauntingly, dawdle, daze, dazed, dead, deadbeat, deadlock, deadly, deadweight, deaf, dearth, death, debacle, debase, debasement, debaser, debatable, debauch, debaucher, debauchery, debilitate, debilitating, debility, debt, debts, decadence, decadent, decay, decayed, deceit, deceitful, deceitfully, deceitfulness, deceive, deceiver, deceivers, deceiving, deception, deceptive, deceptively, declaim, decline, declines, declining, decrement, decrepit, decrepitude, decry, defamation, defamations, defamatory, defame, defect, defective, defects, defensive, defiance, defiant, defiantly, deficiencies, deficiency, deficient, defile, defiler, deform, deformed, defrauding, defunct, defy, degenerate, degenerately, degeneration, degradation, degrade, degrading, degradingly, dehumanization, dehumanize, deign, deject, dejected, dejectedly, dejection, delay, delayed, delaying, delays, delinquency, delinquent, delirious, delirium, delude, deluded, deluge, delusion, delusional, delusions, demean, demeaning, demise, demolish, demolisher, demon, demonic, demonize, demonized, demonizes, demonizing, demoralize, demoralizing, demoralizingly, denial, denied, denies, denigrate, denounce, dense, dent, dented, dents, denunciate, denunciation, denunciations, deny, denying, deplete, deplorable, deplorably, deplore, deploring, deploringly, deprave, depraved, depravedly, deprecate, depress, depressed, depressing, depressingly, depression, depressions, deprive, deprived, deride, derision, derisive, derisively, derisiveness, derogatory, desecrate, desert, desertion, desiccate, desiccated, desolate, desolately, desolation, despair, despairing, despairingly, desperate, desperately, desperation, despicable, despicably, despise, despised, despoil, despoiler, despondence, despondency, despondent, despondently, despot, despotic, despotism, destitute, destitution, destroy, destroyer, destruction, destructive, desultory, deter, deteriorate, deteriorating, deterioration, deterrent, detest, detestable, detestably, detested, detesting, detests, detract, detracted, detracting, detraction, detracts, detriment, detrimental, devastate, devastated, devastates, devastating, devastatingly, devastation, deviate, deviation, devil, devilish, devilishly, devilment, devilry, devious, deviously, deviousness, devoid, diabolic, diabolical, diabolically, diametrically, diatribe, diatribes, dick, dictator, dictatorial, die, die-hard, died, dies, difficult, difficulties, difficulty, diffidence, dilapidated, dilemma, dilly-dally, dim, dimmer, ding, dings, dinky, dire, direly, direness, dirt, dirty, disable, disabled, disaccord, disadvantage, disadvantaged, disadvantageous, disadvantages, disaffect, disaffected, disaffirm, disagree, disagreeable, disagreeably, disagreed, disagreeing, disagreement, disagrees, disallow, disappoint, disappointed, disappointing, disappointingly, disappointment, disappointments, disappoints, disapprobation, disapproval, disapprove, disapproving, disarm, disarray, disaster, disastrous, disastrously, disavow, disavowal, disbelief, disbelieve, disbeliever, disclaim, discombobulate, discomfit, discomfort, discompose, disconcert, disconcerted, disconcerting, disconcertingly, disconsolate, disconsolately, disconsolation, discontent, discontented, discontentedly, discontinued, discontinuity, discontinuous, discord, discordance, discordant, discountenance, discourage, discouragement, discouraging, discouragingly, discourteous, discourteously, discredit, discrepant, discriminate, discrimination, discriminatory, disdain, disdained, disdainful, disdainfully, disfavor, disgrace, disgraced, disgraceful, disgracefully, disgruntle, disgruntled, disgust, disgusted, disgustedly, disgustful, disgustfully, disgusting, disgustingly, dishearten, disheartening, dishearteningly, dishonest, dishonestly, dishonesty, dishonor, dishonorable, disillusion, disillusioned, disillusionment, disillusions, disinclination, disinclined, disingenuous, disingenuously, disintegrate, disintegrated, disintegrates, disintegration, disinterest, disinterested, dislike, disliked, dislikes, disliking, dislocated, disloyal, disloyalty, dismal, dismally, dismalness, dismay, dismayed, dismaying, dismayingly, dismissive, dismissively, disobedience, disobedient, disobey, disorder, disordered, disorderly, disorganized, disorient, disoriented, disown, disparage, disparaging, disparagingly, dispensable, dispirit, dispirited, dispiritedly, dispiriting, displace, displaced, displease, displeased, displeasing, displeasure, disproportionate, disprove, disputable, dispute, disputed, disquiet, disquieting, disquietingly, disquietude, disregard, disregardful, disreputable, disrepute, disrespect, disrespectable, disrespectful, disrespectfully, disrespectfulness, disrespecting, disrupt, disruption, disruptive, dissatisfaction, dissatisfactory, dissatisfied, dissatisfies, dissatisfy, dissatisfying, dissed, dissemble, dissembler, dissension, dissent, dissenter, dissention, disservice, disses, dissidence, dissident, dissidents, dissing, dissocial, dissolute, dissolution, dissonance, dissonant, dissonantly, dissuade, dissuasive, distains, distaste, distasteful, distastefully, distort, distorted, distortion, distorts, distract, distracting, distraction, distraught, distraughtly, distress, distressed, distressing, distressingly, distrust, distrustful, distrusting, disturb, disturbance, disturbed, disturbing, disturbingly, disunity, disvalue, divergent, divisive, divisively, divisiveness, dizzy, doddering, dogged, doggedly, dogmatic, doldrums, domineer, domineering, doom, doomed, doomsday, dope, doubt, doubtful, doubtfully, doubts, douchebag, douchebags, downbeat, downcast, downer, downfall, downfallen, downgrade, downhearted, downheartedly, downhill, downside, downsides, downturn, downturns, drab, draconian, draconic, drag, dragged, dragging, dragoon, drags, drain, drained, draining, drains, drastic, drastically, drawback, drawbacks, dread, dreadful, dreadfully, dreadfulness, dreary, dripped, dripping, drippy, drips, drones, droop, droops, drop-out, drop-outs, dropout, dropouts, drought, drowning, drunk, drunkard, drunken, dubious, dubiously, dubitable, dud, dull, dullard, dumb, dumbfound, dump, dumped, dumping, dumps, dunce, dungeon, dungeons, dupe, dust, dusty, dwindling, dying, earsplitting, eccentric, eccentricity, effigy, effrontery, egocentric, egomania, egotism, egotistical, egotistically, egregious, egregiously, election-rigger, elimination, emaciated, emasculate, embarrass, embarrassing, embarrassingly, embarrassment, embattled, embroil, embroiled, embroilment, emergency, emphatic, emphatically, emptiness, encroach, encroachment, endanger, enemies, enemy, enervate, enfeeble, enflame, engulf, enjoin, enmity, enrage, enraged, enraging, enslave, entangle, entanglement, entrap, entrapment, envious, enviously, enviousness, epidemic, equivocal, erase, erode, erodes, erosion, err, errant, erratic, erratically, erroneous, erroneously, error, errors, eruptions, escapade, eschew, estranged, evade, evasion, evasive, evil, evildoer, evils, eviscerate, exacerbate, exaggerate, exaggeration, exasperate, exasperated, exasperating, exasperatingly, exasperation, excessive, excessively, exclusion, excoriate, excruciating, excruciatingly, excuse, excuses, execrate, exhaust, exhausted, exhaustion, exhausts, exhort, exile, exorbitant, exorbitantly, expel, expensive, expire, expired, explode, exploit, exploitation, explosive, expropriate, expropriation, expulse, expunge, exterminate, extermination, extinguish, extort, extortion, extraneous, extravagance, extravagant, extravagantly, extremism, extremist, extremists, eyesore, fabricate, fabrication, facetious, facetiously, fail, failed, failing, fails, failure, failures, faint, fainthearted, faithless, fake, fall, fallacies, fallacious, fallaciously, fallaciousness, fallacy, fallen, falling, fallout, falls, FALSE, falsehood, falsely, falsify, falter, faltered, famine, famished, fanatic, fanatical, fanatically, fanaticism, fanatics, fanciful, far-fetched, farce, farcical, farcical-yet-provocative, farcically, farfetched, fascism, fascist, fastidious, fastidiously, fat, fat-cat, fat-cats, fatal, fatalistic, fatalistically, fatally, fateful, fatefully, fathomless, fatigue, fatigued, fatty, fatuity, fatuous, fatuously, fault, faults, faulty, fawningly, faze, fear, fearful, fearfully, fears, fearsome, feckless, feeble, feebleminded, feign, feint, fell, felon, felonious, ferociously, ferocity, fetid, fever, feverish, fevers, fiasco, fib, fibber, fickle, fiction, fictional, fictitious, fidget, fidgety, fiend, fiendish, fierce, figurehead, filth, filthy, finagle, finicky, fissures, fist, flabbergast, flabbergasted, flagging, flagrant, flagrantly, flair, flairs, flak, flake, flakey, flaking, flaky, flare, flares, flat-out, flaunt, flaw, flawed, flaws, flee, fleeing, fleer, flees, fleeting, flicker, flickering, flickers, flighty, flimflam, flimsy, flirt, flirty, floored, flounder, floundering, flout, fluster, foe, fool, fooled, foolhardy, foolish, foolishly, foolishness, forbid, forbidden, forbidding, forceful, foreboding, forebodingly, forfeit, forged, forgetful, forgetfully, forgetfulness, forlorn, forlornly, forsake, forsaken, forswear, foul, foully, foulness, fractious, fractiously, fracture, fragile, fragmented, frail, frantic, frantically, franticly, fraud, fraudulent, fraught, frazzle, frazzled, freak, freaking, freakish, freakishly, freaks, freeze, freezes, freezing, frenetic, frenetically, frenzied, frenzy, fret, fretful, frets, friction, frictions, fried, frigging, fright, frighten, frightening, frighteningly, frightful, frightfully, frigid, frost, frown, froze, frozen, fruitless, fruitlessly, frustrate, frustrated, frustrates, frustrating, frustratingly, frustration, frustrations, fudge, fugitive, full-blown, fulminate, fumble, fume, fumes, fundamentalism, funky, funnily, funny, furious, furiously, furor, fury, fuss, fussy, fustigate, fusty, futile, futilely, futility, fuzzy, gabble, gaff, gaffe, gainsay, gainsayer, gall, galling, gallingly, galls, gangster, gape, garbage, garish, gasp, gauche, gaudy, gawk, gawky, geezer, genocide, get-rich, ghastly, ghetto, ghosting, gibber, gibberish, gibe, giddy, gimmick, gimmicked, gimmicking, gimmicks, gimmicky, glare, glaringly, glib, glibly, glitch, glitches, gloatingly, gloom, gloomy, glower, glum, glut, gnawing, goad, goading, god-awful, goof, goofy, goon, gossip, graceless, gracelessly, graft, grainy, grapple, grate, grating, gravely, greasy, greed, greedy, grief, grievance, grievances, grieve, grieving, grievous, grievously, grim, grimace, grind, gripe, gripes, grisly, gritty, gross, grossly, grotesque, grouch, grouchy, groundless, grouse, growl, grudge, grudges, grudging, grudgingly, gruesome, gruesomely, gruff, grumble, grumpier, grumpiest, grumpily, grumpy, guile, guilt, guiltily, guilty, gullible, gutless, gutter, hack, hacks, haggard, haggle, halfhearted, halfheartedly, hallucinate, hallucination, hamper, hampered, handicapped, hang, hangs, haphazard, hapless, harangue, harass, harassed, harasses, harassment, harboring, harbors, hard, hard-hit, hard-liner, hardball, harden, hardened, hardheaded, hardhearted, hardliner, hardliners, hardship, hardships, harm, harmed, harmful, harms, harpy, harridan, harried, harrow, harsh, harshly, hassle, hassled, hassles, haste, hastily, hasty, hate, hated, hateful, hatefully, hatefulness, hater, haters, hates, hating, hatred, haughtily, haughty, haunt, haunting, havoc, hawkish, haywire, hazard, hazardous, haze, hazy, head-aches, headache, headaches, heartbreaker, heartbreaking, heartbreakingly, heartless, heathen, heavy-handed, heavyhearted, heck, heckle, heckled, heckles, hectic, hedge, hedonistic, heedless, hefty, hegemony, heinous, hell, hell-bent, hellion, hells, helpless, helplessly, helplessness, heresy, heretic, heretical, hesitant, hideous, hideously, hideousness, high-priced, hinder, hindrance, hiss, hissed, hissing, ho-hum, hoard, hoax, hobble, hogs, hollow, hoodwink, hooligan, hopeless, hopelessly, hopelessness, horde, horrendous, horrendously, horrible, horrid, horrific, horrified, horrifies, horrify, horrifying, hostage, hostile, hostilities, hostility, hotbeds, hothead, hotheaded, hothouse, hubris, huckster, hum, humid, humiliate, humiliating, humiliation, humming, hung, hurt, hurtful, hurting, hurts, hustler, hype, hypocrisy, hypocrite, hypocrites, hypocritical, hypocritically, hysteria, hysteric, hysterical, hysterically, hysterics, idiocies, idiocy, idiot, idiotic, idiotically, idiots, idle, ignoble, ignominious, ignominiously, ignominy, ignorance, ignorant, ignore, ill-advised, ill-conceived, ill-defined, ill-designed, ill-fated, ill-favored, ill-formed, ill-mannered, ill-natured, ill-sorted, ill-tempered, ill-treated, ill-treatment, ill-usage, ill-used, illegal, illegally, illegitimate, illicit, illiterate, illness, illogical, illogically, illusion, illusions, illusory, imaginary, imbalance, imbecile, imbroglio, immaterial, immature, imminence, imminently, immobilized, immoderate, immoderately, immodest, immoral, immorality, immorally, immovable, impair, impaired, impasse, impatience, impatient, impatiently, impeach, impedance, impede, impediment, impending, impenitent, imperfect, imperfection, imperfections, imperfectly, imperialist, imperil, imperious, imperiously, impermissible, impersonal, impertinent, impetuous, impetuously, impiety, impinge, impious, implacable, implausible, implausibly, implicate, implication, implode, impolite, impolitely, impolitic, importunate, importune, impose, imposers, imposing, imposition, impossible, impossibly, impotent, impoverish, impoverished, impractical, imprecate, imprecise, imprecisely, imprecision, imprison, imprisonment, improbability, improbable, improbably, improper, improperly, impropriety, imprudence, imprudent, impudence, impudent, impudently, impugn, impulsive, impulsively, impunity, impure, impurity, inability, inaccuracies, inaccuracy, inaccurate, inaccurately, inaction, inactive, inadequacy, inadequate, inadequately, inadvisable, inane, inanely, inappropriate, inappropriately, inapt, inarticulate, inattentive, inaudible, incapable, incapably, incautious, incendiary, incense, incessant, incessantly, incite, incitement, incivility, inclement, incoherence, incoherent, incoherently, incommensurate, incomparable, incomparably, incompatibility, incompatible, incompetence, incompetent, incompetently, incomplete, incomprehensible, incomprehension, inconceivable, inconceivably, incongruous, incongruously, inconsequential, inconsequentially, inconsiderate, inconsiderately, inconsistencies, inconsistency, inconsistent, inconsolable, inconsolably, inconstant, inconvenience, inconveniently, incorrect, incorrectly, incorrigible, incorrigibly, incredulous, incredulously, inculcate, indecency, indecent, indecently, indecision, indecisive, indecisively, indefensible, indelicate, indeterminable, indeterminably, indeterminate, indifference, indifferent, indigent, indignant, indignantly, indignation, indignity, indiscernible, indiscreet, indiscreetly, indiscretion, indiscriminate, indiscriminately, indistinguishable, indoctrinate, indoctrination, indolent, indulge, ineffective, ineffectively, ineffectiveness, ineffectual, ineffectually, inefficacy, inefficiency, inefficient, inefficiently, inelegance, inelegant, ineligible, inept, ineptitude, ineptly, inequalities, inequality, inequitable, inequitably, inequities, inescapable, inescapably, inessential, inevitable, inevitably, inexcusable, inexcusably, inexorable, inexorably, inexperience, inexperienced, inexpert, inexpertly, inexpiable, inextricable, inextricably, infamous, infamously, infamy, infected, infection, infections, inferior, inferiority, infernal, infest, infested, infidel, infidels, infiltrator, infiltrators, infirm, inflame, inflammation, inflammatory, inflated, inflationary, inflexible, inflict, infraction, infringe, infringement, infringements, infuriate, infuriated, infuriating, infuriatingly, inglorious, ingrate, ingratitude, inhibit, inhibition, inhospitable, inhuman, inhumane, inhumanity, inimical, inimically, iniquitous, iniquity, injudicious, injure, injurious, injury, injustice, injustices, innuendo, inoperable, inopportune, inordinate, inordinately, insane, insanely, insanity, insatiable, insecure, insecurity, insensible, insensitive, insensitively, insensitivity, insidious, insidiously, insignificance, insignificant, insignificantly, insincere, insincerely, insincerity, insinuate, insinuating, insinuation, insolence, insolent, insolently, insolvent, insouciance, instability, instigate, instigator, instigators, insubordinate, insubstantial, insubstantially, insufferable, insufferably, insufficiency, insufficient, insufficiently, insular, insult, insulted, insulting, insultingly, insults, insupportable, insurmountable, insurmountably, insurrection, intense, interfere, interference, interferes, intermittent, interrupt, interruption, interruptions, intimidate, intimidating, intimidatingly, intimidation, intolerable, intolerance, intoxicate, intractable, intransigence, intransigent, intrude, intrusion, intrusive, inundate, inundated, invader, invalid, invalidate, invalidity, invasive, invective, inveigle, invidious, invidiously, invidiousness, invisible, involuntarily, involuntary, irascible, irate, irately, ire, irk, irked, irking, irks, irksome, irksomely, irksomeness, ironic, ironical, ironically, ironies, irony, irrational, irrationality, irrationally, irrationals, irreconcilable, irrecoverable, irrecoverably, irredeemable, irredeemably, irregular, irregularity, irrelevance, irrelevant, irreparable, irrepressible, irresolute, irresponsible, irresponsibly, irretrievable, irreversible, irritable, irritably, irritant, irritate, irritated, irritating, irritation, irritations, isolate, isolated, isolation, issue, issues, itch, itching, itchy, jabber, jaded, jagged, jam, jarring, jaundiced, jealous, jealously, jealousness, jealousy, jeer, jeering, jeeringly, jeers, jeopardize, jeopardy, jerk, jerky, jitter, jitters, jittery, job-killing, jobless, joke, joker, jolt, judder, juddering, judders, jumpy, junk, junky, junkyard, kill, killed, killer, killing, killjoy, kills, knave, knife, knock, knotted, kook, kooky, lack, lackadaisical, lacked, lackey, lackeys, lacking, lackluster, lacks, laconic, lag, lagged, lagging, lags, laid-off, lambast, lambaste, lame, lame-duck, lament, lamentable, lamentably, languid, languish, languor, languorous, languorously, lanky, lapse, lapsed, lapses, lascivious, last-ditch, latency, laughable, laughably, laughingstock, lawbreaker, lawbreaking, lawless, lawlessness, layoff, layoff-happy, lazy, leak, leakage, leakages, leaking, leaks, leaky, lecher, lecherous, lechery, leech, leer, leery, left-leaning, lemon, lengthy, less-developed, lesser-known, letch, lethal, lethargic, lethargy, lewd, lewdly, lewdness, liability, liable, liar, liars, licentious, licentiously, licentiousness, lie, lied, lies, life-threatening, lifeless, limit, limitation, limitations, limited, limits, limp, listless, litigious, little-known, livid, lividly, loath, loathe, loathing, loathly, loathsome, loathsomely, lone, loneliness, lonely, loner, lonesome, long-time, long-winded, longing, longingly, loophole, loopholes, loose, loot, lose, loser, losers, loses, losing, loss, losses, lost, loud, louder, lousy, loveless, lovelorn, low-rated, lowly, ludicrous, ludicrously, lugubrious, lukewarm, lull, lumpy, lunatic, lurch, lure, lurid, lurk, lurking, lying, macabre, mad, madden, maddening, maddeningly, madder, madly, madman, madness, maladjusted, maladjustment, malady, malaise, malcontent, malcontented, maledict, malevolence, malevolent, malevolently, malice, malicious, maliciously, maliciousness, malign, malignant, malodorous, maltreatment, mangle, mangled, mangles, mangling, mania, maniac, maniacal, manic, manipulate, manipulation, manipulative, manipulators, mar, marginal, marginally, martyrdom, martyrdom-seeking, mashed, massacre, massacres, matte, mawkish, mawkishly, mawkishness, meager, meaningless, meanness, measly, meddle, meddlesome, mediocre, mediocrity, melancholy, melodramatic, melodramatically, meltdown, menace, menacing, menacingly, mendacious, mendacity, menial, merciless, mercilessly, mess, messed, messes, messing, messy, midget, miff, militancy, mindless, mindlessly, mirage, mire, misalign, misaligned, misaligns, misapprehend, misbecome, misbecoming, misbegotten, misbehave, misbehavior, miscalculate, miscalculation, miscellaneous, mischief, mischievous, mischievously, misconception, misconceptions, miscreant, miscreants, misdirection, miser, miserable, miserableness, miserably, miseries, miserly, misery, misfit, misfortune, misgiving, misgivings, misguidance, misguide, misguided, mishandle, mishap, misinform, misinformed, misinterpret, misjudge, misjudgment, mislead, misleading, misleadingly, mismanage, mispronounce, mispronounced, mispronounces, misread, misreading, misrepresent, misrepresentation, miss, missed, misses, misstatement, mist, mistake, mistaken, mistakenly, mistakes, mistress, mistrust, mistrustful, mistrustfully, mists, misunderstand, misunderstanding, misunderstandings, misunderstood, misuse, moan, mobster, mock, mocked, mockeries, mockery, mocking, mockingly, mocks, molest, molestation, monotonous, monotony, monster, monstrosities, monstrosity, monstrous, monstrously, moody, moot, mope, morbid, morbidly, mordant, mordantly, moribund, moron, moronic, morons, mortification, mortified, mortify, mortifying, motionless, motley, mourn, mourner, mournful, mournfully, muddle, muddy, mudslinger, mudslinging, mulish, multi-polarization, mundane, murder, murderer, murderous, murderously, murky, muscle-flexing, mushy, musty, mysterious, mysteriously, mystery, mystify, myth, nag, nagging, naive, naively, narrower, nastily, nastiness, nasty, naughty, nauseate, nauseates, nauseating, nauseatingly, naïve, nebulous, nebulously, needless, needlessly, needy, nefarious, nefariously, negate, negation, negative, negatives, negativity, neglect, neglected, negligence, negligent, nemesis, nepotism, nervous, nervously, nervousness, nettle, nettlesome, neurotic, neurotically, niggle, niggles, nightmare, nightmarish, nightmarishly, nitpick, nitpicking, noise, noises, noisier, noisy, non-confidence, nonexistent, nonresponsive, nonsense, nosey, notoriety, notorious, notoriously, noxious, nuisance, numb, obese, object, objection, objectionable, objections, oblique, obliterate, obliterated, oblivious, obnoxious, obnoxiously, obscene, obscenely, obscenity, obscure, obscured, obscures, obscurity, obsess, obsessive, obsessively, obsessiveness, obsolete, obstacle, obstinate, obstinately, obstruct, obstructed, obstructing, obstruction, obstructs, obtrusive, obtuse, occlude, occluded, occludes, occluding, odd, odder, oddest, oddities, oddity, oddly, odor, offence, offend, offender, offending, offenses, offensive, offensively, offensiveness, officious, ominous, ominously, omission, omit, one-sided, onerous, onerously, onslaught, opinionated, opponent, opportunistic, oppose, opposition, oppositions, oppress, oppression, oppressive, oppressively, oppressiveness, oppressors, ordeal, orphan, ostracize, outbreak, outburst, outbursts, outcast, outcry, outlaw, outmoded, outrage, outraged, outrageous, outrageously, outrageousness, outrages, outsider, over-acted, over-awe, over-balanced, over-hyped, over-priced, over-valuation, overact, overacted, overawe, overbalance, overbalanced, overbearing, overbearingly, overblown, overdo, overdone, overdue, overemphasize, overheat, overkill, overloaded, overlook, overpaid, overplay, overpower, overpriced, overrated, overreach, overrun, overshadow, oversight, oversights, oversimplification, oversimplified, oversimplify, oversize, overstate, overstated, overstatement, overstatements, overstates, overtaxed, overthrow, overthrows, overturn, overweight, overwhelm, overwhelmed, overwhelming, overwhelmingly, overwhelms, overzealous, overzealously, pain, painful, painfully, pains, pale, pales, paltry, pan, pandemonium, pander, pandering, panders, panic, panicked, panicking, panicky, paradoxical, paradoxically, paralyzed, paranoia, paranoid, parasite, pariah, parody, partiality, partisan, partisans, passive, passiveness, pathetic, pathetically, patronize, paucity, pauper, paupers, payback, peculiar, peculiarly, pedantic, peeled, peeve, peeved, peevish, peevishly, penalize, penalty, perfidious, perfunctory, peril, perilous, perilously, perish, pernicious, perplex, perplexed, perplexing, perplexity, persecute, persecution, pertinacious, pertinaciously, pertinacity, perturb, perturbed, pervasive, perverse, perversely, perversion, perversity, pervert, perverted, perverts, pessimism, pessimistic, pessimistically, pest, pestilent, petrified, petrify, pettifog, petty, phobia, phobic, phony, picket, picketed, picketing, pickets, picky, pig, pigs, pillage, pillory, pimple, pinch, pique, pitiable, pitiful, pitifully, pitiless, pitilessly, pittance, pity, plagiarize, plague, plaything, plea, pleas, plebeian, plight, plot, plotters, ploy, plunder, plunderer, pointless, pointlessly, poison, poisonous, poisonously, pokey, poky, pollute, polluter, polluters, pompous, poor, poorer, poorest, poorly, posturing, pout, poverty, powerless, prate, pratfall, prattle, precarious, precariously, precipitate, precipitous, predatory, predicament, prejudge, prejudice, prejudices, prejudicial, premeditated, preoccupy, preposterous, preposterously, presumptuous, presumptuously, pretend, pretense, pretentious, pretentiously, prevaricate, pricey, pricier, prick, prickle, prickles, prideful, primitive, prison, prisoner, problem, problematic, problems, procrastinate, procrastinates, procrastination, profane, profanity, prohibit, prohibitive, prohibitively, propaganda, propagandize, proprietary, prosecute, protest, protested, protesting, protests, protracted, provocation, provocative, provoke, pry, pugnacious, pugnaciously, pugnacity, punch, punish, punishable, punitive, punk, puny, puppet, puppets, puzzled, puzzlement, puzzling, quack, qualm, qualms, quandary, quarrel, quarrels, quarrelsome, quash, queer, questionable, quibble, quibbles, quitter, rabid, racism, racist, racists, racy, radical, radicalization, radically, radicals, rage, ragged, raging, rail, raked, rampage, rampant, ramshackle, rancor, randomly, rankle, rant, ranted, ranting, rants, rape, raped, raping, rascal, rascals, rash, rattle, rattled, rattles, ravage, raving, reactionary, rebellious, rebuff, rebuke, recalcitrant, recant, recession, recessionary, reckless, recklessly, recklessness, recoil, recourses, redundancy, redundant, refusal, refuse, refused, refuses, refusing, refutation, refute, refuted, refutes, refuting, regress, regression, regressive, regret, regretful, regretfully, regrets, regrettable, regrettably, regretted, reject, rejected, rejecting, rejection, rejects, relapse, relentless, relentlessly, relentlessness, reluctance, reluctant, reluctantly, remorse, remorseful, remorsefully, remorseless, remorselessly, remorselessness, renounce, renunciation, repel, repetitive, reprehensible, reprehensibly, reprehension, reprehensive, repress, repression, repressive, reprimand, reproach, reproachful, reprove, reprovingly, repudiate, repudiation, repugnance, repugnant, repugnantly, repulse, repulsed, repulsing, repulsive, repulsively, repulsiveness, resent, resentful, resentment, resignation, resigned, resistance, restless, restlessness, restrict, restricted, restriction, restrictive, resurgent, retaliate, retaliatory, reticent, retract, retreat, retreated, revenge, revengeful, revengefully, revert, revile, reviled, revoke, revolt, revolting, revoltingly, revulsion, revulsive, rhapsodize, rhetoric, rhetorical, ricer, ridicule, ridicules, ridiculous, ridiculously, rife, rift, rifts, rigid, rigidity, rigidness, rile, riled, rip, rip-off, ripped, risk, risks, risky, rival, rivalry, roadblocks, rocky, rogue, rollercoaster, rot, rotten, rough, rubbish, rude, rue, ruffian, ruffle, ruin, ruined, ruining, ruinous, ruins, rumbling, rumor, rumors, rumple, run-down, runaway, rupture, rust, rusts, rusty, rut, ruthless, ruthlessly, ruthlessness, ruts, sabotage, sack, sacrificed, sad, sadden, sadly, sadness, sag, sagged, sagging, saggy, sags, salacious, sanctimonious, sap, sarcasm, sarcastic, sarcastically, sardonic, sardonically, sass, satirical, satirize, savage, savaged, savagery, savages, scaly, scam, scams, scandal, scandalize, scandalized, scandalous, scandalously, scandals, scant, scapegoat, scar, scarce, scarcely, scarcity, scare, scared, scarier, scariest, scarily, scarred, scars, scary, scathing, scathingly, scoff, scold, scolded, scolding, scorching, scorn, scornful, scornfully, scoundrel, scourge, scowl, scramble, scrambled, scrambles, scrambling, scrap, scratch, scratched, scratches, scratchy, scream, screech, screw-up, screwed, screwed-up, screwy, scuff, scuffs, scum, scummy, second-class, second-tier, secretive, sedentary, seedy, seethe, seething, self-coup, self-criticism, self-defeating, self-destructive, self-humiliation, self-interest, self-interested, self-serving, selfish, selfishly, selfishness, senile, sensationalize, senseless, senselessly, seriousness, sermonize, servitude, set-up, setback, setbacks, sever, severe, severity, shabby, shadowy, shady, shake, shaky, shallow, sham, shambles, shame, shameful, shamefully, shamefulness, shameless, shamelessly, shamelessness, shark, sharply, shatter, shimmer, shimmy, shipwreck, shirk, shirker, shiver, shock, shocked, shocking, shockingly, shoddy, short-lived, shortage, shortchange, shortcoming, shortcomings, shortness, shortsighted, shortsightedness, showdown, shrew, shriek, shrill, shrilly, shrivel, shroud, shrouded, shrug, shun, shunned, sick, sicken, sickening, sickeningly, sickly, sickness, sidetrack, sidetracked, siege, silly, simplistic, simplistically, sin, sinful, sinfully, sinister, sinisterly, sink, sinking, skeletons, skeptic, skeptical, skeptically, skepticism, sketchy, skimpy, skinny, skittish, skittishly, skulk, slack, slander, slanderer, slanderous, slanderously, slanders, slap, slashing, slaughter, slaughtered, slave, slaves, sleazy, slime, slog, slogged, slogging, slogs, sloppily, sloppy, sloth, slothful, slow, slow-moving, slowed, slower, slowest, slowly, slug, sluggish, slump, slumping, slur, sly, smack, smallish, smash, smear, smell, smelled, smelling, smells, smelly, smelt, smoke, smokescreen, smolder, smoldering, smother, smudge, smudged, smudges, smudging, smug, smugly, snag, snagged, snagging, snags, snappish, snappishly, snare, snarky, snarl, sneak, sneakily, sneaky, sneer, sneering, sneeringly, snob, snobbish, snobby, snobs, snub, soapy, sob, sober, sobering, solemn, solicitude, somber, sore, sorely, soreness, sorrow, sorrowful, sorrowfully, sorry, sour, sourly, spade, spank, spew, spewed, spewing, spews, spilling, spinster, spiritless, spite, spiteful, spitefully, spitefulness, splatter, split, splitting, spoil, spoilage, spoilages, spoiled, spoils, spook, spookier, spookiest, spookily, spooky, spoon-fed, spoon-feed, sporadic, spotty, spurious, spurn, sputter, squabble, squabbling, squander, squash, squeak, squeaks, squeaky, squeal, squealing, squeals, squirm, stab, stagnant, stagnate, stagnation, staid, stain, stains, stale, stalemate, stall, stalls, stammer, stampede, standstill, stark, starkly, startle, startling, startlingly, starvation, starve, static, steal, stealing, steals, steep, steeply, stench, stereotype, stereotypical, stereotypically, stern, stew, sticky, stiff, stiffness, stifle, stifling, stiflingly, stigma, stigmatize, sting, stinging, stingingly, stingy, stink, stinks, stodgy, stole, stolen, stooge, stooges, stormy, straggle, straggler, strain, strained, straining, strange, strangely, stranger, strangest, strangle, streaky, strenuous, stress, stresses, stressful, stressfully, stricken, strict, strictly, strident, stridently, strife, strike, stringent, stringently, struck, struggle, struggled, struggles, struggling, strut, stubborn, stubbornly, stubbornness, stuck, stuffy, stumble, stumbled, stumbles, stump, stumped, stumps, stun, stunt, stunted, stupid, stupidest, stupidity, stupidly, stupor, stutter, stuttered, stuttering, stutters, sty, stymied, sub-par, subdued, subjected, subjection, subjugate, subjugation, submissive, subordinate, subpoena, subpoenas, subservience, subservient, substandard, subtract, subversion, subversive, subversively, subvert, succumb, suck, sucked, sucker, sucks, sucky, sue, sued, sues, suffer, suffered, sufferer, sufferers, suffering, suffers, suffocate, sugar-coat, sugar-coated, sugarcoated, suicidal, suicide, sulk, sullen, sully, sunder, sunk, sunken, superficial, superficiality, superficially, superfluous, superstition, superstitious, suppress, suppression, surrender, susceptible, suspect, suspicion, suspicions, suspicious, suspiciously, swagger, swamped, sweaty, swelled, swelling, swindle, swipe, swollen, symptom, symptoms, syndrome, taboo, tacky, taint, tainted, tamper, tangle, tangled, tangles, tank, tanked, tanks, tantrum, tardy, tarnish, tarnished, tarnishes, tarnishing, tattered, taunt, taunting, tauntingly, taunts, taut, tawdry, taxing, tease, teasingly, tedious, tediously, temerity, temper, tempest, temptation, tenderness, tense, tension, tentative, tentatively, tenuous, tenuously, tepid, terrible, terribleness, terribly, terror, terror-genic, terrorism, terrorize, testily, testy, tetchily, tetchy, thankless, thicker, thirst, thorny, thoughtless, thoughtlessly, thoughtlessness, thrash, threat, threaten, threatening, threats, threesome, throb, throbbed, throbbing, throbs, throttle, thug, thumb-down, thumbs-down, thwart, time-consuming, timid, timidity, timidly, tin-y, tingled, tingling, tired, tiresome, tiring, tiringly, toil, toll, top-heavy, topple, torment, tormented, torrent, tortuous, torture, tortured, tortures, torturing, torturous, torturously, totalitarian, touchy, toughness, tout, touted, touts, toxic, traduce, tragedy, tragic, tragically, traitor, traitorous, traitorously, tramp, trample, transgress, transgression, trap, trapped, trash, trashed, trashy, trauma, traumatic, traumatically, traumatize, traumatized, travesties, travesty, treacherous, treacherously, treachery, treason, treasonous, trick, tricked, trickery, tricky, trivial, trivialize, trouble, troubled, troublemaker, troubles, troublesome, troublesomely, troubling, troublingly, truant, tumble, tumbled, tumbles, tumultuous, turbulent, turmoil, twist, twisted, twists, two-faced, two-faces, tyrannical, tyrannically, tyranny, tyrant, ugh, uglier, ugliest, ugliness, ugly, ulterior, ultimatum, ultimatums, ultra-hardline, un-viewable, unable, unacceptable, unacceptably, unaccustomed, unachievable, unaffordable, unappealing, unattractive, unauthentic, unavailable, unavoidably, unbearable, unbelievable, unbelievably, uncaring, uncertain, uncivil, uncivilized, unclean, unclear, uncollectible, uncomfortable, uncomfortably, uncompetitive, uncompromising, uncompromisingly, unconfirmed, unconstitutional, uncontrolled, unconvincing, unconvincingly, uncooperative, uncouth, uncreative, undecided, undefined, undependability, undependable, undercut, undercuts, undercutting, underdog, underestimate, underlings, undermine, undermined, undermines, undermining, underpaid, underpowered, undersized, undesirable, undetermined, undid, undignified, undissolved, undocumented, undone, undue, unease, uneasily, uneasiness, uneasy, uneconomical, unemployed, unequal, unethical, uneven, uneventful, unexpected, unexpectedly, unexplained, unfairly, unfaithful, unfaithfully, unfamiliar, unfavorable, unfeeling, unfinished, unfit, unforeseen, unforgiving, unfortunate, unfortunately, unfounded, unfriendly, unfulfilled, unfunded, ungovernable, ungrateful, unhappily, unhappiness, unhappy, unhealthy, unhelpful, unilateralism, unimaginable, unimaginably, unimportant, uninformed, uninsured, unintelligible, unipolar, unjust, unjustifiable, unjustifiably, unjustified, unjustly, unkind, unkindly, unknown, unlawful, unlawfully, unlawfulness, unleash, unlicensed, unlikely, unlucky, unmoved, unnatural, unnaturally, unnecessary, unneeded, unnerve, unnerved, unnerving, unnervingly, unnoticed, unobserved, unorthodox, unorthodoxy, unpleasant, unpopular, unpredictable, unprepared, unproductive, unprofitable, unproved, unproven, unqualified, unravel, unraveled, unreachable, unreadable, unrealistic, unreasonable, unreasonably, unrelenting, unrelentingly, unreliability, unreliable, unresolved, unresponsive, unrest, unruly, unsafe, unsatisfactory, unsavory, unscrupulous, unscrupulously, unsecure, unseemly, unsettle, unsettled, unsettling, unsettlingly, unskilled, unsophisticated, unsound, unspeakable, unspecified, unstable, unsteadily, unsteadiness, unsteady, unsuccessful, unsuccessfully, unsupported, unsupportive, unsure, unsuspecting, unsustainable, untenable, untested, unthinkable, unthinkably, untimely, untouched, untrue, untrustworthy, untruthful, unusable, unusably, unusual, unusually, unwanted, unwarranted, unwatchable, unwelcome, unwell, unwieldy, unwilling, unwillingly, unwillingness, unwise, unwisely, unworkable, unworthy, unyielding, upbraid, upheaval, uprising, uproar, uproarious, uproariously, uproot, upset, upsets, upsetting, upsettingly, urgent, useless, usurp, usurper, utterly, vagrant, vague, vagueness, vain, vainly, vanity, vehement, vehemently, vengeance, vengeful, vengefully, vengefulness, venom, venomous, venomously, vent, vestiges, vex, vexation, vexing, vexingly, vibrate, vibrated, vibrates, vibrating, vibration, vice, vicious, viciously, viciousness, victimize, vile, vileness, vilify, villainous, villainously, villains, vindictive, vindictively, vindictiveness, violate, violation, violator, violators, violent, violently, viper, virulence, virulent, virulently, virus, vociferous, vociferously, volatile, volatility, vomit, vomited, vomiting, vomits, vulgar, vulnerable, wail, wallow, wane, waning, wanton, war-like, warily, wariness, warlike, warned, warning, warp, warped, wary, washed-out, waste, wasted, wasteful, wastefulness, wasting, water-down, watered-down, wayward, weak, weaken, weakening, weaker, weakness, weaknesses, weariness, wearisome, weary, wedge, weed, weep, weird, weirdly, wheedle, whimper, whine, whining, whiny, whips, wicked, wickedly, wickedness, wild, wildly, wiles, wilt, wily, wimpy, wince, wobble, wobbled, wobbles, woe, woebegone, woeful, woefully, womanizer, womanizing, worn, worried, worriedly, worrier, worries, worrisome, worry, worrying, worryingly, worse, worsen, worsening, worst, worthless, worthlessly, worthlessness, wound, wounds, wrangle, wrath, wreak, wreaked, wreaks, wreck, wrest, wrestle, wretch, wretched, wretchedly, wretchedness, wrinkle, wrinkled, wrinkles, writhe, wrong, wrongful, wrongly, wrought, yawn, zap, zapped, zaps, zealot, zealous, zealously, zombie\"\n",
    "# neg_words = word_tokenize(neg_words)\n",
    "# # remove all instances of \",\"\n",
    "# neg_words = [word for word in neg_words if word != \",\"]\n",
    "# neg_words = [w for w in neg_words if not w in stop_words]\n",
    "# print(\"There are %s negative words\" % len(neg_words))\n",
    "# all_neg_words = [w for w in neg_words if w in speech_string_2010]\n",
    "# print(len(all_neg_words))\n",
    "# #print(all_neg_words)\n",
    "# freq_neg_words = nltk.FreqDist(all_neg_words)\n",
    "# print(len(freq_neg_words))\n",
    "# print(freq_neg_words.most_common())"
   ]
  },
  {
   "cell_type": "code",
   "execution_count": 304,
   "metadata": {},
   "outputs": [
    {
     "data": {
      "image/png": "[encoded data removed]",
      "text/plain": [
       "<Figure size 432x288 with 1 Axes>"
      ]
     },
     "metadata": {
      "needs_background": "light"
     },
     "output_type": "display_data"
    },
    {
     "name": "stdout",
     "output_type": "stream",
     "text": [
      "23\n",
      "82\n",
      "69\n",
      "62\n",
      "79\n",
      "58\n",
      "64\n",
      "55\n",
      "80\n",
      "56\n",
      "52\n",
      "67\n",
      "48\n",
      "67\n",
      "77\n",
      "68\n",
      "67\n",
      "65\n"
     ]
    }
   ],
   "source": [
    "#2nd neg words dataset\n",
    "neg_words = \"abysmal,adverse,alarming,angry,annoy,anxious,apathy,appalling,atrocious,awful,bad,banal,barbed,belligerent,bemoan,beneath,boring,broken,callous,can't,cannot,clumsy,coarse,cold,collapse,confused,contradictory,contrary,corrosive,corrupt,crazy,creepy,criminal,cruel,cry,cutting,damage,damaging,dastardly,dead,decaying,deformed,deny,deplorable,depressed,deprived,despicable,detrimental,dirty,disease,disgusting,disheveled,dishonest,dishonorable,dismal,distress,don't,dreadful,dreary,enraged,eroding,evil,fail,faulty,fear,feeble,fight,filthy,foul,frighten,frightful,gawky,ghastly,grave,greed,grim,grimace,gross,grotesque,gruesome,guilty,haggard,hard,harmful,hate,hideous,horrendous,horrible,hostile,hurt,hurtful,icky,ignorant,ignore,ill,immature,imperfect,impossible,inane,inelegant,infernal,injure,injurious,insane,insidious,insipid,jealous,junky,lose,lousy,lumpy,malicious,mean,menacing,messy,misshapen,missing,misunderstood,moan,moldy,monstrous,naive,nasty,naughty,negate,negative,never,nonobody,nondescript,nonsense,not,noxious,objectionable,odious,offensive,old,oppressive,pain,perturb,pessimistic,petty,plain,poisonous,poor,prejudice,questionable,quirky,quit,reject,renege,repellant,reptilian,repugnant,repulsive,revenge,revolting,rocky,rotten,rude,ruthless,sad,savage,scare,scary,scream,severe,shocking,shoddy,sick,sickening,sinister,slimy,smelly,sobbing,sorry,spiteful,sticky,stinky,stormy,stressful,stuck,stupid,substandard,suspect,suspicious,tense,terrible,terrifying,threatening,ugly,undermine,unfair,unfavorable,unhappy,unhealthy,unjust,unlucky,unpleasant,unsatisfactory,unsightly,untoward,unwanted,unwelcome,unwholesome,unwieldy,unwise,upset,vice,vicious,vile,villainous,vindictive,wary,weary,wicked,woeful,worthless,wound,yell,yucky,zero\"\n",
    "neg_words = word_tokenize(neg_words)\n",
    "\n",
    "# remove all instances of \",\"\n",
    "neg_words = [word for word in neg_words if word != \",\"]\n",
    "neg_words = [w for w in neg_words if not w in stop_words]\n",
    "#print(\"There are %s negative words\" % len(neg_words))\n",
    "\n",
    "all_neg_words = [w for w in all_words if w in neg_words]\n",
    "\n",
    "freq_neg_words = nltk.FreqDist(all_neg_words)\n",
    "\n",
    "top_50_neg_words = [word[0] for word in freq_neg_words.most_common(50)]\n",
    "\n",
    "top_50_neg_words_string = \"\"\n",
    "\n",
    "for word in top_50_neg_words:\n",
    "    top_50_neg_words_string += (word + \" \")\n",
    "    \n",
    "\n",
    "# Create the wordcloud object\n",
    "wordcloud = WordCloud(width=960, height=960).generate(top_50_neg_words_string)\n",
    " \n",
    "# Display the generated image:\n",
    "plt.imshow(wordcloud, interpolation='bilinear')\n",
    "plt.axis(\"off\")\n",
    "plt.margins(x=0, y=0)\n",
    "plt.show()\n",
    "\n",
    "\n",
    "all_neg_words_1997 = [w for w in neg_words if w in speech_string_1997]\n",
    "print(len(all_neg_words_1997))\n",
    "all_neg_words_1998 = [w for w in neg_words if w in speech_string_1998]\n",
    "print(len(all_neg_words_1998))\n",
    "all_neg_words_1999 = [w for w in neg_words if w in speech_string_1999]\n",
    "print(len(all_neg_words_1999))\n",
    "all_neg_words_2000 = [w for w in neg_words if w in speech_string_2000]\n",
    "print(len(all_neg_words_2000))\n",
    "all_neg_words_2001 = [w for w in neg_words if w in speech_string_2001]\n",
    "print(len(all_neg_words_2001))\n",
    "all_neg_words_2002 = [w for w in neg_words if w in speech_string_2002]\n",
    "print(len(all_neg_words_2002))\n",
    "all_neg_words_2003 = [w for w in neg_words if w in speech_string_2003]\n",
    "print(len(all_neg_words_2003))\n",
    "all_neg_words_2004 = [w for w in neg_words if w in speech_string_2004]\n",
    "print(len(all_neg_words_2004))\n",
    "all_neg_words_2005 = [w for w in neg_words if w in speech_string_2005]\n",
    "print(len(all_neg_words_2005))\n",
    "all_neg_words_2009 = [w for w in neg_words if w in speech_string_2009]\n",
    "print(len(all_neg_words_2009))\n",
    "all_neg_words_2010 = [w for w in neg_words if w in speech_string_2010]\n",
    "print(len(all_neg_words_2010))\n",
    "all_neg_words_2011 = [w for w in neg_words if w in speech_string_2011]\n",
    "print(len(all_neg_words_2011))\n",
    "all_neg_words_2012 = [w for w in neg_words if w in speech_string_2012]\n",
    "print(len(all_neg_words_2012))\n",
    "all_neg_words_2014 = [w for w in neg_words if w in speech_string_2014]\n",
    "print(len(all_neg_words_2014))\n",
    "all_neg_words_2015 = [w for w in neg_words if w in speech_string_2015]\n",
    "print(len(all_neg_words_2015))\n",
    "all_neg_words_2016 = [w for w in neg_words if w in speech_string_2016]\n",
    "print(len(all_neg_words_2016))\n",
    "all_neg_words_2017 = [w for w in neg_words if w in speech_string_2017]\n",
    "print(len(all_neg_words_2017))\n",
    "all_neg_words_2018 = [w for w in neg_words if w in speech_string_2018]\n",
    "print(len(all_neg_words_2018))\n",
    "\n",
    "#print(all_neg_words)\n",
    "# freq_neg_words = nltk.FreqDist(all_neg_words)\n",
    "# print(len(freq_neg_words))\n",
    "# print(freq_neg_words.most_common())"
   ]
  },
  {
   "cell_type": "code",
   "execution_count": 331,
   "metadata": {},
   "outputs": [
    {
     "data": {
      "text/plain": [
       "218"
      ]
     },
     "execution_count": 331,
     "metadata": {},
     "output_type": "execute_result"
    }
   ],
   "source": []
  },
  {
   "cell_type": "code",
   "execution_count": 345,
   "metadata": {},
   "outputs": [
    {
     "name": "stdout",
     "output_type": "stream",
     "text": [
      "[9.90990990990991, 12.254160363086234, 10.712428497139886, 9.773218142548597, 14.868641699273338, 9.933774834437086, 14.274258219727345, 12.51175917215428, 13.23915900131406, 18.530701754385966, 12.088974854932303, 16.27358490566038, 9.991235758106924, 14.761904761904763, 17.90505675954592, 14.519906323185012, 14.04494382022472, 14.94057724957555]\n"
     ]
    },
    {
     "data": {
      "text/plain": [
       "<matplotlib.legend.Legend at 0x32edfd30>"
      ]
     },
     "execution_count": 345,
     "metadata": {},
     "output_type": "execute_result"
    },
    {
     "data": {
      "image/png": "[encoded data removed]",
      "text/plain": [
       "<Figure size 432x288 with 1 Axes>"
      ]
     },
     "metadata": {
      "needs_background": "light"
     },
     "output_type": "display_data"
    }
   ],
   "source": [
    "\n",
    "\n",
    "year = [ \"97\",\"98\", \"99\", \"00\", \"01\", \"02\", \"03\", \"04\", \"05\", \"09\", \"10\", \"11\", \"12\", \"14\", \"15\", \"16\", \"17\", \"18\"]\n",
    "total_pos = [111, 1983,1923,1852,1789,1963,1247,1063,3044,912,1034,848,1141,1260,1938,1708,1958,1178]\n",
    "total_neg = [11, 243,206,181,266,195,178,133,403,169,125,138,114,186,347,248,275,176]\n",
    "percent = [] \n",
    "for d in range(len(total_pos)):\n",
    "    percent.append(total_neg[d]/total_pos[d]*100)\n",
    "print(percent)\n",
    "xpos = np.arange(len(total_pos))\n",
    "\n",
    "plt.yticks(xpos, year)\n",
    "plt.xlabel(\"No. of words\")\n",
    "plt.ylabel(\"Year\")\n",
    "plt.barh(xpos, total_pos, label = \"pos\", color=\"green\")\n",
    "plt.barh(xpos, total_neg,  label = \"neg\", color=\"red\")\n",
    "plt.legend()\n"
   ]
  },
  {
   "cell_type": "code",
   "execution_count": 368,
   "metadata": {},
   "outputs": [
    {
     "data": {
      "text/plain": [
       "<matplotlib.legend.Legend at 0x339fb2e8>"
      ]
     },
     "execution_count": 368,
     "metadata": {},
     "output_type": "execute_result"
    },
    {
     "data": {
      "image/png": "[encoded data removed]",
      "text/plain": [
       "<Figure size 432x288 with 1 Axes>"
      ]
     },
     "metadata": {
      "needs_background": "light"
     },
     "output_type": "display_data"
    }
   ],
   "source": [
    "name = [\"Ahern\",\"Cowen\", \"Kenny\", \"Varadkar\"]\n",
    "pos = [14980, 1946, 5193, 2105]\n",
    "neg = [1816, 294, 875, 307]\n",
    "\n",
    "xpos = np.arange(4)\n",
    "\n",
    "plt.xticks(xpos, name)\n",
    "plt.ylabel(\"No. of words\")\n",
    "plt.xlabel(\"Taoiseach\")\n",
    "plt.bar(xpos, pos, label = \"pos\", color=\"green\")\n",
    "plt.bar(xpos, neg,  label = \"neg\", color=\"red\")\n",
    "\n",
    "plt.legend()\n"
   ]
  },
  {
   "cell_type": "code",
   "execution_count": 350,
   "metadata": {},
   "outputs": [
    {
     "data": {
      "text/html": [
       "\n",
       "\n",
       "\n",
       "\n",
       "\n",
       "\n",
       "  <div class=\"bk-root\" id=\"d9323fc9-51ea-431d-ae12-fe1d0cbf4ce5\"></div>\n"
      ]
     },
     "metadata": {},
     "output_type": "display_data"
    },
    {
     "data": {
      "application/javascript": [
       "(function(root) {\n",
       "  function embed_document(root) {\n",
       "    \n",
       "  var docs_json = {\"3ac66c63-5775-4c6e-b67c-8803a17c6ac3\":{\"roots\":{\"references\":[{\"attributes\":{\"line_alpha\":0.1,\"line_color\":\"#1f77b4\",\"x\":{\"field\":\"x\"},\"y\":{\"field\":\"y\"}},\"id\":\"13b2c674-5e1b-4f0c-bbaf-8a9419da3fa4\",\"type\":\"Line\"},{\"attributes\":{\"callback\":null},\"id\":\"55c0c075-bef3-4dc6-9467-68e0c7d64d3e\",\"type\":\"DataRange1d\"},{\"attributes\":{},\"id\":\"7963eb60-98e7-42a4-8512-82fbe43ad24d\",\"type\":\"ResetTool\"},{\"attributes\":{\"dimension\":1,\"plot\":{\"id\":\"a72db195-d1a0-4cbb-8f3d-1f7256d247f4\",\"subtype\":\"Figure\",\"type\":\"Plot\"},\"ticker\":{\"id\":\"046c5248-a5bb-4495-bd5e-744dc2c82e8a\",\"type\":\"BasicTicker\"}},\"id\":\"66c0f716-9b9a-4e42-a284-85f150477b73\",\"type\":\"Grid\"},{\"attributes\":{\"below\":[{\"id\":\"c71519c8-9c28-4fd9-9f38-9e1c932926e0\",\"type\":\"LinearAxis\"}],\"left\":[{\"id\":\"06f14b3c-3088-42fc-8c55-47da755ffdd7\",\"type\":\"LinearAxis\"}],\"plot_height\":400,\"plot_width\":400,\"renderers\":[{\"id\":\"c71519c8-9c28-4fd9-9f38-9e1c932926e0\",\"type\":\"LinearAxis\"},{\"id\":\"e93bc005-ffd8-45cb-8336-ea5f45536980\",\"type\":\"Grid\"},{\"id\":\"06f14b3c-3088-42fc-8c55-47da755ffdd7\",\"type\":\"LinearAxis\"},{\"id\":\"66c0f716-9b9a-4e42-a284-85f150477b73\",\"type\":\"Grid\"},{\"id\":\"458b1513-6fba-4bff-8912-3614565fa853\",\"type\":\"BoxAnnotation\"},{\"id\":\"0133ee79-cf97-48b6-adf8-c68c57856e6f\",\"type\":\"GlyphRenderer\"}],\"title\":{\"id\":\"ea3eadd4-66e8-4cf1-ac95-50cc7040da19\",\"type\":\"Title\"},\"toolbar\":{\"id\":\"caee2268-b8b2-4e19-b81b-915f01270e39\",\"type\":\"Toolbar\"},\"toolbar_location\":null,\"x_range\":{\"id\":\"ac427d58-26fc-49b3-a600-9937dcc24872\",\"type\":\"DataRange1d\"},\"x_scale\":{\"id\":\"1157bcfe-b9e3-4eb0-8ae7-ddf9e4eaf959\",\"type\":\"LinearScale\"},\"y_range\":{\"id\":\"55c0c075-bef3-4dc6-9467-68e0c7d64d3e\",\"type\":\"DataRange1d\"},\"y_scale\":{\"id\":\"e7e7fc56-ed9d-4f7f-8e71-610544a3e2d7\",\"type\":\"LinearScale\"}},\"id\":\"a72db195-d1a0-4cbb-8f3d-1f7256d247f4\",\"subtype\":\"Figure\",\"type\":\"Plot\"},{\"attributes\":{},\"id\":\"e42e171d-e2ce-4bdc-b427-8dcf20702d69\",\"type\":\"BasicTickFormatter\"},{\"attributes\":{},\"id\":\"14c13b1e-ac24-4a5d-bb16-03f61c6902e8\",\"type\":\"Selection\"},{\"attributes\":{\"callback\":null},\"id\":\"ac427d58-26fc-49b3-a600-9937dcc24872\",\"type\":\"DataRange1d\"},{\"attributes\":{\"plot\":null,\"text\":\"\"},\"id\":\"ea3eadd4-66e8-4cf1-ac95-50cc7040da19\",\"type\":\"Title\"},{\"attributes\":{},\"id\":\"98d6822e-4eea-4824-baca-aff9b766f8c6\",\"type\":\"WheelZoomTool\"},{\"attributes\":{\"line_color\":\"red\",\"x\":{\"field\":\"x\"},\"y\":{\"field\":\"y\"}},\"id\":\"bb53ce10-06b7-4141-99d1-5b5a20378459\",\"type\":\"Line\"},{\"attributes\":{},\"id\":\"e7e7fc56-ed9d-4f7f-8e71-610544a3e2d7\",\"type\":\"LinearScale\"},{\"attributes\":{},\"id\":\"9f8be6f3-240f-4361-aa3e-717d9658b1b1\",\"type\":\"PanTool\"},{\"attributes\":{\"bottom_units\":\"screen\",\"fill_alpha\":{\"value\":0.5},\"fill_color\":{\"value\":\"lightgrey\"},\"left_units\":\"screen\",\"level\":\"overlay\",\"line_alpha\":{\"value\":1.0},\"line_color\":{\"value\":\"black\"},\"line_dash\":[4,4],\"line_width\":{\"value\":2},\"plot\":null,\"render_mode\":\"css\",\"right_units\":\"screen\",\"top_units\":\"screen\"},\"id\":\"458b1513-6fba-4bff-8912-3614565fa853\",\"type\":\"BoxAnnotation\"},{\"attributes\":{\"axis_label\":\"year\",\"formatter\":{\"id\":\"42857c9d-1406-4ec5-834e-b52b29937edc\",\"type\":\"BasicTickFormatter\"},\"plot\":{\"id\":\"a72db195-d1a0-4cbb-8f3d-1f7256d247f4\",\"subtype\":\"Figure\",\"type\":\"Plot\"},\"ticker\":{\"id\":\"2636033c-04f4-41b1-8b44-9b53fc84caeb\",\"type\":\"BasicTicker\"}},\"id\":\"c71519c8-9c28-4fd9-9f38-9e1c932926e0\",\"type\":\"LinearAxis\"},{\"attributes\":{},\"id\":\"42857c9d-1406-4ec5-834e-b52b29937edc\",\"type\":\"BasicTickFormatter\"},{\"attributes\":{\"data_source\":{\"id\":\"2785b94d-4d2c-499f-accf-7b347a661174\",\"type\":\"ColumnDataSource\"},\"glyph\":{\"id\":\"bb53ce10-06b7-4141-99d1-5b5a20378459\",\"type\":\"Line\"},\"hover_glyph\":null,\"muted_glyph\":null,\"nonselection_glyph\":{\"id\":\"13b2c674-5e1b-4f0c-bbaf-8a9419da3fa4\",\"type\":\"Line\"},\"selection_glyph\":null,\"view\":{\"id\":\"27149d15-5768-4ca1-9dba-7d5c04cb95b5\",\"type\":\"CDSView\"}},\"id\":\"0133ee79-cf97-48b6-adf8-c68c57856e6f\",\"type\":\"GlyphRenderer\"},{\"attributes\":{},\"id\":\"b2a8ae80-96dc-4ba9-95c7-caf39e689ea2\",\"type\":\"UnionRenderers\"},{\"attributes\":{},\"id\":\"2636033c-04f4-41b1-8b44-9b53fc84caeb\",\"type\":\"BasicTicker\"},{\"attributes\":{\"active_drag\":\"auto\",\"active_inspect\":\"auto\",\"active_multi\":null,\"active_scroll\":\"auto\",\"active_tap\":\"auto\",\"tools\":[{\"id\":\"9f8be6f3-240f-4361-aa3e-717d9658b1b1\",\"type\":\"PanTool\"},{\"id\":\"98d6822e-4eea-4824-baca-aff9b766f8c6\",\"type\":\"WheelZoomTool\"},{\"id\":\"853b42ed-32fc-47e4-9ff6-b429ef7920c2\",\"type\":\"BoxZoomTool\"},{\"id\":\"8ae75cb2-f6e3-4235-b2e0-be7a8689abd5\",\"type\":\"SaveTool\"},{\"id\":\"7963eb60-98e7-42a4-8512-82fbe43ad24d\",\"type\":\"ResetTool\"},{\"id\":\"f2347896-c96f-47df-8c61-4e6f9f587dd8\",\"type\":\"HelpTool\"}]},\"id\":\"caee2268-b8b2-4e19-b81b-915f01270e39\",\"type\":\"Toolbar\"},{\"attributes\":{},\"id\":\"f2347896-c96f-47df-8c61-4e6f9f587dd8\",\"type\":\"HelpTool\"},{\"attributes\":{},\"id\":\"046c5248-a5bb-4495-bd5e-744dc2c82e8a\",\"type\":\"BasicTicker\"},{\"attributes\":{},\"id\":\"1157bcfe-b9e3-4eb0-8ae7-ddf9e4eaf959\",\"type\":\"LinearScale\"},{\"attributes\":{\"callback\":null,\"data\":{\"x\":[1997,1998,1999,2000,2001,2002,2003,2004,2005,2009,2010,2011,2012,2014,2015,2016,2017,2018],\"y\":[9.90990990990991,12.254160363086234,10.712428497139886,9.773218142548597,14.868641699273338,9.933774834437086,14.274258219727345,12.51175917215428,13.23915900131406,18.530701754385966,12.088974854932303,16.27358490566038,9.991235758106924,14.761904761904763,17.90505675954592,14.519906323185012,14.04494382022472,14.94057724957555]},\"selected\":{\"id\":\"14c13b1e-ac24-4a5d-bb16-03f61c6902e8\",\"type\":\"Selection\"},\"selection_policy\":{\"id\":\"b2a8ae80-96dc-4ba9-95c7-caf39e689ea2\",\"type\":\"UnionRenderers\"}},\"id\":\"2785b94d-4d2c-499f-accf-7b347a661174\",\"type\":\"ColumnDataSource\"},{\"attributes\":{\"overlay\":{\"id\":\"458b1513-6fba-4bff-8912-3614565fa853\",\"type\":\"BoxAnnotation\"}},\"id\":\"853b42ed-32fc-47e4-9ff6-b429ef7920c2\",\"type\":\"BoxZoomTool\"},{\"attributes\":{\"plot\":{\"id\":\"a72db195-d1a0-4cbb-8f3d-1f7256d247f4\",\"subtype\":\"Figure\",\"type\":\"Plot\"},\"ticker\":{\"id\":\"2636033c-04f4-41b1-8b44-9b53fc84caeb\",\"type\":\"BasicTicker\"}},\"id\":\"e93bc005-ffd8-45cb-8336-ea5f45536980\",\"type\":\"Grid\"},{\"attributes\":{},\"id\":\"8ae75cb2-f6e3-4235-b2e0-be7a8689abd5\",\"type\":\"SaveTool\"},{\"attributes\":{\"axis_label\":\"negative words %\",\"formatter\":{\"id\":\"e42e171d-e2ce-4bdc-b427-8dcf20702d69\",\"type\":\"BasicTickFormatter\"},\"plot\":{\"id\":\"a72db195-d1a0-4cbb-8f3d-1f7256d247f4\",\"subtype\":\"Figure\",\"type\":\"Plot\"},\"ticker\":{\"id\":\"046c5248-a5bb-4495-bd5e-744dc2c82e8a\",\"type\":\"BasicTicker\"}},\"id\":\"06f14b3c-3088-42fc-8c55-47da755ffdd7\",\"type\":\"LinearAxis\"},{\"attributes\":{\"source\":{\"id\":\"2785b94d-4d2c-499f-accf-7b347a661174\",\"type\":\"ColumnDataSource\"}},\"id\":\"27149d15-5768-4ca1-9dba-7d5c04cb95b5\",\"type\":\"CDSView\"}],\"root_ids\":[\"a72db195-d1a0-4cbb-8f3d-1f7256d247f4\"]},\"title\":\"Bokeh Application\",\"version\":\"0.13.0\"}};\n",
       "  var render_items = [{\"docid\":\"3ac66c63-5775-4c6e-b67c-8803a17c6ac3\",\"roots\":{\"a72db195-d1a0-4cbb-8f3d-1f7256d247f4\":\"d9323fc9-51ea-431d-ae12-fe1d0cbf4ce5\"}}];\n",
       "  root.Bokeh.embed.embed_items_notebook(docs_json, render_items);\n",
       "\n",
       "  }\n",
       "  if (root.Bokeh !== undefined) {\n",
       "    embed_document(root);\n",
       "  } else {\n",
       "    var attempts = 0;\n",
       "    var timer = setInterval(function(root) {\n",
       "      if (root.Bokeh !== undefined) {\n",
       "        embed_document(root);\n",
       "        clearInterval(timer);\n",
       "      }\n",
       "      attempts++;\n",
       "      if (attempts > 100) {\n",
       "        console.log(\"Bokeh: ERROR: Unable to run BokehJS code because BokehJS library is missing\")\n",
       "        clearInterval(timer);\n",
       "      }\n",
       "    }, 10, root)\n",
       "  }\n",
       "})(window);"
      ],
      "application/vnd.bokehjs_exec.v0+json": ""
     },
     "metadata": {
      "application/vnd.bokehjs_exec.v0+json": {
       "id": "a72db195-d1a0-4cbb-8f3d-1f7256d247f4"
      }
     },
     "output_type": "display_data"
    }
   ],
   "source": [
    "year = [1997, 1998, 1999, 2000, 2001, 2002, 2003, 2004, 2005, 2009, 2010, 2011, 2012, 2014, 2015, 2016, 2017, 2018]\n",
    "\n",
    "percent= [9.90990990990991, 12.254160363086234, 10.712428497139886, 9.773218142548597, 14.868641699273338, 9.933774834437086, 14.274258219727345, 12.51175917215428, 13.23915900131406, 18.530701754385966, 12.088974854932303, 16.27358490566038, 9.991235758106924, 14.761904761904763, 17.90505675954592, 14.519906323185012, 14.04494382022472, 14.94057724957555]\n",
    "\n",
    "p = figure(plot_width = 400, plot_height = 400, x_axis_label=\"year\", y_axis_label=\"negative words %\", toolbar_location=None)\n",
    "\n",
    "l1 = p.line(year, percent,  color = \"red\")\n",
    "\n",
    "# p.line(year, _1916,  color = \"red\", legend = \"1916\")\n",
    "# p.line(year, rising,  color = \"green\", legend = \"rising\")\n",
    "# p.line(year, easter,  color = \"blue\", legend = \"easter\")\n",
    "# p.add_layout(legend, 'right')\n",
    "# show(p)\n",
    "\n",
    "# legend = Legend(items=[\n",
    "#     (\"1916\",   [l1]),\n",
    "    \n",
    "# ], location=(10, -30))\n",
    "\n",
    "# p.add_layout(legend, 'right')\n",
    "show(p)"
   ]
  },
  {
   "cell_type": "markdown",
   "metadata": {},
   "source": [
    "# Create speech string for each individual Taoiseach"
   ]
  },
  {
   "cell_type": "code",
   "execution_count": null,
   "metadata": {},
   "outputs": [],
   "source": []
  },
  {
   "cell_type": "code",
   "execution_count": 324,
   "metadata": {},
   "outputs": [],
   "source": [
    "base_url = \"https://www.taoiseach.gov.ie/eng/News/Taoiseach's_Speeches/?pageNumber=\"\n",
    "\n",
    "count = 1\n",
    "\n",
    "for page in range(1,38):\n",
    "    r = requests.get(base_url + str(page))\n",
    "    c = r.content\n",
    "    soup = BeautifulSoup(c, \"html.parser\")\n",
    "    all = soup.find_all(\"span\",{\"class\":\"ItemName\"})\n",
    "    for a in all:\n",
    "        r = requests.get(\"https://www.taoiseach.gov.ie\" + a.find(\"a\")[\"href\"])\n",
    "        c = r.content\n",
    "        \n",
    "        soup = BeautifulSoup(c, \"html.parser\")\n",
    "        all = soup.find(\"div\", {\"class\":\"contentSub\"}).text\n",
    "        all = all.replace(\"var mapOverlayUrl = '';\",\"\")\n",
    "        \n",
    "        if count < 92:\n",
    "            leo_string += all\n",
    "            item = (word_tokenize(all), \"fg\")\n",
    "            speech_list.append(item)\n",
    "        elif count < 369:\n",
    "            enda_string += all\n",
    "            item = (word_tokenize(all), \"fg\")\n",
    "            speech_list.append(item)\n",
    "        count = count + 1\n"
   ]
  },
  {
   "cell_type": "markdown",
   "metadata": {},
   "source": [
    "# Text Classification with NLTK"
   ]
  },
  {
   "cell_type": "code",
   "execution_count": 552,
   "metadata": {},
   "outputs": [],
   "source": [
    "random.shuffle(speech_list)"
   ]
  },
  {
   "cell_type": "code",
   "execution_count": 553,
   "metadata": {},
   "outputs": [
    {
     "name": "stdout",
     "output_type": "stream",
     "text": [
      "2000\n"
     ]
    }
   ],
   "source": [
    "all_words = [w for w in all_words if not w in stop_words]\n",
    "all_words = nltk.FreqDist(all_words)\n",
    "\n",
    "common_words =[]\n",
    "for i in all_words.most_common(2000):\n",
    "    common_words.append(i[0])\n",
    "print(len(common_words))"
   ]
  },
  {
   "cell_type": "code",
   "execution_count": 554,
   "metadata": {},
   "outputs": [],
   "source": [
    "def find_features(document):\n",
    "    unique_words_in_document = set(document)\n",
    "    features = {}\n",
    "    for w in common_words:\n",
    "        features[w] = (w in unique_words_in_document)\n",
    "    return features"
   ]
  },
  {
   "cell_type": "code",
   "execution_count": 555,
   "metadata": {
    "scrolled": false
   },
   "outputs": [
    {
     "name": "stdout",
     "output_type": "stream",
     "text": [
      "1136\n"
     ]
    }
   ],
   "source": [
    "featuresets = []\n",
    "for(review_words, review_category) in speech_list:\n",
    "    featuresets.append((find_features(review_words),review_category))\n",
    "print(len(featuresets))"
   ]
  },
  {
   "cell_type": "code",
   "execution_count": 556,
   "metadata": {
    "scrolled": false
   },
   "outputs": [
    {
     "name": "stdout",
     "output_type": "stream",
     "text": [
      "Accuracy =  76.75879396984925\n"
     ]
    }
   ],
   "source": [
    "training_set = featuresets[:340]\n",
    "test_set = featuresets[340:]\n",
    "\n",
    "classifier = nltk.NaiveBayesClassifier.train(training_set)\n",
    "accuracy = nltk.classify.accuracy(classifier, test_set)\n",
    "print(\"Accuracy = \", accuracy * 100)"
   ]
  },
  {
   "cell_type": "code",
   "execution_count": 557,
   "metadata": {},
   "outputs": [
    {
     "name": "stdout",
     "output_type": "stream",
     "text": [
      "Most Informative Features\n",
      "               Taoiseach = False              ff : fg     =     22.9 : 1.0\n",
      "            expectations = True               ff : fg     =     10.1 : 1.0\n",
      "               exclusion = True               ff : fg     =      9.7 : 1.0\n",
      "                    1987 = True               ff : fg     =      8.8 : 1.0\n",
      "                 obvious = True               ff : fg     =      6.5 : 1.0\n"
     ]
    }
   ],
   "source": [
    "classifier.show_most_informative_features(5)"
   ]
  },
  {
   "cell_type": "code",
   "execution_count": 558,
   "metadata": {},
   "outputs": [],
   "source": [
    "import pickle\n",
    "\n",
    "training_set = featuresets[:189]\n",
    "test_set = featuresets[189:]\n",
    "\n",
    "#Train our classifier using the training set\n",
    "classifier = nltk.NaiveBayesClassifier.train(training_set)\n",
    "\n",
    "#Save the classifier\n",
    "save_classifier = open('naivebayes.pickle','wb')\n",
    "pickle.dump(classifier, save_classifier)\n",
    "save_classifier.close()"
   ]
  },
  {
   "cell_type": "code",
   "execution_count": 559,
   "metadata": {},
   "outputs": [
    {
     "name": "stdout",
     "output_type": "stream",
     "text": [
      "Naïve Bayes Classifier Accuracy =  0.7655755015839493\n"
     ]
    }
   ],
   "source": [
    "#Load the classifier\n",
    "classifier_f = open('naivebayes.pickle','rb')\n",
    "classifier = pickle.load(classifier_f)\n",
    "classifier_f.close()\n",
    "\n",
    "#Classify using out test set with our classifier, calculate the accuracy\n",
    "accuracy = nltk.classify.accuracy(classifier, test_set)\n",
    "\n",
    "print('Naïve Bayes Classifier Accuracy = ', accuracy)"
   ]
  }
 ],
 "metadata": {
  "kernelspec": {
   "display_name": "Python 3",
   "language": "python",
   "name": "python3"
  },
  "language_info": {
   "codemirror_mode": {
    "name": "ipython",
    "version": 3
   },
   "file_extension": ".py",
   "mimetype": "text/x-python",
   "name": "python",
   "nbconvert_exporter": "python",
   "pygments_lexer": "ipython3",
   "version": "3.7.0"
  }
 },
 "nbformat": 4,
 "nbformat_minor": 2
}
